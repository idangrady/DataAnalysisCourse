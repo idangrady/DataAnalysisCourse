{
 "cells": [
  {
   "cell_type": "code",
   "execution_count": 1,
   "metadata": {},
   "outputs": [
    {
     "name": "stderr",
     "output_type": "stream",
     "text": [
      "<ipython-input-1-8c6bdfd9b70d>:3: UserWarning: \n",
      "The dash_core_components package is deprecated. Please replace\n",
      "`import dash_core_components as dcc` with `from dash import dcc`\n",
      "  import dash_core_components as dcc\n",
      "<ipython-input-1-8c6bdfd9b70d>:4: UserWarning: \n",
      "The dash_html_components package is deprecated. Please replace\n",
      "`import dash_html_components as html` with `from dash import html`\n",
      "  import dash_html_components as html\n"
     ]
    }
   ],
   "source": [
    "import dash                     # pip install dash\n",
    "from dash.dependencies import Input, Output, State\n",
    "import dash_core_components as dcc\n",
    "import dash_html_components as html\n",
    "import plotly.express as px     # pip install plotly==5.2.2\n",
    "\n",
    "import numpy as np\n",
    "import pandas as pd\n",
    "import os\n",
    "import glob\n",
    "from datetime import datetime\n",
    "# import timestamp\n",
    "import matplotlib.pyplot as plt\n",
    "import seaborn as sns\n",
    "from functools import reduce\n",
    "\n",
    "from sklearn.linear_model import LinearRegression \n",
    "from sklearn.preprocessing import PolynomialFeatures\n",
    "\n",
    "import plotly.express as px"
   ]
  },
  {
   "cell_type": "code",
   "execution_count": 13,
   "metadata": {},
   "outputs": [],
   "source": [
    "\n",
    "class Data():\n",
    "    def __init__(self, path = None):\n",
    "        \n",
    "        self.directory = (glob.glob(\"/Data*merged.csv\")) \n",
    "        # Add All the functionality to the class for organisation\n",
    "        self.dailyNames = (glob.glob(\"daily*merged.csv\")) \n",
    "\n",
    "\n",
    "        self.init()\n",
    "        self.pdfs = []\n",
    "        self.dailies = {}\n",
    "    def init(self):\n",
    "        for idx, dataName in enumerate(self.directory):\n",
    "            self.pdfs.append(self.getDF(-1,dataName))\n",
    "\n",
    "        for idx, data in enumerate(self.dailyNames):\n",
    "            self.dailies[data]  =self.getDF(data)\n",
    "\n",
    "\n",
    "    def getDF(self, i, byname =0):\n",
    "        if(byname != 0):\n",
    "            return(pd.read_csv(byname))\n",
    "        return(pd.read_csv(self.directory[i]))\n",
    "\n",
    "\n",
    "\n",
    "\n",
    "\n",
    "def containTimeInstant():\n",
    "    timeList = [\"time, \"]\n",
    "\n",
    "def read_file(path, expend_print = False, convertTimeDate = False):\n",
    "    \"\"\" \n",
    "    read files\n",
    "    \"\"\"\n",
    "    # formatting to pandas\n",
    "    pd.Timestamp('2014-01-23 00:00:00', tz=None).to_pydatetime()\n",
    "\n",
    "    print(path)\n",
    "    \n",
    "    # read csv\n",
    "    df  = pd.read_csv(path)\n",
    "    if(expend_print):\n",
    "        print(path)\n",
    "        print(f\"Size: {df.shape}\")\n",
    "        print(df.head(10))\n",
    "        print(df.columns)\n",
    "        print((df.Id.unique()))\n",
    "        print((list(df.columns)))\n",
    "    df.dropna(subset=list(df.columns), how='any', axis=0).reset_index(inplace = True)\n",
    "\n",
    "    if(convertTimeDate):\n",
    "        pass\n",
    "\n",
    "    ID = \"Id\"\n",
    "    if ID in list(df.columns):\n",
    "        # df['date_column'] = pd.to_datetime(df['datetime_column']).dt.date\n",
    "        return df\n",
    "    return None\n",
    "\n",
    "\n",
    "def saved_file(df, name ):\n",
    "    df.to_csv(f'{name}.csv')\n",
    "\n",
    "def merge_data_to_one(files, safefile = False, saveFileName = \"OutputMerged\"):\n",
    "    outputMerged = pd.DataFrame()\n",
    "    \n",
    "    for idx, fileName in enumerate(set(files)):\n",
    "        data = read_file(fileName)\n",
    "        if isinstance(data, pd.DataFrame):\n",
    "            print(fileName)\n",
    "            if(idx<1):\n",
    "                outputMerged = data\n",
    "            else:\n",
    "                pd.merge(outputMerged, data, on = 'Id', how=\"left\")\n",
    "    \n",
    "    if safefile: saved_file(outputMerged, saveFileName)\n",
    "\n",
    "\n",
    "def compareSimilarity(A, B):\n",
    "    A.sort()\n",
    "    B.sort()\n",
    "\n",
    "    max_val = max([len(A),len(B)])\n",
    "\n",
    "    if max_val == len(A):arrMax, secondMax =A, B \n",
    "    else: arrMax, secondMax =A, B = A, B \n",
    "    \n",
    "    sumCountSimilarities = 0\n",
    "\n",
    "    sum_=0\n",
    "    for i in list(arrMax):\n",
    "        for j in list(secondMax):\n",
    "            if i==j:\n",
    "                if i<j : break\n",
    "                sumCountSimilarities+=1\n",
    "                break\n",
    "             \n",
    "    return (sumCountSimilarities, sumCountSimilarities/max_val)\n",
    "\n",
    "\n",
    "def compareamountof(lists):\n",
    "    l = len(lists)\n",
    "    output = []\n",
    "\n",
    "    for i in range(l):\n",
    "        for j in range(i, l):\n",
    "            A = read_file(lists[i])\n",
    "            B = read_file(lists[j])\n",
    "\n",
    "\n",
    "            similarities, ratiosim = compareSimilarity(A.Id.unique(), B.Id.unique())\n",
    "            output.append([lists[i], lists[j],similarities, ratiosim])\n",
    "\n",
    "    return output\n",
    "\n",
    "\n",
    "def divideInsertTime(data, colName):\n",
    "    # time_col_split = data.colName.str.split(\" \")\n",
    "    # split_amount = len(list(time_col_split[0]))\n",
    "\n",
    "    date = pd.to_datetime(data[colName])\n",
    "    try:\n",
    "        Id_To_Idx = {id :num for num,id in enumerate(Heart_By_Idx.Id.unique())}\n",
    "        Heart_By_Idx['PersonID'] = data.Id.map(Id_To_Idx)\n",
    "\n",
    "        data[\"Hour\"] = date.dt.hour\n",
    "        data[\"Day\"]  = date.dt.day \n",
    "        data[\"Minute\"] = date.dt.minute\n",
    "        data[\"DateOfWeek\"] = date.dt.day_name()      \n",
    "        print(\"Date Changed\")\n",
    "    except:\n",
    "        e = sys.exc_info()\n",
    "        print(f\"Could Not Prase Data: Check Col Name; Erorr: {sys.exc_info()}\")        \n",
    "\n",
    "    return data\n",
    "\n",
    "\n",
    "\n",
    "\n",
    "def pvalue_test(data, col_name, based_on_col_vals = None, tresh = 0.05):\n",
    "    i = 0\n",
    "    significant = []\n",
    "    if based_on_col_vals ==None:\n",
    "        print(data.columns)\n",
    "        based_on_col_vals = data[col_name]\n",
    "    print(f\"Based on column: {col_name}\")\n",
    "    for (columnName, columnData) in data.iteritems():\n",
    "        if i>1:\n",
    "            stat, p = kendalltau(columnData, based_on_col_vals)\n",
    "            print('Column Name : ', columnName)\n",
    "            print(p)\n",
    "            if(p<tresh):\n",
    "                print(f\"Significant - {p} - to {col_name} with {columnName}\")\n",
    "                significant.append((p,col_name, columnName))\n",
    "        i +=1\n",
    "    return significant\n",
    "\n",
    "\n",
    "def sliceDataBasedonDescribeval(data, col,dateCol, tresh = 5):\n",
    "    dis = data.describe()\n",
    "    list_col = list((((dis.loc[col][dis.loc['std']>tresh]))).index)\n",
    "    list_col.append(dateCol)\n",
    "    \n",
    "    data = data[list_col]\n",
    "    data['Time_str'] = df[dateCol].astype('str')\n",
    "    \n",
    "\n",
    "    return data\n",
    "\n",
    "#TODO : Set Index: data.set_index(\"Id\")"
   ]
  },
  {
   "cell_type": "code",
   "execution_count": 22,
   "metadata": {},
   "outputs": [
    {
     "data": {
      "text/plain": [
       "['../Data\\\\dailyActivity_merged.csv',\n",
       " '../Data\\\\dailyCalories_merged.csv',\n",
       " '../Data\\\\dailyIntensities_merged.csv',\n",
       " '../Data\\\\dailySteps_merged.csv',\n",
       " '../Data\\\\heartrate_seconds_merged.csv',\n",
       " '../Data\\\\hourlyCalories_merged.csv',\n",
       " '../Data\\\\hourlyIntensities_merged.csv',\n",
       " '../Data\\\\hourlySteps_merged.csv',\n",
       " '../Data\\\\minuteCaloriesNarrow_merged.csv',\n",
       " '../Data\\\\minuteCaloriesWide_merged.csv',\n",
       " '../Data\\\\minuteIntensitiesNarrow_merged.csv',\n",
       " '../Data\\\\minuteIntensitiesWide_merged.csv',\n",
       " '../Data\\\\minuteMETsNarrow_merged.csv',\n",
       " '../Data\\\\minuteSleep_merged.csv',\n",
       " '../Data\\\\minuteStepsNarrow_merged.csv',\n",
       " '../Data\\\\minuteStepsWide_merged.csv',\n",
       " '../Data\\\\sleepDay_merged.csv',\n",
       " '../Data\\\\weightLogInfo_merged.csv']"
      ]
     },
     "execution_count": 22,
     "metadata": {},
     "output_type": "execute_result"
    }
   ],
   "source": [
    "data_csvs = (glob.glob(\"../Data/*merged.csv\")) \n",
    "dailyData = (glob.glob(\"../Data/daily*merged.csv\"))  +  (glob.glob(\"../Data/heartrate*merged.csv\")) \n",
    "\n",
    "data_csvs"
   ]
  },
  {
   "cell_type": "code",
   "execution_count": 87,
   "metadata": {},
   "outputs": [
    {
     "name": "stderr",
     "output_type": "stream",
     "text": [
      "<ipython-input-13-825045f40750>:166: SettingWithCopyWarning:\n",
      "\n",
      "\n",
      "A value is trying to be set on a copy of a slice from a DataFrame.\n",
      "Try using .loc[row_indexer,col_indexer] = value instead\n",
      "\n",
      "See the caveats in the documentation: https://pandas.pydata.org/pandas-docs/stable/user_guide/indexing.html#returning-a-view-versus-a-copy\n",
      "\n"
     ]
    },
    {
     "data": {
      "text/html": [
       "<div>\n",
       "<style scoped>\n",
       "    .dataframe tbody tr th:only-of-type {\n",
       "        vertical-align: middle;\n",
       "    }\n",
       "\n",
       "    .dataframe tbody tr th {\n",
       "        vertical-align: top;\n",
       "    }\n",
       "\n",
       "    .dataframe thead th {\n",
       "        text-align: right;\n",
       "    }\n",
       "</style>\n",
       "<table border=\"1\" class=\"dataframe\">\n",
       "  <thead>\n",
       "    <tr style=\"text-align: right;\">\n",
       "      <th></th>\n",
       "      <th>Id</th>\n",
       "      <th>TotalSteps</th>\n",
       "      <th>VeryActiveMinutes</th>\n",
       "      <th>FairlyActiveMinutes</th>\n",
       "      <th>LightlyActiveMinutes</th>\n",
       "      <th>SedentaryMinutes</th>\n",
       "      <th>Calories</th>\n",
       "      <th>ActivityDate</th>\n",
       "      <th>Time_str</th>\n",
       "    </tr>\n",
       "  </thead>\n",
       "  <tbody>\n",
       "    <tr>\n",
       "      <th>0</th>\n",
       "      <td>1503960366</td>\n",
       "      <td>13162</td>\n",
       "      <td>25</td>\n",
       "      <td>13</td>\n",
       "      <td>328</td>\n",
       "      <td>728</td>\n",
       "      <td>1985</td>\n",
       "      <td>2016-04-12</td>\n",
       "      <td>2016-04-12</td>\n",
       "    </tr>\n",
       "    <tr>\n",
       "      <th>1</th>\n",
       "      <td>1503960366</td>\n",
       "      <td>10735</td>\n",
       "      <td>21</td>\n",
       "      <td>19</td>\n",
       "      <td>217</td>\n",
       "      <td>776</td>\n",
       "      <td>1797</td>\n",
       "      <td>2016-04-13</td>\n",
       "      <td>2016-04-13</td>\n",
       "    </tr>\n",
       "    <tr>\n",
       "      <th>2</th>\n",
       "      <td>1503960366</td>\n",
       "      <td>10460</td>\n",
       "      <td>30</td>\n",
       "      <td>11</td>\n",
       "      <td>181</td>\n",
       "      <td>1218</td>\n",
       "      <td>1776</td>\n",
       "      <td>2016-04-14</td>\n",
       "      <td>2016-04-14</td>\n",
       "    </tr>\n",
       "    <tr>\n",
       "      <th>3</th>\n",
       "      <td>1503960366</td>\n",
       "      <td>9762</td>\n",
       "      <td>29</td>\n",
       "      <td>34</td>\n",
       "      <td>209</td>\n",
       "      <td>726</td>\n",
       "      <td>1745</td>\n",
       "      <td>2016-04-15</td>\n",
       "      <td>2016-04-15</td>\n",
       "    </tr>\n",
       "    <tr>\n",
       "      <th>4</th>\n",
       "      <td>1503960366</td>\n",
       "      <td>12669</td>\n",
       "      <td>36</td>\n",
       "      <td>10</td>\n",
       "      <td>221</td>\n",
       "      <td>773</td>\n",
       "      <td>1863</td>\n",
       "      <td>2016-04-16</td>\n",
       "      <td>2016-04-16</td>\n",
       "    </tr>\n",
       "  </tbody>\n",
       "</table>\n",
       "</div>"
      ],
      "text/plain": [
       "           Id  TotalSteps  VeryActiveMinutes  FairlyActiveMinutes  \\\n",
       "0  1503960366       13162                 25                   13   \n",
       "1  1503960366       10735                 21                   19   \n",
       "2  1503960366       10460                 30                   11   \n",
       "3  1503960366        9762                 29                   34   \n",
       "4  1503960366       12669                 36                   10   \n",
       "\n",
       "   LightlyActiveMinutes  SedentaryMinutes  Calories ActivityDate    Time_str  \n",
       "0                   328               728      1985   2016-04-12  2016-04-12  \n",
       "1                   217               776      1797   2016-04-13  2016-04-13  \n",
       "2                   181              1218      1776   2016-04-14  2016-04-14  \n",
       "3                   209               726      1745   2016-04-15  2016-04-15  \n",
       "4                   221               773      1863   2016-04-16  2016-04-16  "
      ]
     },
     "execution_count": 87,
     "metadata": {},
     "output_type": "execute_result"
    }
   ],
   "source": [
    "# Data: https://www.dallasopendata.com/Services/Participants-Inventory/qgg6-h4bd\n",
    "\n",
    "df = pd.read_csv(data_csvs[0])\n",
    "df.ActivityDate = pd.to_datetime(df.ActivityDate)\n",
    "df['Time_str'] = df.ActivityDate.astype('str')\n",
    "# df[\"intake_time\"] = df[\"intake_time\"].dt.hour\n",
    "# print(df.head())\n",
    "df  =sliceDataBasedonDescribeval(df, 'std','ActivityDate')\n",
    "\n",
    "df.head()\n"
   ]
  },
  {
   "cell_type": "code",
   "execution_count": null,
   "metadata": {},
   "outputs": [],
   "source": [
    "# compile the list of dataframes you want to merge\n",
    "data_frames = [heart_rate_std, heart_rate_mean, heart_rate_median]\n",
    "nan_value = 0\n",
    "\n",
    "result_1 = pd.concat(data_frames, join='outer', axis=1).fillna(nan_value)\n",
    "\n",
    "result_2 = reduce(lambda df_left,df_right: pd.merge(df_left, df_right, \n",
    "                                              left_index=True, right_index=True, \n",
    "                                              how='outer'), \n",
    "                  data_frames).fillna(nan_value)\n",
    "\n",
    "arr_idx = np.array([(list(values)[0],  list(values)[1]) for values in (result_2.index)])\n",
    "\n",
    "result_2[\"Date\"] = arr_idx[:,0]\n",
    "result_2[\"Id\"] = arr_idx[:,1]\n",
    "result_2.rename(columns = {\"Value_x\": \"Std\",\"Value_y\": \"Mean\", \"Value\": \"Mediam\"}, inplace = True)\n",
    "\n",
    "Dropeed_Indx_HeartRate = result_2.reset_index(drop=True)\n",
    "\n",
    "\n",
    "\n",
    "data_frames2 = [Dropeed_Indx_HeartRate, meged_cl_sle_steps]\n",
    "result_3 = pd.concat(data_frames2, join='outer', axis=0).fillna(nan_value)\n",
    "\n",
    "result_4 = reduce(lambda df_left,df_right: pd.merge(df_left, df_right, \n",
    "                                              left_index=True, right_index=True, \n",
    "                                              how='outer'), \n",
    "                  data_frames).fillna(nan_value)\n"
   ]
  },
  {
   "cell_type": "code",
   "execution_count": 89,
   "metadata": {},
   "outputs": [
    {
     "data": {
      "text/html": [
       "<div>\n",
       "<style scoped>\n",
       "    .dataframe tbody tr th:only-of-type {\n",
       "        vertical-align: middle;\n",
       "    }\n",
       "\n",
       "    .dataframe tbody tr th {\n",
       "        vertical-align: top;\n",
       "    }\n",
       "\n",
       "    .dataframe thead th {\n",
       "        text-align: right;\n",
       "    }\n",
       "</style>\n",
       "<table border=\"1\" class=\"dataframe\">\n",
       "  <thead>\n",
       "    <tr style=\"text-align: right;\">\n",
       "      <th></th>\n",
       "      <th>Id</th>\n",
       "      <th>TotalSteps</th>\n",
       "      <th>VeryActiveMinutes</th>\n",
       "      <th>FairlyActiveMinutes</th>\n",
       "      <th>LightlyActiveMinutes</th>\n",
       "      <th>SedentaryMinutes</th>\n",
       "      <th>Calories</th>\n",
       "      <th>ActivityDate</th>\n",
       "      <th>Time_str</th>\n",
       "      <th>day_of_week</th>\n",
       "    </tr>\n",
       "  </thead>\n",
       "  <tbody>\n",
       "    <tr>\n",
       "      <th>0</th>\n",
       "      <td>1503960366</td>\n",
       "      <td>13162</td>\n",
       "      <td>25</td>\n",
       "      <td>13</td>\n",
       "      <td>328</td>\n",
       "      <td>728</td>\n",
       "      <td>1985</td>\n",
       "      <td>2016-04-12</td>\n",
       "      <td>2016-04-12</td>\n",
       "      <td>2</td>\n",
       "    </tr>\n",
       "    <tr>\n",
       "      <th>1</th>\n",
       "      <td>1503960366</td>\n",
       "      <td>10735</td>\n",
       "      <td>21</td>\n",
       "      <td>19</td>\n",
       "      <td>217</td>\n",
       "      <td>776</td>\n",
       "      <td>1797</td>\n",
       "      <td>2016-04-13</td>\n",
       "      <td>2016-04-13</td>\n",
       "      <td>3</td>\n",
       "    </tr>\n",
       "    <tr>\n",
       "      <th>2</th>\n",
       "      <td>1503960366</td>\n",
       "      <td>10460</td>\n",
       "      <td>30</td>\n",
       "      <td>11</td>\n",
       "      <td>181</td>\n",
       "      <td>1218</td>\n",
       "      <td>1776</td>\n",
       "      <td>2016-04-14</td>\n",
       "      <td>2016-04-14</td>\n",
       "      <td>4</td>\n",
       "    </tr>\n",
       "    <tr>\n",
       "      <th>3</th>\n",
       "      <td>1503960366</td>\n",
       "      <td>9762</td>\n",
       "      <td>29</td>\n",
       "      <td>34</td>\n",
       "      <td>209</td>\n",
       "      <td>726</td>\n",
       "      <td>1745</td>\n",
       "      <td>2016-04-15</td>\n",
       "      <td>2016-04-15</td>\n",
       "      <td>5</td>\n",
       "    </tr>\n",
       "    <tr>\n",
       "      <th>4</th>\n",
       "      <td>1503960366</td>\n",
       "      <td>12669</td>\n",
       "      <td>36</td>\n",
       "      <td>10</td>\n",
       "      <td>221</td>\n",
       "      <td>773</td>\n",
       "      <td>1863</td>\n",
       "      <td>2016-04-16</td>\n",
       "      <td>2016-04-16</td>\n",
       "      <td>6</td>\n",
       "    </tr>\n",
       "  </tbody>\n",
       "</table>\n",
       "</div>"
      ],
      "text/plain": [
       "           Id  TotalSteps  VeryActiveMinutes  FairlyActiveMinutes  \\\n",
       "0  1503960366       13162                 25                   13   \n",
       "1  1503960366       10735                 21                   19   \n",
       "2  1503960366       10460                 30                   11   \n",
       "3  1503960366        9762                 29                   34   \n",
       "4  1503960366       12669                 36                   10   \n",
       "\n",
       "   LightlyActiveMinutes  SedentaryMinutes  Calories ActivityDate    Time_str  \\\n",
       "0                   328               728      1985   2016-04-12  2016-04-12   \n",
       "1                   217               776      1797   2016-04-13  2016-04-13   \n",
       "2                   181              1218      1776   2016-04-14  2016-04-14   \n",
       "3                   209               726      1745   2016-04-15  2016-04-15   \n",
       "4                   221               773      1863   2016-04-16  2016-04-16   \n",
       "\n",
       "  day_of_week  \n",
       "0           2  \n",
       "1           3  \n",
       "2           4  \n",
       "3           5  \n",
       "4           6  "
      ]
     },
     "execution_count": 89,
     "metadata": {},
     "output_type": "execute_result"
    }
   ],
   "source": [
    "df.ActivityDate.apply(lambda x: x.strftime('%Y%m%d'))\n",
    "df['day_of_week'] = df.ActivityDate.apply(lambda x: x.strftime('%w'))\n",
    "df.head()"
   ]
  },
  {
   "cell_type": "code",
   "execution_count": 90,
   "metadata": {},
   "outputs": [
    {
     "name": "stdout",
     "output_type": "stream",
     "text": [
      "../Data\\sleepDay_merged.csv\n"
     ]
    },
    {
     "data": {
      "text/html": [
       "<div>\n",
       "<style scoped>\n",
       "    .dataframe tbody tr th:only-of-type {\n",
       "        vertical-align: middle;\n",
       "    }\n",
       "\n",
       "    .dataframe tbody tr th {\n",
       "        vertical-align: top;\n",
       "    }\n",
       "\n",
       "    .dataframe thead th {\n",
       "        text-align: right;\n",
       "    }\n",
       "</style>\n",
       "<table border=\"1\" class=\"dataframe\">\n",
       "  <thead>\n",
       "    <tr style=\"text-align: right;\">\n",
       "      <th></th>\n",
       "      <th>Id</th>\n",
       "      <th>Day</th>\n",
       "      <th>TotalSleepRecords</th>\n",
       "      <th>TotalMinutesAsleep</th>\n",
       "      <th>TotalTimeInBed</th>\n",
       "    </tr>\n",
       "  </thead>\n",
       "  <tbody>\n",
       "    <tr>\n",
       "      <th>0</th>\n",
       "      <td>1503960366</td>\n",
       "      <td>2016-04-12</td>\n",
       "      <td>1</td>\n",
       "      <td>327</td>\n",
       "      <td>346</td>\n",
       "    </tr>\n",
       "    <tr>\n",
       "      <th>1</th>\n",
       "      <td>1503960366</td>\n",
       "      <td>2016-04-13</td>\n",
       "      <td>2</td>\n",
       "      <td>384</td>\n",
       "      <td>407</td>\n",
       "    </tr>\n",
       "    <tr>\n",
       "      <th>2</th>\n",
       "      <td>1503960366</td>\n",
       "      <td>2016-04-15</td>\n",
       "      <td>1</td>\n",
       "      <td>412</td>\n",
       "      <td>442</td>\n",
       "    </tr>\n",
       "    <tr>\n",
       "      <th>3</th>\n",
       "      <td>1503960366</td>\n",
       "      <td>2016-04-16</td>\n",
       "      <td>2</td>\n",
       "      <td>340</td>\n",
       "      <td>367</td>\n",
       "    </tr>\n",
       "    <tr>\n",
       "      <th>4</th>\n",
       "      <td>1503960366</td>\n",
       "      <td>2016-04-17</td>\n",
       "      <td>1</td>\n",
       "      <td>700</td>\n",
       "      <td>712</td>\n",
       "    </tr>\n",
       "  </tbody>\n",
       "</table>\n",
       "</div>"
      ],
      "text/plain": [
       "           Id         Day  TotalSleepRecords  TotalMinutesAsleep  \\\n",
       "0  1503960366  2016-04-12                  1                 327   \n",
       "1  1503960366  2016-04-13                  2                 384   \n",
       "2  1503960366  2016-04-15                  1                 412   \n",
       "3  1503960366  2016-04-16                  2                 340   \n",
       "4  1503960366  2016-04-17                  1                 700   \n",
       "\n",
       "   TotalTimeInBed  \n",
       "0             346  \n",
       "1             407  \n",
       "2             442  \n",
       "3             367  \n",
       "4             712  "
      ]
     },
     "execution_count": 90,
     "metadata": {},
     "output_type": "execute_result"
    }
   ],
   "source": [
    "sleep = read_file(data_csvs[-2])\n",
    "sleep.SleepDay = pd.to_datetime(sleep['SleepDay'])\n",
    "sleep.rename(columns={\"SleepDay\": \"Day\"}, inplace=True)\n",
    "sleep.Day = sleep.Day.astype('str')\n",
    "sleep.head()\n"
   ]
  },
  {
   "cell_type": "code",
   "execution_count": 91,
   "metadata": {},
   "outputs": [
    {
     "data": {
      "text/plain": [
       "Id                     int64\n",
       "Day                   object\n",
       "TotalSleepRecords      int64\n",
       "TotalMinutesAsleep     int64\n",
       "TotalTimeInBed         int64\n",
       "dtype: object"
      ]
     },
     "execution_count": 91,
     "metadata": {},
     "output_type": "execute_result"
    }
   ],
   "source": [
    "sleep.dtypes"
   ]
  },
  {
   "cell_type": "code",
   "execution_count": 92,
   "metadata": {},
   "outputs": [
    {
     "name": "stdout",
     "output_type": "stream",
     "text": [
      "../Data\\dailyActivity_merged.csv\n"
     ]
    },
    {
     "name": "stderr",
     "output_type": "stream",
     "text": [
      "<ipython-input-13-825045f40750>:166: SettingWithCopyWarning:\n",
      "\n",
      "\n",
      "A value is trying to be set on a copy of a slice from a DataFrame.\n",
      "Try using .loc[row_indexer,col_indexer] = value instead\n",
      "\n",
      "See the caveats in the documentation: https://pandas.pydata.org/pandas-docs/stable/user_guide/indexing.html#returning-a-view-versus-a-copy\n",
      "\n",
      "<ipython-input-92-572a506054e3>:10: SettingWithCopyWarning:\n",
      "\n",
      "\n",
      "A value is trying to be set on a copy of a slice from a DataFrame.\n",
      "Try using .loc[row_indexer,col_indexer] = value instead\n",
      "\n",
      "See the caveats in the documentation: https://pandas.pydata.org/pandas-docs/stable/user_guide/indexing.html#returning-a-view-versus-a-copy\n",
      "\n",
      "d:\\Anaconda_2\\lib\\site-packages\\pandas\\core\\generic.py:5494: SettingWithCopyWarning:\n",
      "\n",
      "\n",
      "A value is trying to be set on a copy of a slice from a DataFrame.\n",
      "Try using .loc[row_indexer,col_indexer] = value instead\n",
      "\n",
      "See the caveats in the documentation: https://pandas.pydata.org/pandas-docs/stable/user_guide/indexing.html#returning-a-view-versus-a-copy\n",
      "\n"
     ]
    },
    {
     "data": {
      "text/html": [
       "<div>\n",
       "<style scoped>\n",
       "    .dataframe tbody tr th:only-of-type {\n",
       "        vertical-align: middle;\n",
       "    }\n",
       "\n",
       "    .dataframe tbody tr th {\n",
       "        vertical-align: top;\n",
       "    }\n",
       "\n",
       "    .dataframe thead th {\n",
       "        text-align: right;\n",
       "    }\n",
       "</style>\n",
       "<table border=\"1\" class=\"dataframe\">\n",
       "  <thead>\n",
       "    <tr style=\"text-align: right;\">\n",
       "      <th></th>\n",
       "      <th>Id</th>\n",
       "      <th>TotalSteps</th>\n",
       "      <th>VeryActiveMinutes</th>\n",
       "      <th>FairlyActiveMinutes</th>\n",
       "      <th>LightlyActiveMinutes</th>\n",
       "      <th>SedentaryMinutes</th>\n",
       "      <th>Calories</th>\n",
       "      <th>Time_str</th>\n",
       "      <th>PersonID</th>\n",
       "      <th>Day</th>\n",
       "      <th>TotalSleepRecords</th>\n",
       "      <th>TotalMinutesAsleep</th>\n",
       "      <th>TotalTimeInBed</th>\n",
       "    </tr>\n",
       "  </thead>\n",
       "  <tbody>\n",
       "    <tr>\n",
       "      <th>0</th>\n",
       "      <td>1503960366</td>\n",
       "      <td>13162</td>\n",
       "      <td>25</td>\n",
       "      <td>13</td>\n",
       "      <td>328</td>\n",
       "      <td>728</td>\n",
       "      <td>1985</td>\n",
       "      <td>2016-04-12</td>\n",
       "      <td>0</td>\n",
       "      <td>2016-04-12</td>\n",
       "      <td>1</td>\n",
       "      <td>327</td>\n",
       "      <td>346</td>\n",
       "    </tr>\n",
       "    <tr>\n",
       "      <th>1</th>\n",
       "      <td>1503960366</td>\n",
       "      <td>10735</td>\n",
       "      <td>21</td>\n",
       "      <td>19</td>\n",
       "      <td>217</td>\n",
       "      <td>776</td>\n",
       "      <td>1797</td>\n",
       "      <td>2016-04-13</td>\n",
       "      <td>0</td>\n",
       "      <td>2016-04-13</td>\n",
       "      <td>2</td>\n",
       "      <td>384</td>\n",
       "      <td>407</td>\n",
       "    </tr>\n",
       "    <tr>\n",
       "      <th>2</th>\n",
       "      <td>1503960366</td>\n",
       "      <td>9762</td>\n",
       "      <td>29</td>\n",
       "      <td>34</td>\n",
       "      <td>209</td>\n",
       "      <td>726</td>\n",
       "      <td>1745</td>\n",
       "      <td>2016-04-15</td>\n",
       "      <td>0</td>\n",
       "      <td>2016-04-15</td>\n",
       "      <td>1</td>\n",
       "      <td>412</td>\n",
       "      <td>442</td>\n",
       "    </tr>\n",
       "    <tr>\n",
       "      <th>3</th>\n",
       "      <td>1503960366</td>\n",
       "      <td>12669</td>\n",
       "      <td>36</td>\n",
       "      <td>10</td>\n",
       "      <td>221</td>\n",
       "      <td>773</td>\n",
       "      <td>1863</td>\n",
       "      <td>2016-04-16</td>\n",
       "      <td>0</td>\n",
       "      <td>2016-04-16</td>\n",
       "      <td>2</td>\n",
       "      <td>340</td>\n",
       "      <td>367</td>\n",
       "    </tr>\n",
       "    <tr>\n",
       "      <th>4</th>\n",
       "      <td>1503960366</td>\n",
       "      <td>9705</td>\n",
       "      <td>38</td>\n",
       "      <td>20</td>\n",
       "      <td>164</td>\n",
       "      <td>539</td>\n",
       "      <td>1728</td>\n",
       "      <td>2016-04-17</td>\n",
       "      <td>0</td>\n",
       "      <td>2016-04-17</td>\n",
       "      <td>1</td>\n",
       "      <td>700</td>\n",
       "      <td>712</td>\n",
       "    </tr>\n",
       "    <tr>\n",
       "      <th>...</th>\n",
       "      <td>...</td>\n",
       "      <td>...</td>\n",
       "      <td>...</td>\n",
       "      <td>...</td>\n",
       "      <td>...</td>\n",
       "      <td>...</td>\n",
       "      <td>...</td>\n",
       "      <td>...</td>\n",
       "      <td>...</td>\n",
       "      <td>...</td>\n",
       "      <td>...</td>\n",
       "      <td>...</td>\n",
       "      <td>...</td>\n",
       "    </tr>\n",
       "    <tr>\n",
       "      <th>408</th>\n",
       "      <td>8792009665</td>\n",
       "      <td>7174</td>\n",
       "      <td>10</td>\n",
       "      <td>20</td>\n",
       "      <td>301</td>\n",
       "      <td>749</td>\n",
       "      <td>2896</td>\n",
       "      <td>2016-04-30</td>\n",
       "      <td>31</td>\n",
       "      <td>2016-04-30</td>\n",
       "      <td>1</td>\n",
       "      <td>343</td>\n",
       "      <td>360</td>\n",
       "    </tr>\n",
       "    <tr>\n",
       "      <th>409</th>\n",
       "      <td>8792009665</td>\n",
       "      <td>1619</td>\n",
       "      <td>0</td>\n",
       "      <td>0</td>\n",
       "      <td>79</td>\n",
       "      <td>834</td>\n",
       "      <td>1962</td>\n",
       "      <td>2016-05-01</td>\n",
       "      <td>31</td>\n",
       "      <td>2016-05-01</td>\n",
       "      <td>1</td>\n",
       "      <td>503</td>\n",
       "      <td>527</td>\n",
       "    </tr>\n",
       "    <tr>\n",
       "      <th>410</th>\n",
       "      <td>8792009665</td>\n",
       "      <td>1831</td>\n",
       "      <td>0</td>\n",
       "      <td>0</td>\n",
       "      <td>101</td>\n",
       "      <td>916</td>\n",
       "      <td>2015</td>\n",
       "      <td>2016-05-02</td>\n",
       "      <td>31</td>\n",
       "      <td>2016-05-02</td>\n",
       "      <td>1</td>\n",
       "      <td>415</td>\n",
       "      <td>423</td>\n",
       "    </tr>\n",
       "    <tr>\n",
       "      <th>411</th>\n",
       "      <td>8792009665</td>\n",
       "      <td>2421</td>\n",
       "      <td>0</td>\n",
       "      <td>0</td>\n",
       "      <td>156</td>\n",
       "      <td>739</td>\n",
       "      <td>2297</td>\n",
       "      <td>2016-05-03</td>\n",
       "      <td>31</td>\n",
       "      <td>2016-05-03</td>\n",
       "      <td>1</td>\n",
       "      <td>516</td>\n",
       "      <td>545</td>\n",
       "    </tr>\n",
       "    <tr>\n",
       "      <th>412</th>\n",
       "      <td>8792009665</td>\n",
       "      <td>2283</td>\n",
       "      <td>0</td>\n",
       "      <td>0</td>\n",
       "      <td>129</td>\n",
       "      <td>848</td>\n",
       "      <td>2067</td>\n",
       "      <td>2016-05-04</td>\n",
       "      <td>31</td>\n",
       "      <td>2016-05-04</td>\n",
       "      <td>1</td>\n",
       "      <td>439</td>\n",
       "      <td>463</td>\n",
       "    </tr>\n",
       "  </tbody>\n",
       "</table>\n",
       "<p>413 rows × 13 columns</p>\n",
       "</div>"
      ],
      "text/plain": [
       "             Id  TotalSteps  VeryActiveMinutes  FairlyActiveMinutes  \\\n",
       "0    1503960366       13162                 25                   13   \n",
       "1    1503960366       10735                 21                   19   \n",
       "2    1503960366        9762                 29                   34   \n",
       "3    1503960366       12669                 36                   10   \n",
       "4    1503960366        9705                 38                   20   \n",
       "..          ...         ...                ...                  ...   \n",
       "408  8792009665        7174                 10                   20   \n",
       "409  8792009665        1619                  0                    0   \n",
       "410  8792009665        1831                  0                    0   \n",
       "411  8792009665        2421                  0                    0   \n",
       "412  8792009665        2283                  0                    0   \n",
       "\n",
       "     LightlyActiveMinutes  SedentaryMinutes  Calories    Time_str PersonID  \\\n",
       "0                     328               728      1985  2016-04-12        0   \n",
       "1                     217               776      1797  2016-04-13        0   \n",
       "2                     209               726      1745  2016-04-15        0   \n",
       "3                     221               773      1863  2016-04-16        0   \n",
       "4                     164               539      1728  2016-04-17        0   \n",
       "..                    ...               ...       ...         ...      ...   \n",
       "408                   301               749      2896  2016-04-30       31   \n",
       "409                    79               834      1962  2016-05-01       31   \n",
       "410                   101               916      2015  2016-05-02       31   \n",
       "411                   156               739      2297  2016-05-03       31   \n",
       "412                   129               848      2067  2016-05-04       31   \n",
       "\n",
       "            Day  TotalSleepRecords  TotalMinutesAsleep  TotalTimeInBed  \n",
       "0    2016-04-12                  1                 327             346  \n",
       "1    2016-04-13                  2                 384             407  \n",
       "2    2016-04-15                  1                 412             442  \n",
       "3    2016-04-16                  2                 340             367  \n",
       "4    2016-04-17                  1                 700             712  \n",
       "..          ...                ...                 ...             ...  \n",
       "408  2016-04-30                  1                 343             360  \n",
       "409  2016-05-01                  1                 503             527  \n",
       "410  2016-05-02                  1                 415             423  \n",
       "411  2016-05-03                  1                 516             545  \n",
       "412  2016-05-04                  1                 439             463  \n",
       "\n",
       "[413 rows x 13 columns]"
      ]
     },
     "execution_count": 92,
     "metadata": {},
     "output_type": "execute_result"
    }
   ],
   "source": [
    "active =read_file(data_csvs[0])\n",
    "active.ActivityDate = pd.to_datetime(active.ActivityDate)\n",
    "active.ActivityDate = active.ActivityDate.astype('str')\n",
    "\n",
    "\n",
    "active_df  =sliceDataBasedonDescribeval(active, 'std','ActivityDate')\n",
    "\n",
    "Id_To_Idx = {id :num for num,id in enumerate(active.Id.unique())}\n",
    "Idx_to_Id = {num :id for num,id in enumerate(active.Id.unique())}\n",
    "active_df['PersonID'] = active_df.Id.map(Id_To_Idx)\n",
    "active_df.PersonID =  active_df.PersonID.astype('str')\n",
    "active_df\n",
    "\n",
    "\n",
    "\n",
    "meged_active_sleep  = active_df.merge(sleep, left_on=[\"Id\",\"ActivityDate\" ], right_on=[\"Id\", \"Day\"]).drop(columns = ['ActivityDate'])\n",
    "meged_active_sleep"
   ]
  },
  {
   "cell_type": "code",
   "execution_count": 93,
   "metadata": {},
   "outputs": [
    {
     "data": {
      "text/html": [
       "<div>\n",
       "<style scoped>\n",
       "    .dataframe tbody tr th:only-of-type {\n",
       "        vertical-align: middle;\n",
       "    }\n",
       "\n",
       "    .dataframe tbody tr th {\n",
       "        vertical-align: top;\n",
       "    }\n",
       "\n",
       "    .dataframe thead th {\n",
       "        text-align: right;\n",
       "    }\n",
       "</style>\n",
       "<table border=\"1\" class=\"dataframe\">\n",
       "  <thead>\n",
       "    <tr style=\"text-align: right;\">\n",
       "      <th></th>\n",
       "      <th>Id</th>\n",
       "      <th>TotalSteps</th>\n",
       "      <th>VeryActiveMinutes</th>\n",
       "      <th>FairlyActiveMinutes</th>\n",
       "      <th>LightlyActiveMinutes</th>\n",
       "      <th>SedentaryMinutes</th>\n",
       "      <th>Calories</th>\n",
       "      <th>Time_str</th>\n",
       "      <th>PersonID</th>\n",
       "      <th>Day</th>\n",
       "      <th>TotalSleepRecords</th>\n",
       "      <th>TotalMinutesAsleep</th>\n",
       "      <th>TotalTimeInBed</th>\n",
       "    </tr>\n",
       "  </thead>\n",
       "  <tbody>\n",
       "    <tr>\n",
       "      <th>0</th>\n",
       "      <td>1503960366</td>\n",
       "      <td>13162</td>\n",
       "      <td>25</td>\n",
       "      <td>13</td>\n",
       "      <td>328</td>\n",
       "      <td>728</td>\n",
       "      <td>1985</td>\n",
       "      <td>2016-04-12</td>\n",
       "      <td>0</td>\n",
       "      <td>2016-04-12</td>\n",
       "      <td>1</td>\n",
       "      <td>327</td>\n",
       "      <td>346</td>\n",
       "    </tr>\n",
       "    <tr>\n",
       "      <th>1</th>\n",
       "      <td>1503960366</td>\n",
       "      <td>10735</td>\n",
       "      <td>21</td>\n",
       "      <td>19</td>\n",
       "      <td>217</td>\n",
       "      <td>776</td>\n",
       "      <td>1797</td>\n",
       "      <td>2016-04-13</td>\n",
       "      <td>0</td>\n",
       "      <td>2016-04-13</td>\n",
       "      <td>2</td>\n",
       "      <td>384</td>\n",
       "      <td>407</td>\n",
       "    </tr>\n",
       "    <tr>\n",
       "      <th>2</th>\n",
       "      <td>1503960366</td>\n",
       "      <td>9762</td>\n",
       "      <td>29</td>\n",
       "      <td>34</td>\n",
       "      <td>209</td>\n",
       "      <td>726</td>\n",
       "      <td>1745</td>\n",
       "      <td>2016-04-15</td>\n",
       "      <td>0</td>\n",
       "      <td>2016-04-15</td>\n",
       "      <td>1</td>\n",
       "      <td>412</td>\n",
       "      <td>442</td>\n",
       "    </tr>\n",
       "    <tr>\n",
       "      <th>3</th>\n",
       "      <td>1503960366</td>\n",
       "      <td>12669</td>\n",
       "      <td>36</td>\n",
       "      <td>10</td>\n",
       "      <td>221</td>\n",
       "      <td>773</td>\n",
       "      <td>1863</td>\n",
       "      <td>2016-04-16</td>\n",
       "      <td>0</td>\n",
       "      <td>2016-04-16</td>\n",
       "      <td>2</td>\n",
       "      <td>340</td>\n",
       "      <td>367</td>\n",
       "    </tr>\n",
       "    <tr>\n",
       "      <th>4</th>\n",
       "      <td>1503960366</td>\n",
       "      <td>9705</td>\n",
       "      <td>38</td>\n",
       "      <td>20</td>\n",
       "      <td>164</td>\n",
       "      <td>539</td>\n",
       "      <td>1728</td>\n",
       "      <td>2016-04-17</td>\n",
       "      <td>0</td>\n",
       "      <td>2016-04-17</td>\n",
       "      <td>1</td>\n",
       "      <td>700</td>\n",
       "      <td>712</td>\n",
       "    </tr>\n",
       "    <tr>\n",
       "      <th>...</th>\n",
       "      <td>...</td>\n",
       "      <td>...</td>\n",
       "      <td>...</td>\n",
       "      <td>...</td>\n",
       "      <td>...</td>\n",
       "      <td>...</td>\n",
       "      <td>...</td>\n",
       "      <td>...</td>\n",
       "      <td>...</td>\n",
       "      <td>...</td>\n",
       "      <td>...</td>\n",
       "      <td>...</td>\n",
       "      <td>...</td>\n",
       "    </tr>\n",
       "    <tr>\n",
       "      <th>408</th>\n",
       "      <td>8792009665</td>\n",
       "      <td>7174</td>\n",
       "      <td>10</td>\n",
       "      <td>20</td>\n",
       "      <td>301</td>\n",
       "      <td>749</td>\n",
       "      <td>2896</td>\n",
       "      <td>2016-04-30</td>\n",
       "      <td>31</td>\n",
       "      <td>2016-04-30</td>\n",
       "      <td>1</td>\n",
       "      <td>343</td>\n",
       "      <td>360</td>\n",
       "    </tr>\n",
       "    <tr>\n",
       "      <th>409</th>\n",
       "      <td>8792009665</td>\n",
       "      <td>1619</td>\n",
       "      <td>0</td>\n",
       "      <td>0</td>\n",
       "      <td>79</td>\n",
       "      <td>834</td>\n",
       "      <td>1962</td>\n",
       "      <td>2016-05-01</td>\n",
       "      <td>31</td>\n",
       "      <td>2016-05-01</td>\n",
       "      <td>1</td>\n",
       "      <td>503</td>\n",
       "      <td>527</td>\n",
       "    </tr>\n",
       "    <tr>\n",
       "      <th>410</th>\n",
       "      <td>8792009665</td>\n",
       "      <td>1831</td>\n",
       "      <td>0</td>\n",
       "      <td>0</td>\n",
       "      <td>101</td>\n",
       "      <td>916</td>\n",
       "      <td>2015</td>\n",
       "      <td>2016-05-02</td>\n",
       "      <td>31</td>\n",
       "      <td>2016-05-02</td>\n",
       "      <td>1</td>\n",
       "      <td>415</td>\n",
       "      <td>423</td>\n",
       "    </tr>\n",
       "    <tr>\n",
       "      <th>411</th>\n",
       "      <td>8792009665</td>\n",
       "      <td>2421</td>\n",
       "      <td>0</td>\n",
       "      <td>0</td>\n",
       "      <td>156</td>\n",
       "      <td>739</td>\n",
       "      <td>2297</td>\n",
       "      <td>2016-05-03</td>\n",
       "      <td>31</td>\n",
       "      <td>2016-05-03</td>\n",
       "      <td>1</td>\n",
       "      <td>516</td>\n",
       "      <td>545</td>\n",
       "    </tr>\n",
       "    <tr>\n",
       "      <th>412</th>\n",
       "      <td>8792009665</td>\n",
       "      <td>2283</td>\n",
       "      <td>0</td>\n",
       "      <td>0</td>\n",
       "      <td>129</td>\n",
       "      <td>848</td>\n",
       "      <td>2067</td>\n",
       "      <td>2016-05-04</td>\n",
       "      <td>31</td>\n",
       "      <td>2016-05-04</td>\n",
       "      <td>1</td>\n",
       "      <td>439</td>\n",
       "      <td>463</td>\n",
       "    </tr>\n",
       "  </tbody>\n",
       "</table>\n",
       "<p>413 rows × 13 columns</p>\n",
       "</div>"
      ],
      "text/plain": [
       "             Id  TotalSteps  VeryActiveMinutes  FairlyActiveMinutes  \\\n",
       "0    1503960366       13162                 25                   13   \n",
       "1    1503960366       10735                 21                   19   \n",
       "2    1503960366        9762                 29                   34   \n",
       "3    1503960366       12669                 36                   10   \n",
       "4    1503960366        9705                 38                   20   \n",
       "..          ...         ...                ...                  ...   \n",
       "408  8792009665        7174                 10                   20   \n",
       "409  8792009665        1619                  0                    0   \n",
       "410  8792009665        1831                  0                    0   \n",
       "411  8792009665        2421                  0                    0   \n",
       "412  8792009665        2283                  0                    0   \n",
       "\n",
       "     LightlyActiveMinutes  SedentaryMinutes  Calories    Time_str PersonID  \\\n",
       "0                     328               728      1985  2016-04-12        0   \n",
       "1                     217               776      1797  2016-04-13        0   \n",
       "2                     209               726      1745  2016-04-15        0   \n",
       "3                     221               773      1863  2016-04-16        0   \n",
       "4                     164               539      1728  2016-04-17        0   \n",
       "..                    ...               ...       ...         ...      ...   \n",
       "408                   301               749      2896  2016-04-30       31   \n",
       "409                    79               834      1962  2016-05-01       31   \n",
       "410                   101               916      2015  2016-05-02       31   \n",
       "411                   156               739      2297  2016-05-03       31   \n",
       "412                   129               848      2067  2016-05-04       31   \n",
       "\n",
       "            Day  TotalSleepRecords  TotalMinutesAsleep  TotalTimeInBed  \n",
       "0    2016-04-12                  1                 327             346  \n",
       "1    2016-04-13                  2                 384             407  \n",
       "2    2016-04-15                  1                 412             442  \n",
       "3    2016-04-16                  2                 340             367  \n",
       "4    2016-04-17                  1                 700             712  \n",
       "..          ...                ...                 ...             ...  \n",
       "408  2016-04-30                  1                 343             360  \n",
       "409  2016-05-01                  1                 503             527  \n",
       "410  2016-05-02                  1                 415             423  \n",
       "411  2016-05-03                  1                 516             545  \n",
       "412  2016-05-04                  1                 439             463  \n",
       "\n",
       "[413 rows x 13 columns]"
      ]
     },
     "execution_count": 93,
     "metadata": {},
     "output_type": "execute_result"
    }
   ],
   "source": [
    "meged_active_sleep"
   ]
  },
  {
   "cell_type": "code",
   "execution_count": 79,
   "metadata": {},
   "outputs": [
    {
     "data": {
      "text/html": [
       "<div>\n",
       "<style scoped>\n",
       "    .dataframe tbody tr th:only-of-type {\n",
       "        vertical-align: middle;\n",
       "    }\n",
       "\n",
       "    .dataframe tbody tr th {\n",
       "        vertical-align: top;\n",
       "    }\n",
       "\n",
       "    .dataframe thead th {\n",
       "        text-align: right;\n",
       "    }\n",
       "</style>\n",
       "<table border=\"1\" class=\"dataframe\">\n",
       "  <thead>\n",
       "    <tr style=\"text-align: right;\">\n",
       "      <th></th>\n",
       "      <th>Id</th>\n",
       "      <th>TotalSteps</th>\n",
       "      <th>VeryActiveMinutes</th>\n",
       "      <th>FairlyActiveMinutes</th>\n",
       "      <th>LightlyActiveMinutes</th>\n",
       "      <th>SedentaryMinutes</th>\n",
       "      <th>Calories</th>\n",
       "      <th>Time_str</th>\n",
       "      <th>PersonID</th>\n",
       "      <th>Day</th>\n",
       "      <th>TotalSleepRecords</th>\n",
       "      <th>TotalMinutesAsleep</th>\n",
       "      <th>TotalTimeInBed</th>\n",
       "    </tr>\n",
       "  </thead>\n",
       "  <tbody>\n",
       "    <tr>\n",
       "      <th>0</th>\n",
       "      <td>1503960366</td>\n",
       "      <td>13162</td>\n",
       "      <td>25</td>\n",
       "      <td>13</td>\n",
       "      <td>328</td>\n",
       "      <td>728</td>\n",
       "      <td>1985</td>\n",
       "      <td>2016-04-12</td>\n",
       "      <td>0</td>\n",
       "      <td>2016-04-12</td>\n",
       "      <td>1</td>\n",
       "      <td>327</td>\n",
       "      <td>346</td>\n",
       "    </tr>\n",
       "    <tr>\n",
       "      <th>1</th>\n",
       "      <td>1503960366</td>\n",
       "      <td>10735</td>\n",
       "      <td>21</td>\n",
       "      <td>19</td>\n",
       "      <td>217</td>\n",
       "      <td>776</td>\n",
       "      <td>1797</td>\n",
       "      <td>2016-04-13</td>\n",
       "      <td>0</td>\n",
       "      <td>2016-04-13</td>\n",
       "      <td>2</td>\n",
       "      <td>384</td>\n",
       "      <td>407</td>\n",
       "    </tr>\n",
       "    <tr>\n",
       "      <th>2</th>\n",
       "      <td>1503960366</td>\n",
       "      <td>9762</td>\n",
       "      <td>29</td>\n",
       "      <td>34</td>\n",
       "      <td>209</td>\n",
       "      <td>726</td>\n",
       "      <td>1745</td>\n",
       "      <td>2016-04-15</td>\n",
       "      <td>0</td>\n",
       "      <td>2016-04-15</td>\n",
       "      <td>1</td>\n",
       "      <td>412</td>\n",
       "      <td>442</td>\n",
       "    </tr>\n",
       "    <tr>\n",
       "      <th>3</th>\n",
       "      <td>1503960366</td>\n",
       "      <td>12669</td>\n",
       "      <td>36</td>\n",
       "      <td>10</td>\n",
       "      <td>221</td>\n",
       "      <td>773</td>\n",
       "      <td>1863</td>\n",
       "      <td>2016-04-16</td>\n",
       "      <td>0</td>\n",
       "      <td>2016-04-16</td>\n",
       "      <td>2</td>\n",
       "      <td>340</td>\n",
       "      <td>367</td>\n",
       "    </tr>\n",
       "    <tr>\n",
       "      <th>4</th>\n",
       "      <td>1503960366</td>\n",
       "      <td>9705</td>\n",
       "      <td>38</td>\n",
       "      <td>20</td>\n",
       "      <td>164</td>\n",
       "      <td>539</td>\n",
       "      <td>1728</td>\n",
       "      <td>2016-04-17</td>\n",
       "      <td>0</td>\n",
       "      <td>2016-04-17</td>\n",
       "      <td>1</td>\n",
       "      <td>700</td>\n",
       "      <td>712</td>\n",
       "    </tr>\n",
       "  </tbody>\n",
       "</table>\n",
       "</div>"
      ],
      "text/plain": [
       "           Id  TotalSteps  VeryActiveMinutes  FairlyActiveMinutes  \\\n",
       "0  1503960366       13162                 25                   13   \n",
       "1  1503960366       10735                 21                   19   \n",
       "2  1503960366        9762                 29                   34   \n",
       "3  1503960366       12669                 36                   10   \n",
       "4  1503960366        9705                 38                   20   \n",
       "\n",
       "   LightlyActiveMinutes  SedentaryMinutes  Calories    Time_str PersonID  \\\n",
       "0                   328               728      1985  2016-04-12        0   \n",
       "1                   217               776      1797  2016-04-13        0   \n",
       "2                   209               726      1745  2016-04-15        0   \n",
       "3                   221               773      1863  2016-04-16        0   \n",
       "4                   164               539      1728  2016-04-17        0   \n",
       "\n",
       "          Day  TotalSleepRecords  TotalMinutesAsleep  TotalTimeInBed  \n",
       "0  2016-04-12                  1                 327             346  \n",
       "1  2016-04-13                  2                 384             407  \n",
       "2  2016-04-15                  1                 412             442  \n",
       "3  2016-04-16                  2                 340             367  \n",
       "4  2016-04-17                  1                 700             712  "
      ]
     },
     "execution_count": 79,
     "metadata": {},
     "output_type": "execute_result"
    }
   ],
   "source": [
    "meged_active_sleep.head()"
   ]
  },
  {
   "cell_type": "code",
   "execution_count": 74,
   "metadata": {},
   "outputs": [
    {
     "data": {
      "application/vnd.plotly.v1+json": {
       "config": {
        "plotlyServerURL": "https://plot.ly"
       },
       "data": [
        {
         "hovertemplate": "Id=1503960366<br>Calories=%{x}<br>TotalTimeInBed=%{y}<extra></extra>",
         "legendgroup": "1503960366",
         "line": {
          "color": "#636efa",
          "dash": "solid"
         },
         "marker": {
          "symbol": "circle"
         },
         "mode": "lines+markers",
         "name": "1503960366",
         "orientation": "v",
         "showlegend": true,
         "type": "scatter",
         "x": [
          1985,
          1797,
          1745,
          1863,
          1728,
          2035,
          1786,
          1775,
          1949,
          1788,
          2013,
          1970,
          1898,
          1837,
          1947,
          1820,
          2004,
          1990,
          1959,
          1896,
          1821,
          1740,
          1819,
          1859,
          1783
         ],
         "xaxis": "x",
         "y": [
          346,
          407,
          442,
          367,
          712,
          320,
          377,
          364,
          384,
          449,
          323,
          274,
          393,
          354,
          425,
          396,
          309,
          296,
          264,
          367,
          349,
          611,
          342,
          403,
          306
         ],
         "yaxis": "y"
        },
        {
         "hovertemplate": "Id=1644430081<br>Calories=%{x}<br>TotalTimeInBed=%{y}<extra></extra>",
         "legendgroup": "1644430081",
         "line": {
          "color": "#EF553B",
          "dash": "solid"
         },
         "marker": {
          "symbol": "circle"
         },
         "mode": "lines+markers",
         "name": "1644430081",
         "orientation": "v",
         "showlegend": true,
         "type": "scatter",
         "x": [
          2498,
          3846,
          2580,
          2987
         ],
         "xaxis": "x",
         "y": [
          127,
          142,
          961,
          154
         ],
         "yaxis": "y"
        },
        {
         "hovertemplate": "Id=1844505072<br>Calories=%{x}<br>TotalTimeInBed=%{y}<extra></extra>",
         "legendgroup": "1844505072",
         "line": {
          "color": "#00cc96",
          "dash": "solid"
         },
         "marker": {
          "symbol": "circle"
         },
         "mode": "lines+markers",
         "name": "1844505072",
         "orientation": "v",
         "showlegend": true,
         "type": "scatter",
         "x": [
          1725,
          1763,
          1541
         ],
         "xaxis": "x",
         "y": [
          961,
          961,
          961
         ],
         "yaxis": "y"
        },
        {
         "hovertemplate": "Id=1927972279<br>Calories=%{x}<br>TotalTimeInBed=%{y}<extra></extra>",
         "legendgroup": "1927972279",
         "line": {
          "color": "#ab63fa",
          "dash": "solid"
         },
         "marker": {
          "symbol": "circle"
         },
         "mode": "lines+markers",
         "name": "1927972279",
         "orientation": "v",
         "showlegend": true,
         "type": "scatter",
         "x": [
          2220,
          2151,
          2221,
          2638,
          2351
         ],
         "xaxis": "x",
         "y": [
          775,
          422,
          499,
          315,
          178
         ],
         "yaxis": "y"
        },
        {
         "hovertemplate": "Id=2026352035<br>Calories=%{x}<br>TotalTimeInBed=%{y}<extra></extra>",
         "legendgroup": "2026352035",
         "line": {
          "color": "#FFA15A",
          "dash": "solid"
         },
         "marker": {
          "symbol": "circle"
         },
         "mode": "lines+markers",
         "name": "2026352035",
         "orientation": "v",
         "showlegend": true,
         "type": "scatter",
         "x": [
          1459,
          1521,
          1431,
          1444,
          1373,
          1214,
          1356,
          1667,
          1370,
          1399,
          1916,
          1401,
          1576,
          1593,
          1649,
          1692,
          1506,
          1447,
          1690,
          1658,
          1926,
          1736,
          1491,
          1555,
          1869,
          1141,
          1698,
          1364
         ],
         "xaxis": "x",
         "y": [
          546,
          565,
          568,
          573,
          567,
          498,
          540,
          510,
          514,
          545,
          554,
          591,
          531,
          545,
          545,
          510,
          607,
          546,
          543,
          560,
          485,
          548,
          521,
          568,
          556,
          380,
          553,
          485
         ],
         "yaxis": "y"
        },
        {
         "hovertemplate": "Id=2320127002<br>Calories=%{x}<br>TotalTimeInBed=%{y}<extra></extra>",
         "legendgroup": "2320127002",
         "line": {
          "color": "#19d3f3",
          "dash": "solid"
         },
         "marker": {
          "symbol": "circle"
         },
         "mode": "lines+markers",
         "name": "2320127002",
         "orientation": "v",
         "showlegend": true,
         "type": "scatter",
         "x": [
          1804
         ],
         "xaxis": "x",
         "y": [
          69
         ],
         "yaxis": "y"
        },
        {
         "hovertemplate": "Id=2347167796<br>Calories=%{x}<br>TotalTimeInBed=%{y}<extra></extra>",
         "legendgroup": "2347167796",
         "line": {
          "color": "#FF6692",
          "dash": "solid"
         },
         "marker": {
          "symbol": "circle"
         },
         "mode": "lines+markers",
         "name": "2347167796",
         "orientation": "v",
         "showlegend": true,
         "type": "scatter",
         "x": [
          2038,
          2010,
          2133,
          1882,
          1944,
          2346,
          2048,
          1946,
          2629,
          2187,
          2095,
          1861,
          2194,
          1854,
          403
         ],
         "xaxis": "x",
         "y": [
          531,
          489,
          504,
          602,
          557,
          514,
          484,
          461,
          386,
          459,
          471,
          490,
          499,
          450,
          473
         ],
         "yaxis": "y"
        },
        {
         "hovertemplate": "Id=3977333714<br>Calories=%{x}<br>TotalTimeInBed=%{y}<extra></extra>",
         "legendgroup": "3977333714",
         "line": {
          "color": "#B6E880",
          "dash": "solid"
         },
         "marker": {
          "symbol": "circle"
         },
         "mode": "lines+markers",
         "name": "3977333714",
         "orientation": "v",
         "showlegend": true,
         "type": "scatter",
         "x": [
          1450,
          1495,
          1433,
          1468,
          1625,
          1529,
          1584,
          1638,
          1554,
          1397,
          1481,
          1638,
          1655,
          1570,
          1551,
          1377,
          1407,
          1545,
          1650,
          1501,
          1760,
          1710,
          1628,
          1618,
          1590,
          1574,
          1633,
          1630
         ],
         "xaxis": "x",
         "y": [
          469,
          456,
          397,
          556,
          510,
          566,
          522,
          395,
          305,
          512,
          476,
          372,
          526,
          467,
          371,
          540,
          423,
          478,
          382,
          626,
          384,
          500,
          336,
          480,
          512,
          443,
          456,
          452
         ],
         "yaxis": "y"
        },
        {
         "hovertemplate": "Id=4020332650<br>Calories=%{x}<br>TotalTimeInBed=%{y}<extra></extra>",
         "legendgroup": "4020332650",
         "line": {
          "color": "#FF97FF",
          "dash": "solid"
         },
         "marker": {
          "symbol": "circle"
         },
         "mode": "lines+markers",
         "name": "4020332650",
         "orientation": "v",
         "showlegend": true,
         "type": "scatter",
         "x": [
          3654,
          3051,
          2828,
          3879,
          3429,
          2704,
          3089,
          2926
         ],
         "xaxis": "x",
         "y": [
          541,
          77,
          332,
          536,
          248,
          408,
          402,
          494
         ],
         "yaxis": "y"
        },
        {
         "hovertemplate": "Id=4319703577<br>Calories=%{x}<br>TotalTimeInBed=%{y}<extra></extra>",
         "legendgroup": "4319703577",
         "line": {
          "color": "#FECB52",
          "dash": "solid"
         },
         "marker": {
          "symbol": "circle"
         },
         "mode": "lines+markers",
         "name": "4319703577",
         "orientation": "v",
         "showlegend": true,
         "type": "scatter",
         "x": [
          2302,
          1985,
          1884,
          1632,
          2200,
          2220,
          1792,
          1886,
          1945,
          1880,
          2314,
          2236,
          2324,
          2367,
          2175,
          2092,
          1593,
          2270,
          2235,
          2266,
          2158,
          1792,
          2345,
          2260,
          2232,
          257
         ],
         "xaxis": "x",
         "y": [
          557,
          491,
          522,
          551,
          498,
          543,
          65,
          550,
          722,
          501,
          506,
          516,
          307,
          522,
          546,
          516,
          500,
          506,
          512,
          491,
          530,
          638,
          565,
          517,
          558,
          321
         ],
         "yaxis": "y"
        },
        {
         "hovertemplate": "Id=4388161847<br>Calories=%{x}<br>TotalTimeInBed=%{y}<extra></extra>",
         "legendgroup": "4388161847",
         "line": {
          "color": "#636efa",
          "dash": "solid"
         },
         "marker": {
          "symbol": "circle"
         },
         "mode": "lines+markers",
         "name": "4388161847",
         "orientation": "v",
         "showlegend": true,
         "type": "scatter",
         "x": [
          3066,
          3073,
          2572,
          3274,
          3015,
          3083,
          3069,
          3544,
          3306,
          2885,
          2929,
          3074,
          2969,
          3283,
          2926,
          3147,
          3162,
          2899,
          2899,
          4022,
          3934,
          3013,
          3061,
          2954
         ],
         "xaxis": "x",
         "y": [
          526,
          448,
          641,
          104,
          338,
          451,
          458,
          85,
          501,
          595,
          346,
          500,
          458,
          430,
          597,
          376,
          414,
          495,
          495,
          496,
          541,
          65,
          375,
          494
         ],
         "yaxis": "y"
        },
        {
         "hovertemplate": "Id=4445114986<br>Calories=%{x}<br>TotalTimeInBed=%{y}<extra></extra>",
         "legendgroup": "4445114986",
         "line": {
          "color": "#EF553B",
          "dash": "solid"
         },
         "marker": {
          "symbol": "circle"
         },
         "mode": "lines+markers",
         "name": "4445114986",
         "orientation": "v",
         "showlegend": true,
         "type": "scatter",
         "x": [
          2113,
          2095,
          2194,
          2496,
          2180,
          1933,
          1954,
          1974,
          2150,
          2432,
          2070,
          2291,
          2361,
          2203,
          2196,
          2363,
          2246,
          2336,
          2421,
          2070,
          2120,
          2211,
          2123,
          2423,
          2281,
          2181,
          2499,
          1212
         ],
         "xaxis": "x",
         "y": [
          457,
          406,
          492,
          379,
          499,
          107,
          424,
          462,
          469,
          417,
          345,
          391,
          374,
          442,
          108,
          353,
          459,
          542,
          450,
          363,
          513,
          402,
          436,
          391,
          533,
          426,
          530,
          501
         ],
         "yaxis": "y"
        },
        {
         "hovertemplate": "Id=4558609924<br>Calories=%{x}<br>TotalTimeInBed=%{y}<extra></extra>",
         "legendgroup": "4558609924",
         "line": {
          "color": "#00cc96",
          "dash": "solid"
         },
         "marker": {
          "symbol": "circle"
         },
         "mode": "lines+markers",
         "name": "4558609924",
         "orientation": "v",
         "showlegend": true,
         "type": "scatter",
         "x": [
          2486,
          2223,
          1918,
          1692,
          2666
         ],
         "xaxis": "x",
         "y": [
          137,
          121,
          179,
          129,
          134
         ],
         "yaxis": "y"
        },
        {
         "hovertemplate": "Id=4702921684<br>Calories=%{x}<br>TotalTimeInBed=%{y}<extra></extra>",
         "legendgroup": "4702921684",
         "line": {
          "color": "#ab63fa",
          "dash": "solid"
         },
         "marker": {
          "symbol": "circle"
         },
         "mode": "lines+markers",
         "name": "4702921684",
         "orientation": "v",
         "showlegend": true,
         "type": "scatter",
         "x": [
          2947,
          2898,
          2984,
          2896,
          3328,
          3394,
          3013,
          2812,
          3061,
          2729,
          3691,
          3538,
          3064,
          2784,
          2908,
          3033,
          3165,
          3115,
          3145,
          3004,
          3006,
          2859,
          3683,
          3683,
          2990,
          3172,
          3069,
          1240
         ],
         "xaxis": "x",
         "y": [
          439,
          430,
          415,
          257,
          406,
          612,
          312,
          487,
          468,
          434,
          475,
          506,
          380,
          429,
          449,
          461,
          447,
          501,
          373,
          434,
          428,
          449,
          543,
          543,
          458,
          431,
          366,
          442
         ],
         "yaxis": "y"
        },
        {
         "hovertemplate": "Id=5553957443<br>Calories=%{x}<br>TotalTimeInBed=%{y}<extra></extra>",
         "legendgroup": "5553957443",
         "line": {
          "color": "#FFA15A",
          "dash": "solid"
         },
         "marker": {
          "symbol": "circle"
         },
         "mode": "lines+markers",
         "name": "5553957443",
         "orientation": "v",
         "showlegend": true,
         "type": "scatter",
         "x": [
          2026,
          1718,
          2324,
          2254,
          1831,
          1397,
          1683,
          2284,
          1570,
          2066,
          2105,
          1776,
          1507,
          2033,
          2093,
          1922,
          1999,
          2169,
          1463,
          1747,
          1996,
          2116,
          1698,
          2156,
          1916,
          1494,
          1762,
          2272,
          2335,
          1693,
          741
         ],
         "xaxis": "x",
         "y": [
          464,
          488,
          418,
          409,
          686,
          402,
          541,
          410,
          678,
          431,
          353,
          725,
          640,
          468,
          453,
          391,
          457,
          495,
          843,
          686,
          471,
          429,
          470,
          464,
          434,
          470,
          608,
          494,
          443,
          486,
          475
         ],
         "yaxis": "y"
        },
        {
         "hovertemplate": "Id=5577150313<br>Calories=%{x}<br>TotalTimeInBed=%{y}<extra></extra>",
         "legendgroup": "5577150313",
         "line": {
          "color": "#19d3f3",
          "dash": "solid"
         },
         "marker": {
          "symbol": "circle"
         },
         "mode": "lines+markers",
         "name": "5577150313",
         "orientation": "v",
         "showlegend": true,
         "type": "scatter",
         "x": [
          3405,
          2551,
          4022,
          4005,
          4274,
          4552,
          3625,
          3501,
          3192,
          4018,
          3329,
          3152,
          4392,
          3374,
          3088,
          3294,
          3580,
          3544,
          4501,
          4546,
          3014,
          3795,
          2755,
          3004,
          3841,
          1665
         ],
         "xaxis": "x",
         "y": [
          438,
          458,
          497,
          413,
          445,
          583,
          553,
          465,
          480,
          437,
          366,
          402,
          615,
          461,
          377,
          452,
          372,
          485,
          433,
          398,
          553,
          543,
          634,
          78,
          562,
          476
         ],
         "yaxis": "y"
        },
        {
         "hovertemplate": "Id=6117666160<br>Calories=%{x}<br>TotalTimeInBed=%{y}<extra></extra>",
         "legendgroup": "6117666160",
         "line": {
          "color": "#FF6692",
          "dash": "solid"
         },
         "marker": {
          "symbol": "circle"
         },
         "mode": "lines+markers",
         "name": "6117666160",
         "orientation": "v",
         "showlegend": true,
         "type": "scatter",
         "x": [
          2828,
          2225,
          2018,
          2606,
          2536,
          4900,
          2409,
          2651,
          2305,
          2576,
          1879,
          2560,
          2361,
          2636,
          1838,
          2469,
          2250,
          1248
         ],
         "xaxis": "x",
         "y": [
          398,
          350,
          510,
          492,
          502,
          550,
          546,
          539,
          367,
          557,
          416,
          636,
          575,
          415,
          698,
          507,
          603,
          522
         ],
         "yaxis": "y"
        },
        {
         "hovertemplate": "Id=6775888955<br>Calories=%{x}<br>TotalTimeInBed=%{y}<extra></extra>",
         "legendgroup": "6775888955",
         "line": {
          "color": "#B6E880",
          "dash": "solid"
         },
         "marker": {
          "symbol": "circle"
         },
         "mode": "lines+markers",
         "name": "6775888955",
         "orientation": "v",
         "showlegend": true,
         "type": "scatter",
         "x": [
          2400,
          2507,
          2127
         ],
         "xaxis": "x",
         "y": [
          260,
          441,
          406
         ],
         "yaxis": "y"
        },
        {
         "hovertemplate": "Id=6962181067<br>Calories=%{x}<br>TotalTimeInBed=%{y}<extra></extra>",
         "legendgroup": "6962181067",
         "line": {
          "color": "#FF97FF",
          "dash": "solid"
         },
         "marker": {
          "symbol": "circle"
         },
         "mode": "lines+markers",
         "name": "6962181067",
         "orientation": "v",
         "showlegend": true,
         "type": "scatter",
         "x": [
          1994,
          1718,
          1466,
          1756,
          2173,
          2027,
          2039,
          2046,
          2174,
          2179,
          2086,
          2571,
          1705,
          2194,
          2012,
          2034,
          2182,
          2254,
          2002,
          1740,
          2162,
          2072,
          2086,
          2066,
          1850,
          1947,
          1659,
          2105,
          2361,
          1855,
          928
         ],
         "xaxis": "x",
         "y": [
          387,
          679,
          535,
          386,
          366,
          446,
          458,
          535,
          424,
          457,
          435,
          546,
          514,
          415,
          446,
          467,
          453,
          447,
          424,
          426,
          482,
          418,
          455,
          491,
          462,
          334,
          569,
          497,
          481,
          480,
          535
         ],
         "yaxis": "y"
        },
        {
         "hovertemplate": "Id=7007744171<br>Calories=%{x}<br>TotalTimeInBed=%{y}<extra></extra>",
         "legendgroup": "7007744171",
         "line": {
          "color": "#FECB52",
          "dash": "solid"
         },
         "marker": {
          "symbol": "circle"
         },
         "mode": "lines+markers",
         "name": "7007744171",
         "orientation": "v",
         "showlegend": true,
         "type": "scatter",
         "x": [
          2076,
          2225
         ],
         "xaxis": "x",
         "y": [
          82,
          61
         ],
         "yaxis": "y"
        },
        {
         "hovertemplate": "Id=7086361926<br>Calories=%{x}<br>TotalTimeInBed=%{y}<extra></extra>",
         "legendgroup": "7086361926",
         "line": {
          "color": "#636efa",
          "dash": "solid"
         },
         "marker": {
          "symbol": "circle"
         },
         "mode": "lines+markers",
         "name": "7086361926",
         "orientation": "v",
         "showlegend": true,
         "type": "scatter",
         "x": [
          2772,
          2516,
          2734,
          2395,
          2944,
          2997,
          2463,
          2846,
          2049,
          2752,
          2781,
          2693,
          2862,
          2995,
          2730,
          2754,
          2754,
          2655,
          2924,
          2739,
          2534,
          2960,
          2735,
          1199
         ],
         "xaxis": "x",
         "y": [
          525,
          465,
          476,
          386,
          483,
          502,
          411,
          448,
          704,
          447,
          500,
          479,
          367,
          489,
          407,
          459,
          461,
          436,
          333,
          548,
          510,
          438,
          463,
          457
         ],
         "yaxis": "y"
        },
        {
         "hovertemplate": "Id=8053475328<br>Calories=%{x}<br>TotalTimeInBed=%{y}<extra></extra>",
         "legendgroup": "8053475328",
         "line": {
          "color": "#EF553B",
          "dash": "solid"
         },
         "marker": {
          "symbol": "circle"
         },
         "mode": "lines+markers",
         "name": "8053475328",
         "orientation": "v",
         "showlegend": true,
         "type": "scatter",
         "x": [
          3043,
          3554,
          3331
         ],
         "xaxis": "x",
         "y": [
          493,
          337,
          75
         ],
         "yaxis": "y"
        },
        {
         "hovertemplate": "Id=8378563200<br>Calories=%{x}<br>TotalTimeInBed=%{y}<extra></extra>",
         "legendgroup": "8378563200",
         "line": {
          "color": "#00cc96",
          "dash": "solid"
         },
         "marker": {
          "symbol": "circle"
         },
         "mode": "lines+markers",
         "name": "8378563200",
         "orientation": "v",
         "showlegend": true,
         "type": "scatter",
         "x": [
          3635,
          4079,
          4163,
          3666,
          3363,
          2572,
          4157,
          4092,
          3787,
          4236,
          4044,
          2908,
          2741,
          4005,
          4005,
          3763,
          3061,
          2884,
          2982,
          2660,
          3369,
          3491,
          3784,
          3110,
          3783,
          3644,
          2799,
          2685,
          3721,
          3586,
          3788,
          1976
         ],
         "xaxis": "x",
         "y": [
          356,
          487,
          455,
          533,
          689,
          591,
          451,
          421,
          409,
          417,
          469,
          591,
          492,
          402,
          402,
          584,
          600,
          556,
          562,
          555,
          539,
          385,
          429,
          477,
          417,
          355,
          513,
          606,
          399,
          391,
          387,
          546
         ],
         "yaxis": "y"
        },
        {
         "hovertemplate": "Id=8792009665<br>Calories=%{x}<br>TotalTimeInBed=%{y}<extra></extra>",
         "legendgroup": "8792009665",
         "line": {
          "color": "#ab63fa",
          "dash": "solid"
         },
         "marker": {
          "symbol": "circle"
         },
         "mode": "lines+markers",
         "name": "8792009665",
         "orientation": "v",
         "showlegend": true,
         "type": "scatter",
         "x": [
          2044,
          1934,
          1963,
          2009,
          2188,
          2419,
          2748,
          2067,
          2780,
          3101,
          2896,
          1962,
          2015,
          2297,
          2067
         ],
         "xaxis": "x",
         "y": [
          493,
          552,
          503,
          377,
          547,
          407,
          360,
          428,
          416,
          406,
          360,
          527,
          423,
          545,
          463
         ],
         "yaxis": "y"
        }
       ],
       "layout": {
        "legend": {
         "title": {
          "text": "Id"
         },
         "tracegroupgap": 0
        },
        "margin": {
         "t": 60
        },
        "template": {
         "data": {
          "bar": [
           {
            "error_x": {
             "color": "#2a3f5f"
            },
            "error_y": {
             "color": "#2a3f5f"
            },
            "marker": {
             "line": {
              "color": "#E5ECF6",
              "width": 0.5
             },
             "pattern": {
              "fillmode": "overlay",
              "size": 10,
              "solidity": 0.2
             }
            },
            "type": "bar"
           }
          ],
          "barpolar": [
           {
            "marker": {
             "line": {
              "color": "#E5ECF6",
              "width": 0.5
             },
             "pattern": {
              "fillmode": "overlay",
              "size": 10,
              "solidity": 0.2
             }
            },
            "type": "barpolar"
           }
          ],
          "carpet": [
           {
            "aaxis": {
             "endlinecolor": "#2a3f5f",
             "gridcolor": "white",
             "linecolor": "white",
             "minorgridcolor": "white",
             "startlinecolor": "#2a3f5f"
            },
            "baxis": {
             "endlinecolor": "#2a3f5f",
             "gridcolor": "white",
             "linecolor": "white",
             "minorgridcolor": "white",
             "startlinecolor": "#2a3f5f"
            },
            "type": "carpet"
           }
          ],
          "choropleth": [
           {
            "colorbar": {
             "outlinewidth": 0,
             "ticks": ""
            },
            "type": "choropleth"
           }
          ],
          "contour": [
           {
            "colorbar": {
             "outlinewidth": 0,
             "ticks": ""
            },
            "colorscale": [
             [
              0,
              "#0d0887"
             ],
             [
              0.1111111111111111,
              "#46039f"
             ],
             [
              0.2222222222222222,
              "#7201a8"
             ],
             [
              0.3333333333333333,
              "#9c179e"
             ],
             [
              0.4444444444444444,
              "#bd3786"
             ],
             [
              0.5555555555555556,
              "#d8576b"
             ],
             [
              0.6666666666666666,
              "#ed7953"
             ],
             [
              0.7777777777777778,
              "#fb9f3a"
             ],
             [
              0.8888888888888888,
              "#fdca26"
             ],
             [
              1,
              "#f0f921"
             ]
            ],
            "type": "contour"
           }
          ],
          "contourcarpet": [
           {
            "colorbar": {
             "outlinewidth": 0,
             "ticks": ""
            },
            "type": "contourcarpet"
           }
          ],
          "heatmap": [
           {
            "colorbar": {
             "outlinewidth": 0,
             "ticks": ""
            },
            "colorscale": [
             [
              0,
              "#0d0887"
             ],
             [
              0.1111111111111111,
              "#46039f"
             ],
             [
              0.2222222222222222,
              "#7201a8"
             ],
             [
              0.3333333333333333,
              "#9c179e"
             ],
             [
              0.4444444444444444,
              "#bd3786"
             ],
             [
              0.5555555555555556,
              "#d8576b"
             ],
             [
              0.6666666666666666,
              "#ed7953"
             ],
             [
              0.7777777777777778,
              "#fb9f3a"
             ],
             [
              0.8888888888888888,
              "#fdca26"
             ],
             [
              1,
              "#f0f921"
             ]
            ],
            "type": "heatmap"
           }
          ],
          "heatmapgl": [
           {
            "colorbar": {
             "outlinewidth": 0,
             "ticks": ""
            },
            "colorscale": [
             [
              0,
              "#0d0887"
             ],
             [
              0.1111111111111111,
              "#46039f"
             ],
             [
              0.2222222222222222,
              "#7201a8"
             ],
             [
              0.3333333333333333,
              "#9c179e"
             ],
             [
              0.4444444444444444,
              "#bd3786"
             ],
             [
              0.5555555555555556,
              "#d8576b"
             ],
             [
              0.6666666666666666,
              "#ed7953"
             ],
             [
              0.7777777777777778,
              "#fb9f3a"
             ],
             [
              0.8888888888888888,
              "#fdca26"
             ],
             [
              1,
              "#f0f921"
             ]
            ],
            "type": "heatmapgl"
           }
          ],
          "histogram": [
           {
            "marker": {
             "pattern": {
              "fillmode": "overlay",
              "size": 10,
              "solidity": 0.2
             }
            },
            "type": "histogram"
           }
          ],
          "histogram2d": [
           {
            "colorbar": {
             "outlinewidth": 0,
             "ticks": ""
            },
            "colorscale": [
             [
              0,
              "#0d0887"
             ],
             [
              0.1111111111111111,
              "#46039f"
             ],
             [
              0.2222222222222222,
              "#7201a8"
             ],
             [
              0.3333333333333333,
              "#9c179e"
             ],
             [
              0.4444444444444444,
              "#bd3786"
             ],
             [
              0.5555555555555556,
              "#d8576b"
             ],
             [
              0.6666666666666666,
              "#ed7953"
             ],
             [
              0.7777777777777778,
              "#fb9f3a"
             ],
             [
              0.8888888888888888,
              "#fdca26"
             ],
             [
              1,
              "#f0f921"
             ]
            ],
            "type": "histogram2d"
           }
          ],
          "histogram2dcontour": [
           {
            "colorbar": {
             "outlinewidth": 0,
             "ticks": ""
            },
            "colorscale": [
             [
              0,
              "#0d0887"
             ],
             [
              0.1111111111111111,
              "#46039f"
             ],
             [
              0.2222222222222222,
              "#7201a8"
             ],
             [
              0.3333333333333333,
              "#9c179e"
             ],
             [
              0.4444444444444444,
              "#bd3786"
             ],
             [
              0.5555555555555556,
              "#d8576b"
             ],
             [
              0.6666666666666666,
              "#ed7953"
             ],
             [
              0.7777777777777778,
              "#fb9f3a"
             ],
             [
              0.8888888888888888,
              "#fdca26"
             ],
             [
              1,
              "#f0f921"
             ]
            ],
            "type": "histogram2dcontour"
           }
          ],
          "mesh3d": [
           {
            "colorbar": {
             "outlinewidth": 0,
             "ticks": ""
            },
            "type": "mesh3d"
           }
          ],
          "parcoords": [
           {
            "line": {
             "colorbar": {
              "outlinewidth": 0,
              "ticks": ""
             }
            },
            "type": "parcoords"
           }
          ],
          "pie": [
           {
            "automargin": true,
            "type": "pie"
           }
          ],
          "scatter": [
           {
            "fillpattern": {
             "fillmode": "overlay",
             "size": 10,
             "solidity": 0.2
            },
            "type": "scatter"
           }
          ],
          "scatter3d": [
           {
            "line": {
             "colorbar": {
              "outlinewidth": 0,
              "ticks": ""
             }
            },
            "marker": {
             "colorbar": {
              "outlinewidth": 0,
              "ticks": ""
             }
            },
            "type": "scatter3d"
           }
          ],
          "scattercarpet": [
           {
            "marker": {
             "colorbar": {
              "outlinewidth": 0,
              "ticks": ""
             }
            },
            "type": "scattercarpet"
           }
          ],
          "scattergeo": [
           {
            "marker": {
             "colorbar": {
              "outlinewidth": 0,
              "ticks": ""
             }
            },
            "type": "scattergeo"
           }
          ],
          "scattergl": [
           {
            "marker": {
             "colorbar": {
              "outlinewidth": 0,
              "ticks": ""
             }
            },
            "type": "scattergl"
           }
          ],
          "scattermapbox": [
           {
            "marker": {
             "colorbar": {
              "outlinewidth": 0,
              "ticks": ""
             }
            },
            "type": "scattermapbox"
           }
          ],
          "scatterpolar": [
           {
            "marker": {
             "colorbar": {
              "outlinewidth": 0,
              "ticks": ""
             }
            },
            "type": "scatterpolar"
           }
          ],
          "scatterpolargl": [
           {
            "marker": {
             "colorbar": {
              "outlinewidth": 0,
              "ticks": ""
             }
            },
            "type": "scatterpolargl"
           }
          ],
          "scatterternary": [
           {
            "marker": {
             "colorbar": {
              "outlinewidth": 0,
              "ticks": ""
             }
            },
            "type": "scatterternary"
           }
          ],
          "surface": [
           {
            "colorbar": {
             "outlinewidth": 0,
             "ticks": ""
            },
            "colorscale": [
             [
              0,
              "#0d0887"
             ],
             [
              0.1111111111111111,
              "#46039f"
             ],
             [
              0.2222222222222222,
              "#7201a8"
             ],
             [
              0.3333333333333333,
              "#9c179e"
             ],
             [
              0.4444444444444444,
              "#bd3786"
             ],
             [
              0.5555555555555556,
              "#d8576b"
             ],
             [
              0.6666666666666666,
              "#ed7953"
             ],
             [
              0.7777777777777778,
              "#fb9f3a"
             ],
             [
              0.8888888888888888,
              "#fdca26"
             ],
             [
              1,
              "#f0f921"
             ]
            ],
            "type": "surface"
           }
          ],
          "table": [
           {
            "cells": {
             "fill": {
              "color": "#EBF0F8"
             },
             "line": {
              "color": "white"
             }
            },
            "header": {
             "fill": {
              "color": "#C8D4E3"
             },
             "line": {
              "color": "white"
             }
            },
            "type": "table"
           }
          ]
         },
         "layout": {
          "annotationdefaults": {
           "arrowcolor": "#2a3f5f",
           "arrowhead": 0,
           "arrowwidth": 1
          },
          "autotypenumbers": "strict",
          "coloraxis": {
           "colorbar": {
            "outlinewidth": 0,
            "ticks": ""
           }
          },
          "colorscale": {
           "diverging": [
            [
             0,
             "#8e0152"
            ],
            [
             0.1,
             "#c51b7d"
            ],
            [
             0.2,
             "#de77ae"
            ],
            [
             0.3,
             "#f1b6da"
            ],
            [
             0.4,
             "#fde0ef"
            ],
            [
             0.5,
             "#f7f7f7"
            ],
            [
             0.6,
             "#e6f5d0"
            ],
            [
             0.7,
             "#b8e186"
            ],
            [
             0.8,
             "#7fbc41"
            ],
            [
             0.9,
             "#4d9221"
            ],
            [
             1,
             "#276419"
            ]
           ],
           "sequential": [
            [
             0,
             "#0d0887"
            ],
            [
             0.1111111111111111,
             "#46039f"
            ],
            [
             0.2222222222222222,
             "#7201a8"
            ],
            [
             0.3333333333333333,
             "#9c179e"
            ],
            [
             0.4444444444444444,
             "#bd3786"
            ],
            [
             0.5555555555555556,
             "#d8576b"
            ],
            [
             0.6666666666666666,
             "#ed7953"
            ],
            [
             0.7777777777777778,
             "#fb9f3a"
            ],
            [
             0.8888888888888888,
             "#fdca26"
            ],
            [
             1,
             "#f0f921"
            ]
           ],
           "sequentialminus": [
            [
             0,
             "#0d0887"
            ],
            [
             0.1111111111111111,
             "#46039f"
            ],
            [
             0.2222222222222222,
             "#7201a8"
            ],
            [
             0.3333333333333333,
             "#9c179e"
            ],
            [
             0.4444444444444444,
             "#bd3786"
            ],
            [
             0.5555555555555556,
             "#d8576b"
            ],
            [
             0.6666666666666666,
             "#ed7953"
            ],
            [
             0.7777777777777778,
             "#fb9f3a"
            ],
            [
             0.8888888888888888,
             "#fdca26"
            ],
            [
             1,
             "#f0f921"
            ]
           ]
          },
          "colorway": [
           "#636efa",
           "#EF553B",
           "#00cc96",
           "#ab63fa",
           "#FFA15A",
           "#19d3f3",
           "#FF6692",
           "#B6E880",
           "#FF97FF",
           "#FECB52"
          ],
          "font": {
           "color": "#2a3f5f"
          },
          "geo": {
           "bgcolor": "white",
           "lakecolor": "white",
           "landcolor": "#E5ECF6",
           "showlakes": true,
           "showland": true,
           "subunitcolor": "white"
          },
          "hoverlabel": {
           "align": "left"
          },
          "hovermode": "closest",
          "mapbox": {
           "style": "light"
          },
          "paper_bgcolor": "white",
          "plot_bgcolor": "#E5ECF6",
          "polar": {
           "angularaxis": {
            "gridcolor": "white",
            "linecolor": "white",
            "ticks": ""
           },
           "bgcolor": "#E5ECF6",
           "radialaxis": {
            "gridcolor": "white",
            "linecolor": "white",
            "ticks": ""
           }
          },
          "scene": {
           "xaxis": {
            "backgroundcolor": "#E5ECF6",
            "gridcolor": "white",
            "gridwidth": 2,
            "linecolor": "white",
            "showbackground": true,
            "ticks": "",
            "zerolinecolor": "white"
           },
           "yaxis": {
            "backgroundcolor": "#E5ECF6",
            "gridcolor": "white",
            "gridwidth": 2,
            "linecolor": "white",
            "showbackground": true,
            "ticks": "",
            "zerolinecolor": "white"
           },
           "zaxis": {
            "backgroundcolor": "#E5ECF6",
            "gridcolor": "white",
            "gridwidth": 2,
            "linecolor": "white",
            "showbackground": true,
            "ticks": "",
            "zerolinecolor": "white"
           }
          },
          "shapedefaults": {
           "line": {
            "color": "#2a3f5f"
           }
          },
          "ternary": {
           "aaxis": {
            "gridcolor": "white",
            "linecolor": "white",
            "ticks": ""
           },
           "baxis": {
            "gridcolor": "white",
            "linecolor": "white",
            "ticks": ""
           },
           "bgcolor": "#E5ECF6",
           "caxis": {
            "gridcolor": "white",
            "linecolor": "white",
            "ticks": ""
           }
          },
          "title": {
           "x": 0.05
          },
          "xaxis": {
           "automargin": true,
           "gridcolor": "white",
           "linecolor": "white",
           "ticks": "",
           "title": {
            "standoff": 15
           },
           "zerolinecolor": "white",
           "zerolinewidth": 2
          },
          "yaxis": {
           "automargin": true,
           "gridcolor": "white",
           "linecolor": "white",
           "ticks": "",
           "title": {
            "standoff": 15
           },
           "zerolinecolor": "white",
           "zerolinewidth": 2
          }
         }
        },
        "xaxis": {
         "anchor": "y",
         "domain": [
          0,
          1
         ],
         "title": {
          "text": "Calories"
         }
        },
        "yaxis": {
         "anchor": "x",
         "domain": [
          0,
          1
         ],
         "title": {
          "text": "TotalTimeInBed"
         }
        }
       }
      }
     },
     "metadata": {},
     "output_type": "display_data"
    }
   ],
   "source": [
    "# df_ecdf = df[df[\"Calories\"].isin([\"DOG\",\"CAT\"])]\n",
    "meged_active_sleep_gp = meged_active_sleep.groupby(['Id','Day'])[['TotalTimeInBed', 'Calories']].size()\n",
    "fig_ecdf = px.line(meged_active_sleep, x=\"Calories\", y=\"TotalTimeInBed\", color=\"Id\", markers=True)\n",
    "fig_ecdf"
   ]
  },
  {
   "cell_type": "code",
   "execution_count": 85,
   "metadata": {},
   "outputs": [
    {
     "data": {
      "text/html": [
       "<div>\n",
       "<style scoped>\n",
       "    .dataframe tbody tr th:only-of-type {\n",
       "        vertical-align: middle;\n",
       "    }\n",
       "\n",
       "    .dataframe tbody tr th {\n",
       "        vertical-align: top;\n",
       "    }\n",
       "\n",
       "    .dataframe thead th {\n",
       "        text-align: right;\n",
       "    }\n",
       "</style>\n",
       "<table border=\"1\" class=\"dataframe\">\n",
       "  <thead>\n",
       "    <tr style=\"text-align: right;\">\n",
       "      <th></th>\n",
       "      <th>Id</th>\n",
       "      <th>TotalSteps</th>\n",
       "      <th>VeryActiveMinutes</th>\n",
       "      <th>FairlyActiveMinutes</th>\n",
       "      <th>LightlyActiveMinutes</th>\n",
       "      <th>SedentaryMinutes</th>\n",
       "      <th>Calories</th>\n",
       "      <th>ActivityDate</th>\n",
       "      <th>Time_str</th>\n",
       "    </tr>\n",
       "  </thead>\n",
       "  <tbody>\n",
       "    <tr>\n",
       "      <th>0</th>\n",
       "      <td>1503960366</td>\n",
       "      <td>13162</td>\n",
       "      <td>25</td>\n",
       "      <td>13</td>\n",
       "      <td>328</td>\n",
       "      <td>728</td>\n",
       "      <td>1985</td>\n",
       "      <td>2016-04-12</td>\n",
       "      <td>2016-04-12</td>\n",
       "    </tr>\n",
       "    <tr>\n",
       "      <th>1</th>\n",
       "      <td>1503960366</td>\n",
       "      <td>10735</td>\n",
       "      <td>21</td>\n",
       "      <td>19</td>\n",
       "      <td>217</td>\n",
       "      <td>776</td>\n",
       "      <td>1797</td>\n",
       "      <td>2016-04-13</td>\n",
       "      <td>2016-04-13</td>\n",
       "    </tr>\n",
       "    <tr>\n",
       "      <th>2</th>\n",
       "      <td>1503960366</td>\n",
       "      <td>10460</td>\n",
       "      <td>30</td>\n",
       "      <td>11</td>\n",
       "      <td>181</td>\n",
       "      <td>1218</td>\n",
       "      <td>1776</td>\n",
       "      <td>2016-04-14</td>\n",
       "      <td>2016-04-14</td>\n",
       "    </tr>\n",
       "    <tr>\n",
       "      <th>3</th>\n",
       "      <td>1503960366</td>\n",
       "      <td>9762</td>\n",
       "      <td>29</td>\n",
       "      <td>34</td>\n",
       "      <td>209</td>\n",
       "      <td>726</td>\n",
       "      <td>1745</td>\n",
       "      <td>2016-04-15</td>\n",
       "      <td>2016-04-15</td>\n",
       "    </tr>\n",
       "    <tr>\n",
       "      <th>4</th>\n",
       "      <td>1503960366</td>\n",
       "      <td>12669</td>\n",
       "      <td>36</td>\n",
       "      <td>10</td>\n",
       "      <td>221</td>\n",
       "      <td>773</td>\n",
       "      <td>1863</td>\n",
       "      <td>2016-04-16</td>\n",
       "      <td>2016-04-16</td>\n",
       "    </tr>\n",
       "    <tr>\n",
       "      <th>...</th>\n",
       "      <td>...</td>\n",
       "      <td>...</td>\n",
       "      <td>...</td>\n",
       "      <td>...</td>\n",
       "      <td>...</td>\n",
       "      <td>...</td>\n",
       "      <td>...</td>\n",
       "      <td>...</td>\n",
       "      <td>...</td>\n",
       "    </tr>\n",
       "    <tr>\n",
       "      <th>935</th>\n",
       "      <td>8877689391</td>\n",
       "      <td>10686</td>\n",
       "      <td>17</td>\n",
       "      <td>4</td>\n",
       "      <td>245</td>\n",
       "      <td>1174</td>\n",
       "      <td>2847</td>\n",
       "      <td>2016-05-08</td>\n",
       "      <td>2016-05-08</td>\n",
       "    </tr>\n",
       "    <tr>\n",
       "      <th>936</th>\n",
       "      <td>8877689391</td>\n",
       "      <td>20226</td>\n",
       "      <td>73</td>\n",
       "      <td>19</td>\n",
       "      <td>217</td>\n",
       "      <td>1131</td>\n",
       "      <td>3710</td>\n",
       "      <td>2016-05-09</td>\n",
       "      <td>2016-05-09</td>\n",
       "    </tr>\n",
       "    <tr>\n",
       "      <th>937</th>\n",
       "      <td>8877689391</td>\n",
       "      <td>10733</td>\n",
       "      <td>18</td>\n",
       "      <td>11</td>\n",
       "      <td>224</td>\n",
       "      <td>1187</td>\n",
       "      <td>2832</td>\n",
       "      <td>2016-05-10</td>\n",
       "      <td>2016-05-10</td>\n",
       "    </tr>\n",
       "    <tr>\n",
       "      <th>938</th>\n",
       "      <td>8877689391</td>\n",
       "      <td>21420</td>\n",
       "      <td>88</td>\n",
       "      <td>12</td>\n",
       "      <td>213</td>\n",
       "      <td>1127</td>\n",
       "      <td>3832</td>\n",
       "      <td>2016-05-11</td>\n",
       "      <td>2016-05-11</td>\n",
       "    </tr>\n",
       "    <tr>\n",
       "      <th>939</th>\n",
       "      <td>8877689391</td>\n",
       "      <td>8064</td>\n",
       "      <td>23</td>\n",
       "      <td>1</td>\n",
       "      <td>137</td>\n",
       "      <td>770</td>\n",
       "      <td>1849</td>\n",
       "      <td>2016-05-12</td>\n",
       "      <td>2016-05-12</td>\n",
       "    </tr>\n",
       "  </tbody>\n",
       "</table>\n",
       "<p>940 rows × 9 columns</p>\n",
       "</div>"
      ],
      "text/plain": [
       "             Id  TotalSteps  VeryActiveMinutes  FairlyActiveMinutes  \\\n",
       "0    1503960366       13162                 25                   13   \n",
       "1    1503960366       10735                 21                   19   \n",
       "2    1503960366       10460                 30                   11   \n",
       "3    1503960366        9762                 29                   34   \n",
       "4    1503960366       12669                 36                   10   \n",
       "..          ...         ...                ...                  ...   \n",
       "935  8877689391       10686                 17                    4   \n",
       "936  8877689391       20226                 73                   19   \n",
       "937  8877689391       10733                 18                   11   \n",
       "938  8877689391       21420                 88                   12   \n",
       "939  8877689391        8064                 23                    1   \n",
       "\n",
       "     LightlyActiveMinutes  SedentaryMinutes  Calories ActivityDate    Time_str  \n",
       "0                     328               728      1985   2016-04-12  2016-04-12  \n",
       "1                     217               776      1797   2016-04-13  2016-04-13  \n",
       "2                     181              1218      1776   2016-04-14  2016-04-14  \n",
       "3                     209               726      1745   2016-04-15  2016-04-15  \n",
       "4                     221               773      1863   2016-04-16  2016-04-16  \n",
       "..                    ...               ...       ...          ...         ...  \n",
       "935                   245              1174      2847   2016-05-08  2016-05-08  \n",
       "936                   217              1131      3710   2016-05-09  2016-05-09  \n",
       "937                   224              1187      2832   2016-05-10  2016-05-10  \n",
       "938                   213              1127      3832   2016-05-11  2016-05-11  \n",
       "939                   137               770      1849   2016-05-12  2016-05-12  \n",
       "\n",
       "[940 rows x 9 columns]"
      ]
     },
     "execution_count": 85,
     "metadata": {},
     "output_type": "execute_result"
    }
   ],
   "source": [
    "df"
   ]
  },
  {
   "cell_type": "code",
   "execution_count": 95,
   "metadata": {},
   "outputs": [
    {
     "name": "stdout",
     "output_type": "stream",
     "text": [
      "Dash is running on http://127.0.0.1:8050/\n",
      "\n",
      "Dash is running on http://127.0.0.1:8050/\n",
      "\n",
      "Dash is running on http://127.0.0.1:8050/\n",
      "\n",
      "Dash is running on http://127.0.0.1:8050/\n",
      "\n",
      "Dash is running on http://127.0.0.1:8050/\n",
      "\n",
      "Dash is running on http://127.0.0.1:8050/\n",
      "\n",
      "Dash is running on http://127.0.0.1:8050/\n",
      "\n",
      "Dash is running on http://127.0.0.1:8050/\n",
      "\n",
      "Dash is running on http://127.0.0.1:8050/\n",
      "\n",
      "Dash is running on http://127.0.0.1:8050/\n",
      "\n",
      "Dash is running on http://127.0.0.1:8050/\n",
      "\n",
      "Dash is running on http://127.0.0.1:8050/\n",
      "\n",
      "Dash is running on http://127.0.0.1:8050/\n",
      "\n",
      "Dash is running on http://127.0.0.1:8050/\n",
      "\n",
      "Dash is running on http://127.0.0.1:8050/\n",
      "\n",
      "Dash is running on http://127.0.0.1:8050/\n",
      "\n",
      "Dash is running on http://127.0.0.1:8050/\n",
      "\n",
      "Dash is running on http://127.0.0.1:8050/\n",
      "\n",
      "Dash is running on http://127.0.0.1:8050/\n",
      "\n",
      "Dash is running on http://127.0.0.1:8050/\n",
      "\n",
      "Dash is running on http://127.0.0.1:8050/\n",
      "\n",
      "Dash is running on http://127.0.0.1:8050/\n",
      "\n",
      "Dash is running on http://127.0.0.1:8050/\n",
      "\n",
      "Dash is running on http://127.0.0.1:8050/\n",
      "\n",
      "Dash is running on http://127.0.0.1:8050/\n",
      "\n",
      "Dash is running on http://127.0.0.1:8050/\n",
      "\n",
      "Dash is running on http://127.0.0.1:8050/\n",
      "\n",
      "Dash is running on http://127.0.0.1:8050/\n",
      "\n",
      "Dash is running on http://127.0.0.1:8050/\n",
      "\n",
      "Dash is running on http://127.0.0.1:8050/\n",
      "\n",
      " * Serving Flask app \"__main__\" (lazy loading)\n",
      " * Environment: production\n",
      "   WARNING: This is a development server. Do not use it in a production deployment.\n",
      "   Use a production WSGI server instead.\n",
      " * Debug mode: off\n"
     ]
    },
    {
     "name": "stderr",
     "output_type": "stream",
     "text": [
      " * Running on http://127.0.0.1:8050/ (Press CTRL+C to quit)\n",
      "127.0.0.1 - - [26/May/2022 11:40:31] \"\u001b[37mGET / HTTP/1.1\u001b[0m\" 200 -\n",
      "127.0.0.1 - - [26/May/2022 11:40:32] \"\u001b[37mGET /_dash-layout HTTP/1.1\u001b[0m\" 200 -\n",
      "127.0.0.1 - - [26/May/2022 11:40:32] \"\u001b[37mGET /_dash-dependencies HTTP/1.1\u001b[0m\" 200 -\n",
      "127.0.0.1 - - [26/May/2022 11:40:32] \"\u001b[36mGET /_dash-component-suites/dash/dcc/async-dropdown.js HTTP/1.1\u001b[0m\" 304 -\n",
      "127.0.0.1 - - [26/May/2022 11:40:32] \"\u001b[37mGET /_favicon.ico?v=2.4.1 HTTP/1.1\u001b[0m\" 200 -\n",
      "127.0.0.1 - - [26/May/2022 11:40:34] \"\u001b[37mPOST /_dash-update-component HTTP/1.1\u001b[0m\" 200 -\n",
      "127.0.0.1 - - [26/May/2022 11:40:34] \"\u001b[37mPOST /_dash-update-component HTTP/1.1\u001b[0m\" 200 -\n",
      "127.0.0.1 - - [26/May/2022 11:40:34] \"\u001b[36mGET /_dash-component-suites/dash/dcc/async-graph.js HTTP/1.1\u001b[0m\" 304 -\n",
      "127.0.0.1 - - [26/May/2022 11:40:34] \"\u001b[36mGET /_dash-component-suites/dash/dcc/async-plotlyjs.js HTTP/1.1\u001b[0m\" 304 -\n",
      "<ipython-input-95-ccaf709c57d1>:37: SettingWithCopyWarning:\n",
      "\n",
      "\n",
      "A value is trying to be set on a copy of a slice from a DataFrame.\n",
      "Try using .loc[row_indexer,col_indexer] = value instead\n",
      "\n",
      "See the caveats in the documentation: https://pandas.pydata.org/pandas-docs/stable/user_guide/indexing.html#returning-a-view-versus-a-copy\n",
      "\n",
      "127.0.0.1 - - [26/May/2022 11:40:36] \"\u001b[37mPOST /_dash-update-component HTTP/1.1\u001b[0m\" 200 -\n",
      "127.0.0.1 - - [26/May/2022 11:40:39] \"\u001b[37mPOST /_dash-update-component HTTP/1.1\u001b[0m\" 200 -\n",
      "<ipython-input-95-ccaf709c57d1>:37: SettingWithCopyWarning:\n",
      "\n",
      "\n",
      "A value is trying to be set on a copy of a slice from a DataFrame.\n",
      "Try using .loc[row_indexer,col_indexer] = value instead\n",
      "\n",
      "See the caveats in the documentation: https://pandas.pydata.org/pandas-docs/stable/user_guide/indexing.html#returning-a-view-versus-a-copy\n",
      "\n",
      "127.0.0.1 - - [26/May/2022 11:40:48] \"\u001b[37mPOST /_dash-update-component HTTP/1.1\u001b[0m\" 200 -\n",
      "<ipython-input-95-ccaf709c57d1>:37: SettingWithCopyWarning:\n",
      "\n",
      "\n",
      "A value is trying to be set on a copy of a slice from a DataFrame.\n",
      "Try using .loc[row_indexer,col_indexer] = value instead\n",
      "\n",
      "See the caveats in the documentation: https://pandas.pydata.org/pandas-docs/stable/user_guide/indexing.html#returning-a-view-versus-a-copy\n",
      "\n",
      "127.0.0.1 - - [26/May/2022 11:40:53] \"\u001b[37mPOST /_dash-update-component HTTP/1.1\u001b[0m\" 200 -\n",
      "<ipython-input-95-ccaf709c57d1>:37: SettingWithCopyWarning:\n",
      "\n",
      "\n",
      "A value is trying to be set on a copy of a slice from a DataFrame.\n",
      "Try using .loc[row_indexer,col_indexer] = value instead\n",
      "\n",
      "See the caveats in the documentation: https://pandas.pydata.org/pandas-docs/stable/user_guide/indexing.html#returning-a-view-versus-a-copy\n",
      "\n",
      "127.0.0.1 - - [26/May/2022 11:41:00] \"\u001b[37mPOST /_dash-update-component HTTP/1.1\u001b[0m\" 200 -\n",
      "127.0.0.1 - - [26/May/2022 11:41:04] \"\u001b[37mPOST /_dash-update-component HTTP/1.1\u001b[0m\" 200 -\n",
      "<ipython-input-95-ccaf709c57d1>:37: SettingWithCopyWarning:\n",
      "\n",
      "\n",
      "A value is trying to be set on a copy of a slice from a DataFrame.\n",
      "Try using .loc[row_indexer,col_indexer] = value instead\n",
      "\n",
      "See the caveats in the documentation: https://pandas.pydata.org/pandas-docs/stable/user_guide/indexing.html#returning-a-view-versus-a-copy\n",
      "\n",
      "127.0.0.1 - - [26/May/2022 11:41:08] \"\u001b[37mPOST /_dash-update-component HTTP/1.1\u001b[0m\" 200 -\n"
     ]
    }
   ],
   "source": [
    "           # pip install pandas\n",
    "\n",
    "external_stylesheets = ['https://codepen.io/chriddyp/pen/bWLwgP.css']\n",
    "app = dash.Dash(__name__, external_stylesheets=external_stylesheets)\n",
    "\n",
    "app.layout = html.Div([\n",
    "    html.H1(\"What does the Body reveal\", style={\"textAlign\":\"center\"}),\n",
    "    html.Hr(),\n",
    "    html.P(\"Choose Person of interest:\"),\n",
    "    html.Div(html.Div([\n",
    "        dcc.Dropdown(id='Participant-type', clearable=False,\n",
    "                     value=\"Std\",\n",
    "                     options=[{'label': x, 'value': x} for x in\n",
    "                              df[\"Id\"].unique()]),\n",
    "    ],className=\"two columns\"),className=\"row\"),\n",
    "\n",
    "    html.Div(id=\"output-div\", children=[]),\n",
    "])\n",
    "\n",
    "\n",
    "@app.callback(Output(component_id=\"output-div\", component_property=\"children\"),\n",
    "              Input(component_id=\"Participant-type\", component_property=\"value\"),\n",
    ")\n",
    "def make_graphs(Participant_chosen):\n",
    "    # HISTOGRAM\n",
    "\n",
    "    df_hist = df[df[\"Id\"]==Participant_chosen].copy()\n",
    "    # df_hist_group_day = df_hist.groupby(['Day', 'Id']).mean()\n",
    "    fig_hist = px.histogram(df_hist, x=\"TotalSteps\", color=\"day_of_week\")\n",
    "    fig_hist.update_xaxes(categoryorder=\"total descending\")\n",
    "\n",
    "\n",
    "    # # Scatter CHART \n",
    "    sleepActive = meged_active_sleep.copy()\n",
    "    \n",
    "    sleepActive_par = sleepActive[sleepActive.Id ==Participant_chosen]\n",
    "    sleepActive_par['Id'] = sleepActive_par['Id'].astype('str')\n",
    "    fig_strip= px.scatter(sleepActive_par, x = 'TotalTimeInBed', y = 'SedentaryMinutes',symbol = 'Id',color = 'Id', marginal_x='histogram',marginal_y = 'box' ,trendline  ='ols', height  =600, title ='Sedentary Minutes vs Total time In Bed')\n",
    "\n",
    "    # Line per participant with calories\n",
    "    fig_ecdf = px.line(sleepActive_par, x=\"TotalTimeInBed\", y=\"Calories\", color=\"Id\", markers=True)\n",
    "\n",
    "\n",
    "    # Scatter General All Participants\n",
    "    sleepActive_general = meged_active_sleep.copy()\n",
    "    sleepActive_general['Id'] = sleepActive_general['Id'].astype('str')\n",
    "\n",
    "    scatterGeneral= px.scatter(sleepActive_general, x = 'TotalTimeInBed', y = 'SedentaryMinutes',symbol = 'Id',color = 'Id', marginal_x='histogram',marginal_y = 'box' ,trendline  ='ols', height  =600, title ='Sedentary Minutes vs Total time In Bed')\n",
    "\n",
    "    # # SUNBURST\n",
    "    # df_sburst = df.dropna(subset=['chip_status'])\n",
    "    # df_sburst = df_sburst[df_sburst[\"intake_type\"].isin([\"STRAY\", \"FOSTER\", \"OWNER SURRENDER\"])]\n",
    "    # fig_sunburst = px.sunburst(df_sburst, path=[\"Participant_type\", \"intake_type\", \"chip_status\"])\n",
    "\n",
    "    # # Empirical Cumulative Distribution\n",
    "    # df_ecdf = df[df[\"Participant_type\"].isin([\"DOG\",\"CAT\"])]\n",
    "    # fig_ecdf = px.ecdf(df_ecdf, x=\"TotalTimeInBed\", color=\"Std\")\n",
    "\n",
    "    # # LINE CHART\n",
    "    # df_line = df.sort_values(by=[\"intake_time\"], ascending=True)\n",
    "    # df_line = df_line.groupby(\n",
    "    #     [\"intake_time\", \"Participant_type\"]).size().reset_index(name=\"count\")\n",
    "    # print(df_line.head())\n",
    "    # fig_line = px.line(df_line, x=\"intake_time\", y=\"count\",\n",
    "    #                    color=\"Participant_type\", markers=True)\n",
    "\n",
    "    return [\n",
    "\n",
    "        html.H2(\"Selected Participants\", style={\"textAlign\":\"center\"}),\n",
    "        html.Hr(),\n",
    "            html.Div([\n",
    "            html.Div([dcc.Graph(figure=fig_hist)], className=\"four columns\"),\n",
    "            html.Div([dcc.Graph(figure=fig_strip)], className=\"four columns\"),\n",
    "            html.Div([dcc.Graph(figure=fig_ecdf)], className=\"four columns\"),\n",
    "        ], className=\"row\"),\n",
    "\n",
    "        html.H2(\"All Participants\", style={\"textAlign\":\"center\"}),\n",
    "            html.Div([\n",
    "            html.Div([dcc.Graph(figure=scatterGeneral)], className=\"six columns\"),\n",
    "            # html.Div([dcc.Graph(figure=fig_ecdf)], className=\"six columns\"),\n",
    "        ], className=\"row\"),\n",
    "\n",
    "    ]\n",
    "\n",
    "\n",
    "if __name__ == '__main__':\n",
    "    app.run_server(debug=False)\n"
   ]
  },
  {
   "cell_type": "code",
   "execution_count": 121,
   "metadata": {},
   "outputs": [],
   "source": [
    "from jupyter_dash import JupyterDash     # pip install dash   \n",
    "import dash_html_components as html\n",
    "import dash_core_components as dcc\n",
    "from dash.dependencies import Output, Input\n",
    "\n",
    "from dash_extensions import Lottie       # pip install dash-extensions\n",
    "import dash_bootstrap_components as dbc  # pip install dash-bootstrap-components\n",
    "import plotly.express as px              # pip install plotly\n",
    "import pandas as pd                      # pip install pandas\n",
    "from datetime import date\n",
    "import calendar\n",
    "from wordcloud import WordCloud          # pip install wordcloud\n",
    "\n",
    "\n",
    "# Lottie by Emil - https://github.com/thedirtyfew/dash-extensions\n",
    "url_coonections = \"https://assets9.lottiefiles.com/private_files/lf30_5ttqPi.json\"\n",
    "url_companies = \"https://assets9.lottiefiles.com/packages/lf20_EzPrWM.json\"\n",
    "url_msg_in = \"https://assets9.lottiefiles.com/packages/lf20_8wREpI.json\"\n",
    "url_msg_out = \"https://assets2.lottiefiles.com/packages/lf20_Cc8Bpg.json\"\n",
    "url_reactions = \"https://assets2.lottiefiles.com/packages/lf20_nKwET0.json\"\n",
    "options = dict(loop=True, autoplay=True, rendererSettings=dict(preserveAspectRatio='xMidYMid slice'))\n",
    "\n",
    "\n",
    "# Bootstrap themes by Ann: https://hellodash.pythonanywhere.com/theme_explorer\n",
    "app = JupyterDash(__name__, external_stylesheets=[dbc.themes.LUX])\n",
    "\n",
    "app.layout = dbc.Container([\n",
    "    dbc.Row([\n",
    "        dbc.Col([\n",
    "            dbc.Card([\n",
    "                dbc.CardImg(src='D:/github_/DataAnalysisCourse/Idan/PcturesWeb/fitbit.jpg') # 150px by 45px\n",
    "            ],className='mb-2'),\n",
    "            dbc.Card([\n",
    "                dbc.CardBody([\n",
    "                    dbc.CardLink(\"Charming Data\", target=\"_blank\",\n",
    "                                 href=\"https://youtube.com/charmingdata\"\n",
    "                    )\n",
    "                ])\n",
    "            ]),\n",
    "        ], width=2),\n",
    "        dbc.Col([\n",
    "            dbc.Card([\n",
    "                dbc.CardBody([\n",
    "                    dcc.DatePickerSingle(\n",
    "                        id='my-date-picker-start',\n",
    "                        date=date(2018, 1, 1),\n",
    "                        className='ml-5'\n",
    "                    ),\n",
    "                    dcc.DatePickerSingle(\n",
    "                        id='my-date-picker-end',\n",
    "                        date=date(2021, 4, 4),\n",
    "                        className='mb-2 ml-2'\n",
    "                    ),\n",
    "                ])\n",
    "            ], color=\"info\"),\n",
    "        ], width=8),\n",
    "    ],className='mb-2 mt-2'),\n",
    "    dbc.Row([\n",
    "        dbc.Col([\n",
    "            dbc.Card([\n",
    "                dbc.CardHeader(Lottie(options=options, width=\"67%\", height=\"67%\", url=url_coonections)),\n",
    "                dbc.CardBody([\n",
    "                    html.H6('Connections'),\n",
    "                    html.H2(id='content-connections', children=\"000\")\n",
    "                ], style={'textAlign':'center'})\n",
    "            ]),\n",
    "        ], width=2),\n",
    "        dbc.Col([\n",
    "            dbc.Card([\n",
    "                dbc.CardHeader(Lottie(options=options, width=\"32%\", height=\"32%\", url=url_companies)),\n",
    "                dbc.CardBody([\n",
    "                    html.H6('Companies'),\n",
    "                    html.H2(id='content-companies', children=\"000\")\n",
    "                ], style={'textAlign':'center'})\n",
    "            ]),\n",
    "        ], width=2),\n",
    "        dbc.Col([\n",
    "            dbc.Card([\n",
    "                dbc.CardHeader(Lottie(options=options, width=\"25%\", height=\"25%\", url=url_msg_in)),\n",
    "                dbc.CardBody([\n",
    "                    html.H6('Invites received'),\n",
    "                    html.H2(id='content-msg-in', children=\"000\")\n",
    "                ], style={'textAlign':'center'})\n",
    "            ]),\n",
    "        ], width=2),\n",
    "        dbc.Col([\n",
    "            dbc.Card([\n",
    "                dbc.CardHeader(Lottie(options=options, width=\"53%\", height=\"53%\", url=url_msg_out)),\n",
    "                dbc.CardBody([\n",
    "                    html.H6('Invites sent'),\n",
    "                    html.H2(id='content-msg-out', children=\"000\")\n",
    "                ], style={'textAlign': 'center'})\n",
    "            ]),\n",
    "        ], width=2),\n",
    "        dbc.Col([\n",
    "            dbc.Card([\n",
    "                dbc.CardHeader(Lottie(options=options, width=\"25%\", height=\"25%\", url=url_reactions)),\n",
    "                dbc.CardBody([\n",
    "                    html.H6('Reactions'),\n",
    "                    html.H2(id='content-reactions', children=\"000\")\n",
    "                ], style={'textAlign': 'center'})\n",
    "            ]),\n",
    "        ], width=2),\n",
    "    ],className='mb-2'),\n",
    "    dbc.Row([\n",
    "        dbc.Col([\n",
    "            dbc.Card([\n",
    "                dbc.CardBody([\n",
    "                    dcc.Graph(id='line-chart', figure={}),\n",
    "                ])\n",
    "            ]),\n",
    "        ], width=6),\n",
    "        dbc.Col([\n",
    "            dbc.Card([\n",
    "                dbc.CardBody([\n",
    "                    dcc.Graph(id='bar-chart', figure={}),\n",
    "                ])\n",
    "            ]),\n",
    "        ], width=4),\n",
    "    ],className='mb-2'),\n",
    "    dbc.Row([\n",
    "        dbc.Col([\n",
    "            dbc.Card([\n",
    "                dbc.CardBody([\n",
    "                    dcc.Graph(id='TBD', figure={}),\n",
    "                ])\n",
    "            ]),\n",
    "        ], width=3),\n",
    "        dbc.Col([\n",
    "            dbc.Card([\n",
    "                dbc.CardBody([\n",
    "                    dcc.Graph(id='pie-chart', figure={}),\n",
    "                ])\n",
    "            ]),\n",
    "        ], width=3),\n",
    "        dbc.Col([\n",
    "            dbc.Card([\n",
    "                dbc.CardBody([\n",
    "                    dcc.Graph(id='wordcloud', figure={}),\n",
    "                ])\n",
    "            ]),\n",
    "        ], width=4),\n",
    "    ],className='mb-2'),\n",
    "], fluid=True)\n",
    "\n",
    "\n"
   ]
  },
  {
   "cell_type": "code",
   "execution_count": 137,
   "metadata": {},
   "outputs": [
    {
     "data": {
      "text/plain": [
       "datetime.date(2016, 4, 12)"
      ]
     },
     "execution_count": 137,
     "metadata": {},
     "output_type": "execute_result"
    }
   ],
   "source": []
  },
  {
   "cell_type": "code",
   "execution_count": 159,
   "metadata": {},
   "outputs": [
    {
     "name": "stdout",
     "output_type": "stream",
     "text": [
      "Dash app running on http://127.0.0.1:8000/\n"
     ]
    }
   ],
   "source": [
    "from jupyter_dash import JupyterDash     # pip install dash   \n",
    "import dash_html_components as html\n",
    "import dash_core_components as dcc\n",
    "from dash.dependencies import Output, Input\n",
    "\n",
    "from dash_extensions import Lottie       # pip install dash-extensions\n",
    "import dash_bootstrap_components as dbc  # pip install dash-bootstrap-components\n",
    "import plotly.express as px              # pip install plotly\n",
    "import pandas as pd                      # pip install pandas\n",
    "from datetime import date\n",
    "import calendar\n",
    "from wordcloud import WordCloud          # pip install wordcloud\n",
    "\n",
    "\n",
    "# Lottie by Emil - https://github.com/thedirtyfew/dash-extensions\n",
    "url_MeasureDays = \"https://assets9.lottiefiles.com/private_files/lf30_5ttqPi.json\"\n",
    "url_caloriesBurned = \"https://assets3.lottiefiles.com/packages/lf20_bdzc21c8.json\"\n",
    "url_sleep = \"https://assets7.lottiefiles.com/private_files/lf30_em0dkba6.json\"\n",
    "url_PersonId = \"https://assets9.lottiefiles.com/packages/lf20_dq0d7ah6.json\"\n",
    "url_Score = \"https://assets4.lottiefiles.com/packages/lf20_rq3iw7zm.json\"\n",
    "options = dict(loop=True, autoplay=True, rendererSettings=dict(preserveAspectRatio='xMidYMid slice'))\n",
    "\n",
    "\n",
    "# Bootstrap themes by Ann: https://hellodash.pythonanywhere.com/theme_explorer\n",
    "app = JupyterDash(__name__, external_stylesheets=[dbc.themes.LUX])\n",
    "\n",
    "app.layout = dbc.Container([\n",
    "    dbc.Row([\n",
    "        dbc.Col([\n",
    "            dbc.Card([\n",
    "                dbc.CardImg(src='D:/github_/DataAnalysisCourse/Idan/PcturesWeb/Fbit.png', top=True) # 150px by 45px\n",
    "            ],className='mb-2'),\n",
    "            dbc.Card([\n",
    "                dbc.CardBody([\n",
    "                    dbc.CardLink(\"Data Set\", target=\"_blank\",\n",
    "                                 href=\"https://github.com/idangrady/DataAnalysisCourse/tree/main/Data\"\n",
    "                    )\n",
    "                ])\n",
    "            ]),\n",
    "        ], width=2),\n",
    "        dbc.Col([\n",
    "            dbc.Card([\n",
    "                dbc.CardBody([\n",
    "                    dcc.DatePickerSingle(\n",
    "                        id='my-date-picker-start',\n",
    "                        min_date_allowed= df.ActivityDate.min().date(),#date(2018, 1, 1),\n",
    "                        max_date_allowed= df.ActivityDate.max().date(),\n",
    "                        className='ml-5'\n",
    "                    ),\n",
    "\n",
    "                 dcc.Dropdown(id='Participant-type', \n",
    "                        clearable=False,\n",
    "                        value=\"Id Participant\",\n",
    "                        options=[{'label': x, 'value': x} for x in\n",
    "                        df[\"Id\"].unique()],\n",
    "                        className='mb-2 ml-2'\n",
    "                    ),\n",
    "\n",
    "                #     dcc.DatePickerSingle(\n",
    "                #         id='my-date-picker-end',\n",
    "                #         date=date(2021, 4, 4),\n",
    "                #         className='mb-2 ml-2'\n",
    "                #     ),\n",
    "\n",
    "                # dcc.Dropdown(id='Participant-type', clearable=False,\n",
    "                #      value=\"Std\",\n",
    "                #      options=[{'label': x, 'value': x} for x in\n",
    "                #               df[\"Id\"].unique()]),\n",
    "                #     ],className=\"two columns\"),className=\"row\"),\n",
    "                ])\n",
    "            ], color=\"info\"),\n",
    "        ], width=8),\n",
    "    ],className='mb-2 mt-2'),\n",
    "    dbc.Row([\n",
    "        dbc.Col([\n",
    "            dbc.Card([\n",
    "                dbc.CardHeader(Lottie(options=options, width=\"60%\", height=\"60%\", url=url_MeasureDays)),\n",
    "                dbc.CardBody([\n",
    "                    html.H6('Measured Days'),\n",
    "                    html.H2(id='Measured_Days', children=\"000\")\n",
    "                ], style={'textAlign':'center'})\n",
    "            ]),\n",
    "        ], width=2),\n",
    "        dbc.Col([\n",
    "            dbc.Card([\n",
    "                dbc.CardHeader(Lottie(options=options, width=\"21%\", height=\"21%\", url=url_caloriesBurned)),\n",
    "                dbc.CardBody([\n",
    "                    html.H6('Total Calories Burned'),\n",
    "                    html.H2(id='Calories_Burned', children=\"000\")\n",
    "                ], style={'textAlign':'center'})\n",
    "            ]),\n",
    "        ], width=2),\n",
    "        dbc.Col([\n",
    "            dbc.Card([\n",
    "                dbc.CardHeader(Lottie(options=options, width=\"20%\", height=\"20%\", url=url_sleep)),\n",
    "                dbc.CardBody([\n",
    "                    html.H6('Average Sleep duration'),\n",
    "                    html.H2(id='Ave_SleepDuration', children=\"000\")\n",
    "                ], style={'textAlign':'center'})\n",
    "            ]),\n",
    "        ], width=2),\n",
    "        dbc.Col([\n",
    "            dbc.Card([\n",
    "                dbc.CardHeader(Lottie(options=options, width=\"35%\", height=\"35%\", url=url_PersonId)),\n",
    "                dbc.CardBody([\n",
    "                    html.H6('Perosn Id'),\n",
    "                    html.H2(id='Perosn_Id', children=\"000\")\n",
    "                ], style={'textAlign': 'center'})\n",
    "            ]),\n",
    "        ], width=2),\n",
    "        dbc.Col([\n",
    "            dbc.Card([\n",
    "                dbc.CardHeader(Lottie(options=options, width=\"32%\", height=\"32%\", url=url_Score)),\n",
    "                dbc.CardBody([\n",
    "                    html.H6('Score'),\n",
    "                    html.H2(id='Score_Prediction', children=\"000\")\n",
    "                ], style={'textAlign': 'center'})\n",
    "            ]),\n",
    "        ], width=2),\n",
    "    ],className='mb-2'),\n",
    "    dbc.Row([\n",
    "        dbc.Col([\n",
    "            dbc.Card([\n",
    "                dbc.CardBody([\n",
    "                    dcc.Graph(id='line-chart', figure={}),\n",
    "                ])\n",
    "            ]),\n",
    "        ], width=6),\n",
    "        dbc.Col([\n",
    "            dbc.Card([\n",
    "                dbc.CardBody([\n",
    "                    dcc.Graph(id='bar-chart', figure={}),\n",
    "                ])\n",
    "            ]),\n",
    "        ], width=4),\n",
    "    ],className='mb-2'),\n",
    "    dbc.Row([\n",
    "        dbc.Col([\n",
    "            dbc.Card([\n",
    "                dbc.CardBody([\n",
    "                    dcc.Graph(id='TBD', figure={}),\n",
    "                ])\n",
    "            ]),\n",
    "        ], width=3),\n",
    "        dbc.Col([\n",
    "            dbc.Card([\n",
    "                dbc.CardBody([\n",
    "                    dcc.Graph(id='pie-chart', figure={}),\n",
    "                ])\n",
    "            ]),\n",
    "        ], width=3),\n",
    "        dbc.Col([\n",
    "            dbc.Card([\n",
    "                dbc.CardBody([\n",
    "                    dcc.Graph(id='wordcloud', figure={}),\n",
    "                ])\n",
    "            ]),\n",
    "        ], width=4),\n",
    "    ],className='mb-2'),\n",
    "], fluid=True)\n",
    "\n",
    "\n",
    "if __name__=='__main__':\n",
    "    app.run_server(debug=False, port=8000)"
   ]
  },
  {
   "cell_type": "code",
   "execution_count": null,
   "metadata": {},
   "outputs": [],
   "source": []
  }
 ],
 "metadata": {
  "interpreter": {
   "hash": "71aadde154dc023a2f05119ad7842c527d899ad6fc51d20d51e940452091dd1c"
  },
  "kernelspec": {
   "display_name": "Python 3.8.8 ('base')",
   "language": "python",
   "name": "python3"
  },
  "language_info": {
   "codemirror_mode": {
    "name": "ipython",
    "version": 3
   },
   "file_extension": ".py",
   "mimetype": "text/x-python",
   "name": "python",
   "nbconvert_exporter": "python",
   "pygments_lexer": "ipython3",
   "version": "3.8.8"
  },
  "orig_nbformat": 4
 },
 "nbformat": 4,
 "nbformat_minor": 2
}
