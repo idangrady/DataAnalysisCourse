{
 "cells": [
  {
   "cell_type": "code",
   "execution_count": 1,
   "metadata": {},
   "outputs": [
    {
     "name": "stderr",
     "output_type": "stream",
     "text": [
      "<ipython-input-1-8c6bdfd9b70d>:3: UserWarning: \n",
      "The dash_core_components package is deprecated. Please replace\n",
      "`import dash_core_components as dcc` with `from dash import dcc`\n",
      "  import dash_core_components as dcc\n",
      "<ipython-input-1-8c6bdfd9b70d>:4: UserWarning: \n",
      "The dash_html_components package is deprecated. Please replace\n",
      "`import dash_html_components as html` with `from dash import html`\n",
      "  import dash_html_components as html\n"
     ]
    }
   ],
   "source": [
    "import dash                     # pip install dash\n",
    "from dash.dependencies import Input, Output, State\n",
    "import dash_core_components as dcc\n",
    "import dash_html_components as html\n",
    "import plotly.express as px     # pip install plotly==5.2.2\n",
    "\n",
    "import numpy as np\n",
    "import pandas as pd\n",
    "import os\n",
    "import glob\n",
    "from datetime import datetime\n",
    "# import timestamp\n",
    "import matplotlib.pyplot as plt\n",
    "import seaborn as sns\n",
    "from functools import reduce\n",
    "\n",
    "from sklearn.linear_model import LinearRegression \n",
    "from sklearn.preprocessing import PolynomialFeatures\n",
    "\n",
    "import plotly.express as px"
   ]
  },
  {
   "cell_type": "code",
   "execution_count": 169,
   "metadata": {},
   "outputs": [],
   "source": [
    "\n",
    "class Data():\n",
    "    def __init__(self, path = None):\n",
    "        \n",
    "        self.directory = (glob.glob(\"/Data*merged.csv\")) \n",
    "        # Add All the functionality to the class for organisation\n",
    "        self.dailyNames = (glob.glob(\"daily*merged.csv\")) \n",
    "\n",
    "\n",
    "        self.init()\n",
    "        self.pdfs = []\n",
    "        self.dailies = {}\n",
    "    def init(self):\n",
    "        for idx, dataName in enumerate(self.directory):\n",
    "            self.pdfs.append(self.getDF(-1,dataName))\n",
    "\n",
    "        for idx, data in enumerate(self.dailyNames):\n",
    "            self.dailies[data]  =self.getDF(data)\n",
    "\n",
    "\n",
    "    def getDF(self, i, byname =0):\n",
    "        if(byname != 0):\n",
    "            return(pd.read_csv(byname))\n",
    "        return(pd.read_csv(self.directory[i]))\n",
    "\n",
    "\n",
    "\n",
    "\n",
    "\n",
    "def containTimeInstant():\n",
    "    timeList = [\"time, \"]\n",
    "\n",
    "def read_file(path, expend_print = False, convertTimeDate = False):\n",
    "    \"\"\" \n",
    "    read files\n",
    "    \"\"\"\n",
    "    # formatting to pandas\n",
    "    pd.Timestamp('2014-01-23 00:00:00', tz=None).to_pydatetime()\n",
    "\n",
    "    print(path)\n",
    "    \n",
    "    # read csv\n",
    "    df  = pd.read_csv(path)\n",
    "    df.Id = df['Id'].astype('str')\n",
    "    if(expend_print):\n",
    "        print(path)\n",
    "        print(f\"Size: {df.shape}\")\n",
    "        print(df.head(10))\n",
    "        print(df.columns)\n",
    "        print((df.Id.unique()))\n",
    "        print((list(df.columns)))\n",
    "    df.dropna(subset=list(df.columns), how='any', axis=0).reset_index(inplace = True)\n",
    "\n",
    "    if(convertTimeDate):\n",
    "        pass\n",
    "\n",
    "    ID = \"Id\"\n",
    "    if ID in list(df.columns):\n",
    "        # df['date_column'] = pd.to_datetime(df['datetime_column']).dt.date\n",
    "        return df\n",
    "    return None\n",
    "\n",
    "\n",
    "def saved_file(df, name ):\n",
    "    df.to_csv(f'{name}.csv')\n",
    "\n",
    "def merge_data_to_one(files, safefile = False, saveFileName = \"OutputMerged\"):\n",
    "    outputMerged = pd.DataFrame()\n",
    "    \n",
    "    for idx, fileName in enumerate(set(files)):\n",
    "        data = read_file(fileName)\n",
    "        if isinstance(data, pd.DataFrame):\n",
    "            print(fileName)\n",
    "            if(idx<1):\n",
    "                outputMerged = data\n",
    "            else:\n",
    "                pd.merge(outputMerged, data, on = 'Id', how=\"left\")\n",
    "    \n",
    "    if safefile: saved_file(outputMerged, saveFileName)\n",
    "\n",
    "\n",
    "def compareSimilarity(A, B):\n",
    "    A.sort()\n",
    "    B.sort()\n",
    "\n",
    "    max_val = max([len(A),len(B)])\n",
    "\n",
    "    if max_val == len(A):arrMax, secondMax =A, B \n",
    "    else: arrMax, secondMax =A, B = A, B \n",
    "    \n",
    "    sumCountSimilarities = 0\n",
    "\n",
    "    sum_=0\n",
    "    for i in list(arrMax):\n",
    "        for j in list(secondMax):\n",
    "            if i==j:\n",
    "                if i<j : break\n",
    "                sumCountSimilarities+=1\n",
    "                break\n",
    "             \n",
    "    return (sumCountSimilarities, sumCountSimilarities/max_val)\n",
    "\n",
    "\n",
    "def compareamountof(lists):\n",
    "    l = len(lists)\n",
    "    output = []\n",
    "\n",
    "    for i in range(l):\n",
    "        for j in range(i, l):\n",
    "            A = read_file(lists[i])\n",
    "            B = read_file(lists[j])\n",
    "\n",
    "\n",
    "            similarities, ratiosim = compareSimilarity(A.Id.unique(), B.Id.unique())\n",
    "            output.append([lists[i], lists[j],similarities, ratiosim])\n",
    "\n",
    "    return output\n",
    "\n",
    "\n",
    "def divideInsertTime(data, colName):\n",
    "    # time_col_split = data.colName.str.split(\" \")\n",
    "    # split_amount = len(list(time_col_split[0]))\n",
    "\n",
    "    date = pd.to_datetime(data[colName])\n",
    "    try:\n",
    "        Id_To_Idx = {id :num for num,id in enumerate(Heart_By_Idx.Id.unique())}\n",
    "        Heart_By_Idx['PersonID'] = data.Id.map(Id_To_Idx)\n",
    "\n",
    "        data[\"Hour\"] = date.dt.hour\n",
    "        data[\"Day\"]  = date.dt.day \n",
    "        data[\"Minute\"] = date.dt.minute\n",
    "        data[\"DateOfWeek\"] = date.dt.day_name()      \n",
    "        print(\"Date Changed\")\n",
    "    except:\n",
    "        e = sys.exc_info()\n",
    "        print(f\"Could Not Prase Data: Check Col Name; Erorr: {sys.exc_info()}\")        \n",
    "\n",
    "    return data\n",
    "\n",
    "\n",
    "\n",
    "\n",
    "def pvalue_test(data, col_name, based_on_col_vals = None, tresh = 0.05):\n",
    "    i = 0\n",
    "    significant = []\n",
    "    if based_on_col_vals ==None:\n",
    "        print(data.columns)\n",
    "        based_on_col_vals = data[col_name]\n",
    "    print(f\"Based on column: {col_name}\")\n",
    "    for (columnName, columnData) in data.iteritems():\n",
    "        if i>1:\n",
    "            stat, p = kendalltau(columnData, based_on_col_vals)\n",
    "            print('Column Name : ', columnName)\n",
    "            print(p)\n",
    "            if(p<tresh):\n",
    "                print(f\"Significant - {p} - to {col_name} with {columnName}\")\n",
    "                significant.append((p,col_name, columnName))\n",
    "        i +=1\n",
    "    return significant\n",
    "\n",
    "\n",
    "def sliceDataBasedonDescribeval(data, col,dateCol, tresh = 5):\n",
    "    dis = data.describe()\n",
    "    list_col = list((((dis.loc[col][dis.loc['std']>tresh]))).index)\n",
    "    list_col.append(dateCol)\n",
    "    list_col.append(\"Id\")\n",
    "    data = data[list_col]\n",
    "    data['Time_str'] = df[dateCol].astype('str')\n",
    "    \n",
    "\n",
    "    return data\n",
    "\n",
    "#TODO : Set Index: data.set_index(\"Id\")"
   ]
  },
  {
   "cell_type": "code",
   "execution_count": 85,
   "metadata": {},
   "outputs": [
    {
     "data": {
      "text/plain": [
       "['../Data\\\\dailyActivity_merged.csv',\n",
       " '../Data\\\\dailyCalories_merged.csv',\n",
       " '../Data\\\\dailyIntensities_merged.csv',\n",
       " '../Data\\\\dailySteps_merged.csv',\n",
       " '../Data\\\\heartrate_seconds_merged.csv',\n",
       " '../Data\\\\hourlyCalories_merged.csv',\n",
       " '../Data\\\\hourlyIntensities_merged.csv',\n",
       " '../Data\\\\hourlySteps_merged.csv',\n",
       " '../Data\\\\minuteCaloriesNarrow_merged.csv',\n",
       " '../Data\\\\minuteCaloriesWide_merged.csv',\n",
       " '../Data\\\\minuteIntensitiesNarrow_merged.csv',\n",
       " '../Data\\\\minuteIntensitiesWide_merged.csv',\n",
       " '../Data\\\\minuteMETsNarrow_merged.csv',\n",
       " '../Data\\\\minuteSleep_merged.csv',\n",
       " '../Data\\\\minuteStepsNarrow_merged.csv',\n",
       " '../Data\\\\minuteStepsWide_merged.csv',\n",
       " '../Data\\\\sleepDay_merged.csv',\n",
       " '../Data\\\\weightLogInfo_merged.csv']"
      ]
     },
     "execution_count": 85,
     "metadata": {},
     "output_type": "execute_result"
    }
   ],
   "source": [
    "data_csvs = (glob.glob(\"../Data/*merged.csv\")) \n",
    "dailyData = (glob.glob(\"../Data/daily*merged.csv\"))  +  (glob.glob(\"../Data/heartrate*merged.csv\")) \n",
    "\n",
    "data_csvs"
   ]
  },
  {
   "cell_type": "code",
   "execution_count": 173,
   "metadata": {},
   "outputs": [
    {
     "name": "stdout",
     "output_type": "stream",
     "text": [
      "../Data\\dailyActivity_merged.csv\n"
     ]
    },
    {
     "name": "stderr",
     "output_type": "stream",
     "text": [
      "<ipython-input-169-e3d8a0b6e5e1>:167: SettingWithCopyWarning:\n",
      "\n",
      "\n",
      "A value is trying to be set on a copy of a slice from a DataFrame.\n",
      "Try using .loc[row_indexer,col_indexer] = value instead\n",
      "\n",
      "See the caveats in the documentation: https://pandas.pydata.org/pandas-docs/stable/user_guide/indexing.html#returning-a-view-versus-a-copy\n",
      "\n"
     ]
    },
    {
     "data": {
      "text/plain": [
       "Index(['TotalSteps', 'VeryActiveMinutes', 'FairlyActiveMinutes',\n",
       "       'LightlyActiveMinutes', 'SedentaryMinutes', 'Calories', 'ActivityDate',\n",
       "       'Id', 'Time_str', 'day_of_week'],\n",
       "      dtype='object')"
      ]
     },
     "execution_count": 173,
     "metadata": {},
     "output_type": "execute_result"
    }
   ],
   "source": [
    "# Data: https://www.dallasopendata.com/Services/Participants-Inventory/qgg6-h4bd\n",
    "\n",
    "df = read_file(data_csvs[0])\n",
    "df.ActivityDate = pd.to_datetime(df.ActivityDate)\n",
    "df['Time_str'] = df.ActivityDate.astype('str')\n",
    "# df[\"intake_time\"] = df[\"intake_time\"].dt.hour\n",
    "# print(df.head())\n",
    "df  =sliceDataBasedonDescribeval(df, 'std','ActivityDate')\n",
    "\n",
    "df.ActivityDate.apply(lambda x: x.strftime('%Y%m%d'))\n",
    "df['day_of_week'] = df.ActivityDate.apply(lambda x: x.strftime('%w'))\n",
    "df.head()\n",
    "df.columns"
   ]
  },
  {
   "cell_type": "code",
   "execution_count": 144,
   "metadata": {},
   "outputs": [],
   "source": [
    "Id_To_Idx = {id :num for num,id in enumerate(df.Id.unique())}\n",
    "Idx_to_Id = {num :id for num,id in enumerate(df.Id.unique())}\n",
    "df['PersonID'] = df.Id.map(Id_To_Idx)\n"
   ]
  },
  {
   "cell_type": "code",
   "execution_count": 88,
   "metadata": {},
   "outputs": [
    {
     "data": {
      "text/html": [
       "<div>\n",
       "<style scoped>\n",
       "    .dataframe tbody tr th:only-of-type {\n",
       "        vertical-align: middle;\n",
       "    }\n",
       "\n",
       "    .dataframe tbody tr th {\n",
       "        vertical-align: top;\n",
       "    }\n",
       "\n",
       "    .dataframe thead th {\n",
       "        text-align: right;\n",
       "    }\n",
       "</style>\n",
       "<table border=\"1\" class=\"dataframe\">\n",
       "  <thead>\n",
       "    <tr style=\"text-align: right;\">\n",
       "      <th></th>\n",
       "      <th>TotalSteps</th>\n",
       "      <th>VeryActiveMinutes</th>\n",
       "      <th>FairlyActiveMinutes</th>\n",
       "      <th>LightlyActiveMinutes</th>\n",
       "      <th>SedentaryMinutes</th>\n",
       "      <th>Calories</th>\n",
       "      <th>ActivityDate</th>\n",
       "      <th>Time_str</th>\n",
       "      <th>day_of_week</th>\n",
       "    </tr>\n",
       "  </thead>\n",
       "  <tbody>\n",
       "    <tr>\n",
       "      <th>0</th>\n",
       "      <td>13162</td>\n",
       "      <td>25</td>\n",
       "      <td>13</td>\n",
       "      <td>328</td>\n",
       "      <td>728</td>\n",
       "      <td>1985</td>\n",
       "      <td>2016-04-12</td>\n",
       "      <td>2016-04-12</td>\n",
       "      <td>2</td>\n",
       "    </tr>\n",
       "    <tr>\n",
       "      <th>1</th>\n",
       "      <td>10735</td>\n",
       "      <td>21</td>\n",
       "      <td>19</td>\n",
       "      <td>217</td>\n",
       "      <td>776</td>\n",
       "      <td>1797</td>\n",
       "      <td>2016-04-13</td>\n",
       "      <td>2016-04-13</td>\n",
       "      <td>3</td>\n",
       "    </tr>\n",
       "    <tr>\n",
       "      <th>2</th>\n",
       "      <td>10460</td>\n",
       "      <td>30</td>\n",
       "      <td>11</td>\n",
       "      <td>181</td>\n",
       "      <td>1218</td>\n",
       "      <td>1776</td>\n",
       "      <td>2016-04-14</td>\n",
       "      <td>2016-04-14</td>\n",
       "      <td>4</td>\n",
       "    </tr>\n",
       "    <tr>\n",
       "      <th>3</th>\n",
       "      <td>9762</td>\n",
       "      <td>29</td>\n",
       "      <td>34</td>\n",
       "      <td>209</td>\n",
       "      <td>726</td>\n",
       "      <td>1745</td>\n",
       "      <td>2016-04-15</td>\n",
       "      <td>2016-04-15</td>\n",
       "      <td>5</td>\n",
       "    </tr>\n",
       "    <tr>\n",
       "      <th>4</th>\n",
       "      <td>12669</td>\n",
       "      <td>36</td>\n",
       "      <td>10</td>\n",
       "      <td>221</td>\n",
       "      <td>773</td>\n",
       "      <td>1863</td>\n",
       "      <td>2016-04-16</td>\n",
       "      <td>2016-04-16</td>\n",
       "      <td>6</td>\n",
       "    </tr>\n",
       "  </tbody>\n",
       "</table>\n",
       "</div>"
      ],
      "text/plain": [
       "   TotalSteps  VeryActiveMinutes  FairlyActiveMinutes  LightlyActiveMinutes  \\\n",
       "0       13162                 25                   13                   328   \n",
       "1       10735                 21                   19                   217   \n",
       "2       10460                 30                   11                   181   \n",
       "3        9762                 29                   34                   209   \n",
       "4       12669                 36                   10                   221   \n",
       "\n",
       "   SedentaryMinutes  Calories ActivityDate    Time_str day_of_week  \n",
       "0               728      1985   2016-04-12  2016-04-12           2  \n",
       "1               776      1797   2016-04-13  2016-04-13           3  \n",
       "2              1218      1776   2016-04-14  2016-04-14           4  \n",
       "3               726      1745   2016-04-15  2016-04-15           5  \n",
       "4               773      1863   2016-04-16  2016-04-16           6  "
      ]
     },
     "execution_count": 88,
     "metadata": {},
     "output_type": "execute_result"
    }
   ],
   "source": []
  },
  {
   "cell_type": "code",
   "execution_count": 89,
   "metadata": {},
   "outputs": [
    {
     "name": "stdout",
     "output_type": "stream",
     "text": [
      "../Data\\sleepDay_merged.csv\n"
     ]
    },
    {
     "data": {
      "text/html": [
       "<div>\n",
       "<style scoped>\n",
       "    .dataframe tbody tr th:only-of-type {\n",
       "        vertical-align: middle;\n",
       "    }\n",
       "\n",
       "    .dataframe tbody tr th {\n",
       "        vertical-align: top;\n",
       "    }\n",
       "\n",
       "    .dataframe thead th {\n",
       "        text-align: right;\n",
       "    }\n",
       "</style>\n",
       "<table border=\"1\" class=\"dataframe\">\n",
       "  <thead>\n",
       "    <tr style=\"text-align: right;\">\n",
       "      <th></th>\n",
       "      <th>Id</th>\n",
       "      <th>Day</th>\n",
       "      <th>TotalSleepRecords</th>\n",
       "      <th>TotalMinutesAsleep</th>\n",
       "      <th>TotalTimeInBed</th>\n",
       "      <th>DateStr</th>\n",
       "    </tr>\n",
       "  </thead>\n",
       "  <tbody>\n",
       "    <tr>\n",
       "      <th>0</th>\n",
       "      <td>1503960366</td>\n",
       "      <td>2016-04-12</td>\n",
       "      <td>1</td>\n",
       "      <td>327</td>\n",
       "      <td>346</td>\n",
       "      <td>2016-04-12</td>\n",
       "    </tr>\n",
       "    <tr>\n",
       "      <th>1</th>\n",
       "      <td>1503960366</td>\n",
       "      <td>2016-04-13</td>\n",
       "      <td>2</td>\n",
       "      <td>384</td>\n",
       "      <td>407</td>\n",
       "      <td>2016-04-13</td>\n",
       "    </tr>\n",
       "    <tr>\n",
       "      <th>2</th>\n",
       "      <td>1503960366</td>\n",
       "      <td>2016-04-15</td>\n",
       "      <td>1</td>\n",
       "      <td>412</td>\n",
       "      <td>442</td>\n",
       "      <td>2016-04-15</td>\n",
       "    </tr>\n",
       "    <tr>\n",
       "      <th>3</th>\n",
       "      <td>1503960366</td>\n",
       "      <td>2016-04-16</td>\n",
       "      <td>2</td>\n",
       "      <td>340</td>\n",
       "      <td>367</td>\n",
       "      <td>2016-04-16</td>\n",
       "    </tr>\n",
       "    <tr>\n",
       "      <th>4</th>\n",
       "      <td>1503960366</td>\n",
       "      <td>2016-04-17</td>\n",
       "      <td>1</td>\n",
       "      <td>700</td>\n",
       "      <td>712</td>\n",
       "      <td>2016-04-17</td>\n",
       "    </tr>\n",
       "  </tbody>\n",
       "</table>\n",
       "</div>"
      ],
      "text/plain": [
       "           Id        Day  TotalSleepRecords  TotalMinutesAsleep  \\\n",
       "0  1503960366 2016-04-12                  1                 327   \n",
       "1  1503960366 2016-04-13                  2                 384   \n",
       "2  1503960366 2016-04-15                  1                 412   \n",
       "3  1503960366 2016-04-16                  2                 340   \n",
       "4  1503960366 2016-04-17                  1                 700   \n",
       "\n",
       "   TotalTimeInBed     DateStr  \n",
       "0             346  2016-04-12  \n",
       "1             407  2016-04-13  \n",
       "2             442  2016-04-15  \n",
       "3             367  2016-04-16  \n",
       "4             712  2016-04-17  "
      ]
     },
     "execution_count": 89,
     "metadata": {},
     "output_type": "execute_result"
    }
   ],
   "source": [
    "sleep = read_file(data_csvs[-2])\n",
    "sleep.SleepDay = pd.to_datetime(sleep['SleepDay'])\n",
    "sleep.rename(columns={\"SleepDay\": \"Day\"}, inplace=True)\n",
    "sleep['DateStr'] = sleep.Day.astype('str')\n",
    "sleep.head()\n"
   ]
  },
  {
   "cell_type": "code",
   "execution_count": 93,
   "metadata": {},
   "outputs": [
    {
     "data": {
      "text/plain": [
       "Id                            object\n",
       "Day_x                 datetime64[ns]\n",
       "Calories                       int64\n",
       "DateStr                       object\n",
       "Day_y                 datetime64[ns]\n",
       "TotalSleepRecords              int64\n",
       "TotalMinutesAsleep             int64\n",
       "TotalTimeInBed                 int64\n",
       "dtype: object"
      ]
     },
     "execution_count": 93,
     "metadata": {},
     "output_type": "execute_result"
    }
   ],
   "source": [
    "meged_cl_sle.dtypes"
   ]
  },
  {
   "cell_type": "code",
   "execution_count": 96,
   "metadata": {},
   "outputs": [
    {
     "name": "stdout",
     "output_type": "stream",
     "text": [
      "../Data\\dailyCalories_merged.csv\n"
     ]
    },
    {
     "data": {
      "text/html": [
       "<div>\n",
       "<style scoped>\n",
       "    .dataframe tbody tr th:only-of-type {\n",
       "        vertical-align: middle;\n",
       "    }\n",
       "\n",
       "    .dataframe tbody tr th {\n",
       "        vertical-align: top;\n",
       "    }\n",
       "\n",
       "    .dataframe thead th {\n",
       "        text-align: right;\n",
       "    }\n",
       "</style>\n",
       "<table border=\"1\" class=\"dataframe\">\n",
       "  <thead>\n",
       "    <tr style=\"text-align: right;\">\n",
       "      <th></th>\n",
       "      <th>Id</th>\n",
       "      <th>Day</th>\n",
       "      <th>Calories</th>\n",
       "      <th>DateStr</th>\n",
       "      <th>TotalSleepRecords</th>\n",
       "      <th>TotalMinutesAsleep</th>\n",
       "      <th>TotalTimeInBed</th>\n",
       "    </tr>\n",
       "  </thead>\n",
       "  <tbody>\n",
       "    <tr>\n",
       "      <th>0</th>\n",
       "      <td>1503960366</td>\n",
       "      <td>2016-04-12</td>\n",
       "      <td>1985</td>\n",
       "      <td>2016-04-12</td>\n",
       "      <td>1</td>\n",
       "      <td>327</td>\n",
       "      <td>346</td>\n",
       "    </tr>\n",
       "    <tr>\n",
       "      <th>1</th>\n",
       "      <td>1503960366</td>\n",
       "      <td>2016-04-13</td>\n",
       "      <td>1797</td>\n",
       "      <td>2016-04-13</td>\n",
       "      <td>2</td>\n",
       "      <td>384</td>\n",
       "      <td>407</td>\n",
       "    </tr>\n",
       "    <tr>\n",
       "      <th>2</th>\n",
       "      <td>1503960366</td>\n",
       "      <td>2016-04-15</td>\n",
       "      <td>1745</td>\n",
       "      <td>2016-04-15</td>\n",
       "      <td>1</td>\n",
       "      <td>412</td>\n",
       "      <td>442</td>\n",
       "    </tr>\n",
       "    <tr>\n",
       "      <th>3</th>\n",
       "      <td>1503960366</td>\n",
       "      <td>2016-04-16</td>\n",
       "      <td>1863</td>\n",
       "      <td>2016-04-16</td>\n",
       "      <td>2</td>\n",
       "      <td>340</td>\n",
       "      <td>367</td>\n",
       "    </tr>\n",
       "    <tr>\n",
       "      <th>4</th>\n",
       "      <td>1503960366</td>\n",
       "      <td>2016-04-17</td>\n",
       "      <td>1728</td>\n",
       "      <td>2016-04-17</td>\n",
       "      <td>1</td>\n",
       "      <td>700</td>\n",
       "      <td>712</td>\n",
       "    </tr>\n",
       "  </tbody>\n",
       "</table>\n",
       "</div>"
      ],
      "text/plain": [
       "           Id        Day  Calories     DateStr  TotalSleepRecords  \\\n",
       "0  1503960366 2016-04-12      1985  2016-04-12                  1   \n",
       "1  1503960366 2016-04-13      1797  2016-04-13                  2   \n",
       "2  1503960366 2016-04-15      1745  2016-04-15                  1   \n",
       "3  1503960366 2016-04-16      1863  2016-04-16                  2   \n",
       "4  1503960366 2016-04-17      1728  2016-04-17                  1   \n",
       "\n",
       "   TotalMinutesAsleep  TotalTimeInBed  \n",
       "0                 327             346  \n",
       "1                 384             407  \n",
       "2                 412             442  \n",
       "3                 340             367  \n",
       "4                 700             712  "
      ]
     },
     "execution_count": 96,
     "metadata": {},
     "output_type": "execute_result"
    }
   ],
   "source": [
    "calories = read_file(data_csvs[1])\n",
    "calories.ActivityDay = pd.to_datetime(calories['ActivityDay'])\n",
    "calories.rename(columns={\"ActivityDay\": \"Day\"}, inplace = True)\n",
    "calories['DateStr'] = calories['Day'].astype('str')\n",
    "\n",
    "\n",
    "meged_cl_sle =calories.merge(sleep, left_on=[\"Id\",\"DateStr\" ], right_on=[\"Id\", \"DateStr\"]).drop(columns = ['Day_y'])\n",
    "meged_cl_sle.rename(columns = {\"Day_x\": \"Day\"}, inplace=True)\n",
    "# meged_cl_sle.drop(columns=[\"Id\"], inplace= False).corr().round(2)\n",
    "meged_cl_sle.head()\n",
    "\n"
   ]
  },
  {
   "cell_type": "code",
   "execution_count": 196,
   "metadata": {},
   "outputs": [
    {
     "data": {
      "text/html": [
       "<div>\n",
       "<style scoped>\n",
       "    .dataframe tbody tr th:only-of-type {\n",
       "        vertical-align: middle;\n",
       "    }\n",
       "\n",
       "    .dataframe tbody tr th {\n",
       "        vertical-align: top;\n",
       "    }\n",
       "\n",
       "    .dataframe thead th {\n",
       "        text-align: right;\n",
       "    }\n",
       "</style>\n",
       "<table border=\"1\" class=\"dataframe\">\n",
       "  <thead>\n",
       "    <tr style=\"text-align: right;\">\n",
       "      <th></th>\n",
       "      <th>Id</th>\n",
       "      <th>Day</th>\n",
       "      <th>TotalSleepRecords</th>\n",
       "      <th>TotalMinutesAsleep</th>\n",
       "      <th>TotalTimeInBed</th>\n",
       "      <th>DateStr</th>\n",
       "    </tr>\n",
       "  </thead>\n",
       "  <tbody>\n",
       "    <tr>\n",
       "      <th>0</th>\n",
       "      <td>1503960366</td>\n",
       "      <td>2016-04-12</td>\n",
       "      <td>1</td>\n",
       "      <td>327</td>\n",
       "      <td>346</td>\n",
       "      <td>2016-04-12</td>\n",
       "    </tr>\n",
       "    <tr>\n",
       "      <th>1</th>\n",
       "      <td>1503960366</td>\n",
       "      <td>2016-04-13</td>\n",
       "      <td>2</td>\n",
       "      <td>384</td>\n",
       "      <td>407</td>\n",
       "      <td>2016-04-13</td>\n",
       "    </tr>\n",
       "    <tr>\n",
       "      <th>2</th>\n",
       "      <td>1503960366</td>\n",
       "      <td>2016-04-15</td>\n",
       "      <td>1</td>\n",
       "      <td>412</td>\n",
       "      <td>442</td>\n",
       "      <td>2016-04-15</td>\n",
       "    </tr>\n",
       "    <tr>\n",
       "      <th>3</th>\n",
       "      <td>1503960366</td>\n",
       "      <td>2016-04-16</td>\n",
       "      <td>2</td>\n",
       "      <td>340</td>\n",
       "      <td>367</td>\n",
       "      <td>2016-04-16</td>\n",
       "    </tr>\n",
       "    <tr>\n",
       "      <th>4</th>\n",
       "      <td>1503960366</td>\n",
       "      <td>2016-04-17</td>\n",
       "      <td>1</td>\n",
       "      <td>700</td>\n",
       "      <td>712</td>\n",
       "      <td>2016-04-17</td>\n",
       "    </tr>\n",
       "    <tr>\n",
       "      <th>...</th>\n",
       "      <td>...</td>\n",
       "      <td>...</td>\n",
       "      <td>...</td>\n",
       "      <td>...</td>\n",
       "      <td>...</td>\n",
       "      <td>...</td>\n",
       "    </tr>\n",
       "    <tr>\n",
       "      <th>408</th>\n",
       "      <td>8792009665</td>\n",
       "      <td>2016-04-30</td>\n",
       "      <td>1</td>\n",
       "      <td>343</td>\n",
       "      <td>360</td>\n",
       "      <td>2016-04-30</td>\n",
       "    </tr>\n",
       "    <tr>\n",
       "      <th>409</th>\n",
       "      <td>8792009665</td>\n",
       "      <td>2016-05-01</td>\n",
       "      <td>1</td>\n",
       "      <td>503</td>\n",
       "      <td>527</td>\n",
       "      <td>2016-05-01</td>\n",
       "    </tr>\n",
       "    <tr>\n",
       "      <th>410</th>\n",
       "      <td>8792009665</td>\n",
       "      <td>2016-05-02</td>\n",
       "      <td>1</td>\n",
       "      <td>415</td>\n",
       "      <td>423</td>\n",
       "      <td>2016-05-02</td>\n",
       "    </tr>\n",
       "    <tr>\n",
       "      <th>411</th>\n",
       "      <td>8792009665</td>\n",
       "      <td>2016-05-03</td>\n",
       "      <td>1</td>\n",
       "      <td>516</td>\n",
       "      <td>545</td>\n",
       "      <td>2016-05-03</td>\n",
       "    </tr>\n",
       "    <tr>\n",
       "      <th>412</th>\n",
       "      <td>8792009665</td>\n",
       "      <td>2016-05-04</td>\n",
       "      <td>1</td>\n",
       "      <td>439</td>\n",
       "      <td>463</td>\n",
       "      <td>2016-05-04</td>\n",
       "    </tr>\n",
       "  </tbody>\n",
       "</table>\n",
       "<p>413 rows × 6 columns</p>\n",
       "</div>"
      ],
      "text/plain": [
       "             Id        Day  TotalSleepRecords  TotalMinutesAsleep  \\\n",
       "0    1503960366 2016-04-12                  1                 327   \n",
       "1    1503960366 2016-04-13                  2                 384   \n",
       "2    1503960366 2016-04-15                  1                 412   \n",
       "3    1503960366 2016-04-16                  2                 340   \n",
       "4    1503960366 2016-04-17                  1                 700   \n",
       "..          ...        ...                ...                 ...   \n",
       "408  8792009665 2016-04-30                  1                 343   \n",
       "409  8792009665 2016-05-01                  1                 503   \n",
       "410  8792009665 2016-05-02                  1                 415   \n",
       "411  8792009665 2016-05-03                  1                 516   \n",
       "412  8792009665 2016-05-04                  1                 439   \n",
       "\n",
       "     TotalTimeInBed     DateStr  \n",
       "0               346  2016-04-12  \n",
       "1               407  2016-04-13  \n",
       "2               442  2016-04-15  \n",
       "3               367  2016-04-16  \n",
       "4               712  2016-04-17  \n",
       "..              ...         ...  \n",
       "408             360  2016-04-30  \n",
       "409             527  2016-05-01  \n",
       "410             423  2016-05-02  \n",
       "411             545  2016-05-03  \n",
       "412             463  2016-05-04  \n",
       "\n",
       "[413 rows x 6 columns]"
      ]
     },
     "execution_count": 196,
     "metadata": {},
     "output_type": "execute_result"
    }
   ],
   "source": [
    "sleep"
   ]
  },
  {
   "cell_type": "code",
   "execution_count": 197,
   "metadata": {},
   "outputs": [
    {
     "name": "stdout",
     "output_type": "stream",
     "text": [
      "../Data\\dailyActivity_merged.csv\n"
     ]
    },
    {
     "name": "stderr",
     "output_type": "stream",
     "text": [
      "<ipython-input-169-e3d8a0b6e5e1>:167: SettingWithCopyWarning:\n",
      "\n",
      "\n",
      "A value is trying to be set on a copy of a slice from a DataFrame.\n",
      "Try using .loc[row_indexer,col_indexer] = value instead\n",
      "\n",
      "See the caveats in the documentation: https://pandas.pydata.org/pandas-docs/stable/user_guide/indexing.html#returning-a-view-versus-a-copy\n",
      "\n",
      "<ipython-input-197-67c0d163f48c>:10: SettingWithCopyWarning:\n",
      "\n",
      "\n",
      "A value is trying to be set on a copy of a slice from a DataFrame.\n",
      "Try using .loc[row_indexer,col_indexer] = value instead\n",
      "\n",
      "See the caveats in the documentation: https://pandas.pydata.org/pandas-docs/stable/user_guide/indexing.html#returning-a-view-versus-a-copy\n",
      "\n",
      "d:\\Anaconda_2\\lib\\site-packages\\pandas\\core\\generic.py:5494: SettingWithCopyWarning:\n",
      "\n",
      "\n",
      "A value is trying to be set on a copy of a slice from a DataFrame.\n",
      "Try using .loc[row_indexer,col_indexer] = value instead\n",
      "\n",
      "See the caveats in the documentation: https://pandas.pydata.org/pandas-docs/stable/user_guide/indexing.html#returning-a-view-versus-a-copy\n",
      "\n"
     ]
    },
    {
     "data": {
      "text/html": [
       "<div>\n",
       "<style scoped>\n",
       "    .dataframe tbody tr th:only-of-type {\n",
       "        vertical-align: middle;\n",
       "    }\n",
       "\n",
       "    .dataframe tbody tr th {\n",
       "        vertical-align: top;\n",
       "    }\n",
       "\n",
       "    .dataframe thead th {\n",
       "        text-align: right;\n",
       "    }\n",
       "</style>\n",
       "<table border=\"1\" class=\"dataframe\">\n",
       "  <thead>\n",
       "    <tr style=\"text-align: right;\">\n",
       "      <th></th>\n",
       "      <th>TotalSteps</th>\n",
       "      <th>VeryActiveMinutes</th>\n",
       "      <th>FairlyActiveMinutes</th>\n",
       "      <th>LightlyActiveMinutes</th>\n",
       "      <th>SedentaryMinutes</th>\n",
       "      <th>Calories</th>\n",
       "      <th>Id</th>\n",
       "      <th>Time_str</th>\n",
       "      <th>PersonID</th>\n",
       "      <th>Day</th>\n",
       "      <th>TotalSleepRecords</th>\n",
       "      <th>TotalMinutesAsleep</th>\n",
       "      <th>TotalTimeInBed</th>\n",
       "      <th>DateStr</th>\n",
       "    </tr>\n",
       "  </thead>\n",
       "  <tbody>\n",
       "    <tr>\n",
       "      <th>0</th>\n",
       "      <td>13162</td>\n",
       "      <td>25</td>\n",
       "      <td>13</td>\n",
       "      <td>328</td>\n",
       "      <td>728</td>\n",
       "      <td>1985</td>\n",
       "      <td>1503960366</td>\n",
       "      <td>2016-04-12</td>\n",
       "      <td>0</td>\n",
       "      <td>2016-04-12</td>\n",
       "      <td>1</td>\n",
       "      <td>327</td>\n",
       "      <td>346</td>\n",
       "      <td>2016-04-12</td>\n",
       "    </tr>\n",
       "    <tr>\n",
       "      <th>1</th>\n",
       "      <td>10735</td>\n",
       "      <td>21</td>\n",
       "      <td>19</td>\n",
       "      <td>217</td>\n",
       "      <td>776</td>\n",
       "      <td>1797</td>\n",
       "      <td>1503960366</td>\n",
       "      <td>2016-04-13</td>\n",
       "      <td>0</td>\n",
       "      <td>2016-04-13</td>\n",
       "      <td>2</td>\n",
       "      <td>384</td>\n",
       "      <td>407</td>\n",
       "      <td>2016-04-13</td>\n",
       "    </tr>\n",
       "    <tr>\n",
       "      <th>2</th>\n",
       "      <td>9762</td>\n",
       "      <td>29</td>\n",
       "      <td>34</td>\n",
       "      <td>209</td>\n",
       "      <td>726</td>\n",
       "      <td>1745</td>\n",
       "      <td>1503960366</td>\n",
       "      <td>2016-04-15</td>\n",
       "      <td>0</td>\n",
       "      <td>2016-04-15</td>\n",
       "      <td>1</td>\n",
       "      <td>412</td>\n",
       "      <td>442</td>\n",
       "      <td>2016-04-15</td>\n",
       "    </tr>\n",
       "    <tr>\n",
       "      <th>3</th>\n",
       "      <td>12669</td>\n",
       "      <td>36</td>\n",
       "      <td>10</td>\n",
       "      <td>221</td>\n",
       "      <td>773</td>\n",
       "      <td>1863</td>\n",
       "      <td>1503960366</td>\n",
       "      <td>2016-04-16</td>\n",
       "      <td>0</td>\n",
       "      <td>2016-04-16</td>\n",
       "      <td>2</td>\n",
       "      <td>340</td>\n",
       "      <td>367</td>\n",
       "      <td>2016-04-16</td>\n",
       "    </tr>\n",
       "    <tr>\n",
       "      <th>4</th>\n",
       "      <td>9705</td>\n",
       "      <td>38</td>\n",
       "      <td>20</td>\n",
       "      <td>164</td>\n",
       "      <td>539</td>\n",
       "      <td>1728</td>\n",
       "      <td>1503960366</td>\n",
       "      <td>2016-04-17</td>\n",
       "      <td>0</td>\n",
       "      <td>2016-04-17</td>\n",
       "      <td>1</td>\n",
       "      <td>700</td>\n",
       "      <td>712</td>\n",
       "      <td>2016-04-17</td>\n",
       "    </tr>\n",
       "    <tr>\n",
       "      <th>...</th>\n",
       "      <td>...</td>\n",
       "      <td>...</td>\n",
       "      <td>...</td>\n",
       "      <td>...</td>\n",
       "      <td>...</td>\n",
       "      <td>...</td>\n",
       "      <td>...</td>\n",
       "      <td>...</td>\n",
       "      <td>...</td>\n",
       "      <td>...</td>\n",
       "      <td>...</td>\n",
       "      <td>...</td>\n",
       "      <td>...</td>\n",
       "      <td>...</td>\n",
       "    </tr>\n",
       "    <tr>\n",
       "      <th>408</th>\n",
       "      <td>7174</td>\n",
       "      <td>10</td>\n",
       "      <td>20</td>\n",
       "      <td>301</td>\n",
       "      <td>749</td>\n",
       "      <td>2896</td>\n",
       "      <td>8792009665</td>\n",
       "      <td>2016-04-30</td>\n",
       "      <td>31</td>\n",
       "      <td>2016-04-30</td>\n",
       "      <td>1</td>\n",
       "      <td>343</td>\n",
       "      <td>360</td>\n",
       "      <td>2016-04-30</td>\n",
       "    </tr>\n",
       "    <tr>\n",
       "      <th>409</th>\n",
       "      <td>1619</td>\n",
       "      <td>0</td>\n",
       "      <td>0</td>\n",
       "      <td>79</td>\n",
       "      <td>834</td>\n",
       "      <td>1962</td>\n",
       "      <td>8792009665</td>\n",
       "      <td>2016-05-01</td>\n",
       "      <td>31</td>\n",
       "      <td>2016-05-01</td>\n",
       "      <td>1</td>\n",
       "      <td>503</td>\n",
       "      <td>527</td>\n",
       "      <td>2016-05-01</td>\n",
       "    </tr>\n",
       "    <tr>\n",
       "      <th>410</th>\n",
       "      <td>1831</td>\n",
       "      <td>0</td>\n",
       "      <td>0</td>\n",
       "      <td>101</td>\n",
       "      <td>916</td>\n",
       "      <td>2015</td>\n",
       "      <td>8792009665</td>\n",
       "      <td>2016-05-02</td>\n",
       "      <td>31</td>\n",
       "      <td>2016-05-02</td>\n",
       "      <td>1</td>\n",
       "      <td>415</td>\n",
       "      <td>423</td>\n",
       "      <td>2016-05-02</td>\n",
       "    </tr>\n",
       "    <tr>\n",
       "      <th>411</th>\n",
       "      <td>2421</td>\n",
       "      <td>0</td>\n",
       "      <td>0</td>\n",
       "      <td>156</td>\n",
       "      <td>739</td>\n",
       "      <td>2297</td>\n",
       "      <td>8792009665</td>\n",
       "      <td>2016-05-03</td>\n",
       "      <td>31</td>\n",
       "      <td>2016-05-03</td>\n",
       "      <td>1</td>\n",
       "      <td>516</td>\n",
       "      <td>545</td>\n",
       "      <td>2016-05-03</td>\n",
       "    </tr>\n",
       "    <tr>\n",
       "      <th>412</th>\n",
       "      <td>2283</td>\n",
       "      <td>0</td>\n",
       "      <td>0</td>\n",
       "      <td>129</td>\n",
       "      <td>848</td>\n",
       "      <td>2067</td>\n",
       "      <td>8792009665</td>\n",
       "      <td>2016-05-04</td>\n",
       "      <td>31</td>\n",
       "      <td>2016-05-04</td>\n",
       "      <td>1</td>\n",
       "      <td>439</td>\n",
       "      <td>463</td>\n",
       "      <td>2016-05-04</td>\n",
       "    </tr>\n",
       "  </tbody>\n",
       "</table>\n",
       "<p>413 rows × 14 columns</p>\n",
       "</div>"
      ],
      "text/plain": [
       "     TotalSteps  VeryActiveMinutes  FairlyActiveMinutes  LightlyActiveMinutes  \\\n",
       "0         13162                 25                   13                   328   \n",
       "1         10735                 21                   19                   217   \n",
       "2          9762                 29                   34                   209   \n",
       "3         12669                 36                   10                   221   \n",
       "4          9705                 38                   20                   164   \n",
       "..          ...                ...                  ...                   ...   \n",
       "408        7174                 10                   20                   301   \n",
       "409        1619                  0                    0                    79   \n",
       "410        1831                  0                    0                   101   \n",
       "411        2421                  0                    0                   156   \n",
       "412        2283                  0                    0                   129   \n",
       "\n",
       "     SedentaryMinutes  Calories          Id    Time_str PersonID        Day  \\\n",
       "0                 728      1985  1503960366  2016-04-12        0 2016-04-12   \n",
       "1                 776      1797  1503960366  2016-04-13        0 2016-04-13   \n",
       "2                 726      1745  1503960366  2016-04-15        0 2016-04-15   \n",
       "3                 773      1863  1503960366  2016-04-16        0 2016-04-16   \n",
       "4                 539      1728  1503960366  2016-04-17        0 2016-04-17   \n",
       "..                ...       ...         ...         ...      ...        ...   \n",
       "408               749      2896  8792009665  2016-04-30       31 2016-04-30   \n",
       "409               834      1962  8792009665  2016-05-01       31 2016-05-01   \n",
       "410               916      2015  8792009665  2016-05-02       31 2016-05-02   \n",
       "411               739      2297  8792009665  2016-05-03       31 2016-05-03   \n",
       "412               848      2067  8792009665  2016-05-04       31 2016-05-04   \n",
       "\n",
       "     TotalSleepRecords  TotalMinutesAsleep  TotalTimeInBed     DateStr  \n",
       "0                    1                 327             346  2016-04-12  \n",
       "1                    2                 384             407  2016-04-13  \n",
       "2                    1                 412             442  2016-04-15  \n",
       "3                    2                 340             367  2016-04-16  \n",
       "4                    1                 700             712  2016-04-17  \n",
       "..                 ...                 ...             ...         ...  \n",
       "408                  1                 343             360  2016-04-30  \n",
       "409                  1                 503             527  2016-05-01  \n",
       "410                  1                 415             423  2016-05-02  \n",
       "411                  1                 516             545  2016-05-03  \n",
       "412                  1                 439             463  2016-05-04  \n",
       "\n",
       "[413 rows x 14 columns]"
      ]
     },
     "execution_count": 197,
     "metadata": {},
     "output_type": "execute_result"
    }
   ],
   "source": [
    "active =read_file(data_csvs[0])\n",
    "active.ActivityDate = pd.to_datetime(active.ActivityDate)\n",
    "active.ActivityDate = active.ActivityDate.astype('str')\n",
    "\n",
    "\n",
    "active_df  =sliceDataBasedonDescribeval(active, 'std','ActivityDate')\n",
    "\n",
    "Id_To_Idx = {id :num for num,id in enumerate(active.Id.unique())}\n",
    "Idx_to_Id = {num :id for num,id in enumerate(active.Id.unique())}\n",
    "active_df['PersonID'] = active_df.Id.map(Id_To_Idx)\n",
    "active_df.PersonID =  active_df.PersonID.astype('str')\n",
    "active_df\n",
    "\n",
    "\n",
    "\n",
    "meged_active_sleep  = active_df.merge(sleep, left_on=[\"Id\",\"ActivityDate\" ], right_on=[\"Id\", \"DateStr\"]).drop(columns = ['ActivityDate'])\n",
    "meged_active_sleep"
   ]
  },
  {
   "cell_type": "code",
   "execution_count": 9,
   "metadata": {},
   "outputs": [
    {
     "data": {
      "text/html": [
       "<div>\n",
       "<style scoped>\n",
       "    .dataframe tbody tr th:only-of-type {\n",
       "        vertical-align: middle;\n",
       "    }\n",
       "\n",
       "    .dataframe tbody tr th {\n",
       "        vertical-align: top;\n",
       "    }\n",
       "\n",
       "    .dataframe thead th {\n",
       "        text-align: right;\n",
       "    }\n",
       "</style>\n",
       "<table border=\"1\" class=\"dataframe\">\n",
       "  <thead>\n",
       "    <tr style=\"text-align: right;\">\n",
       "      <th></th>\n",
       "      <th>Id</th>\n",
       "      <th>TotalSteps</th>\n",
       "      <th>VeryActiveMinutes</th>\n",
       "      <th>FairlyActiveMinutes</th>\n",
       "      <th>LightlyActiveMinutes</th>\n",
       "      <th>SedentaryMinutes</th>\n",
       "      <th>Calories</th>\n",
       "      <th>Time_str</th>\n",
       "      <th>PersonID</th>\n",
       "      <th>Day</th>\n",
       "      <th>TotalSleepRecords</th>\n",
       "      <th>TotalMinutesAsleep</th>\n",
       "      <th>TotalTimeInBed</th>\n",
       "    </tr>\n",
       "  </thead>\n",
       "  <tbody>\n",
       "    <tr>\n",
       "      <th>0</th>\n",
       "      <td>1503960366</td>\n",
       "      <td>13162</td>\n",
       "      <td>25</td>\n",
       "      <td>13</td>\n",
       "      <td>328</td>\n",
       "      <td>728</td>\n",
       "      <td>1985</td>\n",
       "      <td>2016-04-12</td>\n",
       "      <td>0</td>\n",
       "      <td>2016-04-12</td>\n",
       "      <td>1</td>\n",
       "      <td>327</td>\n",
       "      <td>346</td>\n",
       "    </tr>\n",
       "    <tr>\n",
       "      <th>1</th>\n",
       "      <td>1503960366</td>\n",
       "      <td>10735</td>\n",
       "      <td>21</td>\n",
       "      <td>19</td>\n",
       "      <td>217</td>\n",
       "      <td>776</td>\n",
       "      <td>1797</td>\n",
       "      <td>2016-04-13</td>\n",
       "      <td>0</td>\n",
       "      <td>2016-04-13</td>\n",
       "      <td>2</td>\n",
       "      <td>384</td>\n",
       "      <td>407</td>\n",
       "    </tr>\n",
       "    <tr>\n",
       "      <th>2</th>\n",
       "      <td>1503960366</td>\n",
       "      <td>9762</td>\n",
       "      <td>29</td>\n",
       "      <td>34</td>\n",
       "      <td>209</td>\n",
       "      <td>726</td>\n",
       "      <td>1745</td>\n",
       "      <td>2016-04-15</td>\n",
       "      <td>0</td>\n",
       "      <td>2016-04-15</td>\n",
       "      <td>1</td>\n",
       "      <td>412</td>\n",
       "      <td>442</td>\n",
       "    </tr>\n",
       "    <tr>\n",
       "      <th>3</th>\n",
       "      <td>1503960366</td>\n",
       "      <td>12669</td>\n",
       "      <td>36</td>\n",
       "      <td>10</td>\n",
       "      <td>221</td>\n",
       "      <td>773</td>\n",
       "      <td>1863</td>\n",
       "      <td>2016-04-16</td>\n",
       "      <td>0</td>\n",
       "      <td>2016-04-16</td>\n",
       "      <td>2</td>\n",
       "      <td>340</td>\n",
       "      <td>367</td>\n",
       "    </tr>\n",
       "    <tr>\n",
       "      <th>4</th>\n",
       "      <td>1503960366</td>\n",
       "      <td>9705</td>\n",
       "      <td>38</td>\n",
       "      <td>20</td>\n",
       "      <td>164</td>\n",
       "      <td>539</td>\n",
       "      <td>1728</td>\n",
       "      <td>2016-04-17</td>\n",
       "      <td>0</td>\n",
       "      <td>2016-04-17</td>\n",
       "      <td>1</td>\n",
       "      <td>700</td>\n",
       "      <td>712</td>\n",
       "    </tr>\n",
       "    <tr>\n",
       "      <th>...</th>\n",
       "      <td>...</td>\n",
       "      <td>...</td>\n",
       "      <td>...</td>\n",
       "      <td>...</td>\n",
       "      <td>...</td>\n",
       "      <td>...</td>\n",
       "      <td>...</td>\n",
       "      <td>...</td>\n",
       "      <td>...</td>\n",
       "      <td>...</td>\n",
       "      <td>...</td>\n",
       "      <td>...</td>\n",
       "      <td>...</td>\n",
       "    </tr>\n",
       "    <tr>\n",
       "      <th>408</th>\n",
       "      <td>8792009665</td>\n",
       "      <td>7174</td>\n",
       "      <td>10</td>\n",
       "      <td>20</td>\n",
       "      <td>301</td>\n",
       "      <td>749</td>\n",
       "      <td>2896</td>\n",
       "      <td>2016-04-30</td>\n",
       "      <td>31</td>\n",
       "      <td>2016-04-30</td>\n",
       "      <td>1</td>\n",
       "      <td>343</td>\n",
       "      <td>360</td>\n",
       "    </tr>\n",
       "    <tr>\n",
       "      <th>409</th>\n",
       "      <td>8792009665</td>\n",
       "      <td>1619</td>\n",
       "      <td>0</td>\n",
       "      <td>0</td>\n",
       "      <td>79</td>\n",
       "      <td>834</td>\n",
       "      <td>1962</td>\n",
       "      <td>2016-05-01</td>\n",
       "      <td>31</td>\n",
       "      <td>2016-05-01</td>\n",
       "      <td>1</td>\n",
       "      <td>503</td>\n",
       "      <td>527</td>\n",
       "    </tr>\n",
       "    <tr>\n",
       "      <th>410</th>\n",
       "      <td>8792009665</td>\n",
       "      <td>1831</td>\n",
       "      <td>0</td>\n",
       "      <td>0</td>\n",
       "      <td>101</td>\n",
       "      <td>916</td>\n",
       "      <td>2015</td>\n",
       "      <td>2016-05-02</td>\n",
       "      <td>31</td>\n",
       "      <td>2016-05-02</td>\n",
       "      <td>1</td>\n",
       "      <td>415</td>\n",
       "      <td>423</td>\n",
       "    </tr>\n",
       "    <tr>\n",
       "      <th>411</th>\n",
       "      <td>8792009665</td>\n",
       "      <td>2421</td>\n",
       "      <td>0</td>\n",
       "      <td>0</td>\n",
       "      <td>156</td>\n",
       "      <td>739</td>\n",
       "      <td>2297</td>\n",
       "      <td>2016-05-03</td>\n",
       "      <td>31</td>\n",
       "      <td>2016-05-03</td>\n",
       "      <td>1</td>\n",
       "      <td>516</td>\n",
       "      <td>545</td>\n",
       "    </tr>\n",
       "    <tr>\n",
       "      <th>412</th>\n",
       "      <td>8792009665</td>\n",
       "      <td>2283</td>\n",
       "      <td>0</td>\n",
       "      <td>0</td>\n",
       "      <td>129</td>\n",
       "      <td>848</td>\n",
       "      <td>2067</td>\n",
       "      <td>2016-05-04</td>\n",
       "      <td>31</td>\n",
       "      <td>2016-05-04</td>\n",
       "      <td>1</td>\n",
       "      <td>439</td>\n",
       "      <td>463</td>\n",
       "    </tr>\n",
       "  </tbody>\n",
       "</table>\n",
       "<p>413 rows × 13 columns</p>\n",
       "</div>"
      ],
      "text/plain": [
       "             Id  TotalSteps  VeryActiveMinutes  FairlyActiveMinutes  \\\n",
       "0    1503960366       13162                 25                   13   \n",
       "1    1503960366       10735                 21                   19   \n",
       "2    1503960366        9762                 29                   34   \n",
       "3    1503960366       12669                 36                   10   \n",
       "4    1503960366        9705                 38                   20   \n",
       "..          ...         ...                ...                  ...   \n",
       "408  8792009665        7174                 10                   20   \n",
       "409  8792009665        1619                  0                    0   \n",
       "410  8792009665        1831                  0                    0   \n",
       "411  8792009665        2421                  0                    0   \n",
       "412  8792009665        2283                  0                    0   \n",
       "\n",
       "     LightlyActiveMinutes  SedentaryMinutes  Calories    Time_str PersonID  \\\n",
       "0                     328               728      1985  2016-04-12        0   \n",
       "1                     217               776      1797  2016-04-13        0   \n",
       "2                     209               726      1745  2016-04-15        0   \n",
       "3                     221               773      1863  2016-04-16        0   \n",
       "4                     164               539      1728  2016-04-17        0   \n",
       "..                    ...               ...       ...         ...      ...   \n",
       "408                   301               749      2896  2016-04-30       31   \n",
       "409                    79               834      1962  2016-05-01       31   \n",
       "410                   101               916      2015  2016-05-02       31   \n",
       "411                   156               739      2297  2016-05-03       31   \n",
       "412                   129               848      2067  2016-05-04       31   \n",
       "\n",
       "            Day  TotalSleepRecords  TotalMinutesAsleep  TotalTimeInBed  \n",
       "0    2016-04-12                  1                 327             346  \n",
       "1    2016-04-13                  2                 384             407  \n",
       "2    2016-04-15                  1                 412             442  \n",
       "3    2016-04-16                  2                 340             367  \n",
       "4    2016-04-17                  1                 700             712  \n",
       "..          ...                ...                 ...             ...  \n",
       "408  2016-04-30                  1                 343             360  \n",
       "409  2016-05-01                  1                 503             527  \n",
       "410  2016-05-02                  1                 415             423  \n",
       "411  2016-05-03                  1                 516             545  \n",
       "412  2016-05-04                  1                 439             463  \n",
       "\n",
       "[413 rows x 13 columns]"
      ]
     },
     "execution_count": 9,
     "metadata": {},
     "output_type": "execute_result"
    }
   ],
   "source": [
    "meged_active_sleep"
   ]
  },
  {
   "cell_type": "code",
   "execution_count": 10,
   "metadata": {},
   "outputs": [
    {
     "data": {
      "text/html": [
       "<div>\n",
       "<style scoped>\n",
       "    .dataframe tbody tr th:only-of-type {\n",
       "        vertical-align: middle;\n",
       "    }\n",
       "\n",
       "    .dataframe tbody tr th {\n",
       "        vertical-align: top;\n",
       "    }\n",
       "\n",
       "    .dataframe thead th {\n",
       "        text-align: right;\n",
       "    }\n",
       "</style>\n",
       "<table border=\"1\" class=\"dataframe\">\n",
       "  <thead>\n",
       "    <tr style=\"text-align: right;\">\n",
       "      <th></th>\n",
       "      <th>Id</th>\n",
       "      <th>TotalSteps</th>\n",
       "      <th>VeryActiveMinutes</th>\n",
       "      <th>FairlyActiveMinutes</th>\n",
       "      <th>LightlyActiveMinutes</th>\n",
       "      <th>SedentaryMinutes</th>\n",
       "      <th>Calories</th>\n",
       "      <th>Time_str</th>\n",
       "      <th>PersonID</th>\n",
       "      <th>Day</th>\n",
       "      <th>TotalSleepRecords</th>\n",
       "      <th>TotalMinutesAsleep</th>\n",
       "      <th>TotalTimeInBed</th>\n",
       "    </tr>\n",
       "  </thead>\n",
       "  <tbody>\n",
       "    <tr>\n",
       "      <th>0</th>\n",
       "      <td>1503960366</td>\n",
       "      <td>13162</td>\n",
       "      <td>25</td>\n",
       "      <td>13</td>\n",
       "      <td>328</td>\n",
       "      <td>728</td>\n",
       "      <td>1985</td>\n",
       "      <td>2016-04-12</td>\n",
       "      <td>0</td>\n",
       "      <td>2016-04-12</td>\n",
       "      <td>1</td>\n",
       "      <td>327</td>\n",
       "      <td>346</td>\n",
       "    </tr>\n",
       "    <tr>\n",
       "      <th>1</th>\n",
       "      <td>1503960366</td>\n",
       "      <td>10735</td>\n",
       "      <td>21</td>\n",
       "      <td>19</td>\n",
       "      <td>217</td>\n",
       "      <td>776</td>\n",
       "      <td>1797</td>\n",
       "      <td>2016-04-13</td>\n",
       "      <td>0</td>\n",
       "      <td>2016-04-13</td>\n",
       "      <td>2</td>\n",
       "      <td>384</td>\n",
       "      <td>407</td>\n",
       "    </tr>\n",
       "    <tr>\n",
       "      <th>2</th>\n",
       "      <td>1503960366</td>\n",
       "      <td>9762</td>\n",
       "      <td>29</td>\n",
       "      <td>34</td>\n",
       "      <td>209</td>\n",
       "      <td>726</td>\n",
       "      <td>1745</td>\n",
       "      <td>2016-04-15</td>\n",
       "      <td>0</td>\n",
       "      <td>2016-04-15</td>\n",
       "      <td>1</td>\n",
       "      <td>412</td>\n",
       "      <td>442</td>\n",
       "    </tr>\n",
       "    <tr>\n",
       "      <th>3</th>\n",
       "      <td>1503960366</td>\n",
       "      <td>12669</td>\n",
       "      <td>36</td>\n",
       "      <td>10</td>\n",
       "      <td>221</td>\n",
       "      <td>773</td>\n",
       "      <td>1863</td>\n",
       "      <td>2016-04-16</td>\n",
       "      <td>0</td>\n",
       "      <td>2016-04-16</td>\n",
       "      <td>2</td>\n",
       "      <td>340</td>\n",
       "      <td>367</td>\n",
       "    </tr>\n",
       "    <tr>\n",
       "      <th>4</th>\n",
       "      <td>1503960366</td>\n",
       "      <td>9705</td>\n",
       "      <td>38</td>\n",
       "      <td>20</td>\n",
       "      <td>164</td>\n",
       "      <td>539</td>\n",
       "      <td>1728</td>\n",
       "      <td>2016-04-17</td>\n",
       "      <td>0</td>\n",
       "      <td>2016-04-17</td>\n",
       "      <td>1</td>\n",
       "      <td>700</td>\n",
       "      <td>712</td>\n",
       "    </tr>\n",
       "  </tbody>\n",
       "</table>\n",
       "</div>"
      ],
      "text/plain": [
       "           Id  TotalSteps  VeryActiveMinutes  FairlyActiveMinutes  \\\n",
       "0  1503960366       13162                 25                   13   \n",
       "1  1503960366       10735                 21                   19   \n",
       "2  1503960366        9762                 29                   34   \n",
       "3  1503960366       12669                 36                   10   \n",
       "4  1503960366        9705                 38                   20   \n",
       "\n",
       "   LightlyActiveMinutes  SedentaryMinutes  Calories    Time_str PersonID  \\\n",
       "0                   328               728      1985  2016-04-12        0   \n",
       "1                   217               776      1797  2016-04-13        0   \n",
       "2                   209               726      1745  2016-04-15        0   \n",
       "3                   221               773      1863  2016-04-16        0   \n",
       "4                   164               539      1728  2016-04-17        0   \n",
       "\n",
       "          Day  TotalSleepRecords  TotalMinutesAsleep  TotalTimeInBed  \n",
       "0  2016-04-12                  1                 327             346  \n",
       "1  2016-04-13                  2                 384             407  \n",
       "2  2016-04-15                  1                 412             442  \n",
       "3  2016-04-16                  2                 340             367  \n",
       "4  2016-04-17                  1                 700             712  "
      ]
     },
     "execution_count": 10,
     "metadata": {},
     "output_type": "execute_result"
    }
   ],
   "source": [
    "meged_active_sleep.head()"
   ]
  },
  {
   "cell_type": "code",
   "execution_count": 11,
   "metadata": {},
   "outputs": [
    {
     "data": {
      "application/vnd.plotly.v1+json": {
       "config": {
        "plotlyServerURL": "https://plot.ly"
       },
       "data": [
        {
         "hovertemplate": "Id=1503960366<br>Calories=%{x}<br>TotalTimeInBed=%{y}<extra></extra>",
         "legendgroup": "1503960366",
         "line": {
          "color": "#636efa",
          "dash": "solid"
         },
         "marker": {
          "symbol": "circle"
         },
         "mode": "markers+lines",
         "name": "1503960366",
         "orientation": "v",
         "showlegend": true,
         "type": "scatter",
         "x": [
          1985,
          1797,
          1745,
          1863,
          1728,
          2035,
          1786,
          1775,
          1949,
          1788,
          2013,
          1970,
          1898,
          1837,
          1947,
          1820,
          2004,
          1990,
          1959,
          1896,
          1821,
          1740,
          1819,
          1859,
          1783
         ],
         "xaxis": "x",
         "y": [
          346,
          407,
          442,
          367,
          712,
          320,
          377,
          364,
          384,
          449,
          323,
          274,
          393,
          354,
          425,
          396,
          309,
          296,
          264,
          367,
          349,
          611,
          342,
          403,
          306
         ],
         "yaxis": "y"
        },
        {
         "hovertemplate": "Id=1644430081<br>Calories=%{x}<br>TotalTimeInBed=%{y}<extra></extra>",
         "legendgroup": "1644430081",
         "line": {
          "color": "#EF553B",
          "dash": "solid"
         },
         "marker": {
          "symbol": "circle"
         },
         "mode": "markers+lines",
         "name": "1644430081",
         "orientation": "v",
         "showlegend": true,
         "type": "scatter",
         "x": [
          2498,
          3846,
          2580,
          2987
         ],
         "xaxis": "x",
         "y": [
          127,
          142,
          961,
          154
         ],
         "yaxis": "y"
        },
        {
         "hovertemplate": "Id=1844505072<br>Calories=%{x}<br>TotalTimeInBed=%{y}<extra></extra>",
         "legendgroup": "1844505072",
         "line": {
          "color": "#00cc96",
          "dash": "solid"
         },
         "marker": {
          "symbol": "circle"
         },
         "mode": "markers+lines",
         "name": "1844505072",
         "orientation": "v",
         "showlegend": true,
         "type": "scatter",
         "x": [
          1725,
          1763,
          1541
         ],
         "xaxis": "x",
         "y": [
          961,
          961,
          961
         ],
         "yaxis": "y"
        },
        {
         "hovertemplate": "Id=1927972279<br>Calories=%{x}<br>TotalTimeInBed=%{y}<extra></extra>",
         "legendgroup": "1927972279",
         "line": {
          "color": "#ab63fa",
          "dash": "solid"
         },
         "marker": {
          "symbol": "circle"
         },
         "mode": "markers+lines",
         "name": "1927972279",
         "orientation": "v",
         "showlegend": true,
         "type": "scatter",
         "x": [
          2220,
          2151,
          2221,
          2638,
          2351
         ],
         "xaxis": "x",
         "y": [
          775,
          422,
          499,
          315,
          178
         ],
         "yaxis": "y"
        },
        {
         "hovertemplate": "Id=2026352035<br>Calories=%{x}<br>TotalTimeInBed=%{y}<extra></extra>",
         "legendgroup": "2026352035",
         "line": {
          "color": "#FFA15A",
          "dash": "solid"
         },
         "marker": {
          "symbol": "circle"
         },
         "mode": "markers+lines",
         "name": "2026352035",
         "orientation": "v",
         "showlegend": true,
         "type": "scatter",
         "x": [
          1459,
          1521,
          1431,
          1444,
          1373,
          1214,
          1356,
          1667,
          1370,
          1399,
          1916,
          1401,
          1576,
          1593,
          1649,
          1692,
          1506,
          1447,
          1690,
          1658,
          1926,
          1736,
          1491,
          1555,
          1869,
          1141,
          1698,
          1364
         ],
         "xaxis": "x",
         "y": [
          546,
          565,
          568,
          573,
          567,
          498,
          540,
          510,
          514,
          545,
          554,
          591,
          531,
          545,
          545,
          510,
          607,
          546,
          543,
          560,
          485,
          548,
          521,
          568,
          556,
          380,
          553,
          485
         ],
         "yaxis": "y"
        },
        {
         "hovertemplate": "Id=2320127002<br>Calories=%{x}<br>TotalTimeInBed=%{y}<extra></extra>",
         "legendgroup": "2320127002",
         "line": {
          "color": "#19d3f3",
          "dash": "solid"
         },
         "marker": {
          "symbol": "circle"
         },
         "mode": "markers+lines",
         "name": "2320127002",
         "orientation": "v",
         "showlegend": true,
         "type": "scatter",
         "x": [
          1804
         ],
         "xaxis": "x",
         "y": [
          69
         ],
         "yaxis": "y"
        },
        {
         "hovertemplate": "Id=2347167796<br>Calories=%{x}<br>TotalTimeInBed=%{y}<extra></extra>",
         "legendgroup": "2347167796",
         "line": {
          "color": "#FF6692",
          "dash": "solid"
         },
         "marker": {
          "symbol": "circle"
         },
         "mode": "markers+lines",
         "name": "2347167796",
         "orientation": "v",
         "showlegend": true,
         "type": "scatter",
         "x": [
          2038,
          2010,
          2133,
          1882,
          1944,
          2346,
          2048,
          1946,
          2629,
          2187,
          2095,
          1861,
          2194,
          1854,
          403
         ],
         "xaxis": "x",
         "y": [
          531,
          489,
          504,
          602,
          557,
          514,
          484,
          461,
          386,
          459,
          471,
          490,
          499,
          450,
          473
         ],
         "yaxis": "y"
        },
        {
         "hovertemplate": "Id=3977333714<br>Calories=%{x}<br>TotalTimeInBed=%{y}<extra></extra>",
         "legendgroup": "3977333714",
         "line": {
          "color": "#B6E880",
          "dash": "solid"
         },
         "marker": {
          "symbol": "circle"
         },
         "mode": "markers+lines",
         "name": "3977333714",
         "orientation": "v",
         "showlegend": true,
         "type": "scatter",
         "x": [
          1450,
          1495,
          1433,
          1468,
          1625,
          1529,
          1584,
          1638,
          1554,
          1397,
          1481,
          1638,
          1655,
          1570,
          1551,
          1377,
          1407,
          1545,
          1650,
          1501,
          1760,
          1710,
          1628,
          1618,
          1590,
          1574,
          1633,
          1630
         ],
         "xaxis": "x",
         "y": [
          469,
          456,
          397,
          556,
          510,
          566,
          522,
          395,
          305,
          512,
          476,
          372,
          526,
          467,
          371,
          540,
          423,
          478,
          382,
          626,
          384,
          500,
          336,
          480,
          512,
          443,
          456,
          452
         ],
         "yaxis": "y"
        },
        {
         "hovertemplate": "Id=4020332650<br>Calories=%{x}<br>TotalTimeInBed=%{y}<extra></extra>",
         "legendgroup": "4020332650",
         "line": {
          "color": "#FF97FF",
          "dash": "solid"
         },
         "marker": {
          "symbol": "circle"
         },
         "mode": "markers+lines",
         "name": "4020332650",
         "orientation": "v",
         "showlegend": true,
         "type": "scatter",
         "x": [
          3654,
          3051,
          2828,
          3879,
          3429,
          2704,
          3089,
          2926
         ],
         "xaxis": "x",
         "y": [
          541,
          77,
          332,
          536,
          248,
          408,
          402,
          494
         ],
         "yaxis": "y"
        },
        {
         "hovertemplate": "Id=4319703577<br>Calories=%{x}<br>TotalTimeInBed=%{y}<extra></extra>",
         "legendgroup": "4319703577",
         "line": {
          "color": "#FECB52",
          "dash": "solid"
         },
         "marker": {
          "symbol": "circle"
         },
         "mode": "markers+lines",
         "name": "4319703577",
         "orientation": "v",
         "showlegend": true,
         "type": "scatter",
         "x": [
          2302,
          1985,
          1884,
          1632,
          2200,
          2220,
          1792,
          1886,
          1945,
          1880,
          2314,
          2236,
          2324,
          2367,
          2175,
          2092,
          1593,
          2270,
          2235,
          2266,
          2158,
          1792,
          2345,
          2260,
          2232,
          257
         ],
         "xaxis": "x",
         "y": [
          557,
          491,
          522,
          551,
          498,
          543,
          65,
          550,
          722,
          501,
          506,
          516,
          307,
          522,
          546,
          516,
          500,
          506,
          512,
          491,
          530,
          638,
          565,
          517,
          558,
          321
         ],
         "yaxis": "y"
        },
        {
         "hovertemplate": "Id=4388161847<br>Calories=%{x}<br>TotalTimeInBed=%{y}<extra></extra>",
         "legendgroup": "4388161847",
         "line": {
          "color": "#636efa",
          "dash": "solid"
         },
         "marker": {
          "symbol": "circle"
         },
         "mode": "markers+lines",
         "name": "4388161847",
         "orientation": "v",
         "showlegend": true,
         "type": "scatter",
         "x": [
          3066,
          3073,
          2572,
          3274,
          3015,
          3083,
          3069,
          3544,
          3306,
          2885,
          2929,
          3074,
          2969,
          3283,
          2926,
          3147,
          3162,
          2899,
          2899,
          4022,
          3934,
          3013,
          3061,
          2954
         ],
         "xaxis": "x",
         "y": [
          526,
          448,
          641,
          104,
          338,
          451,
          458,
          85,
          501,
          595,
          346,
          500,
          458,
          430,
          597,
          376,
          414,
          495,
          495,
          496,
          541,
          65,
          375,
          494
         ],
         "yaxis": "y"
        },
        {
         "hovertemplate": "Id=4445114986<br>Calories=%{x}<br>TotalTimeInBed=%{y}<extra></extra>",
         "legendgroup": "4445114986",
         "line": {
          "color": "#EF553B",
          "dash": "solid"
         },
         "marker": {
          "symbol": "circle"
         },
         "mode": "markers+lines",
         "name": "4445114986",
         "orientation": "v",
         "showlegend": true,
         "type": "scatter",
         "x": [
          2113,
          2095,
          2194,
          2496,
          2180,
          1933,
          1954,
          1974,
          2150,
          2432,
          2070,
          2291,
          2361,
          2203,
          2196,
          2363,
          2246,
          2336,
          2421,
          2070,
          2120,
          2211,
          2123,
          2423,
          2281,
          2181,
          2499,
          1212
         ],
         "xaxis": "x",
         "y": [
          457,
          406,
          492,
          379,
          499,
          107,
          424,
          462,
          469,
          417,
          345,
          391,
          374,
          442,
          108,
          353,
          459,
          542,
          450,
          363,
          513,
          402,
          436,
          391,
          533,
          426,
          530,
          501
         ],
         "yaxis": "y"
        },
        {
         "hovertemplate": "Id=4558609924<br>Calories=%{x}<br>TotalTimeInBed=%{y}<extra></extra>",
         "legendgroup": "4558609924",
         "line": {
          "color": "#00cc96",
          "dash": "solid"
         },
         "marker": {
          "symbol": "circle"
         },
         "mode": "markers+lines",
         "name": "4558609924",
         "orientation": "v",
         "showlegend": true,
         "type": "scatter",
         "x": [
          2486,
          2223,
          1918,
          1692,
          2666
         ],
         "xaxis": "x",
         "y": [
          137,
          121,
          179,
          129,
          134
         ],
         "yaxis": "y"
        },
        {
         "hovertemplate": "Id=4702921684<br>Calories=%{x}<br>TotalTimeInBed=%{y}<extra></extra>",
         "legendgroup": "4702921684",
         "line": {
          "color": "#ab63fa",
          "dash": "solid"
         },
         "marker": {
          "symbol": "circle"
         },
         "mode": "markers+lines",
         "name": "4702921684",
         "orientation": "v",
         "showlegend": true,
         "type": "scatter",
         "x": [
          2947,
          2898,
          2984,
          2896,
          3328,
          3394,
          3013,
          2812,
          3061,
          2729,
          3691,
          3538,
          3064,
          2784,
          2908,
          3033,
          3165,
          3115,
          3145,
          3004,
          3006,
          2859,
          3683,
          3683,
          2990,
          3172,
          3069,
          1240
         ],
         "xaxis": "x",
         "y": [
          439,
          430,
          415,
          257,
          406,
          612,
          312,
          487,
          468,
          434,
          475,
          506,
          380,
          429,
          449,
          461,
          447,
          501,
          373,
          434,
          428,
          449,
          543,
          543,
          458,
          431,
          366,
          442
         ],
         "yaxis": "y"
        },
        {
         "hovertemplate": "Id=5553957443<br>Calories=%{x}<br>TotalTimeInBed=%{y}<extra></extra>",
         "legendgroup": "5553957443",
         "line": {
          "color": "#FFA15A",
          "dash": "solid"
         },
         "marker": {
          "symbol": "circle"
         },
         "mode": "markers+lines",
         "name": "5553957443",
         "orientation": "v",
         "showlegend": true,
         "type": "scatter",
         "x": [
          2026,
          1718,
          2324,
          2254,
          1831,
          1397,
          1683,
          2284,
          1570,
          2066,
          2105,
          1776,
          1507,
          2033,
          2093,
          1922,
          1999,
          2169,
          1463,
          1747,
          1996,
          2116,
          1698,
          2156,
          1916,
          1494,
          1762,
          2272,
          2335,
          1693,
          741
         ],
         "xaxis": "x",
         "y": [
          464,
          488,
          418,
          409,
          686,
          402,
          541,
          410,
          678,
          431,
          353,
          725,
          640,
          468,
          453,
          391,
          457,
          495,
          843,
          686,
          471,
          429,
          470,
          464,
          434,
          470,
          608,
          494,
          443,
          486,
          475
         ],
         "yaxis": "y"
        },
        {
         "hovertemplate": "Id=5577150313<br>Calories=%{x}<br>TotalTimeInBed=%{y}<extra></extra>",
         "legendgroup": "5577150313",
         "line": {
          "color": "#19d3f3",
          "dash": "solid"
         },
         "marker": {
          "symbol": "circle"
         },
         "mode": "markers+lines",
         "name": "5577150313",
         "orientation": "v",
         "showlegend": true,
         "type": "scatter",
         "x": [
          3405,
          2551,
          4022,
          4005,
          4274,
          4552,
          3625,
          3501,
          3192,
          4018,
          3329,
          3152,
          4392,
          3374,
          3088,
          3294,
          3580,
          3544,
          4501,
          4546,
          3014,
          3795,
          2755,
          3004,
          3841,
          1665
         ],
         "xaxis": "x",
         "y": [
          438,
          458,
          497,
          413,
          445,
          583,
          553,
          465,
          480,
          437,
          366,
          402,
          615,
          461,
          377,
          452,
          372,
          485,
          433,
          398,
          553,
          543,
          634,
          78,
          562,
          476
         ],
         "yaxis": "y"
        },
        {
         "hovertemplate": "Id=6117666160<br>Calories=%{x}<br>TotalTimeInBed=%{y}<extra></extra>",
         "legendgroup": "6117666160",
         "line": {
          "color": "#FF6692",
          "dash": "solid"
         },
         "marker": {
          "symbol": "circle"
         },
         "mode": "markers+lines",
         "name": "6117666160",
         "orientation": "v",
         "showlegend": true,
         "type": "scatter",
         "x": [
          2828,
          2225,
          2018,
          2606,
          2536,
          4900,
          2409,
          2651,
          2305,
          2576,
          1879,
          2560,
          2361,
          2636,
          1838,
          2469,
          2250,
          1248
         ],
         "xaxis": "x",
         "y": [
          398,
          350,
          510,
          492,
          502,
          550,
          546,
          539,
          367,
          557,
          416,
          636,
          575,
          415,
          698,
          507,
          603,
          522
         ],
         "yaxis": "y"
        },
        {
         "hovertemplate": "Id=6775888955<br>Calories=%{x}<br>TotalTimeInBed=%{y}<extra></extra>",
         "legendgroup": "6775888955",
         "line": {
          "color": "#B6E880",
          "dash": "solid"
         },
         "marker": {
          "symbol": "circle"
         },
         "mode": "markers+lines",
         "name": "6775888955",
         "orientation": "v",
         "showlegend": true,
         "type": "scatter",
         "x": [
          2400,
          2507,
          2127
         ],
         "xaxis": "x",
         "y": [
          260,
          441,
          406
         ],
         "yaxis": "y"
        },
        {
         "hovertemplate": "Id=6962181067<br>Calories=%{x}<br>TotalTimeInBed=%{y}<extra></extra>",
         "legendgroup": "6962181067",
         "line": {
          "color": "#FF97FF",
          "dash": "solid"
         },
         "marker": {
          "symbol": "circle"
         },
         "mode": "markers+lines",
         "name": "6962181067",
         "orientation": "v",
         "showlegend": true,
         "type": "scatter",
         "x": [
          1994,
          1718,
          1466,
          1756,
          2173,
          2027,
          2039,
          2046,
          2174,
          2179,
          2086,
          2571,
          1705,
          2194,
          2012,
          2034,
          2182,
          2254,
          2002,
          1740,
          2162,
          2072,
          2086,
          2066,
          1850,
          1947,
          1659,
          2105,
          2361,
          1855,
          928
         ],
         "xaxis": "x",
         "y": [
          387,
          679,
          535,
          386,
          366,
          446,
          458,
          535,
          424,
          457,
          435,
          546,
          514,
          415,
          446,
          467,
          453,
          447,
          424,
          426,
          482,
          418,
          455,
          491,
          462,
          334,
          569,
          497,
          481,
          480,
          535
         ],
         "yaxis": "y"
        },
        {
         "hovertemplate": "Id=7007744171<br>Calories=%{x}<br>TotalTimeInBed=%{y}<extra></extra>",
         "legendgroup": "7007744171",
         "line": {
          "color": "#FECB52",
          "dash": "solid"
         },
         "marker": {
          "symbol": "circle"
         },
         "mode": "markers+lines",
         "name": "7007744171",
         "orientation": "v",
         "showlegend": true,
         "type": "scatter",
         "x": [
          2076,
          2225
         ],
         "xaxis": "x",
         "y": [
          82,
          61
         ],
         "yaxis": "y"
        },
        {
         "hovertemplate": "Id=7086361926<br>Calories=%{x}<br>TotalTimeInBed=%{y}<extra></extra>",
         "legendgroup": "7086361926",
         "line": {
          "color": "#636efa",
          "dash": "solid"
         },
         "marker": {
          "symbol": "circle"
         },
         "mode": "markers+lines",
         "name": "7086361926",
         "orientation": "v",
         "showlegend": true,
         "type": "scatter",
         "x": [
          2772,
          2516,
          2734,
          2395,
          2944,
          2997,
          2463,
          2846,
          2049,
          2752,
          2781,
          2693,
          2862,
          2995,
          2730,
          2754,
          2754,
          2655,
          2924,
          2739,
          2534,
          2960,
          2735,
          1199
         ],
         "xaxis": "x",
         "y": [
          525,
          465,
          476,
          386,
          483,
          502,
          411,
          448,
          704,
          447,
          500,
          479,
          367,
          489,
          407,
          459,
          461,
          436,
          333,
          548,
          510,
          438,
          463,
          457
         ],
         "yaxis": "y"
        },
        {
         "hovertemplate": "Id=8053475328<br>Calories=%{x}<br>TotalTimeInBed=%{y}<extra></extra>",
         "legendgroup": "8053475328",
         "line": {
          "color": "#EF553B",
          "dash": "solid"
         },
         "marker": {
          "symbol": "circle"
         },
         "mode": "markers+lines",
         "name": "8053475328",
         "orientation": "v",
         "showlegend": true,
         "type": "scatter",
         "x": [
          3043,
          3554,
          3331
         ],
         "xaxis": "x",
         "y": [
          493,
          337,
          75
         ],
         "yaxis": "y"
        },
        {
         "hovertemplate": "Id=8378563200<br>Calories=%{x}<br>TotalTimeInBed=%{y}<extra></extra>",
         "legendgroup": "8378563200",
         "line": {
          "color": "#00cc96",
          "dash": "solid"
         },
         "marker": {
          "symbol": "circle"
         },
         "mode": "markers+lines",
         "name": "8378563200",
         "orientation": "v",
         "showlegend": true,
         "type": "scatter",
         "x": [
          3635,
          4079,
          4163,
          3666,
          3363,
          2572,
          4157,
          4092,
          3787,
          4236,
          4044,
          2908,
          2741,
          4005,
          4005,
          3763,
          3061,
          2884,
          2982,
          2660,
          3369,
          3491,
          3784,
          3110,
          3783,
          3644,
          2799,
          2685,
          3721,
          3586,
          3788,
          1976
         ],
         "xaxis": "x",
         "y": [
          356,
          487,
          455,
          533,
          689,
          591,
          451,
          421,
          409,
          417,
          469,
          591,
          492,
          402,
          402,
          584,
          600,
          556,
          562,
          555,
          539,
          385,
          429,
          477,
          417,
          355,
          513,
          606,
          399,
          391,
          387,
          546
         ],
         "yaxis": "y"
        },
        {
         "hovertemplate": "Id=8792009665<br>Calories=%{x}<br>TotalTimeInBed=%{y}<extra></extra>",
         "legendgroup": "8792009665",
         "line": {
          "color": "#ab63fa",
          "dash": "solid"
         },
         "marker": {
          "symbol": "circle"
         },
         "mode": "markers+lines",
         "name": "8792009665",
         "orientation": "v",
         "showlegend": true,
         "type": "scatter",
         "x": [
          2044,
          1934,
          1963,
          2009,
          2188,
          2419,
          2748,
          2067,
          2780,
          3101,
          2896,
          1962,
          2015,
          2297,
          2067
         ],
         "xaxis": "x",
         "y": [
          493,
          552,
          503,
          377,
          547,
          407,
          360,
          428,
          416,
          406,
          360,
          527,
          423,
          545,
          463
         ],
         "yaxis": "y"
        }
       ],
       "layout": {
        "legend": {
         "title": {
          "text": "Id"
         },
         "tracegroupgap": 0
        },
        "margin": {
         "t": 60
        },
        "template": {
         "data": {
          "bar": [
           {
            "error_x": {
             "color": "#2a3f5f"
            },
            "error_y": {
             "color": "#2a3f5f"
            },
            "marker": {
             "line": {
              "color": "#E5ECF6",
              "width": 0.5
             },
             "pattern": {
              "fillmode": "overlay",
              "size": 10,
              "solidity": 0.2
             }
            },
            "type": "bar"
           }
          ],
          "barpolar": [
           {
            "marker": {
             "line": {
              "color": "#E5ECF6",
              "width": 0.5
             },
             "pattern": {
              "fillmode": "overlay",
              "size": 10,
              "solidity": 0.2
             }
            },
            "type": "barpolar"
           }
          ],
          "carpet": [
           {
            "aaxis": {
             "endlinecolor": "#2a3f5f",
             "gridcolor": "white",
             "linecolor": "white",
             "minorgridcolor": "white",
             "startlinecolor": "#2a3f5f"
            },
            "baxis": {
             "endlinecolor": "#2a3f5f",
             "gridcolor": "white",
             "linecolor": "white",
             "minorgridcolor": "white",
             "startlinecolor": "#2a3f5f"
            },
            "type": "carpet"
           }
          ],
          "choropleth": [
           {
            "colorbar": {
             "outlinewidth": 0,
             "ticks": ""
            },
            "type": "choropleth"
           }
          ],
          "contour": [
           {
            "colorbar": {
             "outlinewidth": 0,
             "ticks": ""
            },
            "colorscale": [
             [
              0,
              "#0d0887"
             ],
             [
              0.1111111111111111,
              "#46039f"
             ],
             [
              0.2222222222222222,
              "#7201a8"
             ],
             [
              0.3333333333333333,
              "#9c179e"
             ],
             [
              0.4444444444444444,
              "#bd3786"
             ],
             [
              0.5555555555555556,
              "#d8576b"
             ],
             [
              0.6666666666666666,
              "#ed7953"
             ],
             [
              0.7777777777777778,
              "#fb9f3a"
             ],
             [
              0.8888888888888888,
              "#fdca26"
             ],
             [
              1,
              "#f0f921"
             ]
            ],
            "type": "contour"
           }
          ],
          "contourcarpet": [
           {
            "colorbar": {
             "outlinewidth": 0,
             "ticks": ""
            },
            "type": "contourcarpet"
           }
          ],
          "heatmap": [
           {
            "colorbar": {
             "outlinewidth": 0,
             "ticks": ""
            },
            "colorscale": [
             [
              0,
              "#0d0887"
             ],
             [
              0.1111111111111111,
              "#46039f"
             ],
             [
              0.2222222222222222,
              "#7201a8"
             ],
             [
              0.3333333333333333,
              "#9c179e"
             ],
             [
              0.4444444444444444,
              "#bd3786"
             ],
             [
              0.5555555555555556,
              "#d8576b"
             ],
             [
              0.6666666666666666,
              "#ed7953"
             ],
             [
              0.7777777777777778,
              "#fb9f3a"
             ],
             [
              0.8888888888888888,
              "#fdca26"
             ],
             [
              1,
              "#f0f921"
             ]
            ],
            "type": "heatmap"
           }
          ],
          "heatmapgl": [
           {
            "colorbar": {
             "outlinewidth": 0,
             "ticks": ""
            },
            "colorscale": [
             [
              0,
              "#0d0887"
             ],
             [
              0.1111111111111111,
              "#46039f"
             ],
             [
              0.2222222222222222,
              "#7201a8"
             ],
             [
              0.3333333333333333,
              "#9c179e"
             ],
             [
              0.4444444444444444,
              "#bd3786"
             ],
             [
              0.5555555555555556,
              "#d8576b"
             ],
             [
              0.6666666666666666,
              "#ed7953"
             ],
             [
              0.7777777777777778,
              "#fb9f3a"
             ],
             [
              0.8888888888888888,
              "#fdca26"
             ],
             [
              1,
              "#f0f921"
             ]
            ],
            "type": "heatmapgl"
           }
          ],
          "histogram": [
           {
            "marker": {
             "pattern": {
              "fillmode": "overlay",
              "size": 10,
              "solidity": 0.2
             }
            },
            "type": "histogram"
           }
          ],
          "histogram2d": [
           {
            "colorbar": {
             "outlinewidth": 0,
             "ticks": ""
            },
            "colorscale": [
             [
              0,
              "#0d0887"
             ],
             [
              0.1111111111111111,
              "#46039f"
             ],
             [
              0.2222222222222222,
              "#7201a8"
             ],
             [
              0.3333333333333333,
              "#9c179e"
             ],
             [
              0.4444444444444444,
              "#bd3786"
             ],
             [
              0.5555555555555556,
              "#d8576b"
             ],
             [
              0.6666666666666666,
              "#ed7953"
             ],
             [
              0.7777777777777778,
              "#fb9f3a"
             ],
             [
              0.8888888888888888,
              "#fdca26"
             ],
             [
              1,
              "#f0f921"
             ]
            ],
            "type": "histogram2d"
           }
          ],
          "histogram2dcontour": [
           {
            "colorbar": {
             "outlinewidth": 0,
             "ticks": ""
            },
            "colorscale": [
             [
              0,
              "#0d0887"
             ],
             [
              0.1111111111111111,
              "#46039f"
             ],
             [
              0.2222222222222222,
              "#7201a8"
             ],
             [
              0.3333333333333333,
              "#9c179e"
             ],
             [
              0.4444444444444444,
              "#bd3786"
             ],
             [
              0.5555555555555556,
              "#d8576b"
             ],
             [
              0.6666666666666666,
              "#ed7953"
             ],
             [
              0.7777777777777778,
              "#fb9f3a"
             ],
             [
              0.8888888888888888,
              "#fdca26"
             ],
             [
              1,
              "#f0f921"
             ]
            ],
            "type": "histogram2dcontour"
           }
          ],
          "mesh3d": [
           {
            "colorbar": {
             "outlinewidth": 0,
             "ticks": ""
            },
            "type": "mesh3d"
           }
          ],
          "parcoords": [
           {
            "line": {
             "colorbar": {
              "outlinewidth": 0,
              "ticks": ""
             }
            },
            "type": "parcoords"
           }
          ],
          "pie": [
           {
            "automargin": true,
            "type": "pie"
           }
          ],
          "scatter": [
           {
            "fillpattern": {
             "fillmode": "overlay",
             "size": 10,
             "solidity": 0.2
            },
            "type": "scatter"
           }
          ],
          "scatter3d": [
           {
            "line": {
             "colorbar": {
              "outlinewidth": 0,
              "ticks": ""
             }
            },
            "marker": {
             "colorbar": {
              "outlinewidth": 0,
              "ticks": ""
             }
            },
            "type": "scatter3d"
           }
          ],
          "scattercarpet": [
           {
            "marker": {
             "colorbar": {
              "outlinewidth": 0,
              "ticks": ""
             }
            },
            "type": "scattercarpet"
           }
          ],
          "scattergeo": [
           {
            "marker": {
             "colorbar": {
              "outlinewidth": 0,
              "ticks": ""
             }
            },
            "type": "scattergeo"
           }
          ],
          "scattergl": [
           {
            "marker": {
             "colorbar": {
              "outlinewidth": 0,
              "ticks": ""
             }
            },
            "type": "scattergl"
           }
          ],
          "scattermapbox": [
           {
            "marker": {
             "colorbar": {
              "outlinewidth": 0,
              "ticks": ""
             }
            },
            "type": "scattermapbox"
           }
          ],
          "scatterpolar": [
           {
            "marker": {
             "colorbar": {
              "outlinewidth": 0,
              "ticks": ""
             }
            },
            "type": "scatterpolar"
           }
          ],
          "scatterpolargl": [
           {
            "marker": {
             "colorbar": {
              "outlinewidth": 0,
              "ticks": ""
             }
            },
            "type": "scatterpolargl"
           }
          ],
          "scatterternary": [
           {
            "marker": {
             "colorbar": {
              "outlinewidth": 0,
              "ticks": ""
             }
            },
            "type": "scatterternary"
           }
          ],
          "surface": [
           {
            "colorbar": {
             "outlinewidth": 0,
             "ticks": ""
            },
            "colorscale": [
             [
              0,
              "#0d0887"
             ],
             [
              0.1111111111111111,
              "#46039f"
             ],
             [
              0.2222222222222222,
              "#7201a8"
             ],
             [
              0.3333333333333333,
              "#9c179e"
             ],
             [
              0.4444444444444444,
              "#bd3786"
             ],
             [
              0.5555555555555556,
              "#d8576b"
             ],
             [
              0.6666666666666666,
              "#ed7953"
             ],
             [
              0.7777777777777778,
              "#fb9f3a"
             ],
             [
              0.8888888888888888,
              "#fdca26"
             ],
             [
              1,
              "#f0f921"
             ]
            ],
            "type": "surface"
           }
          ],
          "table": [
           {
            "cells": {
             "fill": {
              "color": "#EBF0F8"
             },
             "line": {
              "color": "white"
             }
            },
            "header": {
             "fill": {
              "color": "#C8D4E3"
             },
             "line": {
              "color": "white"
             }
            },
            "type": "table"
           }
          ]
         },
         "layout": {
          "annotationdefaults": {
           "arrowcolor": "#2a3f5f",
           "arrowhead": 0,
           "arrowwidth": 1
          },
          "autotypenumbers": "strict",
          "coloraxis": {
           "colorbar": {
            "outlinewidth": 0,
            "ticks": ""
           }
          },
          "colorscale": {
           "diverging": [
            [
             0,
             "#8e0152"
            ],
            [
             0.1,
             "#c51b7d"
            ],
            [
             0.2,
             "#de77ae"
            ],
            [
             0.3,
             "#f1b6da"
            ],
            [
             0.4,
             "#fde0ef"
            ],
            [
             0.5,
             "#f7f7f7"
            ],
            [
             0.6,
             "#e6f5d0"
            ],
            [
             0.7,
             "#b8e186"
            ],
            [
             0.8,
             "#7fbc41"
            ],
            [
             0.9,
             "#4d9221"
            ],
            [
             1,
             "#276419"
            ]
           ],
           "sequential": [
            [
             0,
             "#0d0887"
            ],
            [
             0.1111111111111111,
             "#46039f"
            ],
            [
             0.2222222222222222,
             "#7201a8"
            ],
            [
             0.3333333333333333,
             "#9c179e"
            ],
            [
             0.4444444444444444,
             "#bd3786"
            ],
            [
             0.5555555555555556,
             "#d8576b"
            ],
            [
             0.6666666666666666,
             "#ed7953"
            ],
            [
             0.7777777777777778,
             "#fb9f3a"
            ],
            [
             0.8888888888888888,
             "#fdca26"
            ],
            [
             1,
             "#f0f921"
            ]
           ],
           "sequentialminus": [
            [
             0,
             "#0d0887"
            ],
            [
             0.1111111111111111,
             "#46039f"
            ],
            [
             0.2222222222222222,
             "#7201a8"
            ],
            [
             0.3333333333333333,
             "#9c179e"
            ],
            [
             0.4444444444444444,
             "#bd3786"
            ],
            [
             0.5555555555555556,
             "#d8576b"
            ],
            [
             0.6666666666666666,
             "#ed7953"
            ],
            [
             0.7777777777777778,
             "#fb9f3a"
            ],
            [
             0.8888888888888888,
             "#fdca26"
            ],
            [
             1,
             "#f0f921"
            ]
           ]
          },
          "colorway": [
           "#636efa",
           "#EF553B",
           "#00cc96",
           "#ab63fa",
           "#FFA15A",
           "#19d3f3",
           "#FF6692",
           "#B6E880",
           "#FF97FF",
           "#FECB52"
          ],
          "font": {
           "color": "#2a3f5f"
          },
          "geo": {
           "bgcolor": "white",
           "lakecolor": "white",
           "landcolor": "#E5ECF6",
           "showlakes": true,
           "showland": true,
           "subunitcolor": "white"
          },
          "hoverlabel": {
           "align": "left"
          },
          "hovermode": "closest",
          "mapbox": {
           "style": "light"
          },
          "paper_bgcolor": "white",
          "plot_bgcolor": "#E5ECF6",
          "polar": {
           "angularaxis": {
            "gridcolor": "white",
            "linecolor": "white",
            "ticks": ""
           },
           "bgcolor": "#E5ECF6",
           "radialaxis": {
            "gridcolor": "white",
            "linecolor": "white",
            "ticks": ""
           }
          },
          "scene": {
           "xaxis": {
            "backgroundcolor": "#E5ECF6",
            "gridcolor": "white",
            "gridwidth": 2,
            "linecolor": "white",
            "showbackground": true,
            "ticks": "",
            "zerolinecolor": "white"
           },
           "yaxis": {
            "backgroundcolor": "#E5ECF6",
            "gridcolor": "white",
            "gridwidth": 2,
            "linecolor": "white",
            "showbackground": true,
            "ticks": "",
            "zerolinecolor": "white"
           },
           "zaxis": {
            "backgroundcolor": "#E5ECF6",
            "gridcolor": "white",
            "gridwidth": 2,
            "linecolor": "white",
            "showbackground": true,
            "ticks": "",
            "zerolinecolor": "white"
           }
          },
          "shapedefaults": {
           "line": {
            "color": "#2a3f5f"
           }
          },
          "ternary": {
           "aaxis": {
            "gridcolor": "white",
            "linecolor": "white",
            "ticks": ""
           },
           "baxis": {
            "gridcolor": "white",
            "linecolor": "white",
            "ticks": ""
           },
           "bgcolor": "#E5ECF6",
           "caxis": {
            "gridcolor": "white",
            "linecolor": "white",
            "ticks": ""
           }
          },
          "title": {
           "x": 0.05
          },
          "xaxis": {
           "automargin": true,
           "gridcolor": "white",
           "linecolor": "white",
           "ticks": "",
           "title": {
            "standoff": 15
           },
           "zerolinecolor": "white",
           "zerolinewidth": 2
          },
          "yaxis": {
           "automargin": true,
           "gridcolor": "white",
           "linecolor": "white",
           "ticks": "",
           "title": {
            "standoff": 15
           },
           "zerolinecolor": "white",
           "zerolinewidth": 2
          }
         }
        },
        "xaxis": {
         "anchor": "y",
         "domain": [
          0,
          1
         ],
         "title": {
          "text": "Calories"
         }
        },
        "yaxis": {
         "anchor": "x",
         "domain": [
          0,
          1
         ],
         "title": {
          "text": "TotalTimeInBed"
         }
        }
       }
      }
     },
     "metadata": {},
     "output_type": "display_data"
    }
   ],
   "source": [
    "# df_ecdf = df[df[\"Calories\"].isin([\"DOG\",\"CAT\"])]\n",
    "meged_active_sleep_gp = meged_active_sleep.groupby(['Id','Day'])[['TotalTimeInBed', 'Calories']].size()\n",
    "fig_ecdf = px.line(meged_active_sleep, x=\"Calories\", y=\"TotalTimeInBed\", color=\"Id\", markers=True)\n",
    "fig_ecdf"
   ]
  },
  {
   "cell_type": "code",
   "execution_count": 12,
   "metadata": {},
   "outputs": [
    {
     "data": {
      "text/html": [
       "<div>\n",
       "<style scoped>\n",
       "    .dataframe tbody tr th:only-of-type {\n",
       "        vertical-align: middle;\n",
       "    }\n",
       "\n",
       "    .dataframe tbody tr th {\n",
       "        vertical-align: top;\n",
       "    }\n",
       "\n",
       "    .dataframe thead th {\n",
       "        text-align: right;\n",
       "    }\n",
       "</style>\n",
       "<table border=\"1\" class=\"dataframe\">\n",
       "  <thead>\n",
       "    <tr style=\"text-align: right;\">\n",
       "      <th></th>\n",
       "      <th>Id</th>\n",
       "      <th>TotalSteps</th>\n",
       "      <th>VeryActiveMinutes</th>\n",
       "      <th>FairlyActiveMinutes</th>\n",
       "      <th>LightlyActiveMinutes</th>\n",
       "      <th>SedentaryMinutes</th>\n",
       "      <th>Calories</th>\n",
       "      <th>ActivityDate</th>\n",
       "      <th>Time_str</th>\n",
       "      <th>day_of_week</th>\n",
       "    </tr>\n",
       "  </thead>\n",
       "  <tbody>\n",
       "    <tr>\n",
       "      <th>0</th>\n",
       "      <td>1503960366</td>\n",
       "      <td>13162</td>\n",
       "      <td>25</td>\n",
       "      <td>13</td>\n",
       "      <td>328</td>\n",
       "      <td>728</td>\n",
       "      <td>1985</td>\n",
       "      <td>2016-04-12</td>\n",
       "      <td>2016-04-12</td>\n",
       "      <td>2</td>\n",
       "    </tr>\n",
       "    <tr>\n",
       "      <th>1</th>\n",
       "      <td>1503960366</td>\n",
       "      <td>10735</td>\n",
       "      <td>21</td>\n",
       "      <td>19</td>\n",
       "      <td>217</td>\n",
       "      <td>776</td>\n",
       "      <td>1797</td>\n",
       "      <td>2016-04-13</td>\n",
       "      <td>2016-04-13</td>\n",
       "      <td>3</td>\n",
       "    </tr>\n",
       "    <tr>\n",
       "      <th>2</th>\n",
       "      <td>1503960366</td>\n",
       "      <td>10460</td>\n",
       "      <td>30</td>\n",
       "      <td>11</td>\n",
       "      <td>181</td>\n",
       "      <td>1218</td>\n",
       "      <td>1776</td>\n",
       "      <td>2016-04-14</td>\n",
       "      <td>2016-04-14</td>\n",
       "      <td>4</td>\n",
       "    </tr>\n",
       "    <tr>\n",
       "      <th>3</th>\n",
       "      <td>1503960366</td>\n",
       "      <td>9762</td>\n",
       "      <td>29</td>\n",
       "      <td>34</td>\n",
       "      <td>209</td>\n",
       "      <td>726</td>\n",
       "      <td>1745</td>\n",
       "      <td>2016-04-15</td>\n",
       "      <td>2016-04-15</td>\n",
       "      <td>5</td>\n",
       "    </tr>\n",
       "    <tr>\n",
       "      <th>4</th>\n",
       "      <td>1503960366</td>\n",
       "      <td>12669</td>\n",
       "      <td>36</td>\n",
       "      <td>10</td>\n",
       "      <td>221</td>\n",
       "      <td>773</td>\n",
       "      <td>1863</td>\n",
       "      <td>2016-04-16</td>\n",
       "      <td>2016-04-16</td>\n",
       "      <td>6</td>\n",
       "    </tr>\n",
       "    <tr>\n",
       "      <th>...</th>\n",
       "      <td>...</td>\n",
       "      <td>...</td>\n",
       "      <td>...</td>\n",
       "      <td>...</td>\n",
       "      <td>...</td>\n",
       "      <td>...</td>\n",
       "      <td>...</td>\n",
       "      <td>...</td>\n",
       "      <td>...</td>\n",
       "      <td>...</td>\n",
       "    </tr>\n",
       "    <tr>\n",
       "      <th>935</th>\n",
       "      <td>8877689391</td>\n",
       "      <td>10686</td>\n",
       "      <td>17</td>\n",
       "      <td>4</td>\n",
       "      <td>245</td>\n",
       "      <td>1174</td>\n",
       "      <td>2847</td>\n",
       "      <td>2016-05-08</td>\n",
       "      <td>2016-05-08</td>\n",
       "      <td>0</td>\n",
       "    </tr>\n",
       "    <tr>\n",
       "      <th>936</th>\n",
       "      <td>8877689391</td>\n",
       "      <td>20226</td>\n",
       "      <td>73</td>\n",
       "      <td>19</td>\n",
       "      <td>217</td>\n",
       "      <td>1131</td>\n",
       "      <td>3710</td>\n",
       "      <td>2016-05-09</td>\n",
       "      <td>2016-05-09</td>\n",
       "      <td>1</td>\n",
       "    </tr>\n",
       "    <tr>\n",
       "      <th>937</th>\n",
       "      <td>8877689391</td>\n",
       "      <td>10733</td>\n",
       "      <td>18</td>\n",
       "      <td>11</td>\n",
       "      <td>224</td>\n",
       "      <td>1187</td>\n",
       "      <td>2832</td>\n",
       "      <td>2016-05-10</td>\n",
       "      <td>2016-05-10</td>\n",
       "      <td>2</td>\n",
       "    </tr>\n",
       "    <tr>\n",
       "      <th>938</th>\n",
       "      <td>8877689391</td>\n",
       "      <td>21420</td>\n",
       "      <td>88</td>\n",
       "      <td>12</td>\n",
       "      <td>213</td>\n",
       "      <td>1127</td>\n",
       "      <td>3832</td>\n",
       "      <td>2016-05-11</td>\n",
       "      <td>2016-05-11</td>\n",
       "      <td>3</td>\n",
       "    </tr>\n",
       "    <tr>\n",
       "      <th>939</th>\n",
       "      <td>8877689391</td>\n",
       "      <td>8064</td>\n",
       "      <td>23</td>\n",
       "      <td>1</td>\n",
       "      <td>137</td>\n",
       "      <td>770</td>\n",
       "      <td>1849</td>\n",
       "      <td>2016-05-12</td>\n",
       "      <td>2016-05-12</td>\n",
       "      <td>4</td>\n",
       "    </tr>\n",
       "  </tbody>\n",
       "</table>\n",
       "<p>940 rows × 10 columns</p>\n",
       "</div>"
      ],
      "text/plain": [
       "             Id  TotalSteps  VeryActiveMinutes  FairlyActiveMinutes  \\\n",
       "0    1503960366       13162                 25                   13   \n",
       "1    1503960366       10735                 21                   19   \n",
       "2    1503960366       10460                 30                   11   \n",
       "3    1503960366        9762                 29                   34   \n",
       "4    1503960366       12669                 36                   10   \n",
       "..          ...         ...                ...                  ...   \n",
       "935  8877689391       10686                 17                    4   \n",
       "936  8877689391       20226                 73                   19   \n",
       "937  8877689391       10733                 18                   11   \n",
       "938  8877689391       21420                 88                   12   \n",
       "939  8877689391        8064                 23                    1   \n",
       "\n",
       "     LightlyActiveMinutes  SedentaryMinutes  Calories ActivityDate  \\\n",
       "0                     328               728      1985   2016-04-12   \n",
       "1                     217               776      1797   2016-04-13   \n",
       "2                     181              1218      1776   2016-04-14   \n",
       "3                     209               726      1745   2016-04-15   \n",
       "4                     221               773      1863   2016-04-16   \n",
       "..                    ...               ...       ...          ...   \n",
       "935                   245              1174      2847   2016-05-08   \n",
       "936                   217              1131      3710   2016-05-09   \n",
       "937                   224              1187      2832   2016-05-10   \n",
       "938                   213              1127      3832   2016-05-11   \n",
       "939                   137               770      1849   2016-05-12   \n",
       "\n",
       "       Time_str day_of_week  \n",
       "0    2016-04-12           2  \n",
       "1    2016-04-13           3  \n",
       "2    2016-04-14           4  \n",
       "3    2016-04-15           5  \n",
       "4    2016-04-16           6  \n",
       "..          ...         ...  \n",
       "935  2016-05-08           0  \n",
       "936  2016-05-09           1  \n",
       "937  2016-05-10           2  \n",
       "938  2016-05-11           3  \n",
       "939  2016-05-12           4  \n",
       "\n",
       "[940 rows x 10 columns]"
      ]
     },
     "execution_count": 12,
     "metadata": {},
     "output_type": "execute_result"
    }
   ],
   "source": [
    "df"
   ]
  },
  {
   "cell_type": "code",
   "execution_count": 193,
   "metadata": {},
   "outputs": [
    {
     "name": "stderr",
     "output_type": "stream",
     "text": [
      " * Running on http://127.0.0.1:8050/ (Press CTRL+C to quit)\n",
      "127.0.0.1 - - [28/May/2022 01:00:50] \"\u001b[37mGET / HTTP/1.1\u001b[0m\" 200 -\n",
      "127.0.0.1 - - [28/May/2022 01:00:51] \"\u001b[37mGET /_dash-layout HTTP/1.1\u001b[0m\" 200 -\n",
      "127.0.0.1 - - [28/May/2022 01:00:51] \"\u001b[37mGET /_dash-dependencies HTTP/1.1\u001b[0m\" 200 -\n",
      "127.0.0.1 - - [28/May/2022 01:00:51] \"\u001b[36mGET /_dash-component-suites/dash/dcc/async-dropdown.js HTTP/1.1\u001b[0m\" 304 -\n",
      "127.0.0.1 - - [28/May/2022 01:00:52] \"\u001b[35m\u001b[1mPOST /_dash-update-component HTTP/1.1\u001b[0m\" 500 -\n",
      "127.0.0.1 - - [28/May/2022 01:00:52] \"\u001b[35m\u001b[1mPOST /_dash-update-component HTTP/1.1\u001b[0m\" 500 -\n",
      "127.0.0.1 - - [28/May/2022 01:00:57] \"\u001b[35m\u001b[1mPOST /_dash-update-component HTTP/1.1\u001b[0m\" 500 -\n",
      "127.0.0.1 - - [28/May/2022 01:00:58] \"\u001b[35m\u001b[1mPOST /_dash-update-component HTTP/1.1\u001b[0m\" 500 -\n"
     ]
    }
   ],
   "source": [
    "           # pip install pandas\n",
    "\n",
    "external_stylesheets = ['https://codepen.io/chriddyp/pen/bWLwgP.css']\n",
    "app = dash.Dash(__name__, external_stylesheets=external_stylesheets)\n",
    "\n",
    "app.layout = html.Div([\n",
    "    html.H1(\"What does the Body reveal\", style={\"textAlign\":\"center\"}),\n",
    "    html.Hr(),\n",
    "    html.P(\"Choose Person of interest:\"),\n",
    "    html.Div(html.Div([\n",
    "        dcc.Dropdown(id='Participant-type', clearable=False,\n",
    "                     value=\"Std\",\n",
    "                     options=[{'label': x, 'value': x} for x in\n",
    "                              df[\"Id\"].unique()]),\n",
    "    ],className=\"two columns\"),className=\"row\"),\n",
    "\n",
    "    html.Div(id=\"output-div\", children=[]),\n",
    "])\n",
    "\n",
    "\n",
    "@app.callback(Output(component_id=\"output-div\", component_property=\"children\"),\n",
    "              Input(component_id=\"Participant-type\", component_property=\"value\"),\n",
    ")\n",
    "def make_graphs(Participant_chosen):\n",
    "    # HISTOGRAM\n",
    "\n",
    "    df_hist = df[df[\"Id\"]==Participant_chosen].copy()\n",
    "    # df_hist_group_day = df_hist.groupby(['Day', 'Id']).mean()\n",
    "    fig_hist = px.histogram(df_hist, x=\"TotalSteps\", color=\"day_of_week\")\n",
    "    fig_hist.update_xaxes(categoryorder=\"total descending\")\n",
    "\n",
    "\n",
    "    # # Scatter CHART \n",
    "    sleepActive = meged_active_sleep.copy()\n",
    "    \n",
    "    sleepActive_par = sleepActive[sleepActive.Id ==Participant_chosen]\n",
    "    sleepActive_par['Id'] = sleepActive_par['Id'].astype('str')\n",
    "    fig_strip= px.scatter(sleepActive_par, x = 'TotalTimeInBed', y = 'SedentaryMinutes',symbol = 'Id',color = 'Id', marginal_x='histogram',marginal_y = 'box' ,trendline  ='ols', height  =600, title ='Sedentary Minutes vs Total time In Bed')\n",
    "\n",
    "    # Line per participant with calories\n",
    "    fig_ecdf = px.line(sleepActive_par, x=\"TotalTimeInBed\", y=\"Calories\", color=\"Id\", markers=True)\n",
    "\n",
    "\n",
    "    # Scatter General All Participants\n",
    "    sleepActive_general = meged_active_sleep.copy()\n",
    "    sleepActive_general['Id'] = sleepActive_general['Id'].astype('str')\n",
    "\n",
    "    scatterGeneral= px.scatter(sleepActive_general, x = 'TotalTimeInBed', y = 'SedentaryMinutes',symbol = 'Id',color = 'Id', marginal_x='histogram',marginal_y = 'box' ,trendline  ='ols', height  =600, title ='Sedentary Minutes vs Total time In Bed')\n",
    "\n",
    "    # # SUNBURST\n",
    "    # df_sburst = df.dropna(subset=['chip_status'])\n",
    "    # df_sburst = df_sburst[df_sburst[\"intake_type\"].isin([\"STRAY\", \"FOSTER\", \"OWNER SURRENDER\"])]\n",
    "    # fig_sunburst = px.sunburst(df_sburst, path=[\"Participant_type\", \"intake_type\", \"chip_status\"])\n",
    "\n",
    "    # # Empirical Cumulative Distribution\n",
    "    # df_ecdf = df[df[\"Participant_type\"].isin([\"DOG\",\"CAT\"])]\n",
    "    # fig_ecdf = px.ecdf(df_ecdf, x=\"TotalTimeInBed\", color=\"Std\")\n",
    "\n",
    "    # # LINE CHART\n",
    "    # df_line = df.sort_values(by=[\"intake_time\"], ascending=True)\n",
    "    # df_line = df_line.groupby(\n",
    "    #     [\"intake_time\", \"Participant_type\"]).size().reset_index(name=\"count\")\n",
    "    # print(df_line.head())\n",
    "    # fig_line = px.line(df_line, x=\"intake_time\", y=\"count\",\n",
    "    #                    color=\"Participant_type\", markers=True)\n",
    "\n",
    "    return [\n",
    "\n",
    "        html.H2(\"Selected Participants\", style={\"textAlign\":\"center\"}),\n",
    "        html.Hr(),\n",
    "            html.Div([\n",
    "            html.Div([dcc.Graph(figure=fig_hist)], className=\"four columns\"),\n",
    "            html.Div([dcc.Graph(figure=fig_strip)], className=\"four columns\"),\n",
    "            html.Div([dcc.Graph(figure=fig_ecdf)], className=\"four columns\"),\n",
    "        ], className=\"row\"),\n",
    "\n",
    "        html.H2(\"All Participants\", style={\"textAlign\":\"center\"}),\n",
    "            html.Div([\n",
    "            html.Div([dcc.Graph(figure=scatterGeneral)], className=\"six columns\"),\n",
    "            # html.Div([dcc.Graph(figure=fig_ecdf)], className=\"six columns\"),\n",
    "        ], className=\"row\"),\n",
    "\n",
    "    ]\n",
    "\n",
    "\n",
    "if __name__ == '__main__':\n",
    "    app.run_server(debug=False)\n"
   ]
  },
  {
   "cell_type": "code",
   "execution_count": 99,
   "metadata": {},
   "outputs": [
    {
     "data": {
      "text/plain": [
       "TotalSteps                       int64\n",
       "VeryActiveMinutes                int64\n",
       "FairlyActiveMinutes              int64\n",
       "LightlyActiveMinutes             int64\n",
       "SedentaryMinutes                 int64\n",
       "Calories                         int64\n",
       "ActivityDate            datetime64[ns]\n",
       "Time_str                        object\n",
       "day_of_week                     object\n",
       "dtype: object"
      ]
     },
     "execution_count": 99,
     "metadata": {},
     "output_type": "execute_result"
    }
   ],
   "source": [
    "df.dtypes"
   ]
  },
  {
   "cell_type": "code",
   "execution_count": 207,
   "metadata": {},
   "outputs": [
    {
     "name": "stderr",
     "output_type": "stream",
     "text": [
      " * Running on http://127.0.0.1:8000/ (Press CTRL+C to quit)\n",
      "127.0.0.1 - - [28/May/2022 01:09:54] \"\u001b[37mGET /_alive_9e553cb4-4907-4904-a462-26a449546482 HTTP/1.1\u001b[0m\" 200 -\n"
     ]
    },
    {
     "name": "stdout",
     "output_type": "stream",
     "text": [
      "Dash app running on http://127.0.0.1:8000/\n"
     ]
    },
    {
     "name": "stderr",
     "output_type": "stream",
     "text": [
      "127.0.0.1 - - [28/May/2022 01:09:56] \"\u001b[37mGET / HTTP/1.1\u001b[0m\" 200 -\n",
      "127.0.0.1 - - [28/May/2022 01:09:56] \"\u001b[37mGET /_dash-layout HTTP/1.1\u001b[0m\" 200 -\n",
      "127.0.0.1 - - [28/May/2022 01:09:56] \"\u001b[37mGET /_dash-dependencies HTTP/1.1\u001b[0m\" 200 -\n",
      "127.0.0.1 - - [28/May/2022 01:09:57] \"\u001b[37mGET /_favicon.ico?v=2.4.1 HTTP/1.1\u001b[0m\" 200 -\n",
      "127.0.0.1 - - [28/May/2022 01:09:57] \"\u001b[36mGET /_dash-component-suites/dash/dcc/async-datepicker.js HTTP/1.1\u001b[0m\" 304 -\n",
      "127.0.0.1 - - [28/May/2022 01:09:57] \"\u001b[36mGET /_dash-component-suites/dash/dcc/async-dropdown.js HTTP/1.1\u001b[0m\" 304 -\n",
      "127.0.0.1 - - [28/May/2022 01:09:57] \"\u001b[36mGET /_dash-component-suites/dash_extensions/async-lottie.js HTTP/1.1\u001b[0m\" 304 -\n",
      "127.0.0.1 - - [28/May/2022 01:09:57] \"\u001b[36mGET /_dash-component-suites/dash/dcc/async-graph.js HTTP/1.1\u001b[0m\" 304 -\n",
      "127.0.0.1 - - [28/May/2022 01:09:57] \"\u001b[36mGET /_dash-component-suites/dash/dcc/async-plotlyjs.js HTTP/1.1\u001b[0m\" 304 -\n"
     ]
    },
    {
     "name": "stdout",
     "output_type": "stream",
     "text": [
      "Id Participant\n",
      "<class 'str'>\n",
      "True\n",
      "<class 'str'>\n"
     ]
    },
    {
     "name": "stderr",
     "output_type": "stream",
     "text": [
      "127.0.0.1 - - [28/May/2022 01:09:57] \"\u001b[37mPOST /_dash-update-component HTTP/1.1\u001b[0m\" 200 -\n",
      "127.0.0.1 - - [28/May/2022 01:09:57] \"\u001b[37mPOST /_dash-update-component HTTP/1.1\u001b[0m\" 200 -\n",
      "127.0.0.1 - - [28/May/2022 01:09:57] \"\u001b[37mPOST /_dash-update-component HTTP/1.1\u001b[0m\" 200 -\n"
     ]
    },
    {
     "name": "stdout",
     "output_type": "stream",
     "text": [
      "None\n",
      "<class 'NoneType'>\n",
      "None\n",
      "<class 'NoneType'>\n"
     ]
    },
    {
     "name": "stderr",
     "output_type": "stream",
     "text": [
      "127.0.0.1 - - [28/May/2022 01:09:58] \"\u001b[37mPOST /_dash-update-component HTTP/1.1\u001b[0m\" 200 -\n",
      "127.0.0.1 - - [28/May/2022 01:09:58] \"\u001b[35m\u001b[1mPOST /_dash-update-component HTTP/1.1\u001b[0m\" 500 -\n",
      "127.0.0.1 - - [28/May/2022 01:09:58] \"\u001b[35m\u001b[1mPOST /_dash-update-component HTTP/1.1\u001b[0m\" 500 -\n",
      "127.0.0.1 - - [28/May/2022 01:10:06] \"\u001b[37mPOST /_dash-update-component HTTP/1.1\u001b[0m\" 200 -\n"
     ]
    },
    {
     "name": "stdout",
     "output_type": "stream",
     "text": [
      "NoneNone\n",
      "<class 'NoneType'>\n",
      "\n",
      "<class 'NoneType'>\n"
     ]
    },
    {
     "name": "stderr",
     "output_type": "stream",
     "text": [
      "127.0.0.1 - - [28/May/2022 01:10:07] \"\u001b[35m\u001b[1mPOST /_dash-update-component HTTP/1.1\u001b[0m\" 500 -\n",
      "127.0.0.1 - - [28/May/2022 01:10:07] \"\u001b[37mPOST /_dash-update-component HTTP/1.1\u001b[0m\" 200 -\n",
      "127.0.0.1 - - [28/May/2022 01:10:09] \"\u001b[37mPOST /_dash-update-component HTTP/1.1\u001b[0m\" 200 -\n"
     ]
    },
    {
     "name": "stdout",
     "output_type": "stream",
     "text": [
      "None\n",
      "<class 'NoneType'>\n",
      "None\n",
      "<class 'NoneType'>\n"
     ]
    },
    {
     "name": "stderr",
     "output_type": "stream",
     "text": [
      "127.0.0.1 - - [28/May/2022 01:10:09] \"\u001b[37mPOST /_dash-update-component HTTP/1.1\u001b[0m\" 200 -\n",
      "127.0.0.1 - - [28/May/2022 01:10:09] \"\u001b[37mPOST /_dash-update-component HTTP/1.1\u001b[0m\" 200 -\n",
      "127.0.0.1 - - [28/May/2022 01:10:16] \"\u001b[37mPOST /_dash-update-component HTTP/1.1\u001b[0m\" 200 -\n"
     ]
    },
    {
     "name": "stdout",
     "output_type": "stream",
     "text": [
      "None\n",
      "<class 'NoneType'>\n",
      "None\n",
      "<class 'NoneType'>\n"
     ]
    },
    {
     "name": "stderr",
     "output_type": "stream",
     "text": [
      "127.0.0.1 - - [28/May/2022 01:10:16] \"\u001b[37mPOST /_dash-update-component HTTP/1.1\u001b[0m\" 200 -\n",
      "127.0.0.1 - - [28/May/2022 01:10:16] \"\u001b[37mPOST /_dash-update-component HTTP/1.1\u001b[0m\" 200 -\n",
      "127.0.0.1 - - [28/May/2022 01:10:19] \"\u001b[37mPOST /_dash-update-component HTTP/1.1\u001b[0m\" 200 -\n",
      "127.0.0.1 - - [28/May/2022 01:10:19] \"\u001b[37mPOST /_dash-update-component HTTP/1.1\u001b[0m\" 200 -\n"
     ]
    },
    {
     "name": "stdout",
     "output_type": "stream",
     "text": [
      "NoneNone\n",
      "<class 'NoneType'>\n",
      "\n",
      "<class 'NoneType'>\n"
     ]
    },
    {
     "name": "stderr",
     "output_type": "stream",
     "text": [
      "127.0.0.1 - - [28/May/2022 01:10:20] \"\u001b[37mPOST /_dash-update-component HTTP/1.1\u001b[0m\" 200 -\n",
      "<ipython-input-207-a7d2609527a3>:184: UserWarning:\n",
      "\n",
      "Boolean Series key will be reindexed to match DataFrame index.\n",
      "\n",
      "127.0.0.1 - - [28/May/2022 01:10:22] \"\u001b[37mPOST /_dash-update-component HTTP/1.1\u001b[0m\" 200 -\n"
     ]
    },
    {
     "name": "stdout",
     "output_type": "stream",
     "text": [
      "1644430081\n",
      "<class 'str'>\n",
      "True\n",
      "<class 'str'>\n"
     ]
    },
    {
     "name": "stderr",
     "output_type": "stream",
     "text": [
      "127.0.0.1 - - [28/May/2022 01:10:22] \"\u001b[37mPOST /_dash-update-component HTTP/1.1\u001b[0m\" 200 -\n",
      "127.0.0.1 - - [28/May/2022 01:10:22] \"\u001b[37mPOST /_dash-update-component HTTP/1.1\u001b[0m\" 200 -\n",
      "<ipython-input-207-a7d2609527a3>:184: UserWarning:\n",
      "\n",
      "Boolean Series key will be reindexed to match DataFrame index.\n",
      "\n",
      "127.0.0.1 - - [28/May/2022 01:10:24] \"\u001b[37mPOST /_dash-update-component HTTP/1.1\u001b[0m\" 200 -\n",
      "127.0.0.1 - - [28/May/2022 01:10:25] \"\u001b[37mPOST /_dash-update-component HTTP/1.1\u001b[0m\" 200 -\n"
     ]
    },
    {
     "name": "stdout",
     "output_type": "stream",
     "text": [
      "1503960366\n",
      "<class 'str'>\n",
      "True\n",
      "<class 'str'>\n"
     ]
    },
    {
     "name": "stderr",
     "output_type": "stream",
     "text": [
      "127.0.0.1 - - [28/May/2022 01:10:25] \"\u001b[37mPOST /_dash-update-component HTTP/1.1\u001b[0m\" 200 -\n"
     ]
    }
   ],
   "source": [
    "from jupyter_dash import JupyterDash     # pip install dash   \n",
    "import dash_html_components as html\n",
    "import dash_core_components as dcc\n",
    "from dash.dependencies import Output, Input\n",
    "\n",
    "from dash_extensions import Lottie       # pip install dash-extensions\n",
    "import dash_bootstrap_components as dbc  # pip install dash-bootstrap-components\n",
    "import plotly.express as px              # pip install plotly\n",
    "import pandas as pd                      # pip install pandas\n",
    "from datetime import date\n",
    "import calendar\n",
    "from wordcloud import WordCloud          # pip install wordcloud\n",
    "\n",
    "\n",
    "# Lottie by Emil - https://github.com/thedirtyfew/dash-extensions\n",
    "url_MeasureDays = \"https://assets9.lottiefiles.com/private_files/lf30_5ttqPi.json\"\n",
    "url_caloriesBurned = \"https://assets3.lottiefiles.com/packages/lf20_bdzc21c8.json\"\n",
    "url_sleep = \"https://assets7.lottiefiles.com/private_files/lf30_em0dkba6.json\"\n",
    "url_PersonId = \"https://assets9.lottiefiles.com/packages/lf20_dq0d7ah6.json\"\n",
    "url_Score = \"https://assets4.lottiefiles.com/packages/lf20_rq3iw7zm.json\"\n",
    "options = dict(loop=True, autoplay=True, rendererSettings=dict(preserveAspectRatio='xMidYMid slice'))\n",
    "\n",
    "\n",
    "# Bootstrap themes by Ann: https://hellodash.pythonanywhere.com/theme_explorer\n",
    "app = JupyterDash(__name__, external_stylesheets=[dbc.themes.LUX])\n",
    "\n",
    "app.layout = dbc.Container([\n",
    "    dbc.Row([\n",
    "        dbc.Col([\n",
    "            dbc.Card([\n",
    "                dbc.CardImg(src='D:/github_/DataAnalysisCourse/Idan/PcturesWeb/Fbit.png', top=True) # 150px by 45px\n",
    "            ],className='mb-2'),\n",
    "            dbc.Card([\n",
    "                dbc.CardBody([\n",
    "                    dbc.CardLink(\"Data Set\", target=\"_blank\",\n",
    "                                 href=\"https://github.com/idangrady/DataAnalysisCourse/tree/main/Data\"\n",
    "                    )\n",
    "                ])\n",
    "            ]),\n",
    "        ], width=2),\n",
    "        dbc.Col([\n",
    "            dbc.Card([\n",
    "                dbc.CardBody([\n",
    "                    dcc.DatePickerSingle(\n",
    "                        id='my-date-picker-start',\n",
    "                        min_date_allowed= df.ActivityDate.min().date(),#date(2018, 1, 1),\n",
    "                        max_date_allowed= df.ActivityDate.max().date(),\n",
    "                        className='ml-5'\n",
    "                    ),\n",
    "                    dcc.DatePickerSingle(\n",
    "                        id='my-date-picker-end',\n",
    "                        min_date_allowed= df.ActivityDate.min().date(),#date(2018, 1, 1),\n",
    "                        max_date_allowed= df.ActivityDate.max().date(),\n",
    "                        className='ml-5'\n",
    "                    ),\n",
    "\n",
    "                 dcc.Dropdown(id='Participant-Id', \n",
    "                        clearable=False,\n",
    "                        value=\"Id Participant\",\n",
    "                        options=[{'label': x, 'value': x} for x in\n",
    "                        df[\"Id\"].unique()],\n",
    "                        className='mb-2 ml-2'\n",
    "                    ),\n",
    "                ])\n",
    "            ], color=\"info\"),\n",
    "        ], width=8),\n",
    "    ],className='mb-2 mt-2'),\n",
    "    dbc.Row([\n",
    "        dbc.Col([\n",
    "            dbc.Card([\n",
    "                dbc.CardHeader(Lottie(options=options, width=\"60%\", height=\"60%\", url=url_MeasureDays)),\n",
    "                dbc.CardBody([\n",
    "                    html.H6('Measured Days'),\n",
    "                    html.H2(id='Measured_Days', children=\"000\")\n",
    "                ], style={'textAlign':'center'})\n",
    "            ]),\n",
    "        ], width=2),\n",
    "        dbc.Col([\n",
    "            dbc.Card([\n",
    "                dbc.CardHeader(Lottie(options=options, width=\"21%\", height=\"21%\", url=url_caloriesBurned)),\n",
    "                dbc.CardBody([\n",
    "                    html.H6('Total Calories Burned'),\n",
    "                    html.H2(id='Calories_Burned', children=\"000\")\n",
    "                ], style={'textAlign':'center'})\n",
    "            ]),\n",
    "        ], width=2),\n",
    "        dbc.Col([\n",
    "            dbc.Card([\n",
    "                dbc.CardHeader(Lottie(options=options, width=\"20%\", height=\"20%\", url=url_sleep)),\n",
    "                dbc.CardBody([\n",
    "                    html.H6('Average Sleep duration'),\n",
    "                    html.H2(id='Ave_SleepDuration', children=\"000\")\n",
    "                ], style={'textAlign':'center'})\n",
    "            ]),\n",
    "        ], width=2),\n",
    "        dbc.Col([\n",
    "            dbc.Card([\n",
    "                dbc.CardHeader(Lottie(options=options, width=\"35%\", height=\"35%\", url=url_PersonId)),\n",
    "                dbc.CardBody([\n",
    "                    html.H6('Perosn Id'),\n",
    "                    html.H2(id='Perosn_Id', children=\"000\")\n",
    "                ], style={'textAlign': 'center'})\n",
    "            ]),\n",
    "        ], width=2),\n",
    "        dbc.Col([\n",
    "            dbc.Card([\n",
    "                dbc.CardHeader(Lottie(options=options, width=\"32%\", height=\"32%\", url=url_Score)),\n",
    "                dbc.CardBody([\n",
    "                    html.H6('Score'),\n",
    "                    html.H2(id='Score_Prediction', children=\"000\")\n",
    "                ], style={'textAlign': 'center'})\n",
    "            ]),\n",
    "        ], width=2),\n",
    "    ],className='mb-2'),\n",
    "    dbc.Row([\n",
    "        dbc.Col([\n",
    "            dbc.Card([\n",
    "                dbc.CardBody([\n",
    "                    dcc.Graph(id='line-chart', figure={}),\n",
    "                ])\n",
    "            ]),\n",
    "        ], width=6),\n",
    "        dbc.Col([\n",
    "            dbc.Card([\n",
    "                dbc.CardBody([\n",
    "                    dcc.Graph(id='bar-chart', figure={}),\n",
    "                ])\n",
    "            ]),\n",
    "        ], width=4),\n",
    "    ],className='mb-2'),\n",
    "    dbc.Row([\n",
    "        dbc.Col([\n",
    "            dbc.Card([\n",
    "                dbc.CardBody([\n",
    "                    dcc.Graph(id='TBD', figure={}),\n",
    "                ])\n",
    "            ]),\n",
    "        ], width=3),\n",
    "        dbc.Col([\n",
    "            dbc.Card([\n",
    "                dbc.CardBody([\n",
    "                    dcc.Graph(id='pie-chart', figure={}),\n",
    "                ])\n",
    "            ]),\n",
    "        ], width=3),\n",
    "        dbc.Col([\n",
    "            dbc.Card([\n",
    "                dbc.CardBody([\n",
    "                    dcc.Graph(id='wordcloud', figure={}),\n",
    "                ])\n",
    "            ]),\n",
    "        ], width=4),\n",
    "    ],className='mb-2'),\n",
    "], fluid=True)\n",
    "\n",
    "\n",
    "\n",
    "\n",
    "\n",
    "# Updating the 5 number cards\n",
    "@app.callback(\n",
    "    Output('Measured_Days','children'),\n",
    "    Output('Calories_Burned','children'),\n",
    "    Output('Ave_SleepDuration','children'),\n",
    "    Output('Perosn_Id','children'),\n",
    "    Output('Score_Prediction','children'),\n",
    "    Input('my-date-picker-start','date'),\n",
    "    Input('my-date-picker-end','date'),\n",
    "    Input('Participant-Id','value'),\n",
    ")\n",
    "def update_small_cards(start_date, end_date, id): # add person Id\n",
    "    # Connections\n",
    "    Par_Id_str = str(id)\n",
    "    print(id)\n",
    "    print(type(id))\n",
    "    given = False\n",
    "    if id is not None:\n",
    "        given = True\n",
    "    dff_c = sleep.copy()\n",
    "    dff_c.Id = dff_c.Id.astype('str')\n",
    "\n",
    "    dff_c = dff_c[(dff_c['Day']>=start_date) & (dff_c['Day']<=end_date)]  #&(sleep['Id']==parId)\n",
    "    if given ==True:\n",
    "        dff_c = dff_c[(dff_c['Day']>=start_date) & (dff_c['Day']<=end_date)&(sleep['Id']==Par_Id_str)]  #\n",
    "\n",
    "    # dff_c.groupby(['Id']).aggregate(['mean', 'count','std'])['TotalTimeInBed']\n",
    "    mean_perDay = round(dff_c.TotalTimeInBed.mean(), 4)\n",
    "    # num_recorded_days = dff_c.count()[0]\n",
    "\n",
    "\n",
    "    conctns_num = len(dff_c.groupby('Day'))\n",
    "\n",
    "    df_calories = calories.copy()\n",
    "    df_calories_date = df_calories[(df_calories['Day']>=start_date) & (df_calories['Day']<=end_date)] \n",
    "\n",
    "    if given ==True:\n",
    "        df_calories_date = df_calories[(df_calories['Day']>=start_date) & (df_calories['Day']<=end_date)&(sleep['Id']==Par_Id_str)] \n",
    "\n",
    "\n",
    "    # sum_calories = df_calories_date.Calories.sum()\n",
    "    sum_calories = round(df_calories_date.groupby('Day')['Calories'].mean().mean(), 4) \n",
    "    \n",
    "    person_id = None if not given else Id_To_Idx[Par_Id_str]\n",
    "\n",
    "    return conctns_num,  sum_calories, mean_perDay, person_id, \"--\"\n",
    "\n",
    "\n",
    "@app.callback(\n",
    "    Output('line-chart','figure'),\n",
    "    Input('my-date-picker-start','date'),\n",
    "    Input('my-date-picker-end','date'),\n",
    "    Input('Participant-Id','value'),\n",
    ")\n",
    "def update_personlisedWeeklyStepsGraph(datastart, dateend, Participant_chosen):\n",
    "        # check if participant is given\n",
    "        givenPar = None if not Participant_chosen else True\n",
    "        print(givenPar)\n",
    "        print(type(Participant_chosen))\n",
    "        \n",
    "        dff_c = df[(df['ActivityDate']>=start_date) & (df['ActivityDate']<=end_date)].copy()  #&(sleep['Id']==parId)\n",
    "        if givenPar ==True:\n",
    "            dff_c = dff_c[(dff_c['ActivityDate']>=start_date) & (dff_c['ActivityDate']<=end_date)&(dff_c['Id']==Participant_chosen)]  #\n",
    "\n",
    "        # Create Graph\n",
    "        fig_hist = px.histogram(dff_c, x=\"TotalSteps\", color=\"day_of_week\")\n",
    "        fig_hist.update_xaxes(categoryorder=\"total descending\")\n",
    "\n",
    "        return fig_hist\n",
    "\n",
    "\n",
    "@app.callback(\n",
    "    Output('bar-chart','figure'),\n",
    "    Input('my-date-picker-start','date'),\n",
    "    Input('my-date-picker-end','date'),\n",
    "    Input('Participant-Id','value'),\n",
    ")\n",
    "def update_personlisedScatterGraph(datastart, dateend, Participant_chosen):\n",
    "        # check if participant is given\n",
    "        givenPar = None if not Participant_chosen else True\n",
    "\n",
    "        sleepActive_par = meged_active_sleep[(meged_active_sleep['Day']>=start_date) & (meged_active_sleep['Day']<=end_date)].copy()\n",
    "        if givenPar ==True:\n",
    "            sleepActive_par = meged_active_sleep[(meged_active_sleep['Day']>=start_date) & (meged_active_sleep['Day']<=end_date)&(meged_active_sleep['Id']==Participant_chosen)].copy()\n",
    "\n",
    "        # Create Graph\n",
    "        sleepActive_par['Id'] = sleepActive_par['Id'].astype('str')\n",
    "        fig_strip= px.scatter(sleepActive_par, x = 'TotalTimeInBed', y = 'SedentaryMinutes',symbol = 'Id',color = 'Id', marginal_x='histogram',marginal_y = 'box' ,trendline  ='ols', height  =600, title ='Sedentary Minutes vs Total time In Bed')\n",
    "\n",
    "        return fig_strip\n",
    "\n",
    "    \n",
    "\n",
    "\n",
    "if __name__=='__main__':\n",
    "    app.run_server(debug=False, port=8000)"
   ]
  },
  {
   "cell_type": "code",
   "execution_count": 199,
   "metadata": {},
   "outputs": [
    {
     "ename": "NameError",
     "evalue": "name 'sleepActive' is not defined",
     "output_type": "error",
     "traceback": [
      "\u001b[1;31m---------------------------------------------------------------------------\u001b[0m",
      "\u001b[1;31mNameError\u001b[0m                                 Traceback (most recent call last)",
      "\u001b[1;32m<ipython-input-199-9b567a0a57f9>\u001b[0m in \u001b[0;36m<module>\u001b[1;34m\u001b[0m\n\u001b[1;32m----> 1\u001b[1;33m \u001b[0msleepActive\u001b[0m\u001b[1;33m[\u001b[0m\u001b[1;33m(\u001b[0m\u001b[0msleepActive\u001b[0m\u001b[1;33m[\u001b[0m\u001b[1;34m'ActivityDate'\u001b[0m\u001b[1;33m]\u001b[0m\u001b[1;33m>=\u001b[0m\u001b[0mstart_date\u001b[0m\u001b[1;33m)\u001b[0m \u001b[1;33m&\u001b[0m \u001b[1;33m(\u001b[0m\u001b[0msleepActive\u001b[0m\u001b[1;33m[\u001b[0m\u001b[1;34m'ActivityDate'\u001b[0m\u001b[1;33m]\u001b[0m\u001b[1;33m<=\u001b[0m\u001b[0mend_date\u001b[0m\u001b[1;33m)\u001b[0m\u001b[1;33m]\u001b[0m\u001b[1;33m\u001b[0m\u001b[1;33m\u001b[0m\u001b[0m\n\u001b[0m",
      "\u001b[1;31mNameError\u001b[0m: name 'sleepActive' is not defined"
     ]
    }
   ],
   "source": [
    "meged_active_sleep.head()"
   ]
  },
  {
   "cell_type": "code",
   "execution_count": 206,
   "metadata": {},
   "outputs": [
    {
     "data": {
      "application/vnd.plotly.v1+json": {
       "config": {
        "plotlyServerURL": "https://plot.ly"
       },
       "data": [
        {
         "hovertemplate": "Id=1503960366<br>TotalTimeInBed=%{x}<br>SedentaryMinutes=%{y}<extra></extra>",
         "legendgroup": "1503960366",
         "marker": {
          "color": "#636efa",
          "symbol": "circle"
         },
         "mode": "markers",
         "name": "1503960366",
         "orientation": "v",
         "showlegend": true,
         "type": "scatter",
         "x": [
          346,
          407,
          442,
          367,
          712,
          320,
          377,
          364,
          384,
          449,
          323,
          274,
          393,
          354,
          425,
          396,
          309,
          296,
          264,
          367,
          349,
          611,
          342,
          403,
          306
         ],
         "xaxis": "x",
         "y": [
          728,
          776,
          726,
          773,
          539,
          775,
          818,
          838,
          732,
          709,
          814,
          833,
          782,
          815,
          712,
          730,
          798,
          816,
          857,
          754,
          833,
          574,
          835,
          746,
          669
         ],
         "yaxis": "y"
        },
        {
         "alignmentgroup": "True",
         "bingroup": "x",
         "hovertemplate": "Id=1503960366<br>TotalTimeInBed=%{x}<br>count=%{y}<extra></extra>",
         "legendgroup": "1503960366",
         "marker": {
          "color": "#636efa"
         },
         "name": "1503960366",
         "offsetgroup": "1503960366",
         "opacity": 0.5,
         "showlegend": false,
         "type": "histogram",
         "x": [
          346,
          407,
          442,
          367,
          712,
          320,
          377,
          364,
          384,
          449,
          323,
          274,
          393,
          354,
          425,
          396,
          309,
          296,
          264,
          367,
          349,
          611,
          342,
          403,
          306
         ],
         "xaxis": "x3",
         "yaxis": "y3"
        },
        {
         "alignmentgroup": "True",
         "hovertemplate": "Id=1503960366<br>SedentaryMinutes=%{y}<extra></extra>",
         "legendgroup": "1503960366",
         "marker": {
          "color": "#636efa",
          "symbol": "circle"
         },
         "name": "1503960366",
         "notched": true,
         "offsetgroup": "1503960366",
         "showlegend": false,
         "type": "box",
         "xaxis": "x2",
         "y": [
          728,
          776,
          726,
          773,
          539,
          775,
          818,
          838,
          732,
          709,
          814,
          833,
          782,
          815,
          712,
          730,
          798,
          816,
          857,
          754,
          833,
          574,
          835,
          746,
          669
         ],
         "yaxis": "y2"
        },
        {
         "hovertemplate": "<b>OLS trendline</b><br>SedentaryMinutes = -0.674474 * TotalTimeInBed + 1017.74<br>R<sup>2</sup>=0.708158<br><br>Id=1503960366<br>TotalTimeInBed=%{x}<br>SedentaryMinutes=%{y} <b>(trend)</b><extra></extra>",
         "legendgroup": "1503960366",
         "marker": {
          "color": "#636efa",
          "symbol": "circle"
         },
         "mode": "lines",
         "name": "1503960366",
         "showlegend": false,
         "type": "scatter",
         "x": [
          264,
          274,
          296,
          306,
          309,
          320,
          323,
          342,
          346,
          349,
          354,
          364,
          367,
          367,
          377,
          384,
          393,
          396,
          403,
          407,
          425,
          442,
          449,
          611,
          712
         ],
         "xaxis": "x",
         "y": [
          839.6773402086999,
          832.932596902601,
          818.0941616291832,
          811.3494183230841,
          809.3259953312545,
          801.9067776945456,
          799.8833547027159,
          787.0683424211278,
          784.3704450986883,
          782.3470221068585,
          778.9746504538091,
          772.22990714771,
          770.2064841558804,
          770.2064841558804,
          763.4617408497813,
          758.740420535512,
          752.670151560023,
          750.6467285681933,
          745.9254082539239,
          743.2275109314844,
          731.0869729805063,
          719.620909360138,
          714.8995890458687,
          605.634747487065,
          537.5128400954652
         ],
         "yaxis": "y"
        },
        {
         "hovertemplate": "Id=1644430081<br>TotalTimeInBed=%{x}<br>SedentaryMinutes=%{y}<extra></extra>",
         "legendgroup": "1644430081",
         "marker": {
          "color": "#EF553B",
          "symbol": "diamond"
         },
         "mode": "markers",
         "name": "1644430081",
         "orientation": "v",
         "showlegend": true,
         "type": "scatter",
         "x": [
          127,
          142,
          961,
          154
         ],
         "xaxis": "x",
         "y": [
          1193,
          816,
          682,
          991
         ],
         "yaxis": "y"
        },
        {
         "alignmentgroup": "True",
         "bingroup": "x",
         "hovertemplate": "Id=1644430081<br>TotalTimeInBed=%{x}<br>count=%{y}<extra></extra>",
         "legendgroup": "1644430081",
         "marker": {
          "color": "#EF553B"
         },
         "name": "1644430081",
         "offsetgroup": "1644430081",
         "opacity": 0.5,
         "showlegend": false,
         "type": "histogram",
         "x": [
          127,
          142,
          961,
          154
         ],
         "xaxis": "x3",
         "yaxis": "y3"
        },
        {
         "alignmentgroup": "True",
         "hovertemplate": "Id=1644430081<br>SedentaryMinutes=%{y}<extra></extra>",
         "legendgroup": "1644430081",
         "marker": {
          "color": "#EF553B",
          "symbol": "diamond"
         },
         "name": "1644430081",
         "notched": true,
         "offsetgroup": "1644430081",
         "showlegend": false,
         "type": "box",
         "xaxis": "x2",
         "y": [
          1193,
          816,
          682,
          991
         ],
         "yaxis": "y2"
        },
        {
         "hovertemplate": "<b>OLS trendline</b><br>SedentaryMinutes = -0.393474 * TotalTimeInBed + 1056.64<br>R<sup>2</sup>=0.531414<br><br>Id=1644430081<br>TotalTimeInBed=%{x}<br>SedentaryMinutes=%{y} <b>(trend)</b><extra></extra>",
         "legendgroup": "1644430081",
         "marker": {
          "color": "#EF553B",
          "symbol": "diamond"
         },
         "mode": "lines",
         "name": "1644430081",
         "showlegend": false,
         "type": "scatter",
         "x": [
          127,
          142,
          154,
          961
         ],
         "xaxis": "x",
         "y": [
          1006.6708278346467,
          1000.768716339123,
          996.0470271427039,
          678.5134286835248
         ],
         "yaxis": "y"
        },
        {
         "hovertemplate": "Id=1844505072<br>TotalTimeInBed=%{x}<br>SedentaryMinutes=%{y}<extra></extra>",
         "legendgroup": "1844505072",
         "marker": {
          "color": "#00cc96",
          "symbol": "square"
         },
         "mode": "markers",
         "name": "1844505072",
         "orientation": "v",
         "showlegend": true,
         "type": "scatter",
         "x": [
          961,
          961,
          961
         ],
         "xaxis": "x",
         "y": [
          527,
          218,
          585
         ],
         "yaxis": "y"
        },
        {
         "alignmentgroup": "True",
         "bingroup": "x",
         "hovertemplate": "Id=1844505072<br>TotalTimeInBed=%{x}<br>count=%{y}<extra></extra>",
         "legendgroup": "1844505072",
         "marker": {
          "color": "#00cc96"
         },
         "name": "1844505072",
         "offsetgroup": "1844505072",
         "opacity": 0.5,
         "showlegend": false,
         "type": "histogram",
         "x": [
          961,
          961,
          961
         ],
         "xaxis": "x3",
         "yaxis": "y3"
        },
        {
         "alignmentgroup": "True",
         "hovertemplate": "Id=1844505072<br>SedentaryMinutes=%{y}<extra></extra>",
         "legendgroup": "1844505072",
         "marker": {
          "color": "#00cc96",
          "symbol": "square"
         },
         "name": "1844505072",
         "notched": true,
         "offsetgroup": "1844505072",
         "showlegend": false,
         "type": "box",
         "xaxis": "x2",
         "y": [
          527,
          218,
          585
         ],
         "yaxis": "y2"
        },
        {
         "hovertemplate": "<b>OLS trendline</b><br>SedentaryMinutes = 0.461325<br>R<sup>2</sup>=0.000000<br><br>Id=1844505072<br>TotalTimeInBed=%{x}<br>SedentaryMinutes=%{y} <b>(trend)</b><extra></extra>",
         "legendgroup": "1844505072",
         "marker": {
          "color": "#00cc96",
          "symbol": "square"
         },
         "mode": "lines",
         "name": "1844505072",
         "showlegend": false,
         "type": "scatter",
         "x": [
          961,
          961,
          961
         ],
         "xaxis": "x",
         "y": [
          443.3333333333334,
          443.3333333333334,
          443.3333333333334
         ],
         "yaxis": "y"
        },
        {
         "hovertemplate": "Id=1927972279<br>TotalTimeInBed=%{x}<br>SedentaryMinutes=%{y}<extra></extra>",
         "legendgroup": "1927972279",
         "marker": {
          "color": "#ab63fa",
          "symbol": "x"
         },
         "mode": "markers",
         "name": "1927972279",
         "orientation": "v",
         "showlegend": true,
         "type": "scatter",
         "x": [
          775,
          422,
          499,
          315,
          178
         ],
         "xaxis": "x",
         "y": [
          734,
          986,
          941,
          1058,
          1167
         ],
         "yaxis": "y"
        },
        {
         "alignmentgroup": "True",
         "bingroup": "x",
         "hovertemplate": "Id=1927972279<br>TotalTimeInBed=%{x}<br>count=%{y}<extra></extra>",
         "legendgroup": "1927972279",
         "marker": {
          "color": "#ab63fa"
         },
         "name": "1927972279",
         "offsetgroup": "1927972279",
         "opacity": 0.5,
         "showlegend": false,
         "type": "histogram",
         "x": [
          775,
          422,
          499,
          315,
          178
         ],
         "xaxis": "x3",
         "yaxis": "y3"
        },
        {
         "alignmentgroup": "True",
         "hovertemplate": "Id=1927972279<br>SedentaryMinutes=%{y}<extra></extra>",
         "legendgroup": "1927972279",
         "marker": {
          "color": "#ab63fa",
          "symbol": "x"
         },
         "name": "1927972279",
         "notched": true,
         "offsetgroup": "1927972279",
         "showlegend": false,
         "type": "box",
         "xaxis": "x2",
         "y": [
          734,
          986,
          941,
          1058,
          1167
         ],
         "yaxis": "y2"
        },
        {
         "hovertemplate": "<b>OLS trendline</b><br>SedentaryMinutes = -0.716984 * TotalTimeInBed + 1291.1<br>R<sup>2</sup>=0.998716<br><br>Id=1927972279<br>TotalTimeInBed=%{x}<br>SedentaryMinutes=%{y} <b>(trend)</b><extra></extra>",
         "legendgroup": "1927972279",
         "marker": {
          "color": "#ab63fa",
          "symbol": "x"
         },
         "mode": "lines",
         "name": "1927972279",
         "showlegend": false,
         "type": "scatter",
         "x": [
          178,
          315,
          422,
          499,
          775
         ],
         "xaxis": "x",
         "y": [
          1163.4724079115294,
          1065.2456185201531,
          988.5283450538959,
          933.3205875127576,
          735.4330410016642
         ],
         "yaxis": "y"
        },
        {
         "hovertemplate": "Id=2026352035<br>TotalTimeInBed=%{x}<br>SedentaryMinutes=%{y}<extra></extra>",
         "legendgroup": "2026352035",
         "marker": {
          "color": "#FFA15A",
          "symbol": "cross"
         },
         "mode": "markers",
         "name": "2026352035",
         "orientation": "v",
         "showlegend": true,
         "type": "scatter",
         "x": [
          546,
          565,
          568,
          573,
          567,
          498,
          540,
          510,
          514,
          545,
          554,
          591,
          531,
          545,
          545,
          510,
          607,
          546,
          543,
          560,
          485,
          548,
          521,
          568,
          556,
          380,
          553,
          485
         ],
         "xaxis": "x",
         "y": [
          706,
          663,
          653,
          687,
          728,
          1053,
          785,
          623,
          749,
          712,
          458,
          704,
          821,
          586,
          626,
          492,
          594,
          716,
          716,
          530,
          479,
          511,
          665,
          610,
          543,
          1002,
          569,
          330
         ],
         "yaxis": "y"
        },
        {
         "alignmentgroup": "True",
         "bingroup": "x",
         "hovertemplate": "Id=2026352035<br>TotalTimeInBed=%{x}<br>count=%{y}<extra></extra>",
         "legendgroup": "2026352035",
         "marker": {
          "color": "#FFA15A"
         },
         "name": "2026352035",
         "offsetgroup": "2026352035",
         "opacity": 0.5,
         "showlegend": false,
         "type": "histogram",
         "x": [
          546,
          565,
          568,
          573,
          567,
          498,
          540,
          510,
          514,
          545,
          554,
          591,
          531,
          545,
          545,
          510,
          607,
          546,
          543,
          560,
          485,
          548,
          521,
          568,
          556,
          380,
          553,
          485
         ],
         "xaxis": "x3",
         "yaxis": "y3"
        },
        {
         "alignmentgroup": "True",
         "hovertemplate": "Id=2026352035<br>SedentaryMinutes=%{y}<extra></extra>",
         "legendgroup": "2026352035",
         "marker": {
          "color": "#FFA15A",
          "symbol": "cross"
         },
         "name": "2026352035",
         "notched": true,
         "offsetgroup": "2026352035",
         "showlegend": false,
         "type": "box",
         "xaxis": "x2",
         "y": [
          706,
          663,
          653,
          687,
          728,
          1053,
          785,
          623,
          749,
          712,
          458,
          704,
          821,
          586,
          626,
          492,
          594,
          716,
          716,
          530,
          479,
          511,
          665,
          610,
          543,
          1002,
          569,
          330
         ],
         "yaxis": "y2"
        },
        {
         "hovertemplate": "<b>OLS trendline</b><br>SedentaryMinutes = -1.05886 * TotalTimeInBed + 1223.25<br>R<sup>2</sup>=0.087046<br><br>Id=2026352035<br>TotalTimeInBed=%{x}<br>SedentaryMinutes=%{y} <b>(trend)</b><extra></extra>",
         "legendgroup": "2026352035",
         "marker": {
          "color": "#FFA15A",
          "symbol": "cross"
         },
         "mode": "lines",
         "name": "2026352035",
         "showlegend": false,
         "type": "scatter",
         "x": [
          380,
          485,
          485,
          498,
          510,
          510,
          514,
          521,
          531,
          540,
          543,
          545,
          545,
          545,
          546,
          546,
          548,
          553,
          554,
          556,
          560,
          565,
          567,
          568,
          568,
          573,
          591,
          607
         ],
         "xaxis": "x",
         "y": [
          820.8864363761636,
          709.7058466738705,
          709.7058466738705,
          695.9406308059675,
          683.2342776971341,
          683.2342776971341,
          678.9988266608561,
          671.58678734737,
          660.9981597566754,
          651.4683949250502,
          648.2918066478419,
          646.174081129703,
          646.174081129703,
          646.174081129703,
          645.1152183706336,
          645.1152183706336,
          642.9974928524946,
          637.7031790571473,
          636.6443162980779,
          634.5265907799389,
          630.2911397436611,
          624.9968259483138,
          622.879100430175,
          621.8202376711055,
          621.8202376711055,
          616.5259238757582,
          597.4663942125079,
          580.5245900673966
         ],
         "yaxis": "y"
        },
        {
         "hovertemplate": "Id=2320127002<br>TotalTimeInBed=%{x}<br>SedentaryMinutes=%{y}<extra></extra>",
         "legendgroup": "2320127002",
         "marker": {
          "color": "#19d3f3",
          "symbol": "circle"
         },
         "mode": "markers",
         "name": "2320127002",
         "orientation": "v",
         "showlegend": true,
         "type": "scatter",
         "x": [
          69
         ],
         "xaxis": "x",
         "y": [
          1129
         ],
         "yaxis": "y"
        },
        {
         "alignmentgroup": "True",
         "bingroup": "x",
         "hovertemplate": "Id=2320127002<br>TotalTimeInBed=%{x}<br>count=%{y}<extra></extra>",
         "legendgroup": "2320127002",
         "marker": {
          "color": "#19d3f3"
         },
         "name": "2320127002",
         "offsetgroup": "2320127002",
         "opacity": 0.5,
         "showlegend": false,
         "type": "histogram",
         "x": [
          69
         ],
         "xaxis": "x3",
         "yaxis": "y3"
        },
        {
         "alignmentgroup": "True",
         "hovertemplate": "Id=2320127002<br>SedentaryMinutes=%{y}<extra></extra>",
         "legendgroup": "2320127002",
         "marker": {
          "color": "#19d3f3",
          "symbol": "circle"
         },
         "name": "2320127002",
         "notched": true,
         "offsetgroup": "2320127002",
         "showlegend": false,
         "type": "box",
         "xaxis": "x2",
         "y": [
          1129
         ],
         "yaxis": "y2"
        },
        {
         "hovertemplate": "Id=2320127002<extra></extra>",
         "legendgroup": "2320127002",
         "marker": {
          "color": "#19d3f3",
          "symbol": "circle"
         },
         "mode": "lines",
         "name": "2320127002",
         "showlegend": false,
         "type": "scatter",
         "xaxis": "x",
         "yaxis": "y"
        },
        {
         "hovertemplate": "Id=2347167796<br>TotalTimeInBed=%{x}<br>SedentaryMinutes=%{y}<extra></extra>",
         "legendgroup": "2347167796",
         "marker": {
          "color": "#FF6692",
          "symbol": "diamond"
         },
         "mode": "markers",
         "name": "2347167796",
         "orientation": "v",
         "showlegend": true,
         "type": "scatter",
         "x": [
          531,
          489,
          504,
          602,
          557,
          514,
          484,
          461,
          386,
          459,
          471,
          490,
          499,
          450,
          473
         ],
         "xaxis": "x",
         "y": [
          676,
          705,
          720,
          508,
          678,
          648,
          761,
          781,
          591,
          584,
          653,
          732,
          623,
          764,
          2
         ],
         "yaxis": "y"
        },
        {
         "alignmentgroup": "True",
         "bingroup": "x",
         "hovertemplate": "Id=2347167796<br>TotalTimeInBed=%{x}<br>count=%{y}<extra></extra>",
         "legendgroup": "2347167796",
         "marker": {
          "color": "#FF6692"
         },
         "name": "2347167796",
         "offsetgroup": "2347167796",
         "opacity": 0.5,
         "showlegend": false,
         "type": "histogram",
         "x": [
          531,
          489,
          504,
          602,
          557,
          514,
          484,
          461,
          386,
          459,
          471,
          490,
          499,
          450,
          473
         ],
         "xaxis": "x3",
         "yaxis": "y3"
        },
        {
         "alignmentgroup": "True",
         "hovertemplate": "Id=2347167796<br>SedentaryMinutes=%{y}<extra></extra>",
         "legendgroup": "2347167796",
         "marker": {
          "color": "#FF6692",
          "symbol": "diamond"
         },
         "name": "2347167796",
         "notched": true,
         "offsetgroup": "2347167796",
         "showlegend": false,
         "type": "box",
         "xaxis": "x2",
         "y": [
          676,
          705,
          720,
          508,
          678,
          648,
          761,
          781,
          591,
          584,
          653,
          732,
          623,
          764,
          2
         ],
         "yaxis": "y2"
        },
        {
         "hovertemplate": "<b>OLS trendline</b><br>SedentaryMinutes = -0.0516761 * TotalTimeInBed + 653.79<br>R<sup>2</sup>=0.000184<br><br>Id=2347167796<br>TotalTimeInBed=%{x}<br>SedentaryMinutes=%{y} <b>(trend)</b><extra></extra>",
         "legendgroup": "2347167796",
         "marker": {
          "color": "#FF6692",
          "symbol": "diamond"
         },
         "mode": "lines",
         "name": "2347167796",
         "showlegend": false,
         "type": "scatter",
         "x": [
          386,
          450,
          459,
          461,
          471,
          473,
          484,
          489,
          490,
          499,
          504,
          514,
          531,
          557,
          602
         ],
         "xaxis": "x",
         "y": [
          633.8432143686618,
          630.5359448788421,
          630.0708601068362,
          629.9675079352793,
          629.450747077495,
          629.3473949059381,
          628.7789579623753,
          628.5205775334832,
          628.4689014477048,
          628.0038166756989,
          627.7454362468068,
          627.2286753890224,
          626.3501819307891,
          625.0066037005498,
          622.6811798405203
         ],
         "yaxis": "y"
        },
        {
         "hovertemplate": "Id=3977333714<br>TotalTimeInBed=%{x}<br>SedentaryMinutes=%{y}<extra></extra>",
         "legendgroup": "3977333714",
         "marker": {
          "color": "#B6E880",
          "symbol": "square"
         },
         "mode": "markers",
         "name": "3977333714",
         "orientation": "v",
         "showlegend": true,
         "type": "scatter",
         "x": [
          469,
          456,
          397,
          556,
          510,
          566,
          522,
          395,
          305,
          512,
          476,
          372,
          526,
          467,
          371,
          540,
          423,
          478,
          382,
          626,
          384,
          500,
          336,
          480,
          512,
          443,
          456,
          452
         ],
         "xaxis": "x",
         "y": [
          777,
          754,
          801,
          644,
          663,
          600,
          605,
          738,
          845,
          712,
          731,
          724,
          660,
          781,
          797,
          714,
          804,
          744,
          687,
          691,
          713,
          594,
          852,
          680,
          676,
          703,
          688,
          676
         ],
         "yaxis": "y"
        },
        {
         "alignmentgroup": "True",
         "bingroup": "x",
         "hovertemplate": "Id=3977333714<br>TotalTimeInBed=%{x}<br>count=%{y}<extra></extra>",
         "legendgroup": "3977333714",
         "marker": {
          "color": "#B6E880"
         },
         "name": "3977333714",
         "offsetgroup": "3977333714",
         "opacity": 0.5,
         "showlegend": false,
         "type": "histogram",
         "x": [
          469,
          456,
          397,
          556,
          510,
          566,
          522,
          395,
          305,
          512,
          476,
          372,
          526,
          467,
          371,
          540,
          423,
          478,
          382,
          626,
          384,
          500,
          336,
          480,
          512,
          443,
          456,
          452
         ],
         "xaxis": "x3",
         "yaxis": "y3"
        },
        {
         "alignmentgroup": "True",
         "hovertemplate": "Id=3977333714<br>SedentaryMinutes=%{y}<extra></extra>",
         "legendgroup": "3977333714",
         "marker": {
          "color": "#B6E880",
          "symbol": "square"
         },
         "name": "3977333714",
         "notched": true,
         "offsetgroup": "3977333714",
         "showlegend": false,
         "type": "box",
         "xaxis": "x2",
         "y": [
          777,
          754,
          801,
          644,
          663,
          600,
          605,
          738,
          845,
          712,
          731,
          724,
          660,
          781,
          797,
          714,
          804,
          744,
          687,
          691,
          713,
          594,
          852,
          680,
          676,
          703,
          688,
          676
         ],
         "yaxis": "y2"
        },
        {
         "hovertemplate": "<b>OLS trendline</b><br>SedentaryMinutes = -0.631165 * TotalTimeInBed + 1007.27<br>R<sup>2</sup>=0.473148<br><br>Id=3977333714<br>TotalTimeInBed=%{x}<br>SedentaryMinutes=%{y} <b>(trend)</b><extra></extra>",
         "legendgroup": "3977333714",
         "marker": {
          "color": "#B6E880",
          "symbol": "square"
         },
         "mode": "lines",
         "name": "3977333714",
         "showlegend": false,
         "type": "scatter",
         "x": [
          305,
          336,
          371,
          372,
          382,
          384,
          395,
          397,
          423,
          443,
          452,
          456,
          456,
          467,
          469,
          476,
          478,
          480,
          500,
          510,
          512,
          512,
          522,
          526,
          540,
          556,
          566,
          626
         ],
         "xaxis": "x",
         "y": [
          814.7662683589034,
          795.2001382272639,
          773.1093461431547,
          772.4781806550372,
          766.1665257738632,
          764.9041947976284,
          757.961374428337,
          756.6990434521022,
          740.2887407610497,
          727.6654309987015,
          721.9849416056448,
          719.4602796531752,
          719.4602796531752,
          712.5174592838837,
          711.2551283076489,
          706.836969890827,
          705.5746389145922,
          704.3123079383574,
          691.6889981760094,
          685.3773432948353,
          684.1150123186005,
          684.1150123186005,
          677.8033574374265,
          675.2786954849569,
          666.4423786513132,
          656.3437308414348,
          650.0320759602606,
          612.1621466732163
         ],
         "yaxis": "y"
        },
        {
         "hovertemplate": "Id=4020332650<br>TotalTimeInBed=%{x}<br>SedentaryMinutes=%{y}<extra></extra>",
         "legendgroup": "4020332650",
         "marker": {
          "color": "#FF97FF",
          "symbol": "x"
         },
         "mode": "markers",
         "name": "4020332650",
         "orientation": "v",
         "showlegend": true,
         "type": "scatter",
         "x": [
          541,
          77,
          332,
          536,
          248,
          408,
          402,
          494
         ],
         "xaxis": "x",
         "y": [
          712,
          1222,
          950,
          531,
          916,
          855,
          775,
          774
         ],
         "yaxis": "y"
        },
        {
         "alignmentgroup": "True",
         "bingroup": "x",
         "hovertemplate": "Id=4020332650<br>TotalTimeInBed=%{x}<br>count=%{y}<extra></extra>",
         "legendgroup": "4020332650",
         "marker": {
          "color": "#FF97FF"
         },
         "name": "4020332650",
         "offsetgroup": "4020332650",
         "opacity": 0.5,
         "showlegend": false,
         "type": "histogram",
         "x": [
          541,
          77,
          332,
          536,
          248,
          408,
          402,
          494
         ],
         "xaxis": "x3",
         "yaxis": "y3"
        },
        {
         "alignmentgroup": "True",
         "hovertemplate": "Id=4020332650<br>SedentaryMinutes=%{y}<extra></extra>",
         "legendgroup": "4020332650",
         "marker": {
          "color": "#FF97FF",
          "symbol": "x"
         },
         "name": "4020332650",
         "notched": true,
         "offsetgroup": "4020332650",
         "showlegend": false,
         "type": "box",
         "xaxis": "x2",
         "y": [
          712,
          1222,
          950,
          531,
          916,
          855,
          775,
          774
         ],
         "yaxis": "y2"
        },
        {
         "hovertemplate": "<b>OLS trendline</b><br>SedentaryMinutes = -1.18371 * TotalTimeInBed + 1291.39<br>R<sup>2</sup>=0.867255<br><br>Id=4020332650<br>TotalTimeInBed=%{x}<br>SedentaryMinutes=%{y} <b>(trend)</b><extra></extra>",
         "legendgroup": "4020332650",
         "marker": {
          "color": "#FF97FF",
          "symbol": "x"
         },
         "mode": "lines",
         "name": "4020332650",
         "showlegend": false,
         "type": "scatter",
         "x": [
          77,
          248,
          332,
          402,
          408,
          494,
          536,
          541
         ],
         "xaxis": "x",
         "y": [
          1200.2418726836402,
          997.8282137937888,
          898.3969427601776,
          815.5375502321683,
          808.4353165869104,
          706.6366343382132,
          656.9209988214076,
          651.0024707836926
         ],
         "yaxis": "y"
        },
        {
         "hovertemplate": "Id=4319703577<br>TotalTimeInBed=%{x}<br>SedentaryMinutes=%{y}<extra></extra>",
         "legendgroup": "4319703577",
         "marker": {
          "color": "#FECB52",
          "symbol": "cross"
         },
         "mode": "markers",
         "name": "4319703577",
         "orientation": "v",
         "showlegend": true,
         "type": "scatter",
         "x": [
          557,
          491,
          522,
          551,
          498,
          543,
          65,
          550,
          722,
          501,
          506,
          516,
          307,
          522,
          546,
          516,
          500,
          506,
          512,
          491,
          530,
          638,
          565,
          517,
          558,
          321
         ],
         "xaxis": "x",
         "y": [
          589,
          752,
          724,
          824,
          604,
          671,
          1265,
          709,
          546,
          692,
          544,
          649,
          680,
          552,
          624,
          695,
          836,
          585,
          669,
          692,
          586,
          603,
          490,
          555,
          574,
          0
         ],
         "yaxis": "y"
        },
        {
         "alignmentgroup": "True",
         "bingroup": "x",
         "hovertemplate": "Id=4319703577<br>TotalTimeInBed=%{x}<br>count=%{y}<extra></extra>",
         "legendgroup": "4319703577",
         "marker": {
          "color": "#FECB52"
         },
         "name": "4319703577",
         "offsetgroup": "4319703577",
         "opacity": 0.5,
         "showlegend": false,
         "type": "histogram",
         "x": [
          557,
          491,
          522,
          551,
          498,
          543,
          65,
          550,
          722,
          501,
          506,
          516,
          307,
          522,
          546,
          516,
          500,
          506,
          512,
          491,
          530,
          638,
          565,
          517,
          558,
          321
         ],
         "xaxis": "x3",
         "yaxis": "y3"
        },
        {
         "alignmentgroup": "True",
         "hovertemplate": "Id=4319703577<br>SedentaryMinutes=%{y}<extra></extra>",
         "legendgroup": "4319703577",
         "marker": {
          "color": "#FECB52",
          "symbol": "cross"
         },
         "name": "4319703577",
         "notched": true,
         "offsetgroup": "4319703577",
         "showlegend": false,
         "type": "box",
         "xaxis": "x2",
         "y": [
          589,
          752,
          724,
          824,
          604,
          671,
          1265,
          709,
          546,
          692,
          544,
          649,
          680,
          552,
          624,
          695,
          836,
          585,
          669,
          692,
          586,
          603,
          490,
          555,
          574,
          0
         ],
         "yaxis": "y2"
        },
        {
         "hovertemplate": "<b>OLS trendline</b><br>SedentaryMinutes = -0.566886 * TotalTimeInBed + 927.247<br>R<sup>2</sup>=0.114681<br><br>Id=4319703577<br>TotalTimeInBed=%{x}<br>SedentaryMinutes=%{y} <b>(trend)</b><extra></extra>",
         "legendgroup": "4319703577",
         "marker": {
          "color": "#FECB52",
          "symbol": "cross"
         },
         "mode": "lines",
         "name": "4319703577",
         "showlegend": false,
         "type": "scatter",
         "x": [
          65,
          307,
          321,
          491,
          491,
          498,
          500,
          501,
          506,
          506,
          512,
          516,
          516,
          517,
          522,
          522,
          530,
          543,
          546,
          550,
          551,
          557,
          558,
          565,
          638,
          722
         ],
         "xaxis": "x",
         "y": [
          890.3995141755437,
          753.2131975491446,
          745.2767990666257,
          648.9062460646098,
          648.9062460646098,
          644.9380468233504,
          643.8042756115619,
          643.2373900056677,
          640.4029619761968,
          640.4029619761968,
          637.0016483408315,
          634.7341059172546,
          634.7341059172546,
          634.1672203113604,
          631.3327922818894,
          631.3327922818894,
          626.7977074347357,
          619.4281945581109,
          617.7275377404283,
          615.4599953168515,
          614.8931097109573,
          611.491796075592,
          610.9249104696978,
          606.9567112284383,
          565.5740619981609,
          517.9556711030473
         ],
         "yaxis": "y"
        },
        {
         "hovertemplate": "Id=4388161847<br>TotalTimeInBed=%{x}<br>SedentaryMinutes=%{y}<extra></extra>",
         "legendgroup": "4388161847",
         "marker": {
          "color": "#636efa",
          "symbol": "circle"
         },
         "mode": "markers",
         "name": "4388161847",
         "orientation": "v",
         "showlegend": true,
         "type": "scatter",
         "x": [
          526,
          448,
          641,
          104,
          338,
          451,
          458,
          85,
          501,
          595,
          346,
          500,
          458,
          430,
          597,
          376,
          414,
          495,
          495,
          496,
          541,
          65,
          375,
          494
         ],
         "xaxis": "x",
         "y": [
          837,
          609,
          721,
          1017,
          704,
          696,
          853,
          945,
          749,
          584,
          673,
          684,
          878,
          537,
          579,
          935,
          632,
          896,
          896,
          508,
          576,
          1020,
          648,
          858
         ],
         "yaxis": "y"
        },
        {
         "alignmentgroup": "True",
         "bingroup": "x",
         "hovertemplate": "Id=4388161847<br>TotalTimeInBed=%{x}<br>count=%{y}<extra></extra>",
         "legendgroup": "4388161847",
         "marker": {
          "color": "#636efa"
         },
         "name": "4388161847",
         "offsetgroup": "4388161847",
         "opacity": 0.5,
         "showlegend": false,
         "type": "histogram",
         "x": [
          526,
          448,
          641,
          104,
          338,
          451,
          458,
          85,
          501,
          595,
          346,
          500,
          458,
          430,
          597,
          376,
          414,
          495,
          495,
          496,
          541,
          65,
          375,
          494
         ],
         "xaxis": "x3",
         "yaxis": "y3"
        },
        {
         "alignmentgroup": "True",
         "hovertemplate": "Id=4388161847<br>SedentaryMinutes=%{y}<extra></extra>",
         "legendgroup": "4388161847",
         "marker": {
          "color": "#636efa",
          "symbol": "circle"
         },
         "name": "4388161847",
         "notched": true,
         "offsetgroup": "4388161847",
         "showlegend": false,
         "type": "box",
         "xaxis": "x2",
         "y": [
          837,
          609,
          721,
          1017,
          704,
          696,
          853,
          945,
          749,
          584,
          673,
          684,
          878,
          537,
          579,
          935,
          632,
          896,
          896,
          508,
          576,
          1020,
          648,
          858
         ],
         "yaxis": "y2"
        },
        {
         "hovertemplate": "<b>OLS trendline</b><br>SedentaryMinutes = -0.583747 * TotalTimeInBed + 1000.26<br>R<sup>2</sup>=0.324614<br><br>Id=4388161847<br>TotalTimeInBed=%{x}<br>SedentaryMinutes=%{y} <b>(trend)</b><extra></extra>",
         "legendgroup": "4388161847",
         "marker": {
          "color": "#636efa",
          "symbol": "circle"
         },
         "mode": "lines",
         "name": "4388161847",
         "showlegend": false,
         "type": "scatter",
         "x": [
          65,
          85,
          104,
          338,
          346,
          375,
          376,
          414,
          430,
          448,
          451,
          458,
          458,
          494,
          495,
          495,
          496,
          500,
          501,
          526,
          541,
          595,
          597,
          641
         ],
         "xaxis": "x",
         "y": [
          962.3124809296445,
          950.6375483138607,
          939.5463623288662,
          802.9496507241963,
          798.2796776778829,
          781.3510253849964,
          780.7672787542073,
          758.5849067842181,
          749.2449606915911,
          738.7375213373857,
          736.9862814450182,
          732.9000550294938,
          732.9000550294938,
          711.8851763210831,
          711.301429690294,
          711.301429690294,
          710.7176830595047,
          708.382696536348,
          707.7989499055589,
          693.2052841358291,
          684.4490846739914,
          652.9267666113752,
          651.7592733497968,
          626.0744215950726
         ],
         "yaxis": "y"
        },
        {
         "hovertemplate": "Id=4445114986<br>TotalTimeInBed=%{x}<br>SedentaryMinutes=%{y}<extra></extra>",
         "legendgroup": "4445114986",
         "marker": {
          "color": "#EF553B",
          "symbol": "diamond"
         },
         "mode": "markers",
         "name": "4445114986",
         "orientation": "v",
         "showlegend": true,
         "type": "scatter",
         "x": [
          457,
          406,
          492,
          379,
          499,
          107,
          424,
          462,
          469,
          417,
          345,
          391,
          374,
          442,
          108,
          353,
          459,
          542,
          450,
          363,
          513,
          402,
          436,
          391,
          533,
          426,
          530,
          501
         ],
         "xaxis": "x",
         "y": [
          787,
          840,
          717,
          711,
          716,
          1219,
          895,
          841,
          756,
          706,
          916,
          839,
          839,
          762,
          1106,
          797,
          741,
          667,
          725,
          897,
          734,
          809,
          866,
          733,
          641,
          783,
          622,
          380
         ],
         "yaxis": "y"
        },
        {
         "alignmentgroup": "True",
         "bingroup": "x",
         "hovertemplate": "Id=4445114986<br>TotalTimeInBed=%{x}<br>count=%{y}<extra></extra>",
         "legendgroup": "4445114986",
         "marker": {
          "color": "#EF553B"
         },
         "name": "4445114986",
         "offsetgroup": "4445114986",
         "opacity": 0.5,
         "showlegend": false,
         "type": "histogram",
         "x": [
          457,
          406,
          492,
          379,
          499,
          107,
          424,
          462,
          469,
          417,
          345,
          391,
          374,
          442,
          108,
          353,
          459,
          542,
          450,
          363,
          513,
          402,
          436,
          391,
          533,
          426,
          530,
          501
         ],
         "xaxis": "x3",
         "yaxis": "y3"
        },
        {
         "alignmentgroup": "True",
         "hovertemplate": "Id=4445114986<br>SedentaryMinutes=%{y}<extra></extra>",
         "legendgroup": "4445114986",
         "marker": {
          "color": "#EF553B",
          "symbol": "diamond"
         },
         "name": "4445114986",
         "notched": true,
         "offsetgroup": "4445114986",
         "showlegend": false,
         "type": "box",
         "xaxis": "x2",
         "y": [
          787,
          840,
          717,
          711,
          716,
          1219,
          895,
          841,
          756,
          706,
          916,
          839,
          839,
          762,
          1106,
          797,
          741,
          667,
          725,
          897,
          734,
          809,
          866,
          733,
          641,
          783,
          622,
          380
         ],
         "yaxis": "y2"
        },
        {
         "hovertemplate": "<b>OLS trendline</b><br>SedentaryMinutes = -1.21249 * TotalTimeInBed + 1292.71<br>R<sup>2</sup>=0.696768<br><br>Id=4445114986<br>TotalTimeInBed=%{x}<br>SedentaryMinutes=%{y} <b>(trend)</b><extra></extra>",
         "legendgroup": "4445114986",
         "marker": {
          "color": "#EF553B",
          "symbol": "diamond"
         },
         "mode": "lines",
         "name": "4445114986",
         "showlegend": false,
         "type": "scatter",
         "x": [
          107,
          108,
          345,
          353,
          363,
          374,
          379,
          391,
          391,
          402,
          406,
          417,
          424,
          426,
          436,
          442,
          450,
          457,
          459,
          462,
          469,
          492,
          499,
          501,
          513,
          530,
          533,
          542
         ],
         "xaxis": "x",
         "y": [
          1162.9765538741713,
          1161.7640647089288,
          874.4041325465082,
          864.7042192245699,
          852.5793275721471,
          839.241946754482,
          833.1795009282706,
          818.6296309453633,
          818.6296309453633,
          805.2922501276981,
          800.442293466729,
          787.1049126490639,
          778.6174884923679,
          776.1925101618833,
          764.0676185094605,
          756.7926835180068,
          747.0927701960686,
          738.6053460393726,
          736.1803677088881,
          732.5429002131613,
          724.0554760564653,
          696.1682252558928,
          687.6808010991969,
          685.2558227687123,
          670.7059527858049,
          650.0936369766861,
          646.4561694809593,
          635.5437669937787
         ],
         "yaxis": "y"
        },
        {
         "hovertemplate": "Id=4558609924<br>TotalTimeInBed=%{x}<br>SedentaryMinutes=%{y}<extra></extra>",
         "legendgroup": "4558609924",
         "marker": {
          "color": "#00cc96",
          "symbol": "square"
         },
         "mode": "markers",
         "name": "4558609924",
         "orientation": "v",
         "showlegend": true,
         "type": "scatter",
         "x": [
          137,
          121,
          179,
          129,
          134
         ],
         "xaxis": "x",
         "y": [
          844,
          1062,
          1096,
          1121,
          1019
         ],
         "yaxis": "y"
        },
        {
         "alignmentgroup": "True",
         "bingroup": "x",
         "hovertemplate": "Id=4558609924<br>TotalTimeInBed=%{x}<br>count=%{y}<extra></extra>",
         "legendgroup": "4558609924",
         "marker": {
          "color": "#00cc96"
         },
         "name": "4558609924",
         "offsetgroup": "4558609924",
         "opacity": 0.5,
         "showlegend": false,
         "type": "histogram",
         "x": [
          137,
          121,
          179,
          129,
          134
         ],
         "xaxis": "x3",
         "yaxis": "y3"
        },
        {
         "alignmentgroup": "True",
         "hovertemplate": "Id=4558609924<br>SedentaryMinutes=%{y}<extra></extra>",
         "legendgroup": "4558609924",
         "marker": {
          "color": "#00cc96",
          "symbol": "square"
         },
         "name": "4558609924",
         "notched": true,
         "offsetgroup": "4558609924",
         "showlegend": false,
         "type": "box",
         "xaxis": "x2",
         "y": [
          844,
          1062,
          1096,
          1121,
          1019
         ],
         "yaxis": "y2"
        },
        {
         "hovertemplate": "<b>OLS trendline</b><br>SedentaryMinutes = 0.775879 * TotalTimeInBed + 919.777<br>R<sup>2</sup>=0.025491<br><br>Id=4558609924<br>TotalTimeInBed=%{x}<br>SedentaryMinutes=%{y} <b>(trend)</b><extra></extra>",
         "legendgroup": "4558609924",
         "marker": {
          "color": "#00cc96",
          "symbol": "square"
         },
         "mode": "lines",
         "name": "4558609924",
         "showlegend": false,
         "type": "scatter",
         "x": [
          121,
          129,
          134,
          137,
          179
         ],
         "xaxis": "x",
         "y": [
          1013.6583007812494,
          1019.8653320312494,
          1023.7447265624994,
          1026.0723632812494,
          1058.6592773437496
         ],
         "yaxis": "y"
        },
        {
         "hovertemplate": "Id=4702921684<br>TotalTimeInBed=%{x}<br>SedentaryMinutes=%{y}<extra></extra>",
         "legendgroup": "4702921684",
         "marker": {
          "color": "#ab63fa",
          "symbol": "x"
         },
         "mode": "markers",
         "name": "4702921684",
         "orientation": "v",
         "showlegend": true,
         "type": "scatter",
         "x": [
          439,
          430,
          415,
          257,
          406,
          612,
          312,
          487,
          468,
          434,
          475,
          506,
          380,
          429,
          449,
          461,
          447,
          501,
          373,
          434,
          428,
          449,
          543,
          543,
          458,
          431,
          366,
          442
         ],
         "xaxis": "x",
         "y": [
          718,
          777,
          772,
          944,
          556,
          437,
          890,
          757,
          717,
          901,
          469,
          542,
          730,
          765,
          733,
          738,
          692,
          728,
          729,
          757,
          745,
          682,
          577,
          577,
          746,
          701,
          784,
          241
         ],
         "yaxis": "y"
        },
        {
         "alignmentgroup": "True",
         "bingroup": "x",
         "hovertemplate": "Id=4702921684<br>TotalTimeInBed=%{x}<br>count=%{y}<extra></extra>",
         "legendgroup": "4702921684",
         "marker": {
          "color": "#ab63fa"
         },
         "name": "4702921684",
         "offsetgroup": "4702921684",
         "opacity": 0.5,
         "showlegend": false,
         "type": "histogram",
         "x": [
          439,
          430,
          415,
          257,
          406,
          612,
          312,
          487,
          468,
          434,
          475,
          506,
          380,
          429,
          449,
          461,
          447,
          501,
          373,
          434,
          428,
          449,
          543,
          543,
          458,
          431,
          366,
          442
         ],
         "xaxis": "x3",
         "yaxis": "y3"
        },
        {
         "alignmentgroup": "True",
         "hovertemplate": "Id=4702921684<br>SedentaryMinutes=%{y}<extra></extra>",
         "legendgroup": "4702921684",
         "marker": {
          "color": "#ab63fa",
          "symbol": "x"
         },
         "name": "4702921684",
         "notched": true,
         "offsetgroup": "4702921684",
         "showlegend": false,
         "type": "box",
         "xaxis": "x2",
         "y": [
          718,
          777,
          772,
          944,
          556,
          437,
          890,
          757,
          717,
          901,
          469,
          542,
          730,
          765,
          733,
          738,
          692,
          728,
          729,
          757,
          745,
          682,
          577,
          577,
          746,
          701,
          784,
          241
         ],
         "yaxis": "y2"
        },
        {
         "hovertemplate": "<b>OLS trendline</b><br>SedentaryMinutes = -1.25274 * TotalTimeInBed + 1246.7<br>R<sup>2</sup>=0.349188<br><br>Id=4702921684<br>TotalTimeInBed=%{x}<br>SedentaryMinutes=%{y} <b>(trend)</b><extra></extra>",
         "legendgroup": "4702921684",
         "marker": {
          "color": "#ab63fa",
          "symbol": "x"
         },
         "mode": "lines",
         "name": "4702921684",
         "showlegend": false,
         "type": "scatter",
         "x": [
          257,
          312,
          366,
          373,
          380,
          406,
          415,
          428,
          429,
          430,
          431,
          434,
          434,
          439,
          442,
          447,
          449,
          449,
          458,
          461,
          468,
          475,
          487,
          501,
          506,
          543,
          543,
          612
         ],
         "xaxis": "x",
         "y": [
          924.7476765621409,
          855.847035143779,
          788.1991326602963,
          779.429960116141,
          770.660787571986,
          738.0895752651239,
          726.8149248512101,
          710.5293186977791,
          709.2765797628998,
          708.0238408280205,
          706.7711018931412,
          703.0128850885033,
          703.0128850885033,
          696.7491904141067,
          692.9909736094688,
          686.7272789350723,
          684.2218010653137,
          684.2218010653137,
          672.9471506513999,
          669.188933846762,
          660.4197613026067,
          651.6505887584516,
          636.6177215398999,
          619.0793764515896,
          612.815681777193,
          566.4643411866587,
          566.4643411866587,
          480.0253546799863
         ],
         "yaxis": "y"
        },
        {
         "hovertemplate": "Id=5553957443<br>TotalTimeInBed=%{x}<br>SedentaryMinutes=%{y}<extra></extra>",
         "legendgroup": "5553957443",
         "marker": {
          "color": "#FFA15A",
          "symbol": "cross"
         },
         "mode": "markers",
         "name": "5553957443",
         "orientation": "v",
         "showlegend": true,
         "type": "scatter",
         "x": [
          464,
          488,
          418,
          409,
          686,
          402,
          541,
          410,
          678,
          431,
          353,
          725,
          640,
          468,
          453,
          391,
          457,
          495,
          843,
          686,
          471,
          429,
          470,
          464,
          434,
          470,
          608,
          494,
          443,
          486,
          475
         ],
         "xaxis": "x",
         "y": [
          767,
          647,
          693,
          689,
          521,
          943,
          622,
          756,
          598,
          801,
          781,
          443,
          582,
          732,
          750,
          745,
          727,
          709,
          506,
          436,
          724,
          812,
          651,
          692,
          761,
          902,
          505,
          667,
          707,
          628,
          222
         ],
         "yaxis": "y"
        },
        {
         "alignmentgroup": "True",
         "bingroup": "x",
         "hovertemplate": "Id=5553957443<br>TotalTimeInBed=%{x}<br>count=%{y}<extra></extra>",
         "legendgroup": "5553957443",
         "marker": {
          "color": "#FFA15A"
         },
         "name": "5553957443",
         "offsetgroup": "5553957443",
         "opacity": 0.5,
         "showlegend": false,
         "type": "histogram",
         "x": [
          464,
          488,
          418,
          409,
          686,
          402,
          541,
          410,
          678,
          431,
          353,
          725,
          640,
          468,
          453,
          391,
          457,
          495,
          843,
          686,
          471,
          429,
          470,
          464,
          434,
          470,
          608,
          494,
          443,
          486,
          475
         ],
         "xaxis": "x3",
         "yaxis": "y3"
        },
        {
         "alignmentgroup": "True",
         "hovertemplate": "Id=5553957443<br>SedentaryMinutes=%{y}<extra></extra>",
         "legendgroup": "5553957443",
         "marker": {
          "color": "#FFA15A",
          "symbol": "cross"
         },
         "name": "5553957443",
         "notched": true,
         "offsetgroup": "5553957443",
         "showlegend": false,
         "type": "box",
         "xaxis": "x2",
         "y": [
          767,
          647,
          693,
          689,
          521,
          943,
          622,
          756,
          598,
          801,
          781,
          443,
          582,
          732,
          750,
          745,
          727,
          709,
          506,
          436,
          724,
          812,
          651,
          692,
          761,
          902,
          505,
          667,
          707,
          628,
          222
         ],
         "yaxis": "y2"
        },
        {
         "hovertemplate": "<b>OLS trendline</b><br>SedentaryMinutes = -0.812111 * TotalTimeInBed + 1079.18<br>R<sup>2</sup>=0.414199<br><br>Id=5553957443<br>TotalTimeInBed=%{x}<br>SedentaryMinutes=%{y} <b>(trend)</b><extra></extra>",
         "legendgroup": "5553957443",
         "marker": {
          "color": "#FFA15A",
          "symbol": "cross"
         },
         "mode": "lines",
         "name": "5553957443",
         "showlegend": false,
         "type": "scatter",
         "x": [
          353,
          391,
          402,
          409,
          410,
          418,
          429,
          431,
          434,
          443,
          453,
          457,
          464,
          464,
          468,
          470,
          470,
          471,
          475,
          486,
          488,
          494,
          495,
          541,
          608,
          640,
          678,
          686,
          686,
          725,
          843
         ],
         "xaxis": "x",
         "y": [
          792.5030944561456,
          761.6428612277557,
          752.7096358195377,
          747.0248560143079,
          746.2127446135607,
          739.7158534075841,
          730.7826279993659,
          729.1584051978716,
          726.7220709956305,
          719.4130683889065,
          711.2919543814355,
          708.0435087784471,
          702.3587289732174,
          702.3587289732174,
          699.1102833702289,
          697.4860605687347,
          697.4860605687347,
          696.6739491679876,
          693.4255035649992,
          684.4922781567811,
          682.868055355287,
          677.9953869508042,
          677.1832755500573,
          639.8261511156905,
          585.4146872656347,
          559.4271224417275,
          528.5668892133376,
          522.0699980073608,
          522.0699980073608,
          490.3976533782238,
          394.56850809006585
         ],
         "yaxis": "y"
        },
        {
         "hovertemplate": "Id=5577150313<br>TotalTimeInBed=%{x}<br>SedentaryMinutes=%{y}<extra></extra>",
         "legendgroup": "5577150313",
         "marker": {
          "color": "#19d3f3",
          "symbol": "circle"
         },
         "mode": "markers",
         "name": "5577150313",
         "orientation": "v",
         "showlegend": true,
         "type": "scatter",
         "x": [
          438,
          458,
          497,
          413,
          445,
          583,
          553,
          465,
          480,
          437,
          366,
          402,
          615,
          461,
          377,
          452,
          372,
          485,
          433,
          398,
          553,
          543,
          634,
          78,
          562,
          476
         ],
         "xaxis": "x",
         "y": [
          728,
          776,
          662,
          695,
          472,
          525,
          623,
          733,
          773,
          670,
          823,
          627,
          425,
          743,
          759,
          773,
          692,
          739,
          621,
          499,
          732,
          580,
          631,
          1153,
          639,
          257
         ],
         "yaxis": "y"
        },
        {
         "alignmentgroup": "True",
         "bingroup": "x",
         "hovertemplate": "Id=5577150313<br>TotalTimeInBed=%{x}<br>count=%{y}<extra></extra>",
         "legendgroup": "5577150313",
         "marker": {
          "color": "#19d3f3"
         },
         "name": "5577150313",
         "offsetgroup": "5577150313",
         "opacity": 0.5,
         "showlegend": false,
         "type": "histogram",
         "x": [
          438,
          458,
          497,
          413,
          445,
          583,
          553,
          465,
          480,
          437,
          366,
          402,
          615,
          461,
          377,
          452,
          372,
          485,
          433,
          398,
          553,
          543,
          634,
          78,
          562,
          476
         ],
         "xaxis": "x3",
         "yaxis": "y3"
        },
        {
         "alignmentgroup": "True",
         "hovertemplate": "Id=5577150313<br>SedentaryMinutes=%{y}<extra></extra>",
         "legendgroup": "5577150313",
         "marker": {
          "color": "#19d3f3",
          "symbol": "circle"
         },
         "name": "5577150313",
         "notched": true,
         "offsetgroup": "5577150313",
         "showlegend": false,
         "type": "box",
         "xaxis": "x2",
         "y": [
          728,
          776,
          662,
          695,
          472,
          525,
          623,
          733,
          773,
          670,
          823,
          627,
          425,
          743,
          759,
          773,
          692,
          739,
          621,
          499,
          732,
          580,
          631,
          1153,
          639,
          257
         ],
         "yaxis": "y2"
        },
        {
         "hovertemplate": "<b>OLS trendline</b><br>SedentaryMinutes = -0.934956 * TotalTimeInBed + 1097.96<br>R<sup>2</sup>=0.382896<br><br>Id=5577150313<br>TotalTimeInBed=%{x}<br>SedentaryMinutes=%{y} <b>(trend)</b><extra></extra>",
         "legendgroup": "5577150313",
         "marker": {
          "color": "#19d3f3",
          "symbol": "circle"
         },
         "mode": "lines",
         "name": "5577150313",
         "showlegend": false,
         "type": "scatter",
         "x": [
          78,
          366,
          372,
          377,
          398,
          402,
          413,
          433,
          437,
          438,
          445,
          452,
          458,
          461,
          465,
          476,
          480,
          485,
          497,
          543,
          553,
          553,
          562,
          583,
          615,
          634
         ],
         "xaxis": "x",
         "y": [
          1025.0362560120352,
          755.768917349176,
          750.1591811270332,
          745.4844009419141,
          725.8503241644139,
          722.1105000163187,
          711.8259836090567,
          693.1268628685805,
          689.3870387204852,
          688.4520826834613,
          681.9073904242946,
          675.3626981651279,
          669.7529619429849,
          666.9480938319135,
          663.2082696838183,
          652.9237532765562,
          649.183929128461,
          644.509148943342,
          633.2896764990562,
          590.2816987959607,
          580.9321384257224,
          580.9321384257224,
          572.5175340925081,
          552.883457315008,
          522.9648641302458,
          505.20069942679334
         ],
         "yaxis": "y"
        },
        {
         "hovertemplate": "Id=6117666160<br>TotalTimeInBed=%{x}<br>SedentaryMinutes=%{y}<extra></extra>",
         "legendgroup": "6117666160",
         "marker": {
          "color": "#FF6692",
          "symbol": "diamond"
         },
         "mode": "markers",
         "name": "6117666160",
         "orientation": "v",
         "showlegend": true,
         "type": "scatter",
         "x": [
          398,
          350,
          510,
          492,
          502,
          550,
          546,
          539,
          367,
          557,
          416,
          636,
          575,
          415,
          698,
          507,
          603,
          522
         ],
         "xaxis": "x",
         "y": [
          502,
          702,
          759,
          425,
          587,
          579,
          413,
          468,
          711,
          417,
          758,
          479,
          525,
          479,
          673,
          456,
          517,
          125
         ],
         "yaxis": "y"
        },
        {
         "alignmentgroup": "True",
         "bingroup": "x",
         "hovertemplate": "Id=6117666160<br>TotalTimeInBed=%{x}<br>count=%{y}<extra></extra>",
         "legendgroup": "6117666160",
         "marker": {
          "color": "#FF6692"
         },
         "name": "6117666160",
         "offsetgroup": "6117666160",
         "opacity": 0.5,
         "showlegend": false,
         "type": "histogram",
         "x": [
          398,
          350,
          510,
          492,
          502,
          550,
          546,
          539,
          367,
          557,
          416,
          636,
          575,
          415,
          698,
          507,
          603,
          522
         ],
         "xaxis": "x3",
         "yaxis": "y3"
        },
        {
         "alignmentgroup": "True",
         "hovertemplate": "Id=6117666160<br>SedentaryMinutes=%{y}<extra></extra>",
         "legendgroup": "6117666160",
         "marker": {
          "color": "#FF6692",
          "symbol": "diamond"
         },
         "name": "6117666160",
         "notched": true,
         "offsetgroup": "6117666160",
         "showlegend": false,
         "type": "box",
         "xaxis": "x2",
         "y": [
          502,
          702,
          759,
          425,
          587,
          579,
          413,
          468,
          711,
          417,
          758,
          479,
          525,
          479,
          673,
          456,
          517,
          125
         ],
         "yaxis": "y2"
        },
        {
         "hovertemplate": "<b>OLS trendline</b><br>SedentaryMinutes = -0.411474 * TotalTimeInBed + 741.865<br>R<sup>2</sup>=0.060747<br><br>Id=6117666160<br>TotalTimeInBed=%{x}<br>SedentaryMinutes=%{y} <b>(trend)</b><extra></extra>",
         "legendgroup": "6117666160",
         "marker": {
          "color": "#FF6692",
          "symbol": "diamond"
         },
         "mode": "lines",
         "name": "6117666160",
         "showlegend": false,
         "type": "scatter",
         "x": [
          350,
          367,
          398,
          415,
          416,
          492,
          502,
          507,
          510,
          522,
          539,
          546,
          550,
          557,
          575,
          603,
          636,
          698
         ],
         "xaxis": "x",
         "y": [
          597.848819305824,
          590.8537659906724,
          578.0980805336311,
          571.1030272184794,
          570.6915534940588,
          539.4195504380866,
          535.3048131938797,
          533.2474445717763,
          532.0130233985143,
          527.075338705466,
          520.0802853903144,
          517.1999693193695,
          515.5540744216869,
          512.673758350742,
          505.26723131116967,
          493.7459670273905,
          480.16733412150785,
          454.6559632074253
         ],
         "yaxis": "y"
        },
        {
         "hovertemplate": "Id=6775888955<br>TotalTimeInBed=%{x}<br>SedentaryMinutes=%{y}<extra></extra>",
         "legendgroup": "6775888955",
         "marker": {
          "color": "#B6E880",
          "symbol": "square"
         },
         "mode": "markers",
         "name": "6775888955",
         "orientation": "v",
         "showlegend": true,
         "type": "scatter",
         "x": [
          260,
          441,
          406
         ],
         "xaxis": "x",
         "y": [
          1053,
          863,
          976
         ],
         "yaxis": "y"
        },
        {
         "alignmentgroup": "True",
         "bingroup": "x",
         "hovertemplate": "Id=6775888955<br>TotalTimeInBed=%{x}<br>count=%{y}<extra></extra>",
         "legendgroup": "6775888955",
         "marker": {
          "color": "#B6E880"
         },
         "name": "6775888955",
         "offsetgroup": "6775888955",
         "opacity": 0.5,
         "showlegend": false,
         "type": "histogram",
         "x": [
          260,
          441,
          406
         ],
         "xaxis": "x3",
         "yaxis": "y3"
        },
        {
         "alignmentgroup": "True",
         "hovertemplate": "Id=6775888955<br>SedentaryMinutes=%{y}<extra></extra>",
         "legendgroup": "6775888955",
         "marker": {
          "color": "#B6E880",
          "symbol": "square"
         },
         "name": "6775888955",
         "notched": true,
         "offsetgroup": "6775888955",
         "showlegend": false,
         "type": "box",
         "xaxis": "x2",
         "y": [
          1053,
          863,
          976
         ],
         "yaxis": "y2"
        },
        {
         "hovertemplate": "<b>OLS trendline</b><br>SedentaryMinutes = -0.896658 * TotalTimeInBed + 1294.87<br>R<sup>2</sup>=0.811391<br><br>Id=6775888955<br>TotalTimeInBed=%{x}<br>SedentaryMinutes=%{y} <b>(trend)</b><extra></extra>",
         "legendgroup": "6775888955",
         "marker": {
          "color": "#B6E880",
          "symbol": "square"
         },
         "mode": "lines",
         "name": "6775888955",
         "showlegend": false,
         "type": "scatter",
         "x": [
          260,
          406,
          441
         ],
         "xaxis": "x",
         "y": [
          1061.73576000868,
          930.8236410979719,
          899.4405988933499
         ],
         "yaxis": "y"
        },
        {
         "hovertemplate": "Id=6962181067<br>TotalTimeInBed=%{x}<br>SedentaryMinutes=%{y}<extra></extra>",
         "legendgroup": "6962181067",
         "marker": {
          "color": "#FF97FF",
          "symbol": "x"
         },
         "mode": "markers",
         "name": "6962181067",
         "orientation": "v",
         "showlegend": true,
         "type": "scatter",
         "x": [
          387,
          679,
          535,
          386,
          366,
          446,
          458,
          535,
          424,
          457,
          435,
          546,
          514,
          415,
          446,
          467,
          453,
          447,
          424,
          426,
          482,
          418,
          455,
          491,
          462,
          334,
          569,
          497,
          481,
          480,
          535
         ],
         "xaxis": "x",
         "y": [
          796,
          548,
          862,
          837,
          741,
          634,
          689,
          659,
          639,
          708,
          659,
          484,
          720,
          637,
          680,
          697,
          621,
          645,
          731,
          722,
          655,
          654,
          683,
          591,
          717,
          745,
          709,
          607,
          626,
          709,
          127
         ],
         "yaxis": "y"
        },
        {
         "alignmentgroup": "True",
         "bingroup": "x",
         "hovertemplate": "Id=6962181067<br>TotalTimeInBed=%{x}<br>count=%{y}<extra></extra>",
         "legendgroup": "6962181067",
         "marker": {
          "color": "#FF97FF"
         },
         "name": "6962181067",
         "offsetgroup": "6962181067",
         "opacity": 0.5,
         "showlegend": false,
         "type": "histogram",
         "x": [
          387,
          679,
          535,
          386,
          366,
          446,
          458,
          535,
          424,
          457,
          435,
          546,
          514,
          415,
          446,
          467,
          453,
          447,
          424,
          426,
          482,
          418,
          455,
          491,
          462,
          334,
          569,
          497,
          481,
          480,
          535
         ],
         "xaxis": "x3",
         "yaxis": "y3"
        },
        {
         "alignmentgroup": "True",
         "hovertemplate": "Id=6962181067<br>SedentaryMinutes=%{y}<extra></extra>",
         "legendgroup": "6962181067",
         "marker": {
          "color": "#FF97FF",
          "symbol": "x"
         },
         "name": "6962181067",
         "notched": true,
         "offsetgroup": "6962181067",
         "showlegend": false,
         "type": "box",
         "xaxis": "x2",
         "y": [
          796,
          548,
          862,
          837,
          741,
          634,
          689,
          659,
          639,
          708,
          659,
          484,
          720,
          637,
          680,
          697,
          621,
          645,
          731,
          722,
          655,
          654,
          683,
          591,
          717,
          745,
          709,
          607,
          626,
          709,
          127
         ],
         "yaxis": "y2"
        },
        {
         "hovertemplate": "<b>OLS trendline</b><br>SedentaryMinutes = -0.774509 * TotalTimeInBed + 1023.34<br>R<sup>2</sup>=0.170891<br><br>Id=6962181067<br>TotalTimeInBed=%{x}<br>SedentaryMinutes=%{y} <b>(trend)</b><extra></extra>",
         "legendgroup": "6962181067",
         "marker": {
          "color": "#FF97FF",
          "symbol": "x"
         },
         "mode": "lines",
         "name": "6962181067",
         "showlegend": false,
         "type": "scatter",
         "x": [
          334,
          366,
          386,
          387,
          415,
          418,
          424,
          424,
          426,
          435,
          446,
          446,
          447,
          453,
          455,
          457,
          458,
          462,
          467,
          480,
          481,
          482,
          491,
          497,
          514,
          535,
          535,
          535,
          546,
          569,
          679
         ],
         "xaxis": "x",
         "y": [
          764.6576411193373,
          739.8733686607478,
          724.3831983741294,
          723.6086898597985,
          701.9224514585326,
          699.5989259155399,
          694.9518748295543,
          694.9518748295543,
          693.4028578008924,
          686.4322811719142,
          677.912687514274,
          677.912687514274,
          677.1381789999431,
          672.4911279139576,
          670.9421108852957,
          669.3930938566339,
          668.6185853423029,
          665.5205512849793,
          661.6480087133245,
          651.5793980270226,
          650.8048895126917,
          650.0303809983608,
          643.0598043693824,
          638.4127532833969,
          625.2461085397713,
          608.9814297388218,
          608.9814297388218,
          608.9814297388218,
          600.4618360811817,
          582.6481402515706,
          497.452203675169
         ],
         "yaxis": "y"
        },
        {
         "hovertemplate": "Id=7007744171<br>TotalTimeInBed=%{x}<br>SedentaryMinutes=%{y}<extra></extra>",
         "legendgroup": "7007744171",
         "marker": {
          "color": "#FECB52",
          "symbol": "cross"
         },
         "mode": "markers",
         "name": "7007744171",
         "orientation": "v",
         "showlegend": true,
         "type": "scatter",
         "x": [
          82,
          61
         ],
         "xaxis": "x",
         "y": [
          1155,
          1142
         ],
         "yaxis": "y"
        },
        {
         "alignmentgroup": "True",
         "bingroup": "x",
         "hovertemplate": "Id=7007744171<br>TotalTimeInBed=%{x}<br>count=%{y}<extra></extra>",
         "legendgroup": "7007744171",
         "marker": {
          "color": "#FECB52"
         },
         "name": "7007744171",
         "offsetgroup": "7007744171",
         "opacity": 0.5,
         "showlegend": false,
         "type": "histogram",
         "x": [
          82,
          61
         ],
         "xaxis": "x3",
         "yaxis": "y3"
        },
        {
         "alignmentgroup": "True",
         "hovertemplate": "Id=7007744171<br>SedentaryMinutes=%{y}<extra></extra>",
         "legendgroup": "7007744171",
         "marker": {
          "color": "#FECB52",
          "symbol": "cross"
         },
         "name": "7007744171",
         "notched": true,
         "offsetgroup": "7007744171",
         "showlegend": false,
         "type": "box",
         "xaxis": "x2",
         "y": [
          1155,
          1142
         ],
         "yaxis": "y2"
        },
        {
         "hovertemplate": "<b>OLS trendline</b><br>SedentaryMinutes = 0.619048 * TotalTimeInBed + 1104.24<br>R<sup>2</sup>=1.000000<br><br>Id=7007744171<br>TotalTimeInBed=%{x}<br>SedentaryMinutes=%{y} <b>(trend)</b><extra></extra>",
         "legendgroup": "7007744171",
         "marker": {
          "color": "#FECB52",
          "symbol": "cross"
         },
         "mode": "lines",
         "name": "7007744171",
         "showlegend": false,
         "type": "scatter",
         "x": [
          61,
          82
         ],
         "xaxis": "x",
         "y": [
          1141.9999999999998,
          1154.9999999999998
         ],
         "yaxis": "y"
        },
        {
         "hovertemplate": "Id=7086361926<br>TotalTimeInBed=%{x}<br>SedentaryMinutes=%{y}<extra></extra>",
         "legendgroup": "7086361926",
         "marker": {
          "color": "#636efa",
          "symbol": "circle"
         },
         "mode": "markers",
         "name": "7086361926",
         "orientation": "v",
         "showlegend": true,
         "type": "scatter",
         "x": [
          525,
          465,
          476,
          386,
          483,
          502,
          411,
          448,
          704,
          447,
          500,
          479,
          367,
          489,
          407,
          459,
          461,
          436,
          333,
          548,
          510,
          438,
          463,
          457
         ],
         "xaxis": "x",
         "y": [
          745,
          744,
          787,
          864,
          671,
          797,
          758,
          762,
          566,
          706,
          726,
          829,
          810,
          584,
          685,
          737,
          761,
          843,
          834,
          621,
          695,
          743,
          757,
          343
         ],
         "yaxis": "y"
        },
        {
         "alignmentgroup": "True",
         "bingroup": "x",
         "hovertemplate": "Id=7086361926<br>TotalTimeInBed=%{x}<br>count=%{y}<extra></extra>",
         "legendgroup": "7086361926",
         "marker": {
          "color": "#636efa"
         },
         "name": "7086361926",
         "offsetgroup": "7086361926",
         "opacity": 0.5,
         "showlegend": false,
         "type": "histogram",
         "x": [
          525,
          465,
          476,
          386,
          483,
          502,
          411,
          448,
          704,
          447,
          500,
          479,
          367,
          489,
          407,
          459,
          461,
          436,
          333,
          548,
          510,
          438,
          463,
          457
         ],
         "xaxis": "x3",
         "yaxis": "y3"
        },
        {
         "alignmentgroup": "True",
         "hovertemplate": "Id=7086361926<br>SedentaryMinutes=%{y}<extra></extra>",
         "legendgroup": "7086361926",
         "marker": {
          "color": "#636efa",
          "symbol": "circle"
         },
         "name": "7086361926",
         "notched": true,
         "offsetgroup": "7086361926",
         "showlegend": false,
         "type": "box",
         "xaxis": "x2",
         "y": [
          745,
          744,
          787,
          864,
          671,
          797,
          758,
          762,
          566,
          706,
          726,
          829,
          810,
          584,
          685,
          737,
          761,
          843,
          834,
          621,
          695,
          743,
          757,
          343
         ],
         "yaxis": "y2"
        },
        {
         "hovertemplate": "<b>OLS trendline</b><br>SedentaryMinutes = -0.701404 * TotalTimeInBed + 1050.81<br>R<sup>2</sup>=0.198360<br><br>Id=7086361926<br>TotalTimeInBed=%{x}<br>SedentaryMinutes=%{y} <b>(trend)</b><extra></extra>",
         "legendgroup": "7086361926",
         "marker": {
          "color": "#636efa",
          "symbol": "circle"
         },
         "mode": "lines",
         "name": "7086361926",
         "showlegend": false,
         "type": "scatter",
         "x": [
          333,
          367,
          386,
          407,
          411,
          436,
          438,
          447,
          448,
          457,
          459,
          461,
          463,
          465,
          476,
          479,
          483,
          489,
          500,
          502,
          510,
          525,
          548,
          704
         ],
         "xaxis": "x",
         "y": [
          817.2456185764557,
          793.3978906694016,
          780.0712191919301,
          765.3417401905144,
          762.5361251426257,
          745.0010310933211,
          743.5982235693768,
          737.2855897116272,
          736.584185949655,
          730.2715520919053,
          728.8687445679609,
          727.4659370440166,
          726.0631295200723,
          724.6603219961279,
          716.9448806144339,
          714.8406693285174,
          712.0350542806286,
          707.8266317087955,
          700.1111903271016,
          698.7083828031573,
          693.0971527073798,
          682.5760962777971,
          666.4438097524369,
          557.0248228847768
         ],
         "yaxis": "y"
        },
        {
         "hovertemplate": "Id=8053475328<br>TotalTimeInBed=%{x}<br>SedentaryMinutes=%{y}<extra></extra>",
         "legendgroup": "8053475328",
         "marker": {
          "color": "#EF553B",
          "symbol": "diamond"
         },
         "mode": "markers",
         "name": "8053475328",
         "orientation": "v",
         "showlegend": true,
         "type": "scatter",
         "x": [
          493,
          337,
          75
         ],
         "xaxis": "x",
         "y": [
          695,
          741,
          1076
         ],
         "yaxis": "y"
        },
        {
         "alignmentgroup": "True",
         "bingroup": "x",
         "hovertemplate": "Id=8053475328<br>TotalTimeInBed=%{x}<br>count=%{y}<extra></extra>",
         "legendgroup": "8053475328",
         "marker": {
          "color": "#EF553B"
         },
         "name": "8053475328",
         "offsetgroup": "8053475328",
         "opacity": 0.5,
         "showlegend": false,
         "type": "histogram",
         "x": [
          493,
          337,
          75
         ],
         "xaxis": "x3",
         "yaxis": "y3"
        },
        {
         "alignmentgroup": "True",
         "hovertemplate": "Id=8053475328<br>SedentaryMinutes=%{y}<extra></extra>",
         "legendgroup": "8053475328",
         "marker": {
          "color": "#EF553B",
          "symbol": "diamond"
         },
         "name": "8053475328",
         "notched": true,
         "offsetgroup": "8053475328",
         "showlegend": false,
         "type": "box",
         "xaxis": "x2",
         "y": [
          695,
          741,
          1076
         ],
         "yaxis": "y2"
        },
        {
         "hovertemplate": "<b>OLS trendline</b><br>SedentaryMinutes = -0.949571 * TotalTimeInBed + 1123.79<br>R<sup>2</sup>=0.930185<br><br>Id=8053475328<br>TotalTimeInBed=%{x}<br>SedentaryMinutes=%{y} <b>(trend)</b><extra></extra>",
         "legendgroup": "8053475328",
         "marker": {
          "color": "#EF553B",
          "symbol": "diamond"
         },
         "mode": "lines",
         "name": "8053475328",
         "showlegend": false,
         "type": "scatter",
         "x": [
          75,
          337,
          493
         ],
         "xaxis": "x",
         "y": [
          1052.569464781998,
          803.7818187251596,
          655.6487164928435
         ],
         "yaxis": "y"
        },
        {
         "hovertemplate": "Id=8378563200<br>TotalTimeInBed=%{x}<br>SedentaryMinutes=%{y}<extra></extra>",
         "legendgroup": "8378563200",
         "marker": {
          "color": "#00cc96",
          "symbol": "square"
         },
         "mode": "markers",
         "name": "8378563200",
         "orientation": "v",
         "showlegend": true,
         "type": "scatter",
         "x": [
          356,
          487,
          455,
          533,
          689,
          591,
          451,
          421,
          409,
          417,
          469,
          591,
          492,
          402,
          402,
          584,
          600,
          556,
          562,
          555,
          539,
          385,
          429,
          477,
          417,
          355,
          513,
          606,
          399,
          391,
          387,
          546
         ],
         "xaxis": "x",
         "y": [
          723,
          680,
          699,
          729,
          563,
          599,
          720,
          737,
          763,
          677,
          769,
          740,
          734,
          692,
          692,
          593,
          676,
          711,
          767,
          780,
          669,
          802,
          822,
          680,
          764,
          831,
          851,
          621,
          772,
          840,
          763,
          433
         ],
         "yaxis": "y"
        },
        {
         "alignmentgroup": "True",
         "bingroup": "x",
         "hovertemplate": "Id=8378563200<br>TotalTimeInBed=%{x}<br>count=%{y}<extra></extra>",
         "legendgroup": "8378563200",
         "marker": {
          "color": "#00cc96"
         },
         "name": "8378563200",
         "offsetgroup": "8378563200",
         "opacity": 0.5,
         "showlegend": false,
         "type": "histogram",
         "x": [
          356,
          487,
          455,
          533,
          689,
          591,
          451,
          421,
          409,
          417,
          469,
          591,
          492,
          402,
          402,
          584,
          600,
          556,
          562,
          555,
          539,
          385,
          429,
          477,
          417,
          355,
          513,
          606,
          399,
          391,
          387,
          546
         ],
         "xaxis": "x3",
         "yaxis": "y3"
        },
        {
         "alignmentgroup": "True",
         "hovertemplate": "Id=8378563200<br>SedentaryMinutes=%{y}<extra></extra>",
         "legendgroup": "8378563200",
         "marker": {
          "color": "#00cc96",
          "symbol": "square"
         },
         "name": "8378563200",
         "notched": true,
         "offsetgroup": "8378563200",
         "showlegend": false,
         "type": "box",
         "xaxis": "x2",
         "y": [
          723,
          680,
          699,
          729,
          563,
          599,
          720,
          737,
          763,
          677,
          769,
          740,
          734,
          692,
          692,
          593,
          676,
          711,
          767,
          780,
          669,
          802,
          822,
          680,
          764,
          831,
          851,
          621,
          772,
          840,
          763,
          433
         ],
         "yaxis": "y2"
        },
        {
         "hovertemplate": "<b>OLS trendline</b><br>SedentaryMinutes = -0.552379 * TotalTimeInBed + 982.347<br>R<sup>2</sup>=0.302530<br><br>Id=8378563200<br>TotalTimeInBed=%{x}<br>SedentaryMinutes=%{y} <b>(trend)</b><extra></extra>",
         "legendgroup": "8378563200",
         "marker": {
          "color": "#00cc96",
          "symbol": "square"
         },
         "mode": "lines",
         "name": "8378563200",
         "showlegend": false,
         "type": "scatter",
         "x": [
          355,
          356,
          385,
          387,
          391,
          399,
          402,
          402,
          409,
          417,
          417,
          421,
          429,
          451,
          455,
          469,
          477,
          487,
          492,
          513,
          533,
          539,
          546,
          555,
          556,
          562,
          584,
          591,
          591,
          600,
          606,
          689
         ],
         "xaxis": "x",
         "y": [
          786.2521678378941,
          785.6997885464151,
          769.6807890935254,
          768.5760305105674,
          766.3665133446516,
          761.9474790128199,
          760.290341138383,
          760.290341138383,
          756.4236860980303,
          752.0046517661987,
          752.0046517661987,
          749.7951346002828,
          745.3761002684512,
          733.2237558559141,
          731.0142386899981,
          723.2809286092927,
          718.861894277461,
          713.3381013626715,
          710.5762049052767,
          698.9762397842185,
          687.9286539546395,
          684.6143782057657,
          680.7477231654129,
          675.7763095421024,
          675.2239302506233,
          671.9096545017496,
          659.7573100892125,
          655.8906550488598,
          655.8906550488598,
          650.9192414255491,
          647.6049656766754,
          601.7574844839218
         ],
         "yaxis": "y"
        },
        {
         "hovertemplate": "Id=8792009665<br>TotalTimeInBed=%{x}<br>SedentaryMinutes=%{y}<extra></extra>",
         "legendgroup": "8792009665",
         "marker": {
          "color": "#ab63fa",
          "symbol": "x"
         },
         "mode": "markers",
         "name": "8792009665",
         "orientation": "v",
         "showlegend": true,
         "type": "scatter",
         "x": [
          493,
          552,
          503,
          377,
          547,
          407,
          360,
          428,
          416,
          406,
          360,
          527,
          423,
          545,
          463
         ],
         "xaxis": "x",
         "y": [
          831,
          806,
          853,
          937,
          744,
          817,
          795,
          900,
          714,
          634,
          749,
          834,
          916,
          739,
          848
         ],
         "yaxis": "y"
        },
        {
         "alignmentgroup": "True",
         "bingroup": "x",
         "hovertemplate": "Id=8792009665<br>TotalTimeInBed=%{x}<br>count=%{y}<extra></extra>",
         "legendgroup": "8792009665",
         "marker": {
          "color": "#ab63fa"
         },
         "name": "8792009665",
         "offsetgroup": "8792009665",
         "opacity": 0.5,
         "showlegend": false,
         "type": "histogram",
         "x": [
          493,
          552,
          503,
          377,
          547,
          407,
          360,
          428,
          416,
          406,
          360,
          527,
          423,
          545,
          463
         ],
         "xaxis": "x3",
         "yaxis": "y3"
        },
        {
         "alignmentgroup": "True",
         "hovertemplate": "Id=8792009665<br>SedentaryMinutes=%{y}<extra></extra>",
         "legendgroup": "8792009665",
         "marker": {
          "color": "#ab63fa",
          "symbol": "x"
         },
         "name": "8792009665",
         "notched": true,
         "offsetgroup": "8792009665",
         "showlegend": false,
         "type": "box",
         "xaxis": "x2",
         "y": [
          831,
          806,
          853,
          937,
          744,
          817,
          795,
          900,
          714,
          634,
          749,
          834,
          916,
          739,
          848
         ],
         "yaxis": "y2"
        },
        {
         "hovertemplate": "<b>OLS trendline</b><br>SedentaryMinutes = -0.0666802 * TotalTimeInBed + 838.059<br>R<sup>2</sup>=0.003196<br><br>Id=8792009665<br>TotalTimeInBed=%{x}<br>SedentaryMinutes=%{y} <b>(trend)</b><extra></extra>",
         "legendgroup": "8792009665",
         "marker": {
          "color": "#ab63fa",
          "symbol": "x"
         },
         "mode": "lines",
         "name": "8792009665",
         "showlegend": false,
         "type": "scatter",
         "x": [
          360,
          360,
          377,
          406,
          407,
          416,
          423,
          428,
          463,
          493,
          503,
          527,
          545,
          547,
          552
         ],
         "xaxis": "x",
         "y": [
          814.054601523403,
          814.054601523403,
          812.9210383475197,
          810.9873129298365,
          810.9206327430198,
          810.3205110616699,
          809.8537497539533,
          809.5203488198699,
          807.1865422812867,
          805.1861366767869,
          804.5193348086202,
          802.9190103250204,
          801.7187669623204,
          801.5854065886871,
          801.2520056546037
         ],
         "yaxis": "y"
        }
       ],
       "layout": {
        "barmode": "overlay",
        "height": 600,
        "legend": {
         "title": {
          "text": "Id"
         },
         "tracegroupgap": 0
        },
        "template": {
         "data": {
          "bar": [
           {
            "error_x": {
             "color": "#2a3f5f"
            },
            "error_y": {
             "color": "#2a3f5f"
            },
            "marker": {
             "line": {
              "color": "#E5ECF6",
              "width": 0.5
             },
             "pattern": {
              "fillmode": "overlay",
              "size": 10,
              "solidity": 0.2
             }
            },
            "type": "bar"
           }
          ],
          "barpolar": [
           {
            "marker": {
             "line": {
              "color": "#E5ECF6",
              "width": 0.5
             },
             "pattern": {
              "fillmode": "overlay",
              "size": 10,
              "solidity": 0.2
             }
            },
            "type": "barpolar"
           }
          ],
          "carpet": [
           {
            "aaxis": {
             "endlinecolor": "#2a3f5f",
             "gridcolor": "white",
             "linecolor": "white",
             "minorgridcolor": "white",
             "startlinecolor": "#2a3f5f"
            },
            "baxis": {
             "endlinecolor": "#2a3f5f",
             "gridcolor": "white",
             "linecolor": "white",
             "minorgridcolor": "white",
             "startlinecolor": "#2a3f5f"
            },
            "type": "carpet"
           }
          ],
          "choropleth": [
           {
            "colorbar": {
             "outlinewidth": 0,
             "ticks": ""
            },
            "type": "choropleth"
           }
          ],
          "contour": [
           {
            "colorbar": {
             "outlinewidth": 0,
             "ticks": ""
            },
            "colorscale": [
             [
              0,
              "#0d0887"
             ],
             [
              0.1111111111111111,
              "#46039f"
             ],
             [
              0.2222222222222222,
              "#7201a8"
             ],
             [
              0.3333333333333333,
              "#9c179e"
             ],
             [
              0.4444444444444444,
              "#bd3786"
             ],
             [
              0.5555555555555556,
              "#d8576b"
             ],
             [
              0.6666666666666666,
              "#ed7953"
             ],
             [
              0.7777777777777778,
              "#fb9f3a"
             ],
             [
              0.8888888888888888,
              "#fdca26"
             ],
             [
              1,
              "#f0f921"
             ]
            ],
            "type": "contour"
           }
          ],
          "contourcarpet": [
           {
            "colorbar": {
             "outlinewidth": 0,
             "ticks": ""
            },
            "type": "contourcarpet"
           }
          ],
          "heatmap": [
           {
            "colorbar": {
             "outlinewidth": 0,
             "ticks": ""
            },
            "colorscale": [
             [
              0,
              "#0d0887"
             ],
             [
              0.1111111111111111,
              "#46039f"
             ],
             [
              0.2222222222222222,
              "#7201a8"
             ],
             [
              0.3333333333333333,
              "#9c179e"
             ],
             [
              0.4444444444444444,
              "#bd3786"
             ],
             [
              0.5555555555555556,
              "#d8576b"
             ],
             [
              0.6666666666666666,
              "#ed7953"
             ],
             [
              0.7777777777777778,
              "#fb9f3a"
             ],
             [
              0.8888888888888888,
              "#fdca26"
             ],
             [
              1,
              "#f0f921"
             ]
            ],
            "type": "heatmap"
           }
          ],
          "heatmapgl": [
           {
            "colorbar": {
             "outlinewidth": 0,
             "ticks": ""
            },
            "colorscale": [
             [
              0,
              "#0d0887"
             ],
             [
              0.1111111111111111,
              "#46039f"
             ],
             [
              0.2222222222222222,
              "#7201a8"
             ],
             [
              0.3333333333333333,
              "#9c179e"
             ],
             [
              0.4444444444444444,
              "#bd3786"
             ],
             [
              0.5555555555555556,
              "#d8576b"
             ],
             [
              0.6666666666666666,
              "#ed7953"
             ],
             [
              0.7777777777777778,
              "#fb9f3a"
             ],
             [
              0.8888888888888888,
              "#fdca26"
             ],
             [
              1,
              "#f0f921"
             ]
            ],
            "type": "heatmapgl"
           }
          ],
          "histogram": [
           {
            "marker": {
             "pattern": {
              "fillmode": "overlay",
              "size": 10,
              "solidity": 0.2
             }
            },
            "type": "histogram"
           }
          ],
          "histogram2d": [
           {
            "colorbar": {
             "outlinewidth": 0,
             "ticks": ""
            },
            "colorscale": [
             [
              0,
              "#0d0887"
             ],
             [
              0.1111111111111111,
              "#46039f"
             ],
             [
              0.2222222222222222,
              "#7201a8"
             ],
             [
              0.3333333333333333,
              "#9c179e"
             ],
             [
              0.4444444444444444,
              "#bd3786"
             ],
             [
              0.5555555555555556,
              "#d8576b"
             ],
             [
              0.6666666666666666,
              "#ed7953"
             ],
             [
              0.7777777777777778,
              "#fb9f3a"
             ],
             [
              0.8888888888888888,
              "#fdca26"
             ],
             [
              1,
              "#f0f921"
             ]
            ],
            "type": "histogram2d"
           }
          ],
          "histogram2dcontour": [
           {
            "colorbar": {
             "outlinewidth": 0,
             "ticks": ""
            },
            "colorscale": [
             [
              0,
              "#0d0887"
             ],
             [
              0.1111111111111111,
              "#46039f"
             ],
             [
              0.2222222222222222,
              "#7201a8"
             ],
             [
              0.3333333333333333,
              "#9c179e"
             ],
             [
              0.4444444444444444,
              "#bd3786"
             ],
             [
              0.5555555555555556,
              "#d8576b"
             ],
             [
              0.6666666666666666,
              "#ed7953"
             ],
             [
              0.7777777777777778,
              "#fb9f3a"
             ],
             [
              0.8888888888888888,
              "#fdca26"
             ],
             [
              1,
              "#f0f921"
             ]
            ],
            "type": "histogram2dcontour"
           }
          ],
          "mesh3d": [
           {
            "colorbar": {
             "outlinewidth": 0,
             "ticks": ""
            },
            "type": "mesh3d"
           }
          ],
          "parcoords": [
           {
            "line": {
             "colorbar": {
              "outlinewidth": 0,
              "ticks": ""
             }
            },
            "type": "parcoords"
           }
          ],
          "pie": [
           {
            "automargin": true,
            "type": "pie"
           }
          ],
          "scatter": [
           {
            "fillpattern": {
             "fillmode": "overlay",
             "size": 10,
             "solidity": 0.2
            },
            "type": "scatter"
           }
          ],
          "scatter3d": [
           {
            "line": {
             "colorbar": {
              "outlinewidth": 0,
              "ticks": ""
             }
            },
            "marker": {
             "colorbar": {
              "outlinewidth": 0,
              "ticks": ""
             }
            },
            "type": "scatter3d"
           }
          ],
          "scattercarpet": [
           {
            "marker": {
             "colorbar": {
              "outlinewidth": 0,
              "ticks": ""
             }
            },
            "type": "scattercarpet"
           }
          ],
          "scattergeo": [
           {
            "marker": {
             "colorbar": {
              "outlinewidth": 0,
              "ticks": ""
             }
            },
            "type": "scattergeo"
           }
          ],
          "scattergl": [
           {
            "marker": {
             "colorbar": {
              "outlinewidth": 0,
              "ticks": ""
             }
            },
            "type": "scattergl"
           }
          ],
          "scattermapbox": [
           {
            "marker": {
             "colorbar": {
              "outlinewidth": 0,
              "ticks": ""
             }
            },
            "type": "scattermapbox"
           }
          ],
          "scatterpolar": [
           {
            "marker": {
             "colorbar": {
              "outlinewidth": 0,
              "ticks": ""
             }
            },
            "type": "scatterpolar"
           }
          ],
          "scatterpolargl": [
           {
            "marker": {
             "colorbar": {
              "outlinewidth": 0,
              "ticks": ""
             }
            },
            "type": "scatterpolargl"
           }
          ],
          "scatterternary": [
           {
            "marker": {
             "colorbar": {
              "outlinewidth": 0,
              "ticks": ""
             }
            },
            "type": "scatterternary"
           }
          ],
          "surface": [
           {
            "colorbar": {
             "outlinewidth": 0,
             "ticks": ""
            },
            "colorscale": [
             [
              0,
              "#0d0887"
             ],
             [
              0.1111111111111111,
              "#46039f"
             ],
             [
              0.2222222222222222,
              "#7201a8"
             ],
             [
              0.3333333333333333,
              "#9c179e"
             ],
             [
              0.4444444444444444,
              "#bd3786"
             ],
             [
              0.5555555555555556,
              "#d8576b"
             ],
             [
              0.6666666666666666,
              "#ed7953"
             ],
             [
              0.7777777777777778,
              "#fb9f3a"
             ],
             [
              0.8888888888888888,
              "#fdca26"
             ],
             [
              1,
              "#f0f921"
             ]
            ],
            "type": "surface"
           }
          ],
          "table": [
           {
            "cells": {
             "fill": {
              "color": "#EBF0F8"
             },
             "line": {
              "color": "white"
             }
            },
            "header": {
             "fill": {
              "color": "#C8D4E3"
             },
             "line": {
              "color": "white"
             }
            },
            "type": "table"
           }
          ]
         },
         "layout": {
          "annotationdefaults": {
           "arrowcolor": "#2a3f5f",
           "arrowhead": 0,
           "arrowwidth": 1
          },
          "autotypenumbers": "strict",
          "coloraxis": {
           "colorbar": {
            "outlinewidth": 0,
            "ticks": ""
           }
          },
          "colorscale": {
           "diverging": [
            [
             0,
             "#8e0152"
            ],
            [
             0.1,
             "#c51b7d"
            ],
            [
             0.2,
             "#de77ae"
            ],
            [
             0.3,
             "#f1b6da"
            ],
            [
             0.4,
             "#fde0ef"
            ],
            [
             0.5,
             "#f7f7f7"
            ],
            [
             0.6,
             "#e6f5d0"
            ],
            [
             0.7,
             "#b8e186"
            ],
            [
             0.8,
             "#7fbc41"
            ],
            [
             0.9,
             "#4d9221"
            ],
            [
             1,
             "#276419"
            ]
           ],
           "sequential": [
            [
             0,
             "#0d0887"
            ],
            [
             0.1111111111111111,
             "#46039f"
            ],
            [
             0.2222222222222222,
             "#7201a8"
            ],
            [
             0.3333333333333333,
             "#9c179e"
            ],
            [
             0.4444444444444444,
             "#bd3786"
            ],
            [
             0.5555555555555556,
             "#d8576b"
            ],
            [
             0.6666666666666666,
             "#ed7953"
            ],
            [
             0.7777777777777778,
             "#fb9f3a"
            ],
            [
             0.8888888888888888,
             "#fdca26"
            ],
            [
             1,
             "#f0f921"
            ]
           ],
           "sequentialminus": [
            [
             0,
             "#0d0887"
            ],
            [
             0.1111111111111111,
             "#46039f"
            ],
            [
             0.2222222222222222,
             "#7201a8"
            ],
            [
             0.3333333333333333,
             "#9c179e"
            ],
            [
             0.4444444444444444,
             "#bd3786"
            ],
            [
             0.5555555555555556,
             "#d8576b"
            ],
            [
             0.6666666666666666,
             "#ed7953"
            ],
            [
             0.7777777777777778,
             "#fb9f3a"
            ],
            [
             0.8888888888888888,
             "#fdca26"
            ],
            [
             1,
             "#f0f921"
            ]
           ]
          },
          "colorway": [
           "#636efa",
           "#EF553B",
           "#00cc96",
           "#ab63fa",
           "#FFA15A",
           "#19d3f3",
           "#FF6692",
           "#B6E880",
           "#FF97FF",
           "#FECB52"
          ],
          "font": {
           "color": "#2a3f5f"
          },
          "geo": {
           "bgcolor": "white",
           "lakecolor": "white",
           "landcolor": "#E5ECF6",
           "showlakes": true,
           "showland": true,
           "subunitcolor": "white"
          },
          "hoverlabel": {
           "align": "left"
          },
          "hovermode": "closest",
          "mapbox": {
           "style": "light"
          },
          "paper_bgcolor": "white",
          "plot_bgcolor": "#E5ECF6",
          "polar": {
           "angularaxis": {
            "gridcolor": "white",
            "linecolor": "white",
            "ticks": ""
           },
           "bgcolor": "#E5ECF6",
           "radialaxis": {
            "gridcolor": "white",
            "linecolor": "white",
            "ticks": ""
           }
          },
          "scene": {
           "xaxis": {
            "backgroundcolor": "#E5ECF6",
            "gridcolor": "white",
            "gridwidth": 2,
            "linecolor": "white",
            "showbackground": true,
            "ticks": "",
            "zerolinecolor": "white"
           },
           "yaxis": {
            "backgroundcolor": "#E5ECF6",
            "gridcolor": "white",
            "gridwidth": 2,
            "linecolor": "white",
            "showbackground": true,
            "ticks": "",
            "zerolinecolor": "white"
           },
           "zaxis": {
            "backgroundcolor": "#E5ECF6",
            "gridcolor": "white",
            "gridwidth": 2,
            "linecolor": "white",
            "showbackground": true,
            "ticks": "",
            "zerolinecolor": "white"
           }
          },
          "shapedefaults": {
           "line": {
            "color": "#2a3f5f"
           }
          },
          "ternary": {
           "aaxis": {
            "gridcolor": "white",
            "linecolor": "white",
            "ticks": ""
           },
           "baxis": {
            "gridcolor": "white",
            "linecolor": "white",
            "ticks": ""
           },
           "bgcolor": "#E5ECF6",
           "caxis": {
            "gridcolor": "white",
            "linecolor": "white",
            "ticks": ""
           }
          },
          "title": {
           "x": 0.05
          },
          "xaxis": {
           "automargin": true,
           "gridcolor": "white",
           "linecolor": "white",
           "ticks": "",
           "title": {
            "standoff": 15
           },
           "zerolinecolor": "white",
           "zerolinewidth": 2
          },
          "yaxis": {
           "automargin": true,
           "gridcolor": "white",
           "linecolor": "white",
           "ticks": "",
           "title": {
            "standoff": 15
           },
           "zerolinecolor": "white",
           "zerolinewidth": 2
          }
         }
        },
        "title": {
         "text": "Sedentary Minutes vs Total time In Bed"
        },
        "xaxis": {
         "anchor": "y",
         "domain": [
          0,
          0.7363
         ],
         "title": {
          "text": "TotalTimeInBed"
         }
        },
        "xaxis2": {
         "anchor": "y2",
         "domain": [
          0.7413,
          1
         ],
         "matches": "x2",
         "showgrid": false,
         "showline": false,
         "showticklabels": false,
         "ticks": ""
        },
        "xaxis3": {
         "anchor": "y3",
         "domain": [
          0,
          0.7363
         ],
         "matches": "x",
         "showgrid": true,
         "showticklabels": false
        },
        "xaxis4": {
         "anchor": "y4",
         "domain": [
          0.7413,
          1
         ],
         "matches": "x2",
         "showgrid": false,
         "showline": false,
         "showticklabels": false,
         "ticks": ""
        },
        "yaxis": {
         "anchor": "x",
         "domain": [
          0,
          0.7326
         ],
         "title": {
          "text": "SedentaryMinutes"
         }
        },
        "yaxis2": {
         "anchor": "x2",
         "domain": [
          0,
          0.7326
         ],
         "matches": "y",
         "showgrid": true,
         "showticklabels": false
        },
        "yaxis3": {
         "anchor": "x3",
         "domain": [
          0.7426,
          1
         ],
         "matches": "y3",
         "showgrid": true,
         "showline": false,
         "showticklabels": false,
         "ticks": ""
        },
        "yaxis4": {
         "anchor": "x4",
         "domain": [
          0.7426,
          1
         ],
         "matches": "y3",
         "showgrid": true,
         "showline": false,
         "showticklabels": false,
         "ticks": ""
        }
       }
      }
     },
     "metadata": {},
     "output_type": "display_data"
    }
   ],
   "source": [
    "start_date = '2016-04-12'\n",
    "end_date = '2016-05-12'\n",
    "Participant_chosen= \"1503960366\"\n",
    "given = True\n",
    "givenPar = False\n",
    "i = 4\n",
    "\n",
    "sleepActive_par = meged_active_sleep[(meged_active_sleep['Day']>=start_date) & (meged_active_sleep['Day']<=end_date)].copy()\n",
    "if givenPar ==True:\n",
    "    sleepActive_par = meged_active_sleep[(meged_active_sleep['Day']>=start_date) & (meged_active_sleep['Day']<=end_date)&(meged_active_sleep['Id']==Participant_chosen)].copy()\n",
    "\n",
    "# Create Graph\n",
    "sleepActive_par['Id'] = sleepActive_par['Id'].astype('str')\n",
    "fig_strip= px.scatter(sleepActive_par, x = 'TotalTimeInBed', y = 'SedentaryMinutes',symbol = 'Id',color = 'Id', marginal_x='histogram',marginal_y = 'box' ,trendline  ='ols', height  =600, title ='Sedentary Minutes vs Total time In Bed')\n",
    "fig_strip\n",
    "# Create Graph\n",
    "# fig_hist = px.histogram(dff_c, x=\"TotalSteps\", color=\"day_of_week\")\n",
    "# fig_hist.update_xaxes(categoryorder=\"total descending\")\n",
    "\n",
    "# df_calories_date.groupby('Day')['Calories'].mean().mean()\n",
    "# sum_calories = df_calories_date.Calories.mean()\n",
    "# round(sum_calories, 4) \n",
    "\n"
   ]
  },
  {
   "cell_type": "code",
   "execution_count": 161,
   "metadata": {},
   "outputs": [],
   "source": [
    "Par_Id_str= \"1503960366\"\n",
    "given = False\n",
    "person_id = None if not given else Id_To_Idx[Par_Id_str]\n",
    "person_id"
   ]
  },
  {
   "cell_type": "code",
   "execution_count": 204,
   "metadata": {},
   "outputs": [
    {
     "data": {
      "text/html": [
       "<div>\n",
       "<style scoped>\n",
       "    .dataframe tbody tr th:only-of-type {\n",
       "        vertical-align: middle;\n",
       "    }\n",
       "\n",
       "    .dataframe tbody tr th {\n",
       "        vertical-align: top;\n",
       "    }\n",
       "\n",
       "    .dataframe thead th {\n",
       "        text-align: right;\n",
       "    }\n",
       "</style>\n",
       "<table border=\"1\" class=\"dataframe\">\n",
       "  <thead>\n",
       "    <tr style=\"text-align: right;\">\n",
       "      <th></th>\n",
       "      <th>TotalSteps</th>\n",
       "      <th>VeryActiveMinutes</th>\n",
       "      <th>FairlyActiveMinutes</th>\n",
       "      <th>LightlyActiveMinutes</th>\n",
       "      <th>SedentaryMinutes</th>\n",
       "      <th>Calories</th>\n",
       "      <th>Id</th>\n",
       "      <th>Time_str</th>\n",
       "      <th>PersonID</th>\n",
       "      <th>Day</th>\n",
       "      <th>TotalSleepRecords</th>\n",
       "      <th>TotalMinutesAsleep</th>\n",
       "      <th>TotalTimeInBed</th>\n",
       "      <th>DateStr</th>\n",
       "    </tr>\n",
       "  </thead>\n",
       "  <tbody>\n",
       "    <tr>\n",
       "      <th>0</th>\n",
       "      <td>13162</td>\n",
       "      <td>25</td>\n",
       "      <td>13</td>\n",
       "      <td>328</td>\n",
       "      <td>728</td>\n",
       "      <td>1985</td>\n",
       "      <td>1503960366</td>\n",
       "      <td>2016-04-12</td>\n",
       "      <td>0</td>\n",
       "      <td>2016-04-12</td>\n",
       "      <td>1</td>\n",
       "      <td>327</td>\n",
       "      <td>346</td>\n",
       "      <td>2016-04-12</td>\n",
       "    </tr>\n",
       "    <tr>\n",
       "      <th>1</th>\n",
       "      <td>10735</td>\n",
       "      <td>21</td>\n",
       "      <td>19</td>\n",
       "      <td>217</td>\n",
       "      <td>776</td>\n",
       "      <td>1797</td>\n",
       "      <td>1503960366</td>\n",
       "      <td>2016-04-13</td>\n",
       "      <td>0</td>\n",
       "      <td>2016-04-13</td>\n",
       "      <td>2</td>\n",
       "      <td>384</td>\n",
       "      <td>407</td>\n",
       "      <td>2016-04-13</td>\n",
       "    </tr>\n",
       "    <tr>\n",
       "      <th>2</th>\n",
       "      <td>9762</td>\n",
       "      <td>29</td>\n",
       "      <td>34</td>\n",
       "      <td>209</td>\n",
       "      <td>726</td>\n",
       "      <td>1745</td>\n",
       "      <td>1503960366</td>\n",
       "      <td>2016-04-15</td>\n",
       "      <td>0</td>\n",
       "      <td>2016-04-15</td>\n",
       "      <td>1</td>\n",
       "      <td>412</td>\n",
       "      <td>442</td>\n",
       "      <td>2016-04-15</td>\n",
       "    </tr>\n",
       "    <tr>\n",
       "      <th>3</th>\n",
       "      <td>12669</td>\n",
       "      <td>36</td>\n",
       "      <td>10</td>\n",
       "      <td>221</td>\n",
       "      <td>773</td>\n",
       "      <td>1863</td>\n",
       "      <td>1503960366</td>\n",
       "      <td>2016-04-16</td>\n",
       "      <td>0</td>\n",
       "      <td>2016-04-16</td>\n",
       "      <td>2</td>\n",
       "      <td>340</td>\n",
       "      <td>367</td>\n",
       "      <td>2016-04-16</td>\n",
       "    </tr>\n",
       "    <tr>\n",
       "      <th>4</th>\n",
       "      <td>9705</td>\n",
       "      <td>38</td>\n",
       "      <td>20</td>\n",
       "      <td>164</td>\n",
       "      <td>539</td>\n",
       "      <td>1728</td>\n",
       "      <td>1503960366</td>\n",
       "      <td>2016-04-17</td>\n",
       "      <td>0</td>\n",
       "      <td>2016-04-17</td>\n",
       "      <td>1</td>\n",
       "      <td>700</td>\n",
       "      <td>712</td>\n",
       "      <td>2016-04-17</td>\n",
       "    </tr>\n",
       "    <tr>\n",
       "      <th>...</th>\n",
       "      <td>...</td>\n",
       "      <td>...</td>\n",
       "      <td>...</td>\n",
       "      <td>...</td>\n",
       "      <td>...</td>\n",
       "      <td>...</td>\n",
       "      <td>...</td>\n",
       "      <td>...</td>\n",
       "      <td>...</td>\n",
       "      <td>...</td>\n",
       "      <td>...</td>\n",
       "      <td>...</td>\n",
       "      <td>...</td>\n",
       "      <td>...</td>\n",
       "    </tr>\n",
       "    <tr>\n",
       "      <th>408</th>\n",
       "      <td>7174</td>\n",
       "      <td>10</td>\n",
       "      <td>20</td>\n",
       "      <td>301</td>\n",
       "      <td>749</td>\n",
       "      <td>2896</td>\n",
       "      <td>8792009665</td>\n",
       "      <td>2016-04-30</td>\n",
       "      <td>31</td>\n",
       "      <td>2016-04-30</td>\n",
       "      <td>1</td>\n",
       "      <td>343</td>\n",
       "      <td>360</td>\n",
       "      <td>2016-04-30</td>\n",
       "    </tr>\n",
       "    <tr>\n",
       "      <th>409</th>\n",
       "      <td>1619</td>\n",
       "      <td>0</td>\n",
       "      <td>0</td>\n",
       "      <td>79</td>\n",
       "      <td>834</td>\n",
       "      <td>1962</td>\n",
       "      <td>8792009665</td>\n",
       "      <td>2016-05-01</td>\n",
       "      <td>31</td>\n",
       "      <td>2016-05-01</td>\n",
       "      <td>1</td>\n",
       "      <td>503</td>\n",
       "      <td>527</td>\n",
       "      <td>2016-05-01</td>\n",
       "    </tr>\n",
       "    <tr>\n",
       "      <th>410</th>\n",
       "      <td>1831</td>\n",
       "      <td>0</td>\n",
       "      <td>0</td>\n",
       "      <td>101</td>\n",
       "      <td>916</td>\n",
       "      <td>2015</td>\n",
       "      <td>8792009665</td>\n",
       "      <td>2016-05-02</td>\n",
       "      <td>31</td>\n",
       "      <td>2016-05-02</td>\n",
       "      <td>1</td>\n",
       "      <td>415</td>\n",
       "      <td>423</td>\n",
       "      <td>2016-05-02</td>\n",
       "    </tr>\n",
       "    <tr>\n",
       "      <th>411</th>\n",
       "      <td>2421</td>\n",
       "      <td>0</td>\n",
       "      <td>0</td>\n",
       "      <td>156</td>\n",
       "      <td>739</td>\n",
       "      <td>2297</td>\n",
       "      <td>8792009665</td>\n",
       "      <td>2016-05-03</td>\n",
       "      <td>31</td>\n",
       "      <td>2016-05-03</td>\n",
       "      <td>1</td>\n",
       "      <td>516</td>\n",
       "      <td>545</td>\n",
       "      <td>2016-05-03</td>\n",
       "    </tr>\n",
       "    <tr>\n",
       "      <th>412</th>\n",
       "      <td>2283</td>\n",
       "      <td>0</td>\n",
       "      <td>0</td>\n",
       "      <td>129</td>\n",
       "      <td>848</td>\n",
       "      <td>2067</td>\n",
       "      <td>8792009665</td>\n",
       "      <td>2016-05-04</td>\n",
       "      <td>31</td>\n",
       "      <td>2016-05-04</td>\n",
       "      <td>1</td>\n",
       "      <td>439</td>\n",
       "      <td>463</td>\n",
       "      <td>2016-05-04</td>\n",
       "    </tr>\n",
       "  </tbody>\n",
       "</table>\n",
       "<p>413 rows × 14 columns</p>\n",
       "</div>"
      ],
      "text/plain": [
       "     TotalSteps  VeryActiveMinutes  FairlyActiveMinutes  LightlyActiveMinutes  \\\n",
       "0         13162                 25                   13                   328   \n",
       "1         10735                 21                   19                   217   \n",
       "2          9762                 29                   34                   209   \n",
       "3         12669                 36                   10                   221   \n",
       "4          9705                 38                   20                   164   \n",
       "..          ...                ...                  ...                   ...   \n",
       "408        7174                 10                   20                   301   \n",
       "409        1619                  0                    0                    79   \n",
       "410        1831                  0                    0                   101   \n",
       "411        2421                  0                    0                   156   \n",
       "412        2283                  0                    0                   129   \n",
       "\n",
       "     SedentaryMinutes  Calories          Id    Time_str PersonID        Day  \\\n",
       "0                 728      1985  1503960366  2016-04-12        0 2016-04-12   \n",
       "1                 776      1797  1503960366  2016-04-13        0 2016-04-13   \n",
       "2                 726      1745  1503960366  2016-04-15        0 2016-04-15   \n",
       "3                 773      1863  1503960366  2016-04-16        0 2016-04-16   \n",
       "4                 539      1728  1503960366  2016-04-17        0 2016-04-17   \n",
       "..                ...       ...         ...         ...      ...        ...   \n",
       "408               749      2896  8792009665  2016-04-30       31 2016-04-30   \n",
       "409               834      1962  8792009665  2016-05-01       31 2016-05-01   \n",
       "410               916      2015  8792009665  2016-05-02       31 2016-05-02   \n",
       "411               739      2297  8792009665  2016-05-03       31 2016-05-03   \n",
       "412               848      2067  8792009665  2016-05-04       31 2016-05-04   \n",
       "\n",
       "     TotalSleepRecords  TotalMinutesAsleep  TotalTimeInBed     DateStr  \n",
       "0                    1                 327             346  2016-04-12  \n",
       "1                    2                 384             407  2016-04-13  \n",
       "2                    1                 412             442  2016-04-15  \n",
       "3                    2                 340             367  2016-04-16  \n",
       "4                    1                 700             712  2016-04-17  \n",
       "..                 ...                 ...             ...         ...  \n",
       "408                  1                 343             360  2016-04-30  \n",
       "409                  1                 503             527  2016-05-01  \n",
       "410                  1                 415             423  2016-05-02  \n",
       "411                  1                 516             545  2016-05-03  \n",
       "412                  1                 439             463  2016-05-04  \n",
       "\n",
       "[413 rows x 14 columns]"
      ]
     },
     "execution_count": 204,
     "metadata": {},
     "output_type": "execute_result"
    }
   ],
   "source": [
    "meged_active_sleep"
   ]
  },
  {
   "cell_type": "code",
   "execution_count": null,
   "metadata": {},
   "outputs": [],
   "source": []
  },
  {
   "cell_type": "code",
   "execution_count": null,
   "metadata": {},
   "outputs": [],
   "source": []
  }
 ],
 "metadata": {
  "interpreter": {
   "hash": "71aadde154dc023a2f05119ad7842c527d899ad6fc51d20d51e940452091dd1c"
  },
  "kernelspec": {
   "display_name": "Python 3.8.8 ('base')",
   "language": "python",
   "name": "python3"
  },
  "language_info": {
   "codemirror_mode": {
    "name": "ipython",
    "version": 3
   },
   "file_extension": ".py",
   "mimetype": "text/x-python",
   "name": "python",
   "nbconvert_exporter": "python",
   "pygments_lexer": "ipython3",
   "version": "3.8.8"
  },
  "orig_nbformat": 4
 },
 "nbformat": 4,
 "nbformat_minor": 2
}
