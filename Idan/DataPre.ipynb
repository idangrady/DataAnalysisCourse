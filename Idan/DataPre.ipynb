{
 "cells": [
  {
   "cell_type": "code",
   "execution_count": 2,
   "metadata": {},
   "outputs": [
    {
     "name": "stdout",
     "output_type": "stream",
     "text": [
      "Collecting pandas\n",
      "  Downloading pandas-1.4.2-cp39-cp39-win_amd64.whl (10.5 MB)\n",
      "     ---------------------------------------- 10.5/10.5 MB 1.0 MB/s eta 0:00:00\n",
      "Collecting pytz>=2020.1\n",
      "  Downloading pytz-2022.1-py2.py3-none-any.whl (503 kB)\n",
      "     -------------------------------------- 503.5/503.5 KB 1.6 MB/s eta 0:00:00\n",
      "Requirement already satisfied: python-dateutil>=2.8.1 in d:\\python\\lib\\site-packages (from pandas) (2.8.2)\n",
      "Requirement already satisfied: numpy>=1.18.5 in d:\\python\\lib\\site-packages (from pandas) (1.22.3)\n",
      "Requirement already satisfied: six>=1.5 in d:\\python\\lib\\site-packages (from python-dateutil>=2.8.1->pandas) (1.16.0)\n",
      "Installing collected packages: pytz, pandas\n",
      "Successfully installed pandas-1.4.2 pytz-2022.1\n",
      "Note: you may need to restart the kernel to use updated packages.\n"
     ]
    },
    {
     "name": "stderr",
     "output_type": "stream",
     "text": [
      "WARNING: You are using pip version 22.0.4; however, version 22.1 is available.\n",
      "You should consider upgrading via the 'd:\\Python\\python.exe -m pip install --upgrade pip' command.\n"
     ]
    }
   ],
   "source": [
    "pip install pandas"
   ]
  },
  {
   "cell_type": "code",
   "execution_count": 3,
   "metadata": {},
   "outputs": [],
   "source": [
    "import numpy as np\n",
    "import pandas as pd\n",
    "import os\n",
    "import glob\n",
    "from datetime import datetime\n",
    "# import timestamp\n",
    "import matplotlib.pyplot as plt\n",
    "\n",
    "# import heartpy as hp"
   ]
  },
  {
   "cell_type": "code",
   "execution_count": null,
   "metadata": {},
   "outputs": [],
   "source": []
  },
  {
   "cell_type": "code",
   "execution_count": 4,
   "metadata": {},
   "outputs": [],
   "source": [
    "\n",
    "class Data():\n",
    "    def __init__(self, path = None):\n",
    "        \n",
    "        self.directory = (glob.glob(\"/Data*merged.csv\")) \n",
    "        # Add All the functionality to the class for organisation\n",
    "        self.dailyNames = (glob.glob(\"daily*merged.csv\")) \n",
    "\n",
    "\n",
    "        self.init()\n",
    "        self.pdfs = []\n",
    "        self.dailies = {}\n",
    "    def init(self):\n",
    "        for idx, dataName in enumerate(self.directory):\n",
    "            self.pdfs.append(self.getDF(-1,dataName))\n",
    "\n",
    "        for idx, data in enumerate(self.dailyNames):\n",
    "            self.dailies[data]  =self.getDF(data)\n",
    "\n",
    "\n",
    "    def getDF(self, i, byname =0):\n",
    "        if(byname != 0):\n",
    "            return(pd.read_csv(byname))\n",
    "        return(pd.read_csv(self.directory[i]))\n",
    "\n",
    "\n",
    "\n",
    "\n",
    "\n",
    "def containTimeInstant():\n",
    "    timeList = [\"time, \"]\n",
    "\n",
    "def read_file(path, expend_print = False, convertTimeDate = False):\n",
    "    \"\"\" \n",
    "    read files\n",
    "    \"\"\"\n",
    "    # formatting to pandas\n",
    "    pd.Timestamp('2014-01-23 00:00:00', tz=None).to_pydatetime()\n",
    "\n",
    "    print(path)\n",
    "    \n",
    "    # read csv\n",
    "    df  = pd.read_csv(path)\n",
    "    if(expend_print):\n",
    "        print(path)\n",
    "        print(f\"Size: {df.shape}\")\n",
    "        print(df.head(10))\n",
    "        print(df.columns)\n",
    "        print((df.Id.unique()))\n",
    "        print((list(df.columns)))\n",
    "    df.dropna(subset=list(df.columns), how='any', axis=0).reset_index(inplace = True)\n",
    "\n",
    "    if(convertTimeDate):\n",
    "        pass\n",
    "\n",
    "    ID = \"Id\"\n",
    "    if ID in list(df.columns):\n",
    "        # df['date_column'] = pd.to_datetime(df['datetime_column']).dt.date\n",
    "        return df\n",
    "    return None\n",
    "\n",
    "\n",
    "def saved_file(df, name ):\n",
    "    df.to_csv(f'{name}.csv')\n",
    "\n",
    "def merge_data_to_one(files, safefile = False, saveFileName = \"OutputMerged\"):\n",
    "    outputMerged = pd.DataFrame()\n",
    "    \n",
    "    for idx, fileName in enumerate(set(files)):\n",
    "        data = read_file(fileName)\n",
    "        if isinstance(data, pd.DataFrame):\n",
    "            print(fileName)\n",
    "            if(idx<1):\n",
    "                outputMerged = data\n",
    "            else:\n",
    "                pd.merge(outputMerged, data, on = 'Id', how=\"left\")\n",
    "    \n",
    "    if safefile: saved_file(outputMerged, saveFileName)\n",
    "\n",
    "\n",
    "def compareSimilarity(A, B):\n",
    "    A.sort()\n",
    "    B.sort()\n",
    "\n",
    "    max_val = max([len(A),len(B)])\n",
    "\n",
    "    if max_val == len(A):arrMax, secondMax =A, B \n",
    "    else: arrMax, secondMax =A, B = A, B \n",
    "    \n",
    "    sumCountSimilarities = 0\n",
    "\n",
    "    sum_=0\n",
    "    for i in list(arrMax):\n",
    "        for j in list(secondMax):\n",
    "            if i==j:\n",
    "                if i<j : break\n",
    "                sumCountSimilarities+=1\n",
    "                break\n",
    "             \n",
    "    return (sumCountSimilarities, sumCountSimilarities/max_val)\n",
    "\n",
    "\n",
    "def compareamountof(lists):\n",
    "    l = len(lists)\n",
    "    output = []\n",
    "\n",
    "    for i in range(l):\n",
    "        for j in range(i, l):\n",
    "            A = read_file(lists[i])\n",
    "            B = read_file(lists[j])\n",
    "\n",
    "\n",
    "            similarities, ratiosim = compareSimilarity(A.Id.unique(), B.Id.unique())\n",
    "            output.append([lists[i], lists[j],similarities, ratiosim])\n",
    "\n",
    "    return output\n",
    "\n",
    "\n",
    "def divideInsertTime(data, colName):\n",
    "    # time_col_split = data.colName.str.split(\" \")\n",
    "    # split_amount = len(list(time_col_split[0]))\n",
    "\n",
    "    date = pd.to_datetime(data[colName])\n",
    "    try:\n",
    "        Id_To_Idx = {id :num for num,id in enumerate(Heart_By_Idx.Id.unique())}\n",
    "        Heart_By_Idx['PersonID'] = data.Id.map(Id_To_Idx)\n",
    "\n",
    "        data[\"Hour\"] = date.dt.hour\n",
    "        data[\"Day\"]  = date.dt.day \n",
    "        data[\"Minute\"] = date.dt.minute\n",
    "        data[\"DateOfWeek\"] = date.dt.day_name()      \n",
    "        print(\"Date Changed\")\n",
    "    except:\n",
    "        e = sys.exc_info()\n",
    "        print(f\"Could Not Prase Data: Check Col Name; Erorr: {sys.exc_info()}\")        \n",
    "\n",
    "    return data\n",
    "\n",
    "\n",
    "\n",
    "#TODO : Set Index: data.set_index(\"Id\")"
   ]
  },
  {
   "cell_type": "code",
   "execution_count": 25,
   "metadata": {},
   "outputs": [
    {
     "data": {
      "text/plain": [
       "['../Data\\\\dailyActivity_merged.csv',\n",
       " '../Data\\\\dailyCalories_merged.csv',\n",
       " '../Data\\\\dailyIntensities_merged.csv',\n",
       " '../Data\\\\dailySteps_merged.csv',\n",
       " '../Data\\\\heartrate_seconds_merged.csv',\n",
       " '../Data\\\\hourlyCalories_merged.csv',\n",
       " '../Data\\\\hourlyIntensities_merged.csv',\n",
       " '../Data\\\\hourlySteps_merged.csv',\n",
       " '../Data\\\\minuteCaloriesNarrow_merged.csv',\n",
       " '../Data\\\\minuteCaloriesWide_merged.csv',\n",
       " '../Data\\\\minuteIntensitiesNarrow_merged.csv',\n",
       " '../Data\\\\minuteIntensitiesWide_merged.csv',\n",
       " '../Data\\\\minuteMETsNarrow_merged.csv',\n",
       " '../Data\\\\minuteSleep_merged.csv',\n",
       " '../Data\\\\minuteStepsNarrow_merged.csv',\n",
       " '../Data\\\\minuteStepsWide_merged.csv',\n",
       " '../Data\\\\sleepDay_merged.csv',\n",
       " '../Data\\\\weightLogInfo_merged.csv']"
      ]
     },
     "execution_count": 25,
     "metadata": {},
     "output_type": "execute_result"
    }
   ],
   "source": [
    "data_csvs = (glob.glob(\"../Data/*merged.csv\")) \n",
    "data_csvs\n"
   ]
  },
  {
   "cell_type": "code",
   "execution_count": 19,
   "metadata": {},
   "outputs": [
    {
     "data": {
      "text/plain": [
       "['../Data\\\\dailyActivity_merged.csv',\n",
       " '../Data\\\\dailyCalories_merged.csv',\n",
       " '../Data\\\\dailyIntensities_merged.csv',\n",
       " '../Data\\\\dailySteps_merged.csv']"
      ]
     },
     "execution_count": 19,
     "metadata": {},
     "output_type": "execute_result"
    }
   ],
   "source": [
    "dailyData"
   ]
  },
  {
   "cell_type": "code",
   "execution_count": 21,
   "metadata": {},
   "outputs": [],
   "source": [
    "dailyData = (glob.glob(\"../Data/daily*merged.csv\"))  +  (glob.glob(\"../Data/heartrate*merged.csv\")) \n"
   ]
  },
  {
   "cell_type": "code",
   "execution_count": 22,
   "metadata": {},
   "outputs": [
    {
     "name": "stdout",
     "output_type": "stream",
     "text": [
      "../Data\\dailyActivity_merged.csv\n",
      "../Data\\dailyActivity_merged.csv\n",
      "../Data\\dailyActivity_merged.csv\n",
      "../Data\\dailyCalories_merged.csv\n",
      "../Data\\dailyActivity_merged.csv\n",
      "../Data\\dailyIntensities_merged.csv\n",
      "../Data\\dailyActivity_merged.csv\n",
      "../Data\\dailySteps_merged.csv\n",
      "../Data\\dailyActivity_merged.csv\n",
      "../Data\\heartrate_seconds_merged.csv\n",
      "../Data\\dailyCalories_merged.csv\n",
      "../Data\\dailyCalories_merged.csv\n",
      "../Data\\dailyCalories_merged.csv\n",
      "../Data\\dailyIntensities_merged.csv\n",
      "../Data\\dailyCalories_merged.csv\n",
      "../Data\\dailySteps_merged.csv\n",
      "../Data\\dailyCalories_merged.csv\n",
      "../Data\\heartrate_seconds_merged.csv\n",
      "../Data\\dailyIntensities_merged.csv\n",
      "../Data\\dailyIntensities_merged.csv\n",
      "../Data\\dailyIntensities_merged.csv\n",
      "../Data\\dailySteps_merged.csv\n",
      "../Data\\dailyIntensities_merged.csv\n",
      "../Data\\heartrate_seconds_merged.csv\n",
      "../Data\\dailySteps_merged.csv\n",
      "../Data\\dailySteps_merged.csv\n",
      "../Data\\dailySteps_merged.csv\n",
      "../Data\\heartrate_seconds_merged.csv\n",
      "../Data\\heartrate_seconds_merged.csv\n",
      "../Data\\heartrate_seconds_merged.csv\n",
      "[['../Data\\\\dailyActivity_merged.csv', '../Data\\\\dailyActivity_merged.csv', 33, 1.0], ['../Data\\\\dailyActivity_merged.csv', '../Data\\\\dailyCalories_merged.csv', 33, 1.0], ['../Data\\\\dailyActivity_merged.csv', '../Data\\\\dailyIntensities_merged.csv', 33, 1.0], ['../Data\\\\dailyActivity_merged.csv', '../Data\\\\dailySteps_merged.csv', 33, 1.0], ['../Data\\\\dailyActivity_merged.csv', '../Data\\\\heartrate_seconds_merged.csv', 14, 0.42424242424242425], ['../Data\\\\dailyCalories_merged.csv', '../Data\\\\dailyCalories_merged.csv', 33, 1.0], ['../Data\\\\dailyCalories_merged.csv', '../Data\\\\dailyIntensities_merged.csv', 33, 1.0], ['../Data\\\\dailyCalories_merged.csv', '../Data\\\\dailySteps_merged.csv', 33, 1.0], ['../Data\\\\dailyCalories_merged.csv', '../Data\\\\heartrate_seconds_merged.csv', 14, 0.42424242424242425], ['../Data\\\\dailyIntensities_merged.csv', '../Data\\\\dailyIntensities_merged.csv', 33, 1.0], ['../Data\\\\dailyIntensities_merged.csv', '../Data\\\\dailySteps_merged.csv', 33, 1.0], ['../Data\\\\dailyIntensities_merged.csv', '../Data\\\\heartrate_seconds_merged.csv', 14, 0.42424242424242425], ['../Data\\\\dailySteps_merged.csv', '../Data\\\\dailySteps_merged.csv', 33, 1.0], ['../Data\\\\dailySteps_merged.csv', '../Data\\\\heartrate_seconds_merged.csv', 14, 0.42424242424242425], ['../Data\\\\heartrate_seconds_merged.csv', '../Data\\\\heartrate_seconds_merged.csv', 14, 1.0]]\n"
     ]
    }
   ],
   "source": [
    "print(compareamountof(dailyData))"
   ]
  },
  {
   "cell_type": "code",
   "execution_count": null,
   "metadata": {},
   "outputs": [
    {
     "data": {
      "text/plain": [
       "33"
      ]
     },
     "execution_count": 39,
     "metadata": {},
     "output_type": "execute_result"
    }
   ],
   "source": [
    "len(read_file(dailyData[2]).Id.unique())"
   ]
  },
  {
   "cell_type": "code",
   "execution_count": 101,
   "metadata": {},
   "outputs": [
    {
     "name": "stdout",
     "output_type": "stream",
     "text": [
      "../Data\\dailySteps_merged.csv\n"
     ]
    },
    {
     "data": {
      "text/html": [
       "<div>\n",
       "<style scoped>\n",
       "    .dataframe tbody tr th:only-of-type {\n",
       "        vertical-align: middle;\n",
       "    }\n",
       "\n",
       "    .dataframe tbody tr th {\n",
       "        vertical-align: top;\n",
       "    }\n",
       "\n",
       "    .dataframe thead th {\n",
       "        text-align: right;\n",
       "    }\n",
       "</style>\n",
       "<table border=\"1\" class=\"dataframe\">\n",
       "  <thead>\n",
       "    <tr style=\"text-align: right;\">\n",
       "      <th></th>\n",
       "      <th>Id</th>\n",
       "      <th>Day</th>\n",
       "      <th>StepTotal</th>\n",
       "    </tr>\n",
       "  </thead>\n",
       "  <tbody>\n",
       "    <tr>\n",
       "      <th>0</th>\n",
       "      <td>1503960366</td>\n",
       "      <td>2016-04-12</td>\n",
       "      <td>13162</td>\n",
       "    </tr>\n",
       "    <tr>\n",
       "      <th>1</th>\n",
       "      <td>1503960366</td>\n",
       "      <td>2016-04-13</td>\n",
       "      <td>10735</td>\n",
       "    </tr>\n",
       "    <tr>\n",
       "      <th>2</th>\n",
       "      <td>1503960366</td>\n",
       "      <td>2016-04-14</td>\n",
       "      <td>10460</td>\n",
       "    </tr>\n",
       "    <tr>\n",
       "      <th>3</th>\n",
       "      <td>1503960366</td>\n",
       "      <td>2016-04-15</td>\n",
       "      <td>9762</td>\n",
       "    </tr>\n",
       "    <tr>\n",
       "      <th>4</th>\n",
       "      <td>1503960366</td>\n",
       "      <td>2016-04-16</td>\n",
       "      <td>12669</td>\n",
       "    </tr>\n",
       "    <tr>\n",
       "      <th>...</th>\n",
       "      <td>...</td>\n",
       "      <td>...</td>\n",
       "      <td>...</td>\n",
       "    </tr>\n",
       "    <tr>\n",
       "      <th>935</th>\n",
       "      <td>8877689391</td>\n",
       "      <td>2016-05-08</td>\n",
       "      <td>10686</td>\n",
       "    </tr>\n",
       "    <tr>\n",
       "      <th>936</th>\n",
       "      <td>8877689391</td>\n",
       "      <td>2016-05-09</td>\n",
       "      <td>20226</td>\n",
       "    </tr>\n",
       "    <tr>\n",
       "      <th>937</th>\n",
       "      <td>8877689391</td>\n",
       "      <td>2016-05-10</td>\n",
       "      <td>10733</td>\n",
       "    </tr>\n",
       "    <tr>\n",
       "      <th>938</th>\n",
       "      <td>8877689391</td>\n",
       "      <td>2016-05-11</td>\n",
       "      <td>21420</td>\n",
       "    </tr>\n",
       "    <tr>\n",
       "      <th>939</th>\n",
       "      <td>8877689391</td>\n",
       "      <td>2016-05-12</td>\n",
       "      <td>8064</td>\n",
       "    </tr>\n",
       "  </tbody>\n",
       "</table>\n",
       "<p>940 rows × 3 columns</p>\n",
       "</div>"
      ],
      "text/plain": [
       "             Id        Day  StepTotal\n",
       "0    1503960366 2016-04-12      13162\n",
       "1    1503960366 2016-04-13      10735\n",
       "2    1503960366 2016-04-14      10460\n",
       "3    1503960366 2016-04-15       9762\n",
       "4    1503960366 2016-04-16      12669\n",
       "..          ...        ...        ...\n",
       "935  8877689391 2016-05-08      10686\n",
       "936  8877689391 2016-05-09      20226\n",
       "937  8877689391 2016-05-10      10733\n",
       "938  8877689391 2016-05-11      21420\n",
       "939  8877689391 2016-05-12       8064\n",
       "\n",
       "[940 rows x 3 columns]"
      ]
     },
     "execution_count": 101,
     "metadata": {},
     "output_type": "execute_result"
    }
   ],
   "source": [
    "steps = read_file(data_csvs[3])\n",
    "steps.ActivityDay = pd.to_datetime(steps[\"ActivityDay\"])\n",
    "steps.rename(columns={\"ActivityDay\": \"Day\"}, inplace=True)\n",
    "steps"
   ]
  },
  {
   "cell_type": "code",
   "execution_count": null,
   "metadata": {},
   "outputs": [],
   "source": []
  },
  {
   "cell_type": "code",
   "execution_count": 88,
   "metadata": {},
   "outputs": [
    {
     "name": "stdout",
     "output_type": "stream",
     "text": [
      "../Data\\dailyCalories_merged.csv\n"
     ]
    },
    {
     "data": {
      "text/html": [
       "<div>\n",
       "<style scoped>\n",
       "    .dataframe tbody tr th:only-of-type {\n",
       "        vertical-align: middle;\n",
       "    }\n",
       "\n",
       "    .dataframe tbody tr th {\n",
       "        vertical-align: top;\n",
       "    }\n",
       "\n",
       "    .dataframe thead th {\n",
       "        text-align: right;\n",
       "    }\n",
       "</style>\n",
       "<table border=\"1\" class=\"dataframe\">\n",
       "  <thead>\n",
       "    <tr style=\"text-align: right;\">\n",
       "      <th></th>\n",
       "      <th>Id</th>\n",
       "      <th>Day</th>\n",
       "      <th>Calories</th>\n",
       "    </tr>\n",
       "  </thead>\n",
       "  <tbody>\n",
       "    <tr>\n",
       "      <th>0</th>\n",
       "      <td>1503960366</td>\n",
       "      <td>2016-04-12</td>\n",
       "      <td>1985</td>\n",
       "    </tr>\n",
       "    <tr>\n",
       "      <th>1</th>\n",
       "      <td>1503960366</td>\n",
       "      <td>2016-04-13</td>\n",
       "      <td>1797</td>\n",
       "    </tr>\n",
       "    <tr>\n",
       "      <th>2</th>\n",
       "      <td>1503960366</td>\n",
       "      <td>2016-04-14</td>\n",
       "      <td>1776</td>\n",
       "    </tr>\n",
       "    <tr>\n",
       "      <th>3</th>\n",
       "      <td>1503960366</td>\n",
       "      <td>2016-04-15</td>\n",
       "      <td>1745</td>\n",
       "    </tr>\n",
       "    <tr>\n",
       "      <th>4</th>\n",
       "      <td>1503960366</td>\n",
       "      <td>2016-04-16</td>\n",
       "      <td>1863</td>\n",
       "    </tr>\n",
       "    <tr>\n",
       "      <th>...</th>\n",
       "      <td>...</td>\n",
       "      <td>...</td>\n",
       "      <td>...</td>\n",
       "    </tr>\n",
       "    <tr>\n",
       "      <th>935</th>\n",
       "      <td>8877689391</td>\n",
       "      <td>2016-05-08</td>\n",
       "      <td>2847</td>\n",
       "    </tr>\n",
       "    <tr>\n",
       "      <th>936</th>\n",
       "      <td>8877689391</td>\n",
       "      <td>2016-05-09</td>\n",
       "      <td>3710</td>\n",
       "    </tr>\n",
       "    <tr>\n",
       "      <th>937</th>\n",
       "      <td>8877689391</td>\n",
       "      <td>2016-05-10</td>\n",
       "      <td>2832</td>\n",
       "    </tr>\n",
       "    <tr>\n",
       "      <th>938</th>\n",
       "      <td>8877689391</td>\n",
       "      <td>2016-05-11</td>\n",
       "      <td>3832</td>\n",
       "    </tr>\n",
       "    <tr>\n",
       "      <th>939</th>\n",
       "      <td>8877689391</td>\n",
       "      <td>2016-05-12</td>\n",
       "      <td>1849</td>\n",
       "    </tr>\n",
       "  </tbody>\n",
       "</table>\n",
       "<p>940 rows × 3 columns</p>\n",
       "</div>"
      ],
      "text/plain": [
       "             Id        Day  Calories\n",
       "0    1503960366 2016-04-12      1985\n",
       "1    1503960366 2016-04-13      1797\n",
       "2    1503960366 2016-04-14      1776\n",
       "3    1503960366 2016-04-15      1745\n",
       "4    1503960366 2016-04-16      1863\n",
       "..          ...        ...       ...\n",
       "935  8877689391 2016-05-08      2847\n",
       "936  8877689391 2016-05-09      3710\n",
       "937  8877689391 2016-05-10      2832\n",
       "938  8877689391 2016-05-11      3832\n",
       "939  8877689391 2016-05-12      1849\n",
       "\n",
       "[940 rows x 3 columns]"
      ]
     },
     "execution_count": 88,
     "metadata": {},
     "output_type": "execute_result"
    }
   ],
   "source": [
    "calories = read_file(data_csvs[1])\n",
    "calories.ActivityDay = pd.to_datetime(calories['ActivityDay'])\n",
    "calories.rename(columns={\"ActivityDay\": \"Day\"}, inplace = True)\n",
    "calories"
   ]
  },
  {
   "cell_type": "markdown",
   "metadata": {},
   "source": [
    "## Calories Exploration\n"
   ]
  },
  {
   "cell_type": "code",
   "execution_count": 89,
   "metadata": {},
   "outputs": [
    {
     "name": "stdout",
     "output_type": "stream",
     "text": [
      "../Data\\sleepDay_merged.csv\n"
     ]
    },
    {
     "data": {
      "text/html": [
       "<div>\n",
       "<style scoped>\n",
       "    .dataframe tbody tr th:only-of-type {\n",
       "        vertical-align: middle;\n",
       "    }\n",
       "\n",
       "    .dataframe tbody tr th {\n",
       "        vertical-align: top;\n",
       "    }\n",
       "\n",
       "    .dataframe thead th {\n",
       "        text-align: right;\n",
       "    }\n",
       "</style>\n",
       "<table border=\"1\" class=\"dataframe\">\n",
       "  <thead>\n",
       "    <tr style=\"text-align: right;\">\n",
       "      <th></th>\n",
       "      <th>Id</th>\n",
       "      <th>Day</th>\n",
       "      <th>TotalSleepRecords</th>\n",
       "      <th>TotalMinutesAsleep</th>\n",
       "      <th>TotalTimeInBed</th>\n",
       "    </tr>\n",
       "  </thead>\n",
       "  <tbody>\n",
       "    <tr>\n",
       "      <th>0</th>\n",
       "      <td>1503960366</td>\n",
       "      <td>2016-04-12</td>\n",
       "      <td>1</td>\n",
       "      <td>327</td>\n",
       "      <td>346</td>\n",
       "    </tr>\n",
       "    <tr>\n",
       "      <th>1</th>\n",
       "      <td>1503960366</td>\n",
       "      <td>2016-04-13</td>\n",
       "      <td>2</td>\n",
       "      <td>384</td>\n",
       "      <td>407</td>\n",
       "    </tr>\n",
       "    <tr>\n",
       "      <th>2</th>\n",
       "      <td>1503960366</td>\n",
       "      <td>2016-04-15</td>\n",
       "      <td>1</td>\n",
       "      <td>412</td>\n",
       "      <td>442</td>\n",
       "    </tr>\n",
       "    <tr>\n",
       "      <th>3</th>\n",
       "      <td>1503960366</td>\n",
       "      <td>2016-04-16</td>\n",
       "      <td>2</td>\n",
       "      <td>340</td>\n",
       "      <td>367</td>\n",
       "    </tr>\n",
       "    <tr>\n",
       "      <th>4</th>\n",
       "      <td>1503960366</td>\n",
       "      <td>2016-04-17</td>\n",
       "      <td>1</td>\n",
       "      <td>700</td>\n",
       "      <td>712</td>\n",
       "    </tr>\n",
       "  </tbody>\n",
       "</table>\n",
       "</div>"
      ],
      "text/plain": [
       "           Id        Day  TotalSleepRecords  TotalMinutesAsleep  \\\n",
       "0  1503960366 2016-04-12                  1                 327   \n",
       "1  1503960366 2016-04-13                  2                 384   \n",
       "2  1503960366 2016-04-15                  1                 412   \n",
       "3  1503960366 2016-04-16                  2                 340   \n",
       "4  1503960366 2016-04-17                  1                 700   \n",
       "\n",
       "   TotalTimeInBed  \n",
       "0             346  \n",
       "1             407  \n",
       "2             442  \n",
       "3             367  \n",
       "4             712  "
      ]
     },
     "execution_count": 89,
     "metadata": {},
     "output_type": "execute_result"
    }
   ],
   "source": [
    "sleep = read_file(data_csvs[-2])\n",
    "sleep.SleepDay = pd.to_datetime(sleep['SleepDay'])\n",
    "sleep.rename(columns={\"SleepDay\": \"Day\"}, inplace=True)\n",
    "sleep.head()"
   ]
  },
  {
   "cell_type": "code",
   "execution_count": 95,
   "metadata": {},
   "outputs": [
    {
     "data": {
      "text/html": [
       "<div>\n",
       "<style scoped>\n",
       "    .dataframe tbody tr th:only-of-type {\n",
       "        vertical-align: middle;\n",
       "    }\n",
       "\n",
       "    .dataframe tbody tr th {\n",
       "        vertical-align: top;\n",
       "    }\n",
       "\n",
       "    .dataframe thead th {\n",
       "        text-align: right;\n",
       "    }\n",
       "</style>\n",
       "<table border=\"1\" class=\"dataframe\">\n",
       "  <thead>\n",
       "    <tr style=\"text-align: right;\">\n",
       "      <th></th>\n",
       "      <th>Calories</th>\n",
       "      <th>TotalSleepRecords</th>\n",
       "      <th>TotalMinutesAsleep</th>\n",
       "      <th>TotalTimeInBed</th>\n",
       "    </tr>\n",
       "  </thead>\n",
       "  <tbody>\n",
       "    <tr>\n",
       "      <th>Calories</th>\n",
       "      <td>1.000000</td>\n",
       "      <td>-0.051060</td>\n",
       "      <td>-0.028526</td>\n",
       "      <td>-0.132507</td>\n",
       "    </tr>\n",
       "    <tr>\n",
       "      <th>TotalSleepRecords</th>\n",
       "      <td>-0.051060</td>\n",
       "      <td>1.000000</td>\n",
       "      <td>0.165912</td>\n",
       "      <td>0.172917</td>\n",
       "    </tr>\n",
       "    <tr>\n",
       "      <th>TotalMinutesAsleep</th>\n",
       "      <td>-0.028526</td>\n",
       "      <td>0.165912</td>\n",
       "      <td>1.000000</td>\n",
       "      <td>0.930457</td>\n",
       "    </tr>\n",
       "    <tr>\n",
       "      <th>TotalTimeInBed</th>\n",
       "      <td>-0.132507</td>\n",
       "      <td>0.172917</td>\n",
       "      <td>0.930457</td>\n",
       "      <td>1.000000</td>\n",
       "    </tr>\n",
       "  </tbody>\n",
       "</table>\n",
       "</div>"
      ],
      "text/plain": [
       "                    Calories  TotalSleepRecords  TotalMinutesAsleep  \\\n",
       "Calories            1.000000          -0.051060           -0.028526   \n",
       "TotalSleepRecords  -0.051060           1.000000            0.165912   \n",
       "TotalMinutesAsleep -0.028526           0.165912            1.000000   \n",
       "TotalTimeInBed     -0.132507           0.172917            0.930457   \n",
       "\n",
       "                    TotalTimeInBed  \n",
       "Calories                 -0.132507  \n",
       "TotalSleepRecords         0.172917  \n",
       "TotalMinutesAsleep        0.930457  \n",
       "TotalTimeInBed            1.000000  "
      ]
     },
     "execution_count": 95,
     "metadata": {},
     "output_type": "execute_result"
    }
   ],
   "source": [
    "meged_cl_sle =calories.merge(sleep, left_on=[\"Id\",\"Day\" ], right_on=[\"Id\", \"Day\"])\n",
    "meged_cl_sle.drop(columns=[\"Id\"], inplace= False).corr()\n"
   ]
  },
  {
   "cell_type": "code",
   "execution_count": 106,
   "metadata": {},
   "outputs": [
    {
     "data": {
      "text/plain": [
       "<AxesSubplot:>"
      ]
     },
     "execution_count": 106,
     "metadata": {},
     "output_type": "execute_result"
    },
    {
     "data": {
      "image/png": "[encoded data removed]",
      "text/plain": [
       "<Figure size 432x288 with 1 Axes>"
      ]
     },
     "metadata": {
      "needs_background": "light"
     },
     "output_type": "display_data"
    }
   ],
   "source": [
    "meged_cl_sle_steps =meged_cl_sle.merge(steps, left_on=[\"Id\",\"Day\" ], right_on=[\"Id\", \"Day\"])\n",
    "meged_cl_sle_steps.drop(columns=[\"Id\"], inplace= False).corr().plot()\n"
   ]
  },
  {
   "cell_type": "code",
   "execution_count": 85,
   "metadata": {},
   "outputs": [
    {
     "name": "stdout",
     "output_type": "stream",
     "text": [
      "../Data\\dailyActivity_merged.csv\n"
     ]
    },
    {
     "data": {
      "text/html": [
       "<div>\n",
       "<style scoped>\n",
       "    .dataframe tbody tr th:only-of-type {\n",
       "        vertical-align: middle;\n",
       "    }\n",
       "\n",
       "    .dataframe tbody tr th {\n",
       "        vertical-align: top;\n",
       "    }\n",
       "\n",
       "    .dataframe thead th {\n",
       "        text-align: right;\n",
       "    }\n",
       "</style>\n",
       "<table border=\"1\" class=\"dataframe\">\n",
       "  <thead>\n",
       "    <tr style=\"text-align: right;\">\n",
       "      <th></th>\n",
       "      <th>Id</th>\n",
       "      <th>ActivityDate</th>\n",
       "      <th>TotalSteps</th>\n",
       "      <th>TotalDistance</th>\n",
       "      <th>TrackerDistance</th>\n",
       "      <th>LoggedActivitiesDistance</th>\n",
       "      <th>VeryActiveDistance</th>\n",
       "      <th>ModeratelyActiveDistance</th>\n",
       "      <th>LightActiveDistance</th>\n",
       "      <th>SedentaryActiveDistance</th>\n",
       "      <th>VeryActiveMinutes</th>\n",
       "      <th>FairlyActiveMinutes</th>\n",
       "      <th>LightlyActiveMinutes</th>\n",
       "      <th>SedentaryMinutes</th>\n",
       "      <th>Calories</th>\n",
       "    </tr>\n",
       "  </thead>\n",
       "  <tbody>\n",
       "    <tr>\n",
       "      <th>1</th>\n",
       "      <td>1503960366</td>\n",
       "      <td>4/13/2016</td>\n",
       "      <td>10735</td>\n",
       "      <td>6.970000</td>\n",
       "      <td>6.970000</td>\n",
       "      <td>0.0</td>\n",
       "      <td>1.57</td>\n",
       "      <td>0.69</td>\n",
       "      <td>4.71</td>\n",
       "      <td>0.00</td>\n",
       "      <td>21</td>\n",
       "      <td>19</td>\n",
       "      <td>217</td>\n",
       "      <td>776</td>\n",
       "      <td>1797</td>\n",
       "    </tr>\n",
       "    <tr>\n",
       "      <th>2</th>\n",
       "      <td>1503960366</td>\n",
       "      <td>4/14/2016</td>\n",
       "      <td>10460</td>\n",
       "      <td>6.740000</td>\n",
       "      <td>6.740000</td>\n",
       "      <td>0.0</td>\n",
       "      <td>2.44</td>\n",
       "      <td>0.40</td>\n",
       "      <td>3.91</td>\n",
       "      <td>0.00</td>\n",
       "      <td>30</td>\n",
       "      <td>11</td>\n",
       "      <td>181</td>\n",
       "      <td>1218</td>\n",
       "      <td>1776</td>\n",
       "    </tr>\n",
       "    <tr>\n",
       "      <th>3</th>\n",
       "      <td>1503960366</td>\n",
       "      <td>4/15/2016</td>\n",
       "      <td>9762</td>\n",
       "      <td>6.280000</td>\n",
       "      <td>6.280000</td>\n",
       "      <td>0.0</td>\n",
       "      <td>2.14</td>\n",
       "      <td>1.26</td>\n",
       "      <td>2.83</td>\n",
       "      <td>0.00</td>\n",
       "      <td>29</td>\n",
       "      <td>34</td>\n",
       "      <td>209</td>\n",
       "      <td>726</td>\n",
       "      <td>1745</td>\n",
       "    </tr>\n",
       "    <tr>\n",
       "      <th>4</th>\n",
       "      <td>1503960366</td>\n",
       "      <td>4/16/2016</td>\n",
       "      <td>12669</td>\n",
       "      <td>8.160000</td>\n",
       "      <td>8.160000</td>\n",
       "      <td>0.0</td>\n",
       "      <td>2.71</td>\n",
       "      <td>0.41</td>\n",
       "      <td>5.04</td>\n",
       "      <td>0.00</td>\n",
       "      <td>36</td>\n",
       "      <td>10</td>\n",
       "      <td>221</td>\n",
       "      <td>773</td>\n",
       "      <td>1863</td>\n",
       "    </tr>\n",
       "    <tr>\n",
       "      <th>5</th>\n",
       "      <td>1503960366</td>\n",
       "      <td>4/17/2016</td>\n",
       "      <td>9705</td>\n",
       "      <td>6.480000</td>\n",
       "      <td>6.480000</td>\n",
       "      <td>0.0</td>\n",
       "      <td>3.19</td>\n",
       "      <td>0.78</td>\n",
       "      <td>2.51</td>\n",
       "      <td>0.00</td>\n",
       "      <td>38</td>\n",
       "      <td>20</td>\n",
       "      <td>164</td>\n",
       "      <td>539</td>\n",
       "      <td>1728</td>\n",
       "    </tr>\n",
       "    <tr>\n",
       "      <th>...</th>\n",
       "      <td>...</td>\n",
       "      <td>...</td>\n",
       "      <td>...</td>\n",
       "      <td>...</td>\n",
       "      <td>...</td>\n",
       "      <td>...</td>\n",
       "      <td>...</td>\n",
       "      <td>...</td>\n",
       "      <td>...</td>\n",
       "      <td>...</td>\n",
       "      <td>...</td>\n",
       "      <td>...</td>\n",
       "      <td>...</td>\n",
       "      <td>...</td>\n",
       "      <td>...</td>\n",
       "    </tr>\n",
       "    <tr>\n",
       "      <th>935</th>\n",
       "      <td>8877689391</td>\n",
       "      <td>5/8/2016</td>\n",
       "      <td>10686</td>\n",
       "      <td>8.110000</td>\n",
       "      <td>8.110000</td>\n",
       "      <td>0.0</td>\n",
       "      <td>1.08</td>\n",
       "      <td>0.20</td>\n",
       "      <td>6.80</td>\n",
       "      <td>0.00</td>\n",
       "      <td>17</td>\n",
       "      <td>4</td>\n",
       "      <td>245</td>\n",
       "      <td>1174</td>\n",
       "      <td>2847</td>\n",
       "    </tr>\n",
       "    <tr>\n",
       "      <th>936</th>\n",
       "      <td>8877689391</td>\n",
       "      <td>5/9/2016</td>\n",
       "      <td>20226</td>\n",
       "      <td>18.250000</td>\n",
       "      <td>18.250000</td>\n",
       "      <td>0.0</td>\n",
       "      <td>11.10</td>\n",
       "      <td>0.80</td>\n",
       "      <td>6.24</td>\n",
       "      <td>0.05</td>\n",
       "      <td>73</td>\n",
       "      <td>19</td>\n",
       "      <td>217</td>\n",
       "      <td>1131</td>\n",
       "      <td>3710</td>\n",
       "    </tr>\n",
       "    <tr>\n",
       "      <th>937</th>\n",
       "      <td>8877689391</td>\n",
       "      <td>5/10/2016</td>\n",
       "      <td>10733</td>\n",
       "      <td>8.150000</td>\n",
       "      <td>8.150000</td>\n",
       "      <td>0.0</td>\n",
       "      <td>1.35</td>\n",
       "      <td>0.46</td>\n",
       "      <td>6.28</td>\n",
       "      <td>0.00</td>\n",
       "      <td>18</td>\n",
       "      <td>11</td>\n",
       "      <td>224</td>\n",
       "      <td>1187</td>\n",
       "      <td>2832</td>\n",
       "    </tr>\n",
       "    <tr>\n",
       "      <th>938</th>\n",
       "      <td>8877689391</td>\n",
       "      <td>5/11/2016</td>\n",
       "      <td>21420</td>\n",
       "      <td>19.559999</td>\n",
       "      <td>19.559999</td>\n",
       "      <td>0.0</td>\n",
       "      <td>13.22</td>\n",
       "      <td>0.41</td>\n",
       "      <td>5.89</td>\n",
       "      <td>0.00</td>\n",
       "      <td>88</td>\n",
       "      <td>12</td>\n",
       "      <td>213</td>\n",
       "      <td>1127</td>\n",
       "      <td>3832</td>\n",
       "    </tr>\n",
       "    <tr>\n",
       "      <th>939</th>\n",
       "      <td>8877689391</td>\n",
       "      <td>5/12/2016</td>\n",
       "      <td>8064</td>\n",
       "      <td>6.120000</td>\n",
       "      <td>6.120000</td>\n",
       "      <td>0.0</td>\n",
       "      <td>1.82</td>\n",
       "      <td>0.04</td>\n",
       "      <td>4.25</td>\n",
       "      <td>0.00</td>\n",
       "      <td>23</td>\n",
       "      <td>1</td>\n",
       "      <td>137</td>\n",
       "      <td>770</td>\n",
       "      <td>1849</td>\n",
       "    </tr>\n",
       "  </tbody>\n",
       "</table>\n",
       "<p>939 rows × 15 columns</p>\n",
       "</div>"
      ],
      "text/plain": [
       "             Id ActivityDate  TotalSteps  TotalDistance  TrackerDistance  \\\n",
       "1    1503960366    4/13/2016       10735       6.970000         6.970000   \n",
       "2    1503960366    4/14/2016       10460       6.740000         6.740000   \n",
       "3    1503960366    4/15/2016        9762       6.280000         6.280000   \n",
       "4    1503960366    4/16/2016       12669       8.160000         8.160000   \n",
       "5    1503960366    4/17/2016        9705       6.480000         6.480000   \n",
       "..          ...          ...         ...            ...              ...   \n",
       "935  8877689391     5/8/2016       10686       8.110000         8.110000   \n",
       "936  8877689391     5/9/2016       20226      18.250000        18.250000   \n",
       "937  8877689391    5/10/2016       10733       8.150000         8.150000   \n",
       "938  8877689391    5/11/2016       21420      19.559999        19.559999   \n",
       "939  8877689391    5/12/2016        8064       6.120000         6.120000   \n",
       "\n",
       "     LoggedActivitiesDistance  VeryActiveDistance  ModeratelyActiveDistance  \\\n",
       "1                         0.0                1.57                      0.69   \n",
       "2                         0.0                2.44                      0.40   \n",
       "3                         0.0                2.14                      1.26   \n",
       "4                         0.0                2.71                      0.41   \n",
       "5                         0.0                3.19                      0.78   \n",
       "..                        ...                 ...                       ...   \n",
       "935                       0.0                1.08                      0.20   \n",
       "936                       0.0               11.10                      0.80   \n",
       "937                       0.0                1.35                      0.46   \n",
       "938                       0.0               13.22                      0.41   \n",
       "939                       0.0                1.82                      0.04   \n",
       "\n",
       "     LightActiveDistance  SedentaryActiveDistance  VeryActiveMinutes  \\\n",
       "1                   4.71                     0.00                 21   \n",
       "2                   3.91                     0.00                 30   \n",
       "3                   2.83                     0.00                 29   \n",
       "4                   5.04                     0.00                 36   \n",
       "5                   2.51                     0.00                 38   \n",
       "..                   ...                      ...                ...   \n",
       "935                 6.80                     0.00                 17   \n",
       "936                 6.24                     0.05                 73   \n",
       "937                 6.28                     0.00                 18   \n",
       "938                 5.89                     0.00                 88   \n",
       "939                 4.25                     0.00                 23   \n",
       "\n",
       "     FairlyActiveMinutes  LightlyActiveMinutes  SedentaryMinutes  Calories  \n",
       "1                     19                   217               776      1797  \n",
       "2                     11                   181              1218      1776  \n",
       "3                     34                   209               726      1745  \n",
       "4                     10                   221               773      1863  \n",
       "5                     20                   164               539      1728  \n",
       "..                   ...                   ...               ...       ...  \n",
       "935                    4                   245              1174      2847  \n",
       "936                   19                   217              1131      3710  \n",
       "937                   11                   224              1187      2832  \n",
       "938                   12                   213              1127      3832  \n",
       "939                    1                   137               770      1849  \n",
       "\n",
       "[939 rows x 15 columns]"
      ]
     },
     "execution_count": 85,
     "metadata": {},
     "output_type": "execute_result"
    }
   ],
   "source": [
    "calories = read_file(data_csvs[0])\n",
    "calories[]\n"
   ]
  },
  {
   "cell_type": "code",
   "execution_count": 36,
   "metadata": {},
   "outputs": [
    {
     "name": "stdout",
     "output_type": "stream",
     "text": [
      "../Data\\dailySteps_merged.csv\n"
     ]
    }
   ],
   "source": [
    "steps = read_file(data_csvs[3])\n",
    "steps['ActivityDay'] = pd.to_datetime(steps['ActivityDay'])\n"
   ]
  },
  {
   "cell_type": "markdown",
   "metadata": {},
   "source": [
    "## Heart Rate Exploration"
   ]
  },
  {
   "cell_type": "code",
   "execution_count": 107,
   "metadata": {},
   "outputs": [
    {
     "name": "stdout",
     "output_type": "stream",
     "text": [
      "../Data\\heartrate_seconds_merged.csv\n"
     ]
    },
    {
     "data": {
      "text/html": [
       "<div>\n",
       "<style scoped>\n",
       "    .dataframe tbody tr th:only-of-type {\n",
       "        vertical-align: middle;\n",
       "    }\n",
       "\n",
       "    .dataframe tbody tr th {\n",
       "        vertical-align: top;\n",
       "    }\n",
       "\n",
       "    .dataframe thead th {\n",
       "        text-align: right;\n",
       "    }\n",
       "</style>\n",
       "<table border=\"1\" class=\"dataframe\">\n",
       "  <thead>\n",
       "    <tr style=\"text-align: right;\">\n",
       "      <th></th>\n",
       "      <th>Time</th>\n",
       "      <th>Value</th>\n",
       "    </tr>\n",
       "    <tr>\n",
       "      <th>Id</th>\n",
       "      <th></th>\n",
       "      <th></th>\n",
       "    </tr>\n",
       "  </thead>\n",
       "  <tbody>\n",
       "    <tr>\n",
       "      <th>2022484408</th>\n",
       "      <td>154104</td>\n",
       "      <td>154104</td>\n",
       "    </tr>\n",
       "    <tr>\n",
       "      <th>2026352035</th>\n",
       "      <td>2490</td>\n",
       "      <td>2490</td>\n",
       "    </tr>\n",
       "    <tr>\n",
       "      <th>2347167796</th>\n",
       "      <td>152683</td>\n",
       "      <td>152683</td>\n",
       "    </tr>\n",
       "    <tr>\n",
       "      <th>4020332650</th>\n",
       "      <td>285461</td>\n",
       "      <td>285461</td>\n",
       "    </tr>\n",
       "    <tr>\n",
       "      <th>4388161847</th>\n",
       "      <td>249748</td>\n",
       "      <td>249748</td>\n",
       "    </tr>\n",
       "    <tr>\n",
       "      <th>4558609924</th>\n",
       "      <td>192168</td>\n",
       "      <td>192168</td>\n",
       "    </tr>\n",
       "    <tr>\n",
       "      <th>5553957443</th>\n",
       "      <td>255174</td>\n",
       "      <td>255174</td>\n",
       "    </tr>\n",
       "    <tr>\n",
       "      <th>5577150313</th>\n",
       "      <td>248560</td>\n",
       "      <td>248560</td>\n",
       "    </tr>\n",
       "    <tr>\n",
       "      <th>6117666160</th>\n",
       "      <td>158899</td>\n",
       "      <td>158899</td>\n",
       "    </tr>\n",
       "    <tr>\n",
       "      <th>6775888955</th>\n",
       "      <td>32771</td>\n",
       "      <td>32771</td>\n",
       "    </tr>\n",
       "    <tr>\n",
       "      <th>6962181067</th>\n",
       "      <td>266326</td>\n",
       "      <td>266326</td>\n",
       "    </tr>\n",
       "    <tr>\n",
       "      <th>7007744171</th>\n",
       "      <td>133592</td>\n",
       "      <td>133592</td>\n",
       "    </tr>\n",
       "    <tr>\n",
       "      <th>8792009665</th>\n",
       "      <td>122841</td>\n",
       "      <td>122841</td>\n",
       "    </tr>\n",
       "    <tr>\n",
       "      <th>8877689391</th>\n",
       "      <td>228841</td>\n",
       "      <td>228841</td>\n",
       "    </tr>\n",
       "  </tbody>\n",
       "</table>\n",
       "</div>"
      ],
      "text/plain": [
       "              Time   Value\n",
       "Id                        \n",
       "2022484408  154104  154104\n",
       "2026352035    2490    2490\n",
       "2347167796  152683  152683\n",
       "4020332650  285461  285461\n",
       "4388161847  249748  249748\n",
       "4558609924  192168  192168\n",
       "5553957443  255174  255174\n",
       "5577150313  248560  248560\n",
       "6117666160  158899  158899\n",
       "6775888955   32771   32771\n",
       "6962181067  266326  266326\n",
       "7007744171  133592  133592\n",
       "8792009665  122841  122841\n",
       "8877689391  228841  228841"
      ]
     },
     "execution_count": 107,
     "metadata": {},
     "output_type": "execute_result"
    }
   ],
   "source": [
    "heart_rate = read_file(dailyData[4])\n",
    "heart_rate.groupby('Id').count()"
   ]
  },
  {
   "cell_type": "code",
   "execution_count": null,
   "metadata": {},
   "outputs": [
    {
     "data": {
      "text/plain": [
       "0    21\n",
       "1    21\n",
       "Name: Time, dtype: int64"
      ]
     },
     "execution_count": 131,
     "metadata": {},
     "output_type": "execute_result"
    }
   ],
   "source": [
    "pd.to_datetime(heart_rate[\"Time\"][:2]).dt.minute\n"
   ]
  },
  {
   "cell_type": "code",
   "execution_count": null,
   "metadata": {},
   "outputs": [
    {
     "data": {
      "text/plain": [
       "'4/12/2016 7:21:00 AM'"
      ]
     },
     "execution_count": 68,
     "metadata": {},
     "output_type": "execute_result"
    }
   ],
   "source": [
    "heart_rate.Time.str.split(\" \")[0] #  format = '%Y-%m-%d %I-%p'\n",
    "heart_rate.Time[0] "
   ]
  },
  {
   "cell_type": "code",
   "execution_count": 108,
   "metadata": {},
   "outputs": [
    {
     "data": {
      "text/plain": [
       "0          4/12/2016 7:21:00 AM\n",
       "1          4/12/2016 7:21:05 AM\n",
       "2          4/12/2016 7:21:10 AM\n",
       "3          4/12/2016 7:21:20 AM\n",
       "4          4/12/2016 7:21:25 AM\n",
       "                   ...         \n",
       "2483653    5/12/2016 2:43:53 PM\n",
       "2483654    5/12/2016 2:43:58 PM\n",
       "2483655    5/12/2016 2:44:03 PM\n",
       "2483656    5/12/2016 2:44:18 PM\n",
       "2483657    5/12/2016 2:44:28 PM\n",
       "Name: Time, Length: 2483658, dtype: object"
      ]
     },
     "execution_count": 108,
     "metadata": {},
     "output_type": "execute_result"
    }
   ],
   "source": [
    "heart_rate.Time"
   ]
  },
  {
   "cell_type": "code",
   "execution_count": 109,
   "metadata": {},
   "outputs": [
    {
     "name": "stdout",
     "output_type": "stream",
     "text": [
      "Could Not Prase Data: Check Col Name; Erorr: (<class 'NameError'>, NameError(\"name 'Heart_By_Idx' is not defined\"), <traceback object at 0x0000024F84ECE140>)\n"
     ]
    }
   ],
   "source": [
    "HeartRateFiltered = divideInsertTime(heart_rate, \"Time\")"
   ]
  },
  {
   "cell_type": "code",
   "execution_count": 111,
   "metadata": {},
   "outputs": [
    {
     "data": {
      "text/plain": [
       "Id        int64\n",
       "Time     object\n",
       "Value     int64\n",
       "dtype: object"
      ]
     },
     "execution_count": 111,
     "metadata": {},
     "output_type": "execute_result"
    }
   ],
   "source": [
    "HeartRateFiltered"
   ]
  },
  {
   "cell_type": "code",
   "execution_count": 114,
   "metadata": {},
   "outputs": [],
   "source": [
    "Heart_By_Idx = HeartRateFiltered.set_index(\"Id\")\n",
    "Id_To_Idx = {id :num for num,id in enumerate(Heart_By_Idx.index.unique())}\n",
    "Heart_By_Idx['PersonID'] = Heart_By_Idx.index.map(Id_To_Idx)\n",
    "\n",
    "Heart_By_Idx.Time = pd.to_datetime(Heart_By_Idx.Time)"
   ]
  },
  {
   "cell_type": "code",
   "execution_count": null,
   "metadata": {},
   "outputs": [
    {
     "data": {
      "image/png": "[encoded data removed]",
      "text/plain": [
       "<Figure size 432x288 with 1 Axes>"
      ]
     },
     "metadata": {
      "needs_background": "light"
     },
     "output_type": "display_data"
    }
   ],
   "source": [
    "for i in range(13):\n",
    "    Heart_By_Idx.loc[Heart_By_Idx.PersonID ==i].groupby('Day').sum()['Value'].plot()"
   ]
  },
  {
   "cell_type": "code",
   "execution_count": 218,
   "metadata": {},
   "outputs": [
    {
     "name": "stdout",
     "output_type": "stream",
     "text": [
      " std: 0.012404660099056417\n",
      "max: 0.6545454545454545\n",
      "min: -0.3151515151515152\n",
      "amount of drastic changes: 31\n"
     ]
    },
    {
     "data": {
      "image/png": "[encoded data removed]",
      "text/plain": [
       "<Figure size 432x288 with 1 Axes>"
      ]
     },
     "metadata": {
      "needs_background": "light"
     },
     "output_type": "display_data"
    },
    {
     "name": "stdout",
     "output_type": "stream",
     "text": [
      " std: 0.03425202333779087\n",
      "max: 0.5806451612903225\n",
      "min: -0.37096774193548376\n",
      "amount of drastic changes: 1\n"
     ]
    },
    {
     "data": {
      "image/png": "[encoded data removed]",
      "text/plain": [
       "<Figure size 432x288 with 1 Axes>"
      ]
     },
     "metadata": {
      "needs_background": "light"
     },
     "output_type": "display_data"
    },
    {
     "name": "stdout",
     "output_type": "stream",
     "text": [
      " std: 0.015717302156060965\n",
      "max: 0.6095890410958905\n",
      "min: -0.363013698630137\n",
      "amount of drastic changes: 28\n"
     ]
    },
    {
     "data": {
      "image/png": "[encoded data removed]",
      "text/plain": [
       "<Figure size 432x288 with 1 Axes>"
      ]
     },
     "metadata": {
      "needs_background": "light"
     },
     "output_type": "display_data"
    },
    {
     "name": "stdout",
     "output_type": "stream",
     "text": [
      " std: 0.007616525667478592\n",
      "max: 0.37241379310344835\n",
      "min: -0.6827586206896552\n",
      "amount of drastic changes: 130\n"
     ]
    },
    {
     "data": {
      "image/png": "[encoded data removed]",
      "text/plain": [
       "<Figure size 432x288 with 1 Axes>"
      ]
     },
     "metadata": {
      "needs_background": "light"
     },
     "output_type": "display_data"
    },
    {
     "name": "stdout",
     "output_type": "stream",
     "text": [
      " std: 0.017295734394618005\n",
      "max: 0.375886524822695\n",
      "min: -0.35460992907801414\n",
      "amount of drastic changes: 17\n"
     ]
    },
    {
     "data": {
      "image/png": "[encoded data removed]",
      "text/plain": [
       "<Figure size 432x288 with 1 Axes>"
      ]
     },
     "metadata": {
      "needs_background": "light"
     },
     "output_type": "display_data"
    },
    {
     "name": "stdout",
     "output_type": "stream",
     "text": [
      " std: 0.01570269668135725\n",
      "max: 0.45806451612903226\n",
      "min: -0.4258064516129032\n",
      "amount of drastic changes: 37\n"
     ]
    },
    {
     "data": {
      "image/png": "[encoded data removed]",
      "text/plain": [
       "<Figure size 432x288 with 1 Axes>"
      ]
     },
     "metadata": {
      "needs_background": "light"
     },
     "output_type": "display_data"
    },
    {
     "name": "stdout",
     "output_type": "stream",
     "text": [
      " std: 0.013330519505707884\n",
      "max: 0.6610169491525423\n",
      "min: -0.3220338983050848\n",
      "amount of drastic changes: 21\n"
     ]
    },
    {
     "data": {
      "image/png": "[encoded data removed]",
      "text/plain": [
       "<Figure size 432x288 with 1 Axes>"
      ]
     },
     "metadata": {
      "needs_background": "light"
     },
     "output_type": "display_data"
    },
    {
     "name": "stdout",
     "output_type": "stream",
     "text": [
      " std: 0.015005594032544799\n",
      "max: 0.572463768115942\n",
      "min: -0.6956521739130436\n",
      "amount of drastic changes: 119\n"
     ]
    },
    {
     "data": {
      "image/png": "[encoded data removed]",
      "text/plain": [
       "<Figure size 432x288 with 1 Axes>"
      ]
     },
     "metadata": {
      "needs_background": "light"
     },
     "output_type": "display_data"
    },
    {
     "name": "stdout",
     "output_type": "stream",
     "text": [
      " std: 0.01785328784836719\n",
      "max: 0.7226277372262774\n",
      "min: -0.39416058394160586\n",
      "amount of drastic changes: 15\n"
     ]
    },
    {
     "data": {
      "image/png": "[encoded data removed]",
      "text/plain": [
       "<Figure size 432x288 with 1 Axes>"
      ]
     },
     "metadata": {
      "needs_background": "light"
     },
     "output_type": "display_data"
    },
    {
     "name": "stdout",
     "output_type": "stream",
     "text": [
      " std: 0.02227297419360664\n",
      "max: 0.5737704918032787\n",
      "min: -0.8770491803278688\n",
      "amount of drastic changes: 16\n"
     ]
    },
    {
     "data": {
      "image/png": "[encoded data removed]",
      "text/plain": [
       "<Figure size 432x288 with 1 Axes>"
      ]
     },
     "metadata": {
      "needs_background": "light"
     },
     "output_type": "display_data"
    },
    {
     "name": "stdout",
     "output_type": "stream",
     "text": [
      " std: 0.014078201477394867\n",
      "max: 0.6496350364963505\n",
      "min: -0.6058394160583942\n",
      "amount of drastic changes: 37\n"
     ]
    },
    {
     "data": {
      "image/png": "[encoded data removed]",
      "text/plain": [
       "<Figure size 432x288 with 1 Axes>"
      ]
     },
     "metadata": {
      "needs_background": "light"
     },
     "output_type": "display_data"
    },
    {
     "name": "stdout",
     "output_type": "stream",
     "text": [
      " std: 0.018659165676890143\n",
      "max: 0.39285714285714285\n",
      "min: -0.4374999999999999\n",
      "amount of drastic changes: 24\n"
     ]
    },
    {
     "data": {
      "image/png": "[encoded data removed]",
      "text/plain": [
       "<Figure size 432x288 with 1 Axes>"
      ]
     },
     "metadata": {
      "needs_background": "light"
     },
     "output_type": "display_data"
    },
    {
     "name": "stdout",
     "output_type": "stream",
     "text": [
      " std: 0.020446257655366132\n",
      "max: 0.5304347826086957\n",
      "min: -0.4956521739130435\n",
      "amount of drastic changes: 30\n"
     ]
    },
    {
     "data": {
      "image/png": "[encoded data removed]",
      "text/plain": [
       "<Figure size 432x288 with 1 Axes>"
      ]
     },
     "metadata": {
      "needs_background": "light"
     },
     "output_type": "display_data"
    }
   ],
   "source": [
    "for i in range(13):\n",
    "    data_= np.array(Heart_By_Idx.loc[Heart_By_Idx.PersonID ==i].Value)\n",
    "    data_ = data_/ (data_.max()- data_.min())\n",
    "    diff_ = np.array([data_[curr] - data_[curr-1] for curr in range(1,len(data_))])\n",
    "    print(f\" std: {diff_.std()}\")\n",
    "    print(f\"max: {diff_.max()}\")\n",
    "    print(f\"min: {diff_.min()}\")\n",
    "\n",
    "    amount_of_unusual_changes = np.where(np.abs(diff_) >=15* np.abs(diff_.std()),1,0)\n",
    "    print(f\"amount of drastic changes: {amount_of_unusual_changes.sum()}\")\n",
    "\n",
    "    plt.plot(amount_of_unusual_changes)\n",
    "    plt.plot(diff_)\t#plot the points\n",
    "    \n",
    "    plt.show()\n",
    "    # input()"
   ]
  },
  {
   "cell_type": "code",
   "execution_count": 201,
   "metadata": {},
   "outputs": [
    {
     "data": {
      "text/plain": [
       "[<matplotlib.lines.Line2D at 0x1d9e0db4a60>]"
      ]
     },
     "execution_count": 201,
     "metadata": {},
     "output_type": "execute_result"
    },
    {
     "data": {
      "image/png": "[encoded data removed]",
      "text/plain": [
       "<Figure size 432x288 with 1 Axes>"
      ]
     },
     "metadata": {
      "needs_background": "light"
     },
     "output_type": "display_data"
    }
   ],
   "source": [
    "\n",
    "\n"
   ]
  },
  {
   "cell_type": "code",
   "execution_count": 166,
   "metadata": {},
   "outputs": [
    {
     "name": "stdout",
     "output_type": "stream",
     "text": [
      "sleepDay_merged.csv\n"
     ]
    },
    {
     "data": {
      "text/html": [
       "<div>\n",
       "<style scoped>\n",
       "    .dataframe tbody tr th:only-of-type {\n",
       "        vertical-align: middle;\n",
       "    }\n",
       "\n",
       "    .dataframe tbody tr th {\n",
       "        vertical-align: top;\n",
       "    }\n",
       "\n",
       "    .dataframe thead th {\n",
       "        text-align: right;\n",
       "    }\n",
       "</style>\n",
       "<table border=\"1\" class=\"dataframe\">\n",
       "  <thead>\n",
       "    <tr style=\"text-align: right;\">\n",
       "      <th></th>\n",
       "      <th>Id</th>\n",
       "      <th>SleepDay</th>\n",
       "      <th>TotalSleepRecords</th>\n",
       "      <th>TotalMinutesAsleep</th>\n",
       "      <th>TotalTimeInBed</th>\n",
       "    </tr>\n",
       "  </thead>\n",
       "  <tbody>\n",
       "    <tr>\n",
       "      <th>0</th>\n",
       "      <td>1503960366</td>\n",
       "      <td>4/12/2016 12:00:00 AM</td>\n",
       "      <td>1</td>\n",
       "      <td>327</td>\n",
       "      <td>346</td>\n",
       "    </tr>\n",
       "    <tr>\n",
       "      <th>1</th>\n",
       "      <td>1503960366</td>\n",
       "      <td>4/13/2016 12:00:00 AM</td>\n",
       "      <td>2</td>\n",
       "      <td>384</td>\n",
       "      <td>407</td>\n",
       "    </tr>\n",
       "    <tr>\n",
       "      <th>2</th>\n",
       "      <td>1503960366</td>\n",
       "      <td>4/15/2016 12:00:00 AM</td>\n",
       "      <td>1</td>\n",
       "      <td>412</td>\n",
       "      <td>442</td>\n",
       "    </tr>\n",
       "    <tr>\n",
       "      <th>3</th>\n",
       "      <td>1503960366</td>\n",
       "      <td>4/16/2016 12:00:00 AM</td>\n",
       "      <td>2</td>\n",
       "      <td>340</td>\n",
       "      <td>367</td>\n",
       "    </tr>\n",
       "    <tr>\n",
       "      <th>4</th>\n",
       "      <td>1503960366</td>\n",
       "      <td>4/17/2016 12:00:00 AM</td>\n",
       "      <td>1</td>\n",
       "      <td>700</td>\n",
       "      <td>712</td>\n",
       "    </tr>\n",
       "    <tr>\n",
       "      <th>...</th>\n",
       "      <td>...</td>\n",
       "      <td>...</td>\n",
       "      <td>...</td>\n",
       "      <td>...</td>\n",
       "      <td>...</td>\n",
       "    </tr>\n",
       "    <tr>\n",
       "      <th>408</th>\n",
       "      <td>8792009665</td>\n",
       "      <td>4/30/2016 12:00:00 AM</td>\n",
       "      <td>1</td>\n",
       "      <td>343</td>\n",
       "      <td>360</td>\n",
       "    </tr>\n",
       "    <tr>\n",
       "      <th>409</th>\n",
       "      <td>8792009665</td>\n",
       "      <td>5/1/2016 12:00:00 AM</td>\n",
       "      <td>1</td>\n",
       "      <td>503</td>\n",
       "      <td>527</td>\n",
       "    </tr>\n",
       "    <tr>\n",
       "      <th>410</th>\n",
       "      <td>8792009665</td>\n",
       "      <td>5/2/2016 12:00:00 AM</td>\n",
       "      <td>1</td>\n",
       "      <td>415</td>\n",
       "      <td>423</td>\n",
       "    </tr>\n",
       "    <tr>\n",
       "      <th>411</th>\n",
       "      <td>8792009665</td>\n",
       "      <td>5/3/2016 12:00:00 AM</td>\n",
       "      <td>1</td>\n",
       "      <td>516</td>\n",
       "      <td>545</td>\n",
       "    </tr>\n",
       "    <tr>\n",
       "      <th>412</th>\n",
       "      <td>8792009665</td>\n",
       "      <td>5/4/2016 12:00:00 AM</td>\n",
       "      <td>1</td>\n",
       "      <td>439</td>\n",
       "      <td>463</td>\n",
       "    </tr>\n",
       "  </tbody>\n",
       "</table>\n",
       "<p>413 rows × 5 columns</p>\n",
       "</div>"
      ],
      "text/plain": [
       "             Id               SleepDay  TotalSleepRecords  TotalMinutesAsleep  \\\n",
       "0    1503960366  4/12/2016 12:00:00 AM                  1                 327   \n",
       "1    1503960366  4/13/2016 12:00:00 AM                  2                 384   \n",
       "2    1503960366  4/15/2016 12:00:00 AM                  1                 412   \n",
       "3    1503960366  4/16/2016 12:00:00 AM                  2                 340   \n",
       "4    1503960366  4/17/2016 12:00:00 AM                  1                 700   \n",
       "..          ...                    ...                ...                 ...   \n",
       "408  8792009665  4/30/2016 12:00:00 AM                  1                 343   \n",
       "409  8792009665   5/1/2016 12:00:00 AM                  1                 503   \n",
       "410  8792009665   5/2/2016 12:00:00 AM                  1                 415   \n",
       "411  8792009665   5/3/2016 12:00:00 AM                  1                 516   \n",
       "412  8792009665   5/4/2016 12:00:00 AM                  1                 439   \n",
       "\n",
       "     TotalTimeInBed  \n",
       "0               346  \n",
       "1               407  \n",
       "2               442  \n",
       "3               367  \n",
       "4               712  \n",
       "..              ...  \n",
       "408             360  \n",
       "409             527  \n",
       "410             423  \n",
       "411             545  \n",
       "412             463  \n",
       "\n",
       "[413 rows x 5 columns]"
      ]
     },
     "execution_count": 166,
     "metadata": {},
     "output_type": "execute_result"
    }
   ],
   "source": [
    "sleepRate = read_file(data_csvs[-2])\n",
    "sleepRate"
   ]
  },
  {
   "cell_type": "code",
   "execution_count": 48,
   "metadata": {},
   "outputs": [
    {
     "ename": "KeyboardInterrupt",
     "evalue": "",
     "output_type": "error",
     "traceback": [
      "\u001b[1;31m---------------------------------------------------------------------------\u001b[0m",
      "\u001b[1;31mKeyboardInterrupt\u001b[0m                         Traceback (most recent call last)",
      "\u001b[1;32md:\\github_\\DataAnalysis\\DataPre.ipynb Cell 8'\u001b[0m in \u001b[0;36m<cell line: 1>\u001b[1;34m()\u001b[0m\n\u001b[1;32m----> <a href='vscode-notebook-cell:/d%3A/github_/DataAnalysis/DataPre.ipynb#ch0000023?line=0'>1</a>\u001b[0m pd\u001b[39m.\u001b[39;49mto_datetime(heart_rate\u001b[39m.\u001b[39;49mTime)\n",
      "File \u001b[1;32md:\\Anaconda_2\\envs\\tf2.4\\lib\\site-packages\\pandas\\core\\tools\\datetimes.py:1051\u001b[0m, in \u001b[0;36mto_datetime\u001b[1;34m(arg, errors, dayfirst, yearfirst, utc, format, exact, unit, infer_datetime_format, origin, cache)\u001b[0m\n\u001b[0;32m   <a href='file:///d%3A/Anaconda_2/envs/tf2.4/lib/site-packages/pandas/core/tools/datetimes.py?line=1048'>1049</a>\u001b[0m         result \u001b[39m=\u001b[39m arg\u001b[39m.\u001b[39mmap(cache_array)\n\u001b[0;32m   <a href='file:///d%3A/Anaconda_2/envs/tf2.4/lib/site-packages/pandas/core/tools/datetimes.py?line=1049'>1050</a>\u001b[0m     \u001b[39melse\u001b[39;00m:\n\u001b[1;32m-> <a href='file:///d%3A/Anaconda_2/envs/tf2.4/lib/site-packages/pandas/core/tools/datetimes.py?line=1050'>1051</a>\u001b[0m         values \u001b[39m=\u001b[39m convert_listlike(arg\u001b[39m.\u001b[39;49m_values, \u001b[39mformat\u001b[39;49m)\n\u001b[0;32m   <a href='file:///d%3A/Anaconda_2/envs/tf2.4/lib/site-packages/pandas/core/tools/datetimes.py?line=1051'>1052</a>\u001b[0m         result \u001b[39m=\u001b[39m arg\u001b[39m.\u001b[39m_constructor(values, index\u001b[39m=\u001b[39marg\u001b[39m.\u001b[39mindex, name\u001b[39m=\u001b[39marg\u001b[39m.\u001b[39mname)\n\u001b[0;32m   <a href='file:///d%3A/Anaconda_2/envs/tf2.4/lib/site-packages/pandas/core/tools/datetimes.py?line=1052'>1053</a>\u001b[0m \u001b[39melif\u001b[39;00m \u001b[39misinstance\u001b[39m(arg, (ABCDataFrame, abc\u001b[39m.\u001b[39mMutableMapping)):\n",
      "File \u001b[1;32md:\\Anaconda_2\\envs\\tf2.4\\lib\\site-packages\\pandas\\core\\tools\\datetimes.py:402\u001b[0m, in \u001b[0;36m_convert_listlike_datetimes\u001b[1;34m(arg, format, name, tz, unit, errors, infer_datetime_format, dayfirst, yearfirst, exact)\u001b[0m\n\u001b[0;32m    <a href='file:///d%3A/Anaconda_2/envs/tf2.4/lib/site-packages/pandas/core/tools/datetimes.py?line=399'>400</a>\u001b[0m \u001b[39massert\u001b[39;00m \u001b[39mformat\u001b[39m \u001b[39mis\u001b[39;00m \u001b[39mNone\u001b[39;00m \u001b[39mor\u001b[39;00m infer_datetime_format\n\u001b[0;32m    <a href='file:///d%3A/Anaconda_2/envs/tf2.4/lib/site-packages/pandas/core/tools/datetimes.py?line=400'>401</a>\u001b[0m utc \u001b[39m=\u001b[39m tz \u001b[39m==\u001b[39m \u001b[39m\"\u001b[39m\u001b[39mutc\u001b[39m\u001b[39m\"\u001b[39m\n\u001b[1;32m--> <a href='file:///d%3A/Anaconda_2/envs/tf2.4/lib/site-packages/pandas/core/tools/datetimes.py?line=401'>402</a>\u001b[0m result, tz_parsed \u001b[39m=\u001b[39m objects_to_datetime64ns(\n\u001b[0;32m    <a href='file:///d%3A/Anaconda_2/envs/tf2.4/lib/site-packages/pandas/core/tools/datetimes.py?line=402'>403</a>\u001b[0m     arg,\n\u001b[0;32m    <a href='file:///d%3A/Anaconda_2/envs/tf2.4/lib/site-packages/pandas/core/tools/datetimes.py?line=403'>404</a>\u001b[0m     dayfirst\u001b[39m=\u001b[39;49mdayfirst,\n\u001b[0;32m    <a href='file:///d%3A/Anaconda_2/envs/tf2.4/lib/site-packages/pandas/core/tools/datetimes.py?line=404'>405</a>\u001b[0m     yearfirst\u001b[39m=\u001b[39;49myearfirst,\n\u001b[0;32m    <a href='file:///d%3A/Anaconda_2/envs/tf2.4/lib/site-packages/pandas/core/tools/datetimes.py?line=405'>406</a>\u001b[0m     utc\u001b[39m=\u001b[39;49mutc,\n\u001b[0;32m    <a href='file:///d%3A/Anaconda_2/envs/tf2.4/lib/site-packages/pandas/core/tools/datetimes.py?line=406'>407</a>\u001b[0m     errors\u001b[39m=\u001b[39;49merrors,\n\u001b[0;32m    <a href='file:///d%3A/Anaconda_2/envs/tf2.4/lib/site-packages/pandas/core/tools/datetimes.py?line=407'>408</a>\u001b[0m     require_iso8601\u001b[39m=\u001b[39;49mrequire_iso8601,\n\u001b[0;32m    <a href='file:///d%3A/Anaconda_2/envs/tf2.4/lib/site-packages/pandas/core/tools/datetimes.py?line=408'>409</a>\u001b[0m     allow_object\u001b[39m=\u001b[39;49m\u001b[39mTrue\u001b[39;49;00m,\n\u001b[0;32m    <a href='file:///d%3A/Anaconda_2/envs/tf2.4/lib/site-packages/pandas/core/tools/datetimes.py?line=409'>410</a>\u001b[0m )\n\u001b[0;32m    <a href='file:///d%3A/Anaconda_2/envs/tf2.4/lib/site-packages/pandas/core/tools/datetimes.py?line=411'>412</a>\u001b[0m \u001b[39mif\u001b[39;00m tz_parsed \u001b[39mis\u001b[39;00m \u001b[39mnot\u001b[39;00m \u001b[39mNone\u001b[39;00m:\n\u001b[0;32m    <a href='file:///d%3A/Anaconda_2/envs/tf2.4/lib/site-packages/pandas/core/tools/datetimes.py?line=412'>413</a>\u001b[0m     \u001b[39m# We can take a shortcut since the datetime64 numpy array\u001b[39;00m\n\u001b[0;32m    <a href='file:///d%3A/Anaconda_2/envs/tf2.4/lib/site-packages/pandas/core/tools/datetimes.py?line=413'>414</a>\u001b[0m     \u001b[39m# is in UTC\u001b[39;00m\n\u001b[0;32m    <a href='file:///d%3A/Anaconda_2/envs/tf2.4/lib/site-packages/pandas/core/tools/datetimes.py?line=414'>415</a>\u001b[0m     dta \u001b[39m=\u001b[39m DatetimeArray(result, dtype\u001b[39m=\u001b[39mtz_to_dtype(tz_parsed))\n",
      "File \u001b[1;32md:\\Anaconda_2\\envs\\tf2.4\\lib\\site-packages\\pandas\\core\\arrays\\datetimes.py:2199\u001b[0m, in \u001b[0;36mobjects_to_datetime64ns\u001b[1;34m(data, dayfirst, yearfirst, utc, errors, require_iso8601, allow_object, allow_mixed)\u001b[0m\n\u001b[0;32m   <a href='file:///d%3A/Anaconda_2/envs/tf2.4/lib/site-packages/pandas/core/arrays/datetimes.py?line=2196'>2197</a>\u001b[0m order: Literal[\u001b[39m\"\u001b[39m\u001b[39mF\u001b[39m\u001b[39m\"\u001b[39m, \u001b[39m\"\u001b[39m\u001b[39mC\u001b[39m\u001b[39m\"\u001b[39m] \u001b[39m=\u001b[39m \u001b[39m\"\u001b[39m\u001b[39mF\u001b[39m\u001b[39m\"\u001b[39m \u001b[39mif\u001b[39;00m flags\u001b[39m.\u001b[39mf_contiguous \u001b[39melse\u001b[39;00m \u001b[39m\"\u001b[39m\u001b[39mC\u001b[39m\u001b[39m\"\u001b[39m\n\u001b[0;32m   <a href='file:///d%3A/Anaconda_2/envs/tf2.4/lib/site-packages/pandas/core/arrays/datetimes.py?line=2197'>2198</a>\u001b[0m \u001b[39mtry\u001b[39;00m:\n\u001b[1;32m-> <a href='file:///d%3A/Anaconda_2/envs/tf2.4/lib/site-packages/pandas/core/arrays/datetimes.py?line=2198'>2199</a>\u001b[0m     result, tz_parsed \u001b[39m=\u001b[39m tslib\u001b[39m.\u001b[39;49marray_to_datetime(\n\u001b[0;32m   <a href='file:///d%3A/Anaconda_2/envs/tf2.4/lib/site-packages/pandas/core/arrays/datetimes.py?line=2199'>2200</a>\u001b[0m         data\u001b[39m.\u001b[39;49mravel(\u001b[39m\"\u001b[39;49m\u001b[39mK\u001b[39;49m\u001b[39m\"\u001b[39;49m),\n\u001b[0;32m   <a href='file:///d%3A/Anaconda_2/envs/tf2.4/lib/site-packages/pandas/core/arrays/datetimes.py?line=2200'>2201</a>\u001b[0m         errors\u001b[39m=\u001b[39;49merrors,\n\u001b[0;32m   <a href='file:///d%3A/Anaconda_2/envs/tf2.4/lib/site-packages/pandas/core/arrays/datetimes.py?line=2201'>2202</a>\u001b[0m         utc\u001b[39m=\u001b[39;49mutc,\n\u001b[0;32m   <a href='file:///d%3A/Anaconda_2/envs/tf2.4/lib/site-packages/pandas/core/arrays/datetimes.py?line=2202'>2203</a>\u001b[0m         dayfirst\u001b[39m=\u001b[39;49mdayfirst,\n\u001b[0;32m   <a href='file:///d%3A/Anaconda_2/envs/tf2.4/lib/site-packages/pandas/core/arrays/datetimes.py?line=2203'>2204</a>\u001b[0m         yearfirst\u001b[39m=\u001b[39;49myearfirst,\n\u001b[0;32m   <a href='file:///d%3A/Anaconda_2/envs/tf2.4/lib/site-packages/pandas/core/arrays/datetimes.py?line=2204'>2205</a>\u001b[0m         require_iso8601\u001b[39m=\u001b[39;49mrequire_iso8601,\n\u001b[0;32m   <a href='file:///d%3A/Anaconda_2/envs/tf2.4/lib/site-packages/pandas/core/arrays/datetimes.py?line=2205'>2206</a>\u001b[0m         allow_mixed\u001b[39m=\u001b[39;49mallow_mixed,\n\u001b[0;32m   <a href='file:///d%3A/Anaconda_2/envs/tf2.4/lib/site-packages/pandas/core/arrays/datetimes.py?line=2206'>2207</a>\u001b[0m     )\n\u001b[0;32m   <a href='file:///d%3A/Anaconda_2/envs/tf2.4/lib/site-packages/pandas/core/arrays/datetimes.py?line=2207'>2208</a>\u001b[0m     result \u001b[39m=\u001b[39m result\u001b[39m.\u001b[39mreshape(data\u001b[39m.\u001b[39mshape, order\u001b[39m=\u001b[39morder)\n\u001b[0;32m   <a href='file:///d%3A/Anaconda_2/envs/tf2.4/lib/site-packages/pandas/core/arrays/datetimes.py?line=2208'>2209</a>\u001b[0m \u001b[39mexcept\u001b[39;00m \u001b[39mValueError\u001b[39;00m \u001b[39mas\u001b[39;00m err:\n",
      "File \u001b[1;32md:\\Anaconda_2\\envs\\tf2.4\\lib\\site-packages\\pandas\\_libs\\tslib.pyx:381\u001b[0m, in \u001b[0;36mpandas._libs.tslib.array_to_datetime\u001b[1;34m()\u001b[0m\n",
      "File \u001b[1;32md:\\Anaconda_2\\envs\\tf2.4\\lib\\site-packages\\pandas\\_libs\\tslib.pyx:536\u001b[0m, in \u001b[0;36mpandas._libs.tslib.array_to_datetime\u001b[1;34m()\u001b[0m\n",
      "File \u001b[1;32md:\\Anaconda_2\\envs\\tf2.4\\lib\\site-packages\\pandas\\_libs\\tslibs\\parsing.pyx:281\u001b[0m, in \u001b[0;36mpandas._libs.tslibs.parsing.parse_datetime_string\u001b[1;34m()\u001b[0m\n",
      "File \u001b[1;32md:\\Anaconda_2\\envs\\tf2.4\\lib\\site-packages\\dateutil\\parser\\_parser.py:1368\u001b[0m, in \u001b[0;36mparse\u001b[1;34m(timestr, parserinfo, **kwargs)\u001b[0m\n\u001b[0;32m   <a href='file:///d%3A/Anaconda_2/envs/tf2.4/lib/site-packages/dateutil/parser/_parser.py?line=1365'>1366</a>\u001b[0m     \u001b[39mreturn\u001b[39;00m parser(parserinfo)\u001b[39m.\u001b[39mparse(timestr, \u001b[39m*\u001b[39m\u001b[39m*\u001b[39mkwargs)\n\u001b[0;32m   <a href='file:///d%3A/Anaconda_2/envs/tf2.4/lib/site-packages/dateutil/parser/_parser.py?line=1366'>1367</a>\u001b[0m \u001b[39melse\u001b[39;00m:\n\u001b[1;32m-> <a href='file:///d%3A/Anaconda_2/envs/tf2.4/lib/site-packages/dateutil/parser/_parser.py?line=1367'>1368</a>\u001b[0m     \u001b[39mreturn\u001b[39;00m DEFAULTPARSER\u001b[39m.\u001b[39;49mparse(timestr, \u001b[39m*\u001b[39;49m\u001b[39m*\u001b[39;49mkwargs)\n",
      "File \u001b[1;32md:\\Anaconda_2\\envs\\tf2.4\\lib\\site-packages\\dateutil\\parser\\_parser.py:640\u001b[0m, in \u001b[0;36mparser.parse\u001b[1;34m(self, timestr, default, ignoretz, tzinfos, **kwargs)\u001b[0m\n\u001b[0;32m    <a href='file:///d%3A/Anaconda_2/envs/tf2.4/lib/site-packages/dateutil/parser/_parser.py?line=635'>636</a>\u001b[0m \u001b[39mif\u001b[39;00m default \u001b[39mis\u001b[39;00m \u001b[39mNone\u001b[39;00m:\n\u001b[0;32m    <a href='file:///d%3A/Anaconda_2/envs/tf2.4/lib/site-packages/dateutil/parser/_parser.py?line=636'>637</a>\u001b[0m     default \u001b[39m=\u001b[39m datetime\u001b[39m.\u001b[39mdatetime\u001b[39m.\u001b[39mnow()\u001b[39m.\u001b[39mreplace(hour\u001b[39m=\u001b[39m\u001b[39m0\u001b[39m, minute\u001b[39m=\u001b[39m\u001b[39m0\u001b[39m,\n\u001b[0;32m    <a href='file:///d%3A/Anaconda_2/envs/tf2.4/lib/site-packages/dateutil/parser/_parser.py?line=637'>638</a>\u001b[0m                                               second\u001b[39m=\u001b[39m\u001b[39m0\u001b[39m, microsecond\u001b[39m=\u001b[39m\u001b[39m0\u001b[39m)\n\u001b[1;32m--> <a href='file:///d%3A/Anaconda_2/envs/tf2.4/lib/site-packages/dateutil/parser/_parser.py?line=639'>640</a>\u001b[0m res, skipped_tokens \u001b[39m=\u001b[39m \u001b[39mself\u001b[39;49m\u001b[39m.\u001b[39;49m_parse(timestr, \u001b[39m*\u001b[39;49m\u001b[39m*\u001b[39;49mkwargs)\n\u001b[0;32m    <a href='file:///d%3A/Anaconda_2/envs/tf2.4/lib/site-packages/dateutil/parser/_parser.py?line=641'>642</a>\u001b[0m \u001b[39mif\u001b[39;00m res \u001b[39mis\u001b[39;00m \u001b[39mNone\u001b[39;00m:\n\u001b[0;32m    <a href='file:///d%3A/Anaconda_2/envs/tf2.4/lib/site-packages/dateutil/parser/_parser.py?line=642'>643</a>\u001b[0m     \u001b[39mraise\u001b[39;00m ParserError(\u001b[39m\"\u001b[39m\u001b[39mUnknown string format: \u001b[39m\u001b[39m%s\u001b[39;00m\u001b[39m\"\u001b[39m, timestr)\n",
      "File \u001b[1;32md:\\Anaconda_2\\envs\\tf2.4\\lib\\site-packages\\dateutil\\parser\\_parser.py:719\u001b[0m, in \u001b[0;36mparser._parse\u001b[1;34m(self, timestr, dayfirst, yearfirst, fuzzy, fuzzy_with_tokens)\u001b[0m\n\u001b[0;32m    <a href='file:///d%3A/Anaconda_2/envs/tf2.4/lib/site-packages/dateutil/parser/_parser.py?line=715'>716</a>\u001b[0m     yearfirst \u001b[39m=\u001b[39m info\u001b[39m.\u001b[39myearfirst\n\u001b[0;32m    <a href='file:///d%3A/Anaconda_2/envs/tf2.4/lib/site-packages/dateutil/parser/_parser.py?line=717'>718</a>\u001b[0m res \u001b[39m=\u001b[39m \u001b[39mself\u001b[39m\u001b[39m.\u001b[39m_result()\n\u001b[1;32m--> <a href='file:///d%3A/Anaconda_2/envs/tf2.4/lib/site-packages/dateutil/parser/_parser.py?line=718'>719</a>\u001b[0m l \u001b[39m=\u001b[39m _timelex\u001b[39m.\u001b[39;49msplit(timestr)         \u001b[39m# Splits the timestr into tokens\u001b[39;00m\n\u001b[0;32m    <a href='file:///d%3A/Anaconda_2/envs/tf2.4/lib/site-packages/dateutil/parser/_parser.py?line=720'>721</a>\u001b[0m skipped_idxs \u001b[39m=\u001b[39m []\n\u001b[0;32m    <a href='file:///d%3A/Anaconda_2/envs/tf2.4/lib/site-packages/dateutil/parser/_parser.py?line=722'>723</a>\u001b[0m \u001b[39m# year/month/day list\u001b[39;00m\n",
      "File \u001b[1;32md:\\Anaconda_2\\envs\\tf2.4\\lib\\site-packages\\dateutil\\parser\\_parser.py:201\u001b[0m, in \u001b[0;36m_timelex.split\u001b[1;34m(cls, s)\u001b[0m\n\u001b[0;32m    <a href='file:///d%3A/Anaconda_2/envs/tf2.4/lib/site-packages/dateutil/parser/_parser.py?line=198'>199</a>\u001b[0m \u001b[39m@classmethod\u001b[39m\n\u001b[0;32m    <a href='file:///d%3A/Anaconda_2/envs/tf2.4/lib/site-packages/dateutil/parser/_parser.py?line=199'>200</a>\u001b[0m \u001b[39mdef\u001b[39;00m \u001b[39msplit\u001b[39m(\u001b[39mcls\u001b[39m, s):\n\u001b[1;32m--> <a href='file:///d%3A/Anaconda_2/envs/tf2.4/lib/site-packages/dateutil/parser/_parser.py?line=200'>201</a>\u001b[0m     \u001b[39mreturn\u001b[39;00m \u001b[39mlist\u001b[39;49m(\u001b[39mcls\u001b[39;49m(s))\n",
      "File \u001b[1;32md:\\Anaconda_2\\envs\\tf2.4\\lib\\site-packages\\dateutil\\parser\\_parser.py:190\u001b[0m, in \u001b[0;36m_timelex.__next__\u001b[1;34m(self)\u001b[0m\n\u001b[0;32m    <a href='file:///d%3A/Anaconda_2/envs/tf2.4/lib/site-packages/dateutil/parser/_parser.py?line=188'>189</a>\u001b[0m \u001b[39mdef\u001b[39;00m \u001b[39m__next__\u001b[39m(\u001b[39mself\u001b[39m):\n\u001b[1;32m--> <a href='file:///d%3A/Anaconda_2/envs/tf2.4/lib/site-packages/dateutil/parser/_parser.py?line=189'>190</a>\u001b[0m     token \u001b[39m=\u001b[39m \u001b[39mself\u001b[39;49m\u001b[39m.\u001b[39;49mget_token()\n\u001b[0;32m    <a href='file:///d%3A/Anaconda_2/envs/tf2.4/lib/site-packages/dateutil/parser/_parser.py?line=190'>191</a>\u001b[0m     \u001b[39mif\u001b[39;00m token \u001b[39mis\u001b[39;00m \u001b[39mNone\u001b[39;00m:\n\u001b[0;32m    <a href='file:///d%3A/Anaconda_2/envs/tf2.4/lib/site-packages/dateutil/parser/_parser.py?line=191'>192</a>\u001b[0m         \u001b[39mraise\u001b[39;00m \u001b[39mStopIteration\u001b[39;00m\n",
      "\u001b[1;31mKeyboardInterrupt\u001b[0m: "
     ]
    }
   ],
   "source": [
    "pd.to_datetime(heart_rate.Time)"
   ]
  },
  {
   "cell_type": "code",
   "execution_count": 22,
   "metadata": {},
   "outputs": [
    {
     "name": "stdout",
     "output_type": "stream",
     "text": [
      "heartrate_seconds_merged.csv\n",
      "['Id', 'Time', 'Value']\n"
     ]
    }
   ],
   "source": [
    "pd.Timestamp('2014-01-23 00:00:00', tz=None).to_pydatetime()\n",
    "\n",
    "df= read_file(data_csvs[4])\n",
    "df.dropna(subset=list(df.columns), how='any', axis=0).reset_index(inplace = True)\n",
    "\n",
    "df['Time'] = pd.to_datetime(df['Time']).dt.date"
   ]
  },
  {
   "cell_type": "code",
   "execution_count": 155,
   "metadata": {},
   "outputs": [
    {
     "name": "stdout",
     "output_type": "stream",
     "text": [
      "sleepDay_merged.csv\n",
      "['Id', 'SleepDay', 'TotalSleepRecords', 'TotalMinutesAsleep', 'TotalTimeInBed']\n"
     ]
    }
   ],
   "source": [
    "Sleepingdata= read_file(data_csvs[-2])\n",
    "sleep_ID= Sleepingdata.Id.unique()\n"
   ]
  },
  {
   "cell_type": "code",
   "execution_count": 148,
   "metadata": {},
   "outputs": [
    {
     "name": "stdout",
     "output_type": "stream",
     "text": [
      "False\n"
     ]
    },
    {
     "name": "stderr",
     "output_type": "stream",
     "text": [
      "C:\\Users\\admin\\AppData\\Local\\Temp\\ipykernel_12960\\4166130050.py:1: DeprecationWarning: elementwise comparison failed; this will raise an error in the future.\n",
      "  print(sleep_ID== unique_ID)\n"
     ]
    }
   ],
   "source": [
    "print(sleep_ID== unique_ID)"
   ]
  },
  {
   "cell_type": "code",
   "execution_count": 156,
   "metadata": {},
   "outputs": [
    {
     "name": "stdout",
     "output_type": "stream",
     "text": [
      "heartrate_seconds_merged.csv\n",
      "['Id', 'Time', 'Value']\n",
      "Number of measured Heart Beat Perople:\n",
      "{14}\n"
     ]
    }
   ],
   "source": [
    "data2= read_file(data_csvs[4])\n",
    "print(f\"Number of measured Heart Beat Perople:\")\n",
    "print( {len(data2.groupby(\"Id\").count())})\n",
    "unique_ID= data2.Id.unique()\n"
   ]
  },
  {
   "cell_type": "code",
   "execution_count": 162,
   "metadata": {},
   "outputs": [
    {
     "name": "stdout",
     "output_type": "stream",
     "text": [
      "None\n"
     ]
    }
   ],
   "source": [
    "print((list(unique_ID))"
   ]
  },
  {
   "cell_type": "code",
   "execution_count": 164,
   "metadata": {},
   "outputs": [],
   "source": []
  },
  {
   "cell_type": "code",
   "execution_count": 165,
   "metadata": {},
   "outputs": [
    {
     "data": {
      "text/plain": [
       "12"
      ]
     },
     "execution_count": 165,
     "metadata": {},
     "output_type": "execute_result"
    }
   ],
   "source": [
    "sum_"
   ]
  },
  {
   "cell_type": "code",
   "execution_count": 118,
   "metadata": {},
   "outputs": [
    {
     "ename": "KeyError",
     "evalue": "\"['LightlyActiveMinutes', 'FairlyActiveMinutes', 'ModeratelyActiveDistance', 'SedentaryActiveDistance'] not found in axis\"",
     "output_type": "error",
     "traceback": [
      "\u001b[1;31m---------------------------------------------------------------------------\u001b[0m",
      "\u001b[1;31mKeyError\u001b[0m                                  Traceback (most recent call last)",
      "\u001b[1;32md:\\github_\\DataAnalysis\\DataPre.ipynb Cell 11'\u001b[0m in \u001b[0;36m<cell line: 4>\u001b[1;34m()\u001b[0m\n\u001b[0;32m      <a href='vscode-notebook-cell:/d%3A/github_/DataAnalysis/DataPre.ipynb#ch0000015?line=0'>1</a>\u001b[0m p2_2\u001b[39m.\u001b[39mdescribe()\n\u001b[1;32m----> <a href='vscode-notebook-cell:/d%3A/github_/DataAnalysis/DataPre.ipynb#ch0000015?line=3'>4</a>\u001b[0m p2_2\u001b[39m.\u001b[39;49mdrop(columns\u001b[39m=\u001b[39;49m{\u001b[39m'\u001b[39;49m\u001b[39mLightlyActiveMinutes\u001b[39;49m\u001b[39m'\u001b[39;49m, \u001b[39m'\u001b[39;49m\u001b[39mFairlyActiveMinutes\u001b[39;49m\u001b[39m'\u001b[39;49m,\u001b[39m'\u001b[39;49m\u001b[39mSedentaryActiveDistance\u001b[39;49m\u001b[39m'\u001b[39;49m,\u001b[39m'\u001b[39;49m\u001b[39mModeratelyActiveDistance\u001b[39;49m\u001b[39m'\u001b[39;49m}, inplace\u001b[39m=\u001b[39;49m \u001b[39mTrue\u001b[39;49;00m, errors\u001b[39m=\u001b[39;49m\u001b[39mTrue\u001b[39;49;00m)\n\u001b[0;32m      <a href='vscode-notebook-cell:/d%3A/github_/DataAnalysis/DataPre.ipynb#ch0000015?line=5'>6</a>\u001b[0m p2_2\n",
      "File \u001b[1;32md:\\Anaconda_2\\envs\\tf2.4\\lib\\site-packages\\pandas\\util\\_decorators.py:311\u001b[0m, in \u001b[0;36mdeprecate_nonkeyword_arguments.<locals>.decorate.<locals>.wrapper\u001b[1;34m(*args, **kwargs)\u001b[0m\n\u001b[0;32m    <a href='file:///d%3A/Anaconda_2/envs/tf2.4/lib/site-packages/pandas/util/_decorators.py?line=304'>305</a>\u001b[0m \u001b[39mif\u001b[39;00m \u001b[39mlen\u001b[39m(args) \u001b[39m>\u001b[39m num_allow_args:\n\u001b[0;32m    <a href='file:///d%3A/Anaconda_2/envs/tf2.4/lib/site-packages/pandas/util/_decorators.py?line=305'>306</a>\u001b[0m     warnings\u001b[39m.\u001b[39mwarn(\n\u001b[0;32m    <a href='file:///d%3A/Anaconda_2/envs/tf2.4/lib/site-packages/pandas/util/_decorators.py?line=306'>307</a>\u001b[0m         msg\u001b[39m.\u001b[39mformat(arguments\u001b[39m=\u001b[39marguments),\n\u001b[0;32m    <a href='file:///d%3A/Anaconda_2/envs/tf2.4/lib/site-packages/pandas/util/_decorators.py?line=307'>308</a>\u001b[0m         \u001b[39mFutureWarning\u001b[39;00m,\n\u001b[0;32m    <a href='file:///d%3A/Anaconda_2/envs/tf2.4/lib/site-packages/pandas/util/_decorators.py?line=308'>309</a>\u001b[0m         stacklevel\u001b[39m=\u001b[39mstacklevel,\n\u001b[0;32m    <a href='file:///d%3A/Anaconda_2/envs/tf2.4/lib/site-packages/pandas/util/_decorators.py?line=309'>310</a>\u001b[0m     )\n\u001b[1;32m--> <a href='file:///d%3A/Anaconda_2/envs/tf2.4/lib/site-packages/pandas/util/_decorators.py?line=310'>311</a>\u001b[0m \u001b[39mreturn\u001b[39;00m func(\u001b[39m*\u001b[39;49margs, \u001b[39m*\u001b[39;49m\u001b[39m*\u001b[39;49mkwargs)\n",
      "File \u001b[1;32md:\\Anaconda_2\\envs\\tf2.4\\lib\\site-packages\\pandas\\core\\frame.py:4948\u001b[0m, in \u001b[0;36mDataFrame.drop\u001b[1;34m(self, labels, axis, index, columns, level, inplace, errors)\u001b[0m\n\u001b[0;32m   <a href='file:///d%3A/Anaconda_2/envs/tf2.4/lib/site-packages/pandas/core/frame.py?line=4799'>4800</a>\u001b[0m \u001b[39m@deprecate_nonkeyword_arguments\u001b[39m(version\u001b[39m=\u001b[39m\u001b[39mNone\u001b[39;00m, allowed_args\u001b[39m=\u001b[39m[\u001b[39m\"\u001b[39m\u001b[39mself\u001b[39m\u001b[39m\"\u001b[39m, \u001b[39m\"\u001b[39m\u001b[39mlabels\u001b[39m\u001b[39m\"\u001b[39m])\n\u001b[0;32m   <a href='file:///d%3A/Anaconda_2/envs/tf2.4/lib/site-packages/pandas/core/frame.py?line=4800'>4801</a>\u001b[0m \u001b[39mdef\u001b[39;00m \u001b[39mdrop\u001b[39m(\n\u001b[0;32m   <a href='file:///d%3A/Anaconda_2/envs/tf2.4/lib/site-packages/pandas/core/frame.py?line=4801'>4802</a>\u001b[0m     \u001b[39mself\u001b[39m,\n\u001b[1;32m   (...)\u001b[0m\n\u001b[0;32m   <a href='file:///d%3A/Anaconda_2/envs/tf2.4/lib/site-packages/pandas/core/frame.py?line=4808'>4809</a>\u001b[0m     errors: \u001b[39mstr\u001b[39m \u001b[39m=\u001b[39m \u001b[39m\"\u001b[39m\u001b[39mraise\u001b[39m\u001b[39m\"\u001b[39m,\n\u001b[0;32m   <a href='file:///d%3A/Anaconda_2/envs/tf2.4/lib/site-packages/pandas/core/frame.py?line=4809'>4810</a>\u001b[0m ):\n\u001b[0;32m   <a href='file:///d%3A/Anaconda_2/envs/tf2.4/lib/site-packages/pandas/core/frame.py?line=4810'>4811</a>\u001b[0m     \u001b[39m\"\"\"\u001b[39;00m\n\u001b[0;32m   <a href='file:///d%3A/Anaconda_2/envs/tf2.4/lib/site-packages/pandas/core/frame.py?line=4811'>4812</a>\u001b[0m \u001b[39m    Drop specified labels from rows or columns.\u001b[39;00m\n\u001b[0;32m   <a href='file:///d%3A/Anaconda_2/envs/tf2.4/lib/site-packages/pandas/core/frame.py?line=4812'>4813</a>\u001b[0m \n\u001b[1;32m   (...)\u001b[0m\n\u001b[0;32m   <a href='file:///d%3A/Anaconda_2/envs/tf2.4/lib/site-packages/pandas/core/frame.py?line=4945'>4946</a>\u001b[0m \u001b[39m            weight  1.0     0.8\u001b[39;00m\n\u001b[0;32m   <a href='file:///d%3A/Anaconda_2/envs/tf2.4/lib/site-packages/pandas/core/frame.py?line=4946'>4947</a>\u001b[0m \u001b[39m    \"\"\"\u001b[39;00m\n\u001b[1;32m-> <a href='file:///d%3A/Anaconda_2/envs/tf2.4/lib/site-packages/pandas/core/frame.py?line=4947'>4948</a>\u001b[0m     \u001b[39mreturn\u001b[39;00m \u001b[39msuper\u001b[39;49m()\u001b[39m.\u001b[39;49mdrop(\n\u001b[0;32m   <a href='file:///d%3A/Anaconda_2/envs/tf2.4/lib/site-packages/pandas/core/frame.py?line=4948'>4949</a>\u001b[0m         labels\u001b[39m=\u001b[39;49mlabels,\n\u001b[0;32m   <a href='file:///d%3A/Anaconda_2/envs/tf2.4/lib/site-packages/pandas/core/frame.py?line=4949'>4950</a>\u001b[0m         axis\u001b[39m=\u001b[39;49maxis,\n\u001b[0;32m   <a href='file:///d%3A/Anaconda_2/envs/tf2.4/lib/site-packages/pandas/core/frame.py?line=4950'>4951</a>\u001b[0m         index\u001b[39m=\u001b[39;49mindex,\n\u001b[0;32m   <a href='file:///d%3A/Anaconda_2/envs/tf2.4/lib/site-packages/pandas/core/frame.py?line=4951'>4952</a>\u001b[0m         columns\u001b[39m=\u001b[39;49mcolumns,\n\u001b[0;32m   <a href='file:///d%3A/Anaconda_2/envs/tf2.4/lib/site-packages/pandas/core/frame.py?line=4952'>4953</a>\u001b[0m         level\u001b[39m=\u001b[39;49mlevel,\n\u001b[0;32m   <a href='file:///d%3A/Anaconda_2/envs/tf2.4/lib/site-packages/pandas/core/frame.py?line=4953'>4954</a>\u001b[0m         inplace\u001b[39m=\u001b[39;49minplace,\n\u001b[0;32m   <a href='file:///d%3A/Anaconda_2/envs/tf2.4/lib/site-packages/pandas/core/frame.py?line=4954'>4955</a>\u001b[0m         errors\u001b[39m=\u001b[39;49merrors,\n\u001b[0;32m   <a href='file:///d%3A/Anaconda_2/envs/tf2.4/lib/site-packages/pandas/core/frame.py?line=4955'>4956</a>\u001b[0m     )\n",
      "File \u001b[1;32md:\\Anaconda_2\\envs\\tf2.4\\lib\\site-packages\\pandas\\core\\generic.py:4279\u001b[0m, in \u001b[0;36mNDFrame.drop\u001b[1;34m(self, labels, axis, index, columns, level, inplace, errors)\u001b[0m\n\u001b[0;32m   <a href='file:///d%3A/Anaconda_2/envs/tf2.4/lib/site-packages/pandas/core/generic.py?line=4276'>4277</a>\u001b[0m \u001b[39mfor\u001b[39;00m axis, labels \u001b[39min\u001b[39;00m axes\u001b[39m.\u001b[39mitems():\n\u001b[0;32m   <a href='file:///d%3A/Anaconda_2/envs/tf2.4/lib/site-packages/pandas/core/generic.py?line=4277'>4278</a>\u001b[0m     \u001b[39mif\u001b[39;00m labels \u001b[39mis\u001b[39;00m \u001b[39mnot\u001b[39;00m \u001b[39mNone\u001b[39;00m:\n\u001b[1;32m-> <a href='file:///d%3A/Anaconda_2/envs/tf2.4/lib/site-packages/pandas/core/generic.py?line=4278'>4279</a>\u001b[0m         obj \u001b[39m=\u001b[39m obj\u001b[39m.\u001b[39;49m_drop_axis(labels, axis, level\u001b[39m=\u001b[39;49mlevel, errors\u001b[39m=\u001b[39;49merrors)\n\u001b[0;32m   <a href='file:///d%3A/Anaconda_2/envs/tf2.4/lib/site-packages/pandas/core/generic.py?line=4280'>4281</a>\u001b[0m \u001b[39mif\u001b[39;00m inplace:\n\u001b[0;32m   <a href='file:///d%3A/Anaconda_2/envs/tf2.4/lib/site-packages/pandas/core/generic.py?line=4281'>4282</a>\u001b[0m     \u001b[39mself\u001b[39m\u001b[39m.\u001b[39m_update_inplace(obj)\n",
      "File \u001b[1;32md:\\Anaconda_2\\envs\\tf2.4\\lib\\site-packages\\pandas\\core\\generic.py:4323\u001b[0m, in \u001b[0;36mNDFrame._drop_axis\u001b[1;34m(self, labels, axis, level, errors, consolidate, only_slice)\u001b[0m\n\u001b[0;32m   <a href='file:///d%3A/Anaconda_2/envs/tf2.4/lib/site-packages/pandas/core/generic.py?line=4320'>4321</a>\u001b[0m         new_axis \u001b[39m=\u001b[39m axis\u001b[39m.\u001b[39mdrop(labels, level\u001b[39m=\u001b[39mlevel, errors\u001b[39m=\u001b[39merrors)\n\u001b[0;32m   <a href='file:///d%3A/Anaconda_2/envs/tf2.4/lib/site-packages/pandas/core/generic.py?line=4321'>4322</a>\u001b[0m     \u001b[39melse\u001b[39;00m:\n\u001b[1;32m-> <a href='file:///d%3A/Anaconda_2/envs/tf2.4/lib/site-packages/pandas/core/generic.py?line=4322'>4323</a>\u001b[0m         new_axis \u001b[39m=\u001b[39m axis\u001b[39m.\u001b[39;49mdrop(labels, errors\u001b[39m=\u001b[39;49merrors)\n\u001b[0;32m   <a href='file:///d%3A/Anaconda_2/envs/tf2.4/lib/site-packages/pandas/core/generic.py?line=4323'>4324</a>\u001b[0m     indexer \u001b[39m=\u001b[39m axis\u001b[39m.\u001b[39mget_indexer(new_axis)\n\u001b[0;32m   <a href='file:///d%3A/Anaconda_2/envs/tf2.4/lib/site-packages/pandas/core/generic.py?line=4325'>4326</a>\u001b[0m \u001b[39m# Case for non-unique axis\u001b[39;00m\n\u001b[0;32m   <a href='file:///d%3A/Anaconda_2/envs/tf2.4/lib/site-packages/pandas/core/generic.py?line=4326'>4327</a>\u001b[0m \u001b[39melse\u001b[39;00m:\n",
      "File \u001b[1;32md:\\Anaconda_2\\envs\\tf2.4\\lib\\site-packages\\pandas\\core\\indexes\\base.py:6644\u001b[0m, in \u001b[0;36mIndex.drop\u001b[1;34m(self, labels, errors)\u001b[0m\n\u001b[0;32m   <a href='file:///d%3A/Anaconda_2/envs/tf2.4/lib/site-packages/pandas/core/indexes/base.py?line=6641'>6642</a>\u001b[0m \u001b[39mif\u001b[39;00m mask\u001b[39m.\u001b[39many():\n\u001b[0;32m   <a href='file:///d%3A/Anaconda_2/envs/tf2.4/lib/site-packages/pandas/core/indexes/base.py?line=6642'>6643</a>\u001b[0m     \u001b[39mif\u001b[39;00m errors \u001b[39m!=\u001b[39m \u001b[39m\"\u001b[39m\u001b[39mignore\u001b[39m\u001b[39m\"\u001b[39m:\n\u001b[1;32m-> <a href='file:///d%3A/Anaconda_2/envs/tf2.4/lib/site-packages/pandas/core/indexes/base.py?line=6643'>6644</a>\u001b[0m         \u001b[39mraise\u001b[39;00m \u001b[39mKeyError\u001b[39;00m(\u001b[39mf\u001b[39m\u001b[39m\"\u001b[39m\u001b[39m{\u001b[39;00m\u001b[39mlist\u001b[39m(labels[mask])\u001b[39m}\u001b[39;00m\u001b[39m not found in axis\u001b[39m\u001b[39m\"\u001b[39m)\n\u001b[0;32m   <a href='file:///d%3A/Anaconda_2/envs/tf2.4/lib/site-packages/pandas/core/indexes/base.py?line=6644'>6645</a>\u001b[0m     indexer \u001b[39m=\u001b[39m indexer[\u001b[39m~\u001b[39mmask]\n\u001b[0;32m   <a href='file:///d%3A/Anaconda_2/envs/tf2.4/lib/site-packages/pandas/core/indexes/base.py?line=6645'>6646</a>\u001b[0m \u001b[39mreturn\u001b[39;00m \u001b[39mself\u001b[39m\u001b[39m.\u001b[39mdelete(indexer)\n",
      "\u001b[1;31mKeyError\u001b[0m: \"['LightlyActiveMinutes', 'FairlyActiveMinutes', 'ModeratelyActiveDistance', 'SedentaryActiveDistance'] not found in axis\""
     ]
    }
   ],
   "source": [
    "p2_2.describe()\n",
    "\n",
    "\n",
    "p2_2.drop(columns={'LightlyActiveMinutes', 'FairlyActiveMinutes','SedentaryActiveDistance','ModeratelyActiveDistance'}, inplace= True, errors=True)\n",
    "\n",
    "p2_2"
   ]
  },
  {
   "cell_type": "code",
   "execution_count": 111,
   "metadata": {},
   "outputs": [
    {
     "name": "stdout",
     "output_type": "stream",
     "text": [
      "dailyIntensities_merged.csv\n",
      "['Id', 'ActivityDay', 'SedentaryMinutes', 'LightlyActiveMinutes', 'FairlyActiveMinutes', 'VeryActiveMinutes', 'SedentaryActiveDistance', 'LightActiveDistance', 'ModeratelyActiveDistance', 'VeryActiveDistance']\n",
      "sleepDay_merged.csv\n",
      "['Id', 'SleepDay', 'TotalSleepRecords', 'TotalMinutesAsleep', 'TotalTimeInBed']\n"
     ]
    },
    {
     "name": "stderr",
     "output_type": "stream",
     "text": [
      "C:\\Users\\admin\\AppData\\Local\\Temp\\ipykernel_12960\\3863648179.py:6: SettingWithCopyWarning: \n",
      "A value is trying to be set on a copy of a slice from a DataFrame\n",
      "\n",
      "See the caveats in the documentation: https://pandas.pydata.org/pandas-docs/stable/user_guide/indexing.html#returning-a-view-versus-a-copy\n",
      "  p1.rename(columns={'SleepDay': 'Date'},\n",
      "C:\\Users\\admin\\AppData\\Local\\Temp\\ipykernel_12960\\3863648179.py:8: SettingWithCopyWarning: \n",
      "A value is trying to be set on a copy of a slice from a DataFrame\n",
      "\n",
      "See the caveats in the documentation: https://pandas.pydata.org/pandas-docs/stable/user_guide/indexing.html#returning-a-view-versus-a-copy\n",
      "  p2_2.rename(columns={'ActivityDay': 'Date'},\n",
      "C:\\Users\\admin\\AppData\\Local\\Temp\\ipykernel_12960\\3863648179.py:11: SettingWithCopyWarning: \n",
      "A value is trying to be set on a copy of a slice from a DataFrame.\n",
      "Try using .loc[row_indexer,col_indexer] = value instead\n",
      "\n",
      "See the caveats in the documentation: https://pandas.pydata.org/pandas-docs/stable/user_guide/indexing.html#returning-a-view-versus-a-copy\n",
      "  p1.Date = p1.Date.str.slice(0, -11,1)\n"
     ]
    },
    {
     "data": {
      "text/html": [
       "<div>\n",
       "<style scoped>\n",
       "    .dataframe tbody tr th:only-of-type {\n",
       "        vertical-align: middle;\n",
       "    }\n",
       "\n",
       "    .dataframe tbody tr th {\n",
       "        vertical-align: top;\n",
       "    }\n",
       "\n",
       "    .dataframe thead th {\n",
       "        text-align: right;\n",
       "    }\n",
       "</style>\n",
       "<table border=\"1\" class=\"dataframe\">\n",
       "  <thead>\n",
       "    <tr style=\"text-align: right;\">\n",
       "      <th></th>\n",
       "      <th>Id</th>\n",
       "      <th>Date</th>\n",
       "      <th>SedentaryMinutes</th>\n",
       "      <th>LightlyActiveMinutes</th>\n",
       "      <th>FairlyActiveMinutes</th>\n",
       "      <th>VeryActiveMinutes</th>\n",
       "      <th>SedentaryActiveDistance</th>\n",
       "      <th>LightActiveDistance</th>\n",
       "      <th>ModeratelyActiveDistance</th>\n",
       "      <th>VeryActiveDistance</th>\n",
       "      <th>TotalSleepRecords</th>\n",
       "      <th>TotalMinutesAsleep</th>\n",
       "      <th>TotalTimeInBed</th>\n",
       "    </tr>\n",
       "  </thead>\n",
       "  <tbody>\n",
       "  </tbody>\n",
       "</table>\n",
       "</div>"
      ],
      "text/plain": [
       "Empty DataFrame\n",
       "Columns: [Id, Date, SedentaryMinutes, LightlyActiveMinutes, FairlyActiveMinutes, VeryActiveMinutes, SedentaryActiveDistance, LightActiveDistance, ModeratelyActiveDistance, VeryActiveDistance, TotalSleepRecords, TotalMinutesAsleep, TotalTimeInBed]\n",
       "Index: []"
      ]
     },
     "execution_count": 111,
     "metadata": {},
     "output_type": "execute_result"
    }
   ],
   "source": [
    "data2= read_file(data_csvs[2])\n",
    "p2_2= data2[data2.Id ==1503960366]\n",
    "\n",
    "datasleep= read_file(data_csvs[-2])\n",
    "p1 = datasleep[datasleep.Id ==1503960366]\n",
    "p1.rename(columns={'SleepDay': 'Date'},\n",
    "          inplace=True, errors='raise')\n",
    "p2_2.rename(columns={'ActivityDay': 'Date'},\n",
    "          inplace=True, errors='raise')\n",
    "\n",
    "p1.Date = p1.Date.str.slice(0, -11,1)\n",
    "\n",
    "# d = p1.SleepDay.apply(lambda x: dt.datetime.strptime(x,infer_datetime_format=True))\n",
    "# p1['SleepDay'] = pd.to_datetime(p1['SleepDay']) \n",
    "\n",
    "pd.merge(p2_2, p1)\n",
    "# Intensives= data2.groupby(\"Id\").sum()[['TotalSteps','Calories' ]]"
   ]
  },
  {
   "cell_type": "code",
   "execution_count": 109,
   "metadata": {},
   "outputs": [
    {
     "data": {
      "text/html": [
       "<div>\n",
       "<style scoped>\n",
       "    .dataframe tbody tr th:only-of-type {\n",
       "        vertical-align: middle;\n",
       "    }\n",
       "\n",
       "    .dataframe tbody tr th {\n",
       "        vertical-align: top;\n",
       "    }\n",
       "\n",
       "    .dataframe thead th {\n",
       "        text-align: right;\n",
       "    }\n",
       "</style>\n",
       "<table border=\"1\" class=\"dataframe\">\n",
       "  <thead>\n",
       "    <tr style=\"text-align: right;\">\n",
       "      <th></th>\n",
       "      <th>Id</th>\n",
       "      <th>Date</th>\n",
       "      <th>SedentaryMinutes</th>\n",
       "      <th>LightlyActiveMinutes</th>\n",
       "      <th>FairlyActiveMinutes</th>\n",
       "      <th>VeryActiveMinutes</th>\n",
       "      <th>SedentaryActiveDistance</th>\n",
       "      <th>LightActiveDistance</th>\n",
       "      <th>ModeratelyActiveDistance</th>\n",
       "      <th>VeryActiveDistance</th>\n",
       "    </tr>\n",
       "  </thead>\n",
       "  <tbody>\n",
       "    <tr>\n",
       "      <th>0</th>\n",
       "      <td>1503960366</td>\n",
       "      <td>4/12/2016</td>\n",
       "      <td>728</td>\n",
       "      <td>328</td>\n",
       "      <td>13</td>\n",
       "      <td>25</td>\n",
       "      <td>0.0</td>\n",
       "      <td>6.06</td>\n",
       "      <td>0.55</td>\n",
       "      <td>1.88</td>\n",
       "    </tr>\n",
       "    <tr>\n",
       "      <th>1</th>\n",
       "      <td>1503960366</td>\n",
       "      <td>4/13/2016</td>\n",
       "      <td>776</td>\n",
       "      <td>217</td>\n",
       "      <td>19</td>\n",
       "      <td>21</td>\n",
       "      <td>0.0</td>\n",
       "      <td>4.71</td>\n",
       "      <td>0.69</td>\n",
       "      <td>1.57</td>\n",
       "    </tr>\n",
       "    <tr>\n",
       "      <th>2</th>\n",
       "      <td>1503960366</td>\n",
       "      <td>4/14/2016</td>\n",
       "      <td>1218</td>\n",
       "      <td>181</td>\n",
       "      <td>11</td>\n",
       "      <td>30</td>\n",
       "      <td>0.0</td>\n",
       "      <td>3.91</td>\n",
       "      <td>0.40</td>\n",
       "      <td>2.44</td>\n",
       "    </tr>\n",
       "    <tr>\n",
       "      <th>3</th>\n",
       "      <td>1503960366</td>\n",
       "      <td>4/15/2016</td>\n",
       "      <td>726</td>\n",
       "      <td>209</td>\n",
       "      <td>34</td>\n",
       "      <td>29</td>\n",
       "      <td>0.0</td>\n",
       "      <td>2.83</td>\n",
       "      <td>1.26</td>\n",
       "      <td>2.14</td>\n",
       "    </tr>\n",
       "    <tr>\n",
       "      <th>4</th>\n",
       "      <td>1503960366</td>\n",
       "      <td>4/16/2016</td>\n",
       "      <td>773</td>\n",
       "      <td>221</td>\n",
       "      <td>10</td>\n",
       "      <td>36</td>\n",
       "      <td>0.0</td>\n",
       "      <td>5.04</td>\n",
       "      <td>0.41</td>\n",
       "      <td>2.71</td>\n",
       "    </tr>\n",
       "    <tr>\n",
       "      <th>5</th>\n",
       "      <td>1503960366</td>\n",
       "      <td>4/17/2016</td>\n",
       "      <td>539</td>\n",
       "      <td>164</td>\n",
       "      <td>20</td>\n",
       "      <td>38</td>\n",
       "      <td>0.0</td>\n",
       "      <td>2.51</td>\n",
       "      <td>0.78</td>\n",
       "      <td>3.19</td>\n",
       "    </tr>\n",
       "    <tr>\n",
       "      <th>6</th>\n",
       "      <td>1503960366</td>\n",
       "      <td>4/18/2016</td>\n",
       "      <td>1149</td>\n",
       "      <td>233</td>\n",
       "      <td>16</td>\n",
       "      <td>42</td>\n",
       "      <td>0.0</td>\n",
       "      <td>4.71</td>\n",
       "      <td>0.64</td>\n",
       "      <td>3.25</td>\n",
       "    </tr>\n",
       "    <tr>\n",
       "      <th>7</th>\n",
       "      <td>1503960366</td>\n",
       "      <td>4/19/2016</td>\n",
       "      <td>775</td>\n",
       "      <td>264</td>\n",
       "      <td>31</td>\n",
       "      <td>50</td>\n",
       "      <td>0.0</td>\n",
       "      <td>5.03</td>\n",
       "      <td>1.32</td>\n",
       "      <td>3.53</td>\n",
       "    </tr>\n",
       "    <tr>\n",
       "      <th>8</th>\n",
       "      <td>1503960366</td>\n",
       "      <td>4/20/2016</td>\n",
       "      <td>818</td>\n",
       "      <td>205</td>\n",
       "      <td>12</td>\n",
       "      <td>28</td>\n",
       "      <td>0.0</td>\n",
       "      <td>4.24</td>\n",
       "      <td>0.48</td>\n",
       "      <td>1.96</td>\n",
       "    </tr>\n",
       "    <tr>\n",
       "      <th>9</th>\n",
       "      <td>1503960366</td>\n",
       "      <td>4/21/2016</td>\n",
       "      <td>838</td>\n",
       "      <td>211</td>\n",
       "      <td>8</td>\n",
       "      <td>19</td>\n",
       "      <td>0.0</td>\n",
       "      <td>4.65</td>\n",
       "      <td>0.35</td>\n",
       "      <td>1.34</td>\n",
       "    </tr>\n",
       "    <tr>\n",
       "      <th>10</th>\n",
       "      <td>1503960366</td>\n",
       "      <td>4/22/2016</td>\n",
       "      <td>1217</td>\n",
       "      <td>130</td>\n",
       "      <td>27</td>\n",
       "      <td>66</td>\n",
       "      <td>0.0</td>\n",
       "      <td>2.24</td>\n",
       "      <td>1.12</td>\n",
       "      <td>4.76</td>\n",
       "    </tr>\n",
       "    <tr>\n",
       "      <th>11</th>\n",
       "      <td>1503960366</td>\n",
       "      <td>4/23/2016</td>\n",
       "      <td>732</td>\n",
       "      <td>262</td>\n",
       "      <td>21</td>\n",
       "      <td>41</td>\n",
       "      <td>0.0</td>\n",
       "      <td>5.36</td>\n",
       "      <td>0.87</td>\n",
       "      <td>2.81</td>\n",
       "    </tr>\n",
       "    <tr>\n",
       "      <th>12</th>\n",
       "      <td>1503960366</td>\n",
       "      <td>4/24/2016</td>\n",
       "      <td>709</td>\n",
       "      <td>238</td>\n",
       "      <td>5</td>\n",
       "      <td>39</td>\n",
       "      <td>0.0</td>\n",
       "      <td>3.28</td>\n",
       "      <td>0.21</td>\n",
       "      <td>2.92</td>\n",
       "    </tr>\n",
       "    <tr>\n",
       "      <th>13</th>\n",
       "      <td>1503960366</td>\n",
       "      <td>4/25/2016</td>\n",
       "      <td>814</td>\n",
       "      <td>216</td>\n",
       "      <td>14</td>\n",
       "      <td>73</td>\n",
       "      <td>0.0</td>\n",
       "      <td>3.94</td>\n",
       "      <td>0.57</td>\n",
       "      <td>5.29</td>\n",
       "    </tr>\n",
       "    <tr>\n",
       "      <th>14</th>\n",
       "      <td>1503960366</td>\n",
       "      <td>4/26/2016</td>\n",
       "      <td>833</td>\n",
       "      <td>279</td>\n",
       "      <td>23</td>\n",
       "      <td>31</td>\n",
       "      <td>0.0</td>\n",
       "      <td>5.54</td>\n",
       "      <td>0.92</td>\n",
       "      <td>2.33</td>\n",
       "    </tr>\n",
       "    <tr>\n",
       "      <th>15</th>\n",
       "      <td>1503960366</td>\n",
       "      <td>4/27/2016</td>\n",
       "      <td>1108</td>\n",
       "      <td>243</td>\n",
       "      <td>11</td>\n",
       "      <td>78</td>\n",
       "      <td>0.0</td>\n",
       "      <td>5.41</td>\n",
       "      <td>0.41</td>\n",
       "      <td>6.40</td>\n",
       "    </tr>\n",
       "    <tr>\n",
       "      <th>16</th>\n",
       "      <td>1503960366</td>\n",
       "      <td>4/28/2016</td>\n",
       "      <td>782</td>\n",
       "      <td>189</td>\n",
       "      <td>28</td>\n",
       "      <td>48</td>\n",
       "      <td>0.0</td>\n",
       "      <td>3.79</td>\n",
       "      <td>1.16</td>\n",
       "      <td>3.54</td>\n",
       "    </tr>\n",
       "    <tr>\n",
       "      <th>17</th>\n",
       "      <td>1503960366</td>\n",
       "      <td>4/29/2016</td>\n",
       "      <td>815</td>\n",
       "      <td>243</td>\n",
       "      <td>12</td>\n",
       "      <td>16</td>\n",
       "      <td>0.0</td>\n",
       "      <td>5.58</td>\n",
       "      <td>0.50</td>\n",
       "      <td>1.06</td>\n",
       "    </tr>\n",
       "    <tr>\n",
       "      <th>18</th>\n",
       "      <td>1503960366</td>\n",
       "      <td>4/30/2016</td>\n",
       "      <td>712</td>\n",
       "      <td>217</td>\n",
       "      <td>34</td>\n",
       "      <td>52</td>\n",
       "      <td>0.0</td>\n",
       "      <td>4.27</td>\n",
       "      <td>1.42</td>\n",
       "      <td>3.56</td>\n",
       "    </tr>\n",
       "    <tr>\n",
       "      <th>19</th>\n",
       "      <td>1503960366</td>\n",
       "      <td>5/1/2016</td>\n",
       "      <td>730</td>\n",
       "      <td>246</td>\n",
       "      <td>35</td>\n",
       "      <td>33</td>\n",
       "      <td>0.0</td>\n",
       "      <td>2.92</td>\n",
       "      <td>1.60</td>\n",
       "      <td>2.29</td>\n",
       "    </tr>\n",
       "    <tr>\n",
       "      <th>20</th>\n",
       "      <td>1503960366</td>\n",
       "      <td>5/2/2016</td>\n",
       "      <td>798</td>\n",
       "      <td>277</td>\n",
       "      <td>15</td>\n",
       "      <td>41</td>\n",
       "      <td>0.0</td>\n",
       "      <td>5.92</td>\n",
       "      <td>0.57</td>\n",
       "      <td>3.21</td>\n",
       "    </tr>\n",
       "    <tr>\n",
       "      <th>21</th>\n",
       "      <td>1503960366</td>\n",
       "      <td>5/3/2016</td>\n",
       "      <td>816</td>\n",
       "      <td>254</td>\n",
       "      <td>24</td>\n",
       "      <td>50</td>\n",
       "      <td>0.0</td>\n",
       "      <td>4.88</td>\n",
       "      <td>1.05</td>\n",
       "      <td>3.73</td>\n",
       "    </tr>\n",
       "    <tr>\n",
       "      <th>22</th>\n",
       "      <td>1503960366</td>\n",
       "      <td>5/4/2016</td>\n",
       "      <td>1179</td>\n",
       "      <td>203</td>\n",
       "      <td>22</td>\n",
       "      <td>36</td>\n",
       "      <td>0.0</td>\n",
       "      <td>3.82</td>\n",
       "      <td>0.87</td>\n",
       "      <td>2.46</td>\n",
       "    </tr>\n",
       "    <tr>\n",
       "      <th>23</th>\n",
       "      <td>1503960366</td>\n",
       "      <td>5/5/2016</td>\n",
       "      <td>857</td>\n",
       "      <td>250</td>\n",
       "      <td>24</td>\n",
       "      <td>45</td>\n",
       "      <td>0.0</td>\n",
       "      <td>4.88</td>\n",
       "      <td>1.08</td>\n",
       "      <td>2.92</td>\n",
       "    </tr>\n",
       "    <tr>\n",
       "      <th>24</th>\n",
       "      <td>1503960366</td>\n",
       "      <td>5/6/2016</td>\n",
       "      <td>754</td>\n",
       "      <td>289</td>\n",
       "      <td>6</td>\n",
       "      <td>24</td>\n",
       "      <td>0.0</td>\n",
       "      <td>5.81</td>\n",
       "      <td>0.25</td>\n",
       "      <td>1.97</td>\n",
       "    </tr>\n",
       "    <tr>\n",
       "      <th>25</th>\n",
       "      <td>1503960366</td>\n",
       "      <td>5/7/2016</td>\n",
       "      <td>833</td>\n",
       "      <td>175</td>\n",
       "      <td>46</td>\n",
       "      <td>37</td>\n",
       "      <td>0.0</td>\n",
       "      <td>3.13</td>\n",
       "      <td>2.12</td>\n",
       "      <td>2.46</td>\n",
       "    </tr>\n",
       "    <tr>\n",
       "      <th>26</th>\n",
       "      <td>1503960366</td>\n",
       "      <td>5/8/2016</td>\n",
       "      <td>574</td>\n",
       "      <td>203</td>\n",
       "      <td>8</td>\n",
       "      <td>44</td>\n",
       "      <td>0.0</td>\n",
       "      <td>2.73</td>\n",
       "      <td>0.32</td>\n",
       "      <td>3.53</td>\n",
       "    </tr>\n",
       "    <tr>\n",
       "      <th>27</th>\n",
       "      <td>1503960366</td>\n",
       "      <td>5/9/2016</td>\n",
       "      <td>835</td>\n",
       "      <td>206</td>\n",
       "      <td>11</td>\n",
       "      <td>46</td>\n",
       "      <td>0.0</td>\n",
       "      <td>3.74</td>\n",
       "      <td>0.53</td>\n",
       "      <td>3.45</td>\n",
       "    </tr>\n",
       "    <tr>\n",
       "      <th>28</th>\n",
       "      <td>1503960366</td>\n",
       "      <td>5/10/2016</td>\n",
       "      <td>746</td>\n",
       "      <td>214</td>\n",
       "      <td>31</td>\n",
       "      <td>46</td>\n",
       "      <td>0.0</td>\n",
       "      <td>3.26</td>\n",
       "      <td>1.16</td>\n",
       "      <td>3.35</td>\n",
       "    </tr>\n",
       "    <tr>\n",
       "      <th>29</th>\n",
       "      <td>1503960366</td>\n",
       "      <td>5/11/2016</td>\n",
       "      <td>669</td>\n",
       "      <td>251</td>\n",
       "      <td>23</td>\n",
       "      <td>36</td>\n",
       "      <td>0.0</td>\n",
       "      <td>4.55</td>\n",
       "      <td>1.01</td>\n",
       "      <td>2.56</td>\n",
       "    </tr>\n",
       "    <tr>\n",
       "      <th>30</th>\n",
       "      <td>1503960366</td>\n",
       "      <td>5/12/2016</td>\n",
       "      <td>1440</td>\n",
       "      <td>0</td>\n",
       "      <td>0</td>\n",
       "      <td>0</td>\n",
       "      <td>0.0</td>\n",
       "      <td>0.00</td>\n",
       "      <td>0.00</td>\n",
       "      <td>0.00</td>\n",
       "    </tr>\n",
       "  </tbody>\n",
       "</table>\n",
       "</div>"
      ],
      "text/plain": [
       "            Id       Date  SedentaryMinutes  LightlyActiveMinutes  \\\n",
       "0   1503960366  4/12/2016               728                   328   \n",
       "1   1503960366  4/13/2016               776                   217   \n",
       "2   1503960366  4/14/2016              1218                   181   \n",
       "3   1503960366  4/15/2016               726                   209   \n",
       "4   1503960366  4/16/2016               773                   221   \n",
       "5   1503960366  4/17/2016               539                   164   \n",
       "6   1503960366  4/18/2016              1149                   233   \n",
       "7   1503960366  4/19/2016               775                   264   \n",
       "8   1503960366  4/20/2016               818                   205   \n",
       "9   1503960366  4/21/2016               838                   211   \n",
       "10  1503960366  4/22/2016              1217                   130   \n",
       "11  1503960366  4/23/2016               732                   262   \n",
       "12  1503960366  4/24/2016               709                   238   \n",
       "13  1503960366  4/25/2016               814                   216   \n",
       "14  1503960366  4/26/2016               833                   279   \n",
       "15  1503960366  4/27/2016              1108                   243   \n",
       "16  1503960366  4/28/2016               782                   189   \n",
       "17  1503960366  4/29/2016               815                   243   \n",
       "18  1503960366  4/30/2016               712                   217   \n",
       "19  1503960366   5/1/2016               730                   246   \n",
       "20  1503960366   5/2/2016               798                   277   \n",
       "21  1503960366   5/3/2016               816                   254   \n",
       "22  1503960366   5/4/2016              1179                   203   \n",
       "23  1503960366   5/5/2016               857                   250   \n",
       "24  1503960366   5/6/2016               754                   289   \n",
       "25  1503960366   5/7/2016               833                   175   \n",
       "26  1503960366   5/8/2016               574                   203   \n",
       "27  1503960366   5/9/2016               835                   206   \n",
       "28  1503960366  5/10/2016               746                   214   \n",
       "29  1503960366  5/11/2016               669                   251   \n",
       "30  1503960366  5/12/2016              1440                     0   \n",
       "\n",
       "    FairlyActiveMinutes  VeryActiveMinutes  SedentaryActiveDistance  \\\n",
       "0                    13                 25                      0.0   \n",
       "1                    19                 21                      0.0   \n",
       "2                    11                 30                      0.0   \n",
       "3                    34                 29                      0.0   \n",
       "4                    10                 36                      0.0   \n",
       "5                    20                 38                      0.0   \n",
       "6                    16                 42                      0.0   \n",
       "7                    31                 50                      0.0   \n",
       "8                    12                 28                      0.0   \n",
       "9                     8                 19                      0.0   \n",
       "10                   27                 66                      0.0   \n",
       "11                   21                 41                      0.0   \n",
       "12                    5                 39                      0.0   \n",
       "13                   14                 73                      0.0   \n",
       "14                   23                 31                      0.0   \n",
       "15                   11                 78                      0.0   \n",
       "16                   28                 48                      0.0   \n",
       "17                   12                 16                      0.0   \n",
       "18                   34                 52                      0.0   \n",
       "19                   35                 33                      0.0   \n",
       "20                   15                 41                      0.0   \n",
       "21                   24                 50                      0.0   \n",
       "22                   22                 36                      0.0   \n",
       "23                   24                 45                      0.0   \n",
       "24                    6                 24                      0.0   \n",
       "25                   46                 37                      0.0   \n",
       "26                    8                 44                      0.0   \n",
       "27                   11                 46                      0.0   \n",
       "28                   31                 46                      0.0   \n",
       "29                   23                 36                      0.0   \n",
       "30                    0                  0                      0.0   \n",
       "\n",
       "    LightActiveDistance  ModeratelyActiveDistance  VeryActiveDistance  \n",
       "0                  6.06                      0.55                1.88  \n",
       "1                  4.71                      0.69                1.57  \n",
       "2                  3.91                      0.40                2.44  \n",
       "3                  2.83                      1.26                2.14  \n",
       "4                  5.04                      0.41                2.71  \n",
       "5                  2.51                      0.78                3.19  \n",
       "6                  4.71                      0.64                3.25  \n",
       "7                  5.03                      1.32                3.53  \n",
       "8                  4.24                      0.48                1.96  \n",
       "9                  4.65                      0.35                1.34  \n",
       "10                 2.24                      1.12                4.76  \n",
       "11                 5.36                      0.87                2.81  \n",
       "12                 3.28                      0.21                2.92  \n",
       "13                 3.94                      0.57                5.29  \n",
       "14                 5.54                      0.92                2.33  \n",
       "15                 5.41                      0.41                6.40  \n",
       "16                 3.79                      1.16                3.54  \n",
       "17                 5.58                      0.50                1.06  \n",
       "18                 4.27                      1.42                3.56  \n",
       "19                 2.92                      1.60                2.29  \n",
       "20                 5.92                      0.57                3.21  \n",
       "21                 4.88                      1.05                3.73  \n",
       "22                 3.82                      0.87                2.46  \n",
       "23                 4.88                      1.08                2.92  \n",
       "24                 5.81                      0.25                1.97  \n",
       "25                 3.13                      2.12                2.46  \n",
       "26                 2.73                      0.32                3.53  \n",
       "27                 3.74                      0.53                3.45  \n",
       "28                 3.26                      1.16                3.35  \n",
       "29                 4.55                      1.01                2.56  \n",
       "30                 0.00                      0.00                0.00  "
      ]
     },
     "execution_count": 109,
     "metadata": {},
     "output_type": "execute_result"
    }
   ],
   "source": [
    "\n",
    "p2_2"
   ]
  },
  {
   "cell_type": "code",
   "execution_count": null,
   "metadata": {},
   "outputs": [],
   "source": [
    "data2= read_file(data_csvs[2])\n",
    "data2[data2.Id ==1503960366].ActivityDay\n"
   ]
  },
  {
   "cell_type": "code",
   "execution_count": 33,
   "metadata": {},
   "outputs": [
    {
     "data": {
      "text/html": [
       "<div>\n",
       "<style scoped>\n",
       "    .dataframe tbody tr th:only-of-type {\n",
       "        vertical-align: middle;\n",
       "    }\n",
       "\n",
       "    .dataframe tbody tr th {\n",
       "        vertical-align: top;\n",
       "    }\n",
       "\n",
       "    .dataframe thead th {\n",
       "        text-align: right;\n",
       "    }\n",
       "</style>\n",
       "<table border=\"1\" class=\"dataframe\">\n",
       "  <thead>\n",
       "    <tr style=\"text-align: right;\">\n",
       "      <th></th>\n",
       "      <th>TotalSteps</th>\n",
       "      <th>Calories</th>\n",
       "    </tr>\n",
       "    <tr>\n",
       "      <th>Id</th>\n",
       "      <th></th>\n",
       "      <th></th>\n",
       "    </tr>\n",
       "  </thead>\n",
       "  <tbody>\n",
       "    <tr>\n",
       "      <th>1503960366</th>\n",
       "      <td>375619</td>\n",
       "      <td>56309</td>\n",
       "    </tr>\n",
       "    <tr>\n",
       "      <th>1624580081</th>\n",
       "      <td>178061</td>\n",
       "      <td>45984</td>\n",
       "    </tr>\n",
       "    <tr>\n",
       "      <th>1644430081</th>\n",
       "      <td>218489</td>\n",
       "      <td>84339</td>\n",
       "    </tr>\n",
       "    <tr>\n",
       "      <th>1844505072</th>\n",
       "      <td>79982</td>\n",
       "      <td>48778</td>\n",
       "    </tr>\n",
       "    <tr>\n",
       "      <th>1927972279</th>\n",
       "      <td>28400</td>\n",
       "      <td>67357</td>\n",
       "    </tr>\n",
       "    <tr>\n",
       "      <th>2022484408</th>\n",
       "      <td>352490</td>\n",
       "      <td>77809</td>\n",
       "    </tr>\n",
       "    <tr>\n",
       "      <th>2026352035</th>\n",
       "      <td>172573</td>\n",
       "      <td>47760</td>\n",
       "    </tr>\n",
       "    <tr>\n",
       "      <th>2320127002</th>\n",
       "      <td>146223</td>\n",
       "      <td>53449</td>\n",
       "    </tr>\n",
       "    <tr>\n",
       "      <th>2347167796</th>\n",
       "      <td>171354</td>\n",
       "      <td>36782</td>\n",
       "    </tr>\n",
       "    <tr>\n",
       "      <th>2873212765</th>\n",
       "      <td>234229</td>\n",
       "      <td>59426</td>\n",
       "    </tr>\n",
       "    <tr>\n",
       "      <th>3372868164</th>\n",
       "      <td>137233</td>\n",
       "      <td>38662</td>\n",
       "    </tr>\n",
       "    <tr>\n",
       "      <th>3977333714</th>\n",
       "      <td>329537</td>\n",
       "      <td>45410</td>\n",
       "    </tr>\n",
       "    <tr>\n",
       "      <th>4020332650</th>\n",
       "      <td>70284</td>\n",
       "      <td>73960</td>\n",
       "    </tr>\n",
       "    <tr>\n",
       "      <th>4057192912</th>\n",
       "      <td>15352</td>\n",
       "      <td>7895</td>\n",
       "    </tr>\n",
       "    <tr>\n",
       "      <th>4319703577</th>\n",
       "      <td>225334</td>\n",
       "      <td>63168</td>\n",
       "    </tr>\n",
       "    <tr>\n",
       "      <th>4388161847</th>\n",
       "      <td>335232</td>\n",
       "      <td>95910</td>\n",
       "    </tr>\n",
       "    <tr>\n",
       "      <th>4445114986</th>\n",
       "      <td>148693</td>\n",
       "      <td>67772</td>\n",
       "    </tr>\n",
       "    <tr>\n",
       "      <th>4558609924</th>\n",
       "      <td>238239</td>\n",
       "      <td>63031</td>\n",
       "    </tr>\n",
       "    <tr>\n",
       "      <th>4702921684</th>\n",
       "      <td>265734</td>\n",
       "      <td>91932</td>\n",
       "    </tr>\n",
       "    <tr>\n",
       "      <th>5553957443</th>\n",
       "      <td>266990</td>\n",
       "      <td>58146</td>\n",
       "    </tr>\n",
       "    <tr>\n",
       "      <th>5577150313</th>\n",
       "      <td>249133</td>\n",
       "      <td>100789</td>\n",
       "    </tr>\n",
       "    <tr>\n",
       "      <th>6117666160</th>\n",
       "      <td>197308</td>\n",
       "      <td>63312</td>\n",
       "    </tr>\n",
       "    <tr>\n",
       "      <th>6290855005</th>\n",
       "      <td>163837</td>\n",
       "      <td>75389</td>\n",
       "    </tr>\n",
       "    <tr>\n",
       "      <th>6775888955</th>\n",
       "      <td>65512</td>\n",
       "      <td>55426</td>\n",
       "    </tr>\n",
       "    <tr>\n",
       "      <th>6962181067</th>\n",
       "      <td>303639</td>\n",
       "      <td>61443</td>\n",
       "    </tr>\n",
       "    <tr>\n",
       "      <th>7007744171</th>\n",
       "      <td>294409</td>\n",
       "      <td>66144</td>\n",
       "    </tr>\n",
       "    <tr>\n",
       "      <th>7086361926</th>\n",
       "      <td>290525</td>\n",
       "      <td>79557</td>\n",
       "    </tr>\n",
       "    <tr>\n",
       "      <th>8053475328</th>\n",
       "      <td>457662</td>\n",
       "      <td>91320</td>\n",
       "    </tr>\n",
       "    <tr>\n",
       "      <th>8253242879</th>\n",
       "      <td>123161</td>\n",
       "      <td>33972</td>\n",
       "    </tr>\n",
       "    <tr>\n",
       "      <th>8378563200</th>\n",
       "      <td>270249</td>\n",
       "      <td>106534</td>\n",
       "    </tr>\n",
       "    <tr>\n",
       "      <th>8583815059</th>\n",
       "      <td>223154</td>\n",
       "      <td>84693</td>\n",
       "    </tr>\n",
       "    <tr>\n",
       "      <th>8792009665</th>\n",
       "      <td>53758</td>\n",
       "      <td>56907</td>\n",
       "    </tr>\n",
       "    <tr>\n",
       "      <th>8877689391</th>\n",
       "      <td>497241</td>\n",
       "      <td>106028</td>\n",
       "    </tr>\n",
       "  </tbody>\n",
       "</table>\n",
       "</div>"
      ],
      "text/plain": [
       "            TotalSteps  Calories\n",
       "Id                              \n",
       "1503960366      375619     56309\n",
       "1624580081      178061     45984\n",
       "1644430081      218489     84339\n",
       "1844505072       79982     48778\n",
       "1927972279       28400     67357\n",
       "2022484408      352490     77809\n",
       "2026352035      172573     47760\n",
       "2320127002      146223     53449\n",
       "2347167796      171354     36782\n",
       "2873212765      234229     59426\n",
       "3372868164      137233     38662\n",
       "3977333714      329537     45410\n",
       "4020332650       70284     73960\n",
       "4057192912       15352      7895\n",
       "4319703577      225334     63168\n",
       "4388161847      335232     95910\n",
       "4445114986      148693     67772\n",
       "4558609924      238239     63031\n",
       "4702921684      265734     91932\n",
       "5553957443      266990     58146\n",
       "5577150313      249133    100789\n",
       "6117666160      197308     63312\n",
       "6290855005      163837     75389\n",
       "6775888955       65512     55426\n",
       "6962181067      303639     61443\n",
       "7007744171      294409     66144\n",
       "7086361926      290525     79557\n",
       "8053475328      457662     91320\n",
       "8253242879      123161     33972\n",
       "8378563200      270249    106534\n",
       "8583815059      223154     84693\n",
       "8792009665       53758     56907\n",
       "8877689391      497241    106028"
      ]
     },
     "execution_count": 33,
     "metadata": {},
     "output_type": "execute_result"
    }
   ],
   "source": [
    "data0= read_file(data_csvs[4])\n",
    "steps_Calories= data0.groupby(\"Id\").sum()[['TotalSteps','Calories' ]]"
   ]
  },
  {
   "cell_type": "code",
   "execution_count": null,
   "metadata": {},
   "outputs": [],
   "source": []
  }
 ],
 "metadata": {
  "interpreter": {
   "hash": "2469a70536e4d2335a2ea8907942d0699c37342a371ac185bdb5b0aa6f073890"
  },
  "kernelspec": {
   "display_name": "Python 3.9.11 64-bit",
   "language": "python",
   "name": "python3"
  },
  "language_info": {
   "codemirror_mode": {
    "name": "ipython",
    "version": 3
   },
   "file_extension": ".py",
   "mimetype": "text/x-python",
   "name": "python",
   "nbconvert_exporter": "python",
   "pygments_lexer": "ipython3",
   "version": "3.9.11"
  },
  "orig_nbformat": 4
 },
 "nbformat": 4,
 "nbformat_minor": 2
}
