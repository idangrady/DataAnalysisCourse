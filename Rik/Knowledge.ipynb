{
 "cells": [
  {
   "cell_type": "code",
   "execution_count": 3,
   "id": "d1ab8d77",
   "metadata": {},
   "outputs": [
    {
     "data": {
      "text/html": [
       "<div>\n",
       "<style scoped>\n",
       "    .dataframe tbody tr th:only-of-type {\n",
       "        vertical-align: middle;\n",
       "    }\n",
       "\n",
       "    .dataframe tbody tr th {\n",
       "        vertical-align: top;\n",
       "    }\n",
       "\n",
       "    .dataframe thead th {\n",
       "        text-align: right;\n",
       "    }\n",
       "</style>\n",
       "<table border=\"1\" class=\"dataframe\">\n",
       "  <thead>\n",
       "    <tr style=\"text-align: right;\">\n",
       "      <th></th>\n",
       "      <th>Id2</th>\n",
       "      <th>ActivityDay</th>\n",
       "      <th>StepTotal</th>\n",
       "    </tr>\n",
       "  </thead>\n",
       "  <tbody>\n",
       "    <tr>\n",
       "      <th>0</th>\n",
       "      <td>1503960366</td>\n",
       "      <td>4/12/2016</td>\n",
       "      <td>13162</td>\n",
       "    </tr>\n",
       "    <tr>\n",
       "      <th>1</th>\n",
       "      <td>1503960366</td>\n",
       "      <td>4/13/2016</td>\n",
       "      <td>10735</td>\n",
       "    </tr>\n",
       "    <tr>\n",
       "      <th>2</th>\n",
       "      <td>1503960366</td>\n",
       "      <td>4/14/2016</td>\n",
       "      <td>10460</td>\n",
       "    </tr>\n",
       "    <tr>\n",
       "      <th>3</th>\n",
       "      <td>1503960366</td>\n",
       "      <td>4/15/2016</td>\n",
       "      <td>9762</td>\n",
       "    </tr>\n",
       "    <tr>\n",
       "      <th>4</th>\n",
       "      <td>1503960366</td>\n",
       "      <td>4/16/2016</td>\n",
       "      <td>12669</td>\n",
       "    </tr>\n",
       "    <tr>\n",
       "      <th>...</th>\n",
       "      <td>...</td>\n",
       "      <td>...</td>\n",
       "      <td>...</td>\n",
       "    </tr>\n",
       "    <tr>\n",
       "      <th>935</th>\n",
       "      <td>8877689391</td>\n",
       "      <td>5/8/2016</td>\n",
       "      <td>10686</td>\n",
       "    </tr>\n",
       "    <tr>\n",
       "      <th>936</th>\n",
       "      <td>8877689391</td>\n",
       "      <td>5/9/2016</td>\n",
       "      <td>20226</td>\n",
       "    </tr>\n",
       "    <tr>\n",
       "      <th>937</th>\n",
       "      <td>8877689391</td>\n",
       "      <td>5/10/2016</td>\n",
       "      <td>10733</td>\n",
       "    </tr>\n",
       "    <tr>\n",
       "      <th>938</th>\n",
       "      <td>8877689391</td>\n",
       "      <td>5/11/2016</td>\n",
       "      <td>21420</td>\n",
       "    </tr>\n",
       "    <tr>\n",
       "      <th>939</th>\n",
       "      <td>8877689391</td>\n",
       "      <td>5/12/2016</td>\n",
       "      <td>8064</td>\n",
       "    </tr>\n",
       "  </tbody>\n",
       "</table>\n",
       "<p>940 rows × 3 columns</p>\n",
       "</div>"
      ],
      "text/plain": [
       "            Id2 ActivityDay  StepTotal\n",
       "0    1503960366   4/12/2016      13162\n",
       "1    1503960366   4/13/2016      10735\n",
       "2    1503960366   4/14/2016      10460\n",
       "3    1503960366   4/15/2016       9762\n",
       "4    1503960366   4/16/2016      12669\n",
       "..          ...         ...        ...\n",
       "935  8877689391    5/8/2016      10686\n",
       "936  8877689391    5/9/2016      20226\n",
       "937  8877689391   5/10/2016      10733\n",
       "938  8877689391   5/11/2016      21420\n",
       "939  8877689391   5/12/2016       8064\n",
       "\n",
       "[940 rows x 3 columns]"
      ]
     },
     "execution_count": 3,
     "metadata": {},
     "output_type": "execute_result"
    }
   ],
   "source": [
    "import pandas as pd\n",
    "\n",
    "hourlySteps = pd.read_csv('C:/Users/rikmu/Documents/DataAnalysisCourse/Data/hourlySteps_merged.csv')\n",
    "dailySteps = pd.read_csv('C:/Users/rikmu/Documents/DataAnalysisCourse/Data/dailySteps_merged.csv')\n",
    "minuteSleep = pd.read_csv('C:/Users/rikmu/Documents/DataAnalysisCourse/Data/minuteSleep_merged.csv')\n",
    "sleepDay = pd.read_csv('C:/Users/rikmu/Documents/DataAnalysisCourse/Data/sleepDay_merged.csv')\n",
    "dailySteps.groupby('Id').sum()\n",
    "dailySteps.describe()\n",
    "nsd = sleepDay[['Id','SleepDay','TotalMinutesAsleep']]\n",
    "#nsd[nsd['TotalMinutesAsleep'] >= 1]\n",
    "#df[df['age-years'] >= 10]\n",
    "#sleepDay.head(2)\n",
    "StepTotal = dailySteps[['Id','ActivityDay','StepTotal']]\n",
    "StepTotal.columns = ['Id2','ActivityDay','StepTotal']\n",
    "nsd\n",
    "StepTotal"
   ]
  },
  {
   "cell_type": "code",
   "execution_count": 4,
   "id": "c49edc7b",
   "metadata": {},
   "outputs": [],
   "source": [
    "# Pair ID and Time to Minute asleep and Steps\n",
    "\n",
    "def new_activity(row):\n",
    "    row.SleepDay = row.SleepDay[:9]\n",
    "    return row\n",
    "sleep_day=sleepDay.apply(new_activity, axis=\"columns\").rename(columns={\"SleepDay\":\"ActivityDate\"})\n",
    "sleepcut = sleep_day[['Id','ActivityDate','TotalMinutesAsleep']]\n",
    "sleepcut\n",
    "sleepInBed = sleep_day[['Id','ActivityDate','TotalTimeInBed']]\n",
    "\n",
    "#final = pd.merge(nsd, StepTotal, left_on=['Id','SleepDay','TotalMinutesAsleep'], right_on=['Id2','ActivityDay','StepTotal'])\n",
    "#final = pd.merge(sleepDay, dailySteps, left_on=['Id','SleepDay','TotalMinutesAsleep'], right_on=['Id','ActivityDay','StepTotal'])\n",
    "#final = pd.merge(nsd, StepTotal)\n"
   ]
  },
  {
   "cell_type": "code",
   "execution_count": 5,
   "id": "8e0c20fa",
   "metadata": {},
   "outputs": [
    {
     "name": "stdout",
     "output_type": "stream",
     "text": [
      "Coefficients:  [[-0.00413946]]\n",
      "Intercept:  [455.28734926]\n"
     ]
    },
    {
     "data": {
      "image/png": "[encoded data removed]",
      "text/plain": [
       "<Figure size 432x288 with 1 Axes>"
      ]
     },
     "metadata": {
      "needs_background": "light"
     },
     "output_type": "display_data"
    }
   ],
   "source": [
    "from sklearn import linear_model\n",
    "\n",
    "sleepStep = sleepcut.merge(StepTotal, left_on=['Id','ActivityDate'], right_on=['Id2','ActivityDay'],copy=False)\n",
    "sleepStepCut = sleepStep[['Id','TotalMinutesAsleep','StepTotal']]\n",
    "sleepStepCut.plot.scatter(x='StepTotal',y='TotalMinutesAsleep')\n",
    "regr = linear_model.LinearRegression()\n",
    "regr.fit(sleepStep[['StepTotal']],sleepStep[['TotalMinutesAsleep']])\n",
    "print ('Coefficients: ', regr.coef_)\n",
    "print ('Intercept: ',regr.intercept_)"
   ]
  },
  {
   "cell_type": "code",
   "execution_count": 16,
   "id": "2b705179",
   "metadata": {},
   "outputs": [
    {
     "name": "stdout",
     "output_type": "stream",
     "text": [
      "Coefficients:  [[-0.00397453]]\n",
      "Intercept:  [491.73981623]\n"
     ]
    },
    {
     "data": {
      "image/png": "[encoded data removed]",
      "text/plain": [
       "<Figure size 432x288 with 1 Axes>"
      ]
     },
     "metadata": {
      "needs_background": "light"
     },
     "output_type": "display_data"
    }
   ],
   "source": [
    "from sklearn import linear_model\n",
    "\n",
    "sleepStep = sleepInBed.merge(StepTotal, left_on=['Id','ActivityDate'], right_on=['Id2','ActivityDay'],copy=False)\n",
    "sleepStepCut = sleepStep[['Id','TotalTimeInBed','StepTotal']]\n",
    "plot = sleepStepCut.plot.scatter(x='StepTotal',y='TotalTimeInBed')\n",
    "plot.\n",
    "regr = linear_model.LinearRegression()\n",
    "regr.fit(sleepStep[['StepTotal']],sleepStep[['TotalTimeInBed']])\n",
    "print ('Coefficients: ', regr.coef_)\n",
    "print ('Intercept: ',regr.intercept_)\n",
    "\n"
   ]
  },
  {
   "cell_type": "code",
   "execution_count": 6,
   "id": "be080c14",
   "metadata": {
    "scrolled": true
   },
   "outputs": [
    {
     "data": {
      "text/plain": [
       "(-0.18169469789999546, 0.0016956316026592502)"
      ]
     },
     "execution_count": 6,
     "metadata": {},
     "output_type": "execute_result"
    },
    {
     "data": {
      "image/png": "[encoded data removed]",
      "text/plain": [
       "<Figure size 432x288 with 2 Axes>"
      ]
     },
     "metadata": {
      "needs_background": "light"
     },
     "output_type": "display_data"
    }
   ],
   "source": [
    "from sklearn import linear_model\n",
    "from scipy.stats import pearsonr \n",
    "from scipy.stats import spearmanr \n",
    "import seaborn as sns\n",
    "\n",
    "sleepStep = sleepInBed.merge(StepTotal, left_on=['Id','ActivityDate'], right_on=['Id2','ActivityDay'],copy=False)\n",
    "corr = sleepStep.drop(columns=[\"Id\"], inplace = False).corr()\n",
    "BedAndStep = sleepStep.drop(columns=[\"ActivityDate\",\"Id\",\"Id2\",\"ActivityDay\"], inplace = False)\n",
    "plot = sns.heatmap(corr, annot = True)\n",
    "plot.set_title(\"Corr\")\n",
    "a = BedAndStep[\"TotalTimeInBed\"].transpose()\n",
    "b = BedAndStep[\"StepTotal\"].transpose()\n",
    "stat, p = spearmanr(a,b)\n",
    "stat, p"
   ]
  },
  {
   "cell_type": "code",
   "execution_count": 128,
   "id": "d3d61d86",
   "metadata": {},
   "outputs": [
    {
     "data": {
      "text/plain": [
       "0      346\n",
       "1      407\n",
       "2      442\n",
       "3      367\n",
       "4      712\n",
       "      ... \n",
       "291    360\n",
       "292    428\n",
       "293    416\n",
       "294    406\n",
       "295    360\n",
       "Name: TotalTimeInBed, Length: 296, dtype: int64"
      ]
     },
     "execution_count": 128,
     "metadata": {},
     "output_type": "execute_result"
    }
   ],
   "source": [
    "a"
   ]
  },
  {
   "cell_type": "code",
   "execution_count": 125,
   "id": "ba0b1229",
   "metadata": {},
   "outputs": [
    {
     "data": {
      "text/html": [
       "<div>\n",
       "<style scoped>\n",
       "    .dataframe tbody tr th:only-of-type {\n",
       "        vertical-align: middle;\n",
       "    }\n",
       "\n",
       "    .dataframe tbody tr th {\n",
       "        vertical-align: top;\n",
       "    }\n",
       "\n",
       "    .dataframe thead th {\n",
       "        text-align: right;\n",
       "    }\n",
       "</style>\n",
       "<table border=\"1\" class=\"dataframe\">\n",
       "  <thead>\n",
       "    <tr style=\"text-align: right;\">\n",
       "      <th></th>\n",
       "      <th>0</th>\n",
       "      <th>1</th>\n",
       "      <th>2</th>\n",
       "      <th>3</th>\n",
       "      <th>4</th>\n",
       "      <th>5</th>\n",
       "      <th>6</th>\n",
       "      <th>7</th>\n",
       "      <th>8</th>\n",
       "      <th>9</th>\n",
       "      <th>...</th>\n",
       "      <th>286</th>\n",
       "      <th>287</th>\n",
       "      <th>288</th>\n",
       "      <th>289</th>\n",
       "      <th>290</th>\n",
       "      <th>291</th>\n",
       "      <th>292</th>\n",
       "      <th>293</th>\n",
       "      <th>294</th>\n",
       "      <th>295</th>\n",
       "    </tr>\n",
       "  </thead>\n",
       "  <tbody>\n",
       "    <tr>\n",
       "      <th>StepTotal</th>\n",
       "      <td>13162</td>\n",
       "      <td>10735</td>\n",
       "      <td>9762</td>\n",
       "      <td>12669</td>\n",
       "      <td>9705</td>\n",
       "      <td>15506</td>\n",
       "      <td>10544</td>\n",
       "      <td>9819</td>\n",
       "      <td>14371</td>\n",
       "      <td>10039</td>\n",
       "      <td>...</td>\n",
       "      <td>1320</td>\n",
       "      <td>1219</td>\n",
       "      <td>2483</td>\n",
       "      <td>3147</td>\n",
       "      <td>4068</td>\n",
       "      <td>5245</td>\n",
       "      <td>1758</td>\n",
       "      <td>6157</td>\n",
       "      <td>8360</td>\n",
       "      <td>7174</td>\n",
       "    </tr>\n",
       "  </tbody>\n",
       "</table>\n",
       "<p>1 rows × 296 columns</p>\n",
       "</div>"
      ],
      "text/plain": [
       "             0      1     2      3     4      5      6     7      8      9    \\\n",
       "StepTotal  13162  10735  9762  12669  9705  15506  10544  9819  14371  10039   \n",
       "\n",
       "           ...   286   287   288   289   290   291   292   293   294   295  \n",
       "StepTotal  ...  1320  1219  2483  3147  4068  5245  1758  6157  8360  7174  \n",
       "\n",
       "[1 rows x 296 columns]"
      ]
     },
     "execution_count": 125,
     "metadata": {},
     "output_type": "execute_result"
    }
   ],
   "source": [
    "b"
   ]
  },
  {
   "cell_type": "code",
   "execution_count": 126,
   "id": "589507e7",
   "metadata": {},
   "outputs": [
    {
     "data": {
      "text/plain": [
       "[0.353, 3.517, 0.125, -7.545, -0.555, -1.536, 3.35, -1.578, -3.537, -1.579]"
      ]
     },
     "execution_count": 126,
     "metadata": {},
     "output_type": "execute_result"
    }
   ],
   "source": [
    "df1 = [0.873, 2.817, 0.121, -0.945, -0.055, -1.436, 0.360, -1.478, -1.637, -1.869]   \n",
    "\n",
    "df2 = [0.353, 3.517, 0.125, -7.545, -0.555, -1.536, 3.350, -1.578, -3.537, -1.579]\n",
    "\n",
    "df2"
   ]
  },
  {
   "cell_type": "code",
   "execution_count": null,
   "id": "94256db4",
   "metadata": {},
   "outputs": [],
   "source": [
    "import matplotlib.pyplot as plt \n",
    "\n",
    "plt.scatter(df.biking, df[['heart.disease']],  color='blue') \n",
    "plt.plot(df.biking, regr.coef_[0][0]*df.biking + regr.intercept_[0], '-r') \n",
    "plt.xlabel(\"Biking\") \n",
    "plt.ylabel(\"Hear Disease\")\n"
   ]
  },
  {
   "cell_type": "code",
   "execution_count": 7,
   "id": "c52dfee9",
   "metadata": {},
   "outputs": [
    {
     "data": {
      "text/plain": [
       "Text(0.5, 1.0, 'T')"
      ]
     },
     "execution_count": 7,
     "metadata": {},
     "output_type": "execute_result"
    },
    {
     "data": {
      "image/png": "[encoded data removed]",
      "text/plain": [
       "<Figure size 432x288 with 1 Axes>"
      ]
     },
     "metadata": {
      "needs_background": "light"
     },
     "output_type": "display_data"
    }
   ],
   "source": [
    "import matplotlib.pyplot as plt \n",
    "\n",
    "plt.scatter(sleepStep[['StepTotal']], sleepStep[['TotalTimeInBed']],  color='black') \n",
    "plt.plot(sleepStep[['StepTotal']], regr.coef_[0][0]*sleepStep[['StepTotal']] + regr.intercept_[0], '-r') \n",
    "plt.xlabel(\"Total Steps\") \n",
    "plt.ylabel(\"Time in bed (minutes)\")\n",
    "plt.title('T')"
   ]
  },
  {
   "cell_type": "code",
   "execution_count": 18,
   "id": "14ae274a",
   "metadata": {},
   "outputs": [],
   "source": [
    "r = -0.18169469789999546\n",
    "p = 0.0016956316026592502"
   ]
  },
  {
   "cell_type": "code",
   "execution_count": 27,
   "id": "fefc879d",
   "metadata": {},
   "outputs": [
    {
     "name": "stdout",
     "output_type": "stream",
     "text": [
      "Coefficients:  [[-4.70175179]]\n",
      "Intercept:  [10594.86515586]\n"
     ]
    },
    {
     "data": {
      "text/plain": [
       "Text(0.5, 0, 'Time in bed (minutes)')"
      ]
     },
     "execution_count": 27,
     "metadata": {},
     "output_type": "execute_result"
    },
    {
     "data": {
      "image/png": "[encoded data removed]",
      "text/plain": [
       "<Figure size 432x288 with 1 Axes>"
      ]
     },
     "metadata": {
      "needs_background": "light"
     },
     "output_type": "display_data"
    }
   ],
   "source": [
    "import matplotlib.pyplot as plt \n",
    "\n",
    "regr2 = linear_model.LinearRegression()\n",
    "regr2.fit(sleepStep[['TotalTimeInBed']],sleepStep[['StepTotal']])\n",
    "print ('Coefficients: ', regr2.coef_)\n",
    "print ('Intercept: ',regr2.intercept_)\n",
    "plt.scatter(sleepStep[['TotalTimeInBed']], sleepStep[['StepTotal']],  color='black') \n",
    "plt.plot(sleepStep[['TotalTimeInBed']], regr2.coef_[0][0]*sleepStep[['TotalTimeInBed']] + regr2.intercept_[0], '-r') \n",
    "plt.ylabel(\"Total Steps\") \n",
    "plt.xlabel(\"Time in bed (minutes)\")\n",
    "#plt.title('')"
   ]
  },
  {
   "cell_type": "code",
   "execution_count": 9,
   "id": "57d50762",
   "metadata": {},
   "outputs": [],
   "source": [
    "sleepStep.to_csv('DailySleepAndSteps.csv')"
   ]
  },
  {
   "cell_type": "code",
   "execution_count": null,
   "id": "592028ab",
   "metadata": {},
   "outputs": [],
   "source": []
  }
 ],
 "metadata": {
  "kernelspec": {
   "display_name": "Python 3 (ipykernel)",
   "language": "python",
   "name": "python3"
  },
  "language_info": {
   "codemirror_mode": {
    "name": "ipython",
    "version": 3
   },
   "file_extension": ".py",
   "mimetype": "text/x-python",
   "name": "python",
   "nbconvert_exporter": "python",
   "pygments_lexer": "ipython3",
   "version": "3.9.7"
  }
 },
 "nbformat": 4,
 "nbformat_minor": 5
}
